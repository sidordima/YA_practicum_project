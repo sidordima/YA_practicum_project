{
 "cells": [
  {
   "cell_type": "markdown",
   "id": "5ba396cb",
   "metadata": {},
   "source": [
    "# Финальный проект - снижение производственных расходов."
   ]
  },
  {
   "cell_type": "markdown",
   "id": "92fc3135",
   "metadata": {},
   "source": [
    "## Описание и цель\n",
    "Сталь обрабатывают в металлическом ковше вместимостью около 100 тонн. Чтобы ковш выдерживал высокие температуры, изнутри его облицовывают огнеупорным кирпичом. Расплавленную сталь заливают в ковш и подогревают до нужной температуры графитовыми электродами. Они установлены в крышке ковша.\n",
    "    \n",
    "Из сплава выводится сера (десульфурация), добавлением примесей корректируется химический состав и отбираются пробы. Сталь легируют — изменяют её состав — подавая куски сплава из бункера для сыпучих материалов или проволоку через специальный трайб-аппарат.\n",
    "    \n",
    "    \n",
    "Перед тем как первый раз ввести легирующие добавки, измеряют температуру стали и производят её химический анализ. Потом температуру на несколько минут повышают, добавляют легирующие материалы и продувают сплав инертным газом. Затем его перемешивают и снова проводят измерения. Такой цикл повторяется до достижения целевого химического состава и оптимальной температуры плавки.\n",
    "    \n",
    "    \n",
    "Тогда расплавленная сталь отправляется на доводку металла или поступает в машину непрерывной разливки. Оттуда готовый продукт выходит в виде заготовок-слябов.\n",
    "    \n",
    "    \n",
    "Чтобы оптимизировать производственные расходы, металлургический комбинат ООО «Так закаляем сталь» решил уменьшить потребление электроэнергии на этапе обработки стали. Требуется построить модель, которая предскажет конечную температуру стали.\n",
    "    \n",
    "    \n",
    "Для построения модели предоставлены данные о процессе изготовления стали . "
   ]
  },
  {
   "cell_type": "markdown",
   "id": "7bc8c859",
   "metadata": {},
   "source": [
    "## Разведывательный анализ данных\n",
    "### Загрузка файлов"
   ]
  },
  {
   "cell_type": "code",
   "execution_count": 1,
   "id": "9a493dc0",
   "metadata": {},
   "outputs": [],
   "source": [
    "import matplotlib.pyplot as plt\n",
    "import numpy as np\n",
    "import lightgbm as lgb\n",
    "import os\n",
    "import pandas as pd\n",
    "import seaborn as sns\n",
    "\n",
    "from sklearn.metrics import mean_absolute_error\n",
    "from sklearn.metrics import r2_score\n",
    "from sklearn.model_selection import train_test_split\n",
    "from sklearn.model_selection import RandomizedSearchCV\n",
    "from sklearn.model_selection import cross_val_score\n",
    "from sklearn.linear_model import LinearRegression\n",
    "from sklearn.preprocessing import StandardScaler\n",
    "\n",
    "rdm = 80523"
   ]
  },
  {
   "cell_type": "code",
   "execution_count": 2,
   "id": "e87c6237",
   "metadata": {},
   "outputs": [
    {
     "name": "stdout",
     "output_type": "stream",
     "text": [
      "Файлы успешно прочитаны с сетевой директории\n"
     ]
    }
   ],
   "source": [
    "#список файлов\n",
    "list_df = {'df_arc':'data_arc_new.csv',\n",
    "           'df_bulk':'data_bulk_new.csv',\n",
    "           'df_bulk_t':'data_bulk_time_new.csv',\n",
    "           'df_gas':'data_gas_new.csv',\n",
    "           'df_temp':'data_temp_new.csv',\n",
    "           'df_wire':'data_wire_new.csv',\n",
    "           'df_wire_t':'data_wire_time_new.csv'}\n",
    "#пути для чтения\n",
    "pth1 = '/datasets/'\n",
    "pth2 = '/home/dmitrii/Документы/FS/'\n",
    "\n",
    "#читаем файл с сайта или с компа в отдельную переменную \n",
    "if all([os.path.exists(pth1 + x) for x in list_df.values()]):\n",
    "    df_arc = pd.read_csv(pth1 + list_df['df_arc'])\n",
    "    df_bulk = pd.read_csv(pth1 + list_df['df_bulk'])\n",
    "    df_bulk_t = pd.read_csv(pth1 + list_df['df_bulk_t'])\n",
    "    df_gas = pd.read_csv(pth1 + list_df['df_gas'])\n",
    "    df_temp = pd.read_csv(pth1 + list_df['df_temp'])\n",
    "    df_wire = pd.read_csv(pth1 + list_df['df_wire'])\n",
    "    df_wire_t = pd.read_csv(pth1 + list_df['df_wire_t'])\n",
    "    print('Файлы успешно прочитаны с сетевой директории')\n",
    "\n",
    "elif all([os.path.exists(pth2 + x) for x in list_df.values()]):\n",
    "    df_arc = pd.read_csv(pth2 + list_df['df_arc'])\n",
    "    df_bulk = pd.read_csv(pth2 + list_df['df_bulk'])\n",
    "    df_bulk_t = pd.read_csv(pth2 + list_df['df_bulk_t'])\n",
    "    df_gas = pd.read_csv(pth2 + list_df['df_gas'])\n",
    "    df_temp = pd.read_csv(pth2 + list_df['df_temp'])\n",
    "    df_wire = pd.read_csv(pth2 + list_df['df_wire'])\n",
    "    df_wire_t = pd.read_csv(pth2 + list_df['df_wire_t'])\n",
    "    print('Файлы успешно прочитаны с локальной директории')\n",
    "else:\n",
    "    print('Директория со всеми файлами не найдена')"
   ]
  },
  {
   "cell_type": "markdown",
   "id": "9aa917fa",
   "metadata": {},
   "source": [
    "### Данные об электродах\n",
    "Датафрейм представляет из себя информацию о времени начала и конца работы, а так же мощности работающих электродов, которые предназначены для нагрева расплава. Мощность разделена на две составляющие - активная(участвующая в работе) и реактивная(не участвует в нагреве, возвращается к источнику). "
   ]
  },
  {
   "cell_type": "code",
   "execution_count": 3,
   "id": "333eb416",
   "metadata": {
    "scrolled": true
   },
   "outputs": [
    {
     "data": {
      "text/html": [
       "<div>\n",
       "<style scoped>\n",
       "    .dataframe tbody tr th:only-of-type {\n",
       "        vertical-align: middle;\n",
       "    }\n",
       "\n",
       "    .dataframe tbody tr th {\n",
       "        vertical-align: top;\n",
       "    }\n",
       "\n",
       "    .dataframe thead th {\n",
       "        text-align: right;\n",
       "    }\n",
       "</style>\n",
       "<table border=\"1\" class=\"dataframe\">\n",
       "  <thead>\n",
       "    <tr style=\"text-align: right;\">\n",
       "      <th></th>\n",
       "      <th>key</th>\n",
       "      <th>Начало нагрева дугой</th>\n",
       "      <th>Конец нагрева дугой</th>\n",
       "      <th>Активная мощность</th>\n",
       "      <th>Реактивная мощность</th>\n",
       "    </tr>\n",
       "  </thead>\n",
       "  <tbody>\n",
       "    <tr>\n",
       "      <th>0</th>\n",
       "      <td>1</td>\n",
       "      <td>2019-05-03 11:02:14</td>\n",
       "      <td>2019-05-03 11:06:02</td>\n",
       "      <td>0.305130</td>\n",
       "      <td>0.211253</td>\n",
       "    </tr>\n",
       "    <tr>\n",
       "      <th>1</th>\n",
       "      <td>1</td>\n",
       "      <td>2019-05-03 11:07:28</td>\n",
       "      <td>2019-05-03 11:10:33</td>\n",
       "      <td>0.765658</td>\n",
       "      <td>0.477438</td>\n",
       "    </tr>\n",
       "    <tr>\n",
       "      <th>2</th>\n",
       "      <td>1</td>\n",
       "      <td>2019-05-03 11:11:44</td>\n",
       "      <td>2019-05-03 11:14:36</td>\n",
       "      <td>0.580313</td>\n",
       "      <td>0.430460</td>\n",
       "    </tr>\n",
       "    <tr>\n",
       "      <th>3</th>\n",
       "      <td>1</td>\n",
       "      <td>2019-05-03 11:18:14</td>\n",
       "      <td>2019-05-03 11:24:19</td>\n",
       "      <td>0.518496</td>\n",
       "      <td>0.379979</td>\n",
       "    </tr>\n",
       "    <tr>\n",
       "      <th>4</th>\n",
       "      <td>1</td>\n",
       "      <td>2019-05-03 11:26:09</td>\n",
       "      <td>2019-05-03 11:28:37</td>\n",
       "      <td>0.867133</td>\n",
       "      <td>0.643691</td>\n",
       "    </tr>\n",
       "  </tbody>\n",
       "</table>\n",
       "</div>"
      ],
      "text/plain": [
       "   key Начало нагрева дугой  Конец нагрева дугой  Активная мощность  \\\n",
       "0    1  2019-05-03 11:02:14  2019-05-03 11:06:02           0.305130   \n",
       "1    1  2019-05-03 11:07:28  2019-05-03 11:10:33           0.765658   \n",
       "2    1  2019-05-03 11:11:44  2019-05-03 11:14:36           0.580313   \n",
       "3    1  2019-05-03 11:18:14  2019-05-03 11:24:19           0.518496   \n",
       "4    1  2019-05-03 11:26:09  2019-05-03 11:28:37           0.867133   \n",
       "\n",
       "   Реактивная мощность  \n",
       "0             0.211253  \n",
       "1             0.477438  \n",
       "2             0.430460  \n",
       "3             0.379979  \n",
       "4             0.643691  "
      ]
     },
     "execution_count": 3,
     "metadata": {},
     "output_type": "execute_result"
    }
   ],
   "source": [
    "df_arc.head()"
   ]
  },
  {
   "cell_type": "code",
   "execution_count": 4,
   "id": "4dd3604a",
   "metadata": {
    "scrolled": true
   },
   "outputs": [
    {
     "name": "stdout",
     "output_type": "stream",
     "text": [
      "<class 'pandas.core.frame.DataFrame'>\n",
      "RangeIndex: 14876 entries, 0 to 14875\n",
      "Data columns (total 5 columns):\n",
      " #   Column                Non-Null Count  Dtype  \n",
      "---  ------                --------------  -----  \n",
      " 0   key                   14876 non-null  int64  \n",
      " 1   Начало нагрева дугой  14876 non-null  object \n",
      " 2   Конец нагрева дугой   14876 non-null  object \n",
      " 3   Активная мощность     14876 non-null  float64\n",
      " 4   Реактивная мощность   14876 non-null  float64\n",
      "dtypes: float64(2), int64(1), object(2)\n",
      "memory usage: 581.2+ KB\n",
      "None\n"
     ]
    },
    {
     "data": {
      "text/html": [
       "<div>\n",
       "<style scoped>\n",
       "    .dataframe tbody tr th:only-of-type {\n",
       "        vertical-align: middle;\n",
       "    }\n",
       "\n",
       "    .dataframe tbody tr th {\n",
       "        vertical-align: top;\n",
       "    }\n",
       "\n",
       "    .dataframe thead th {\n",
       "        text-align: right;\n",
       "    }\n",
       "</style>\n",
       "<table border=\"1\" class=\"dataframe\">\n",
       "  <thead>\n",
       "    <tr style=\"text-align: right;\">\n",
       "      <th></th>\n",
       "      <th>key</th>\n",
       "      <th>Активная мощность</th>\n",
       "      <th>Реактивная мощность</th>\n",
       "    </tr>\n",
       "  </thead>\n",
       "  <tbody>\n",
       "    <tr>\n",
       "      <th>count</th>\n",
       "      <td>14876.000000</td>\n",
       "      <td>14876.000000</td>\n",
       "      <td>14876.000000</td>\n",
       "    </tr>\n",
       "    <tr>\n",
       "      <th>mean</th>\n",
       "      <td>1615.220422</td>\n",
       "      <td>0.662752</td>\n",
       "      <td>0.438986</td>\n",
       "    </tr>\n",
       "    <tr>\n",
       "      <th>std</th>\n",
       "      <td>934.571502</td>\n",
       "      <td>0.258885</td>\n",
       "      <td>5.873485</td>\n",
       "    </tr>\n",
       "    <tr>\n",
       "      <th>min</th>\n",
       "      <td>1.000000</td>\n",
       "      <td>0.223120</td>\n",
       "      <td>-715.479924</td>\n",
       "    </tr>\n",
       "    <tr>\n",
       "      <th>25%</th>\n",
       "      <td>806.000000</td>\n",
       "      <td>0.467115</td>\n",
       "      <td>0.337175</td>\n",
       "    </tr>\n",
       "    <tr>\n",
       "      <th>50%</th>\n",
       "      <td>1617.000000</td>\n",
       "      <td>0.599587</td>\n",
       "      <td>0.441639</td>\n",
       "    </tr>\n",
       "    <tr>\n",
       "      <th>75%</th>\n",
       "      <td>2429.000000</td>\n",
       "      <td>0.830070</td>\n",
       "      <td>0.608201</td>\n",
       "    </tr>\n",
       "    <tr>\n",
       "      <th>max</th>\n",
       "      <td>3241.000000</td>\n",
       "      <td>1.463773</td>\n",
       "      <td>1.270284</td>\n",
       "    </tr>\n",
       "  </tbody>\n",
       "</table>\n",
       "</div>"
      ],
      "text/plain": [
       "                key  Активная мощность  Реактивная мощность\n",
       "count  14876.000000       14876.000000         14876.000000\n",
       "mean    1615.220422           0.662752             0.438986\n",
       "std      934.571502           0.258885             5.873485\n",
       "min        1.000000           0.223120          -715.479924\n",
       "25%      806.000000           0.467115             0.337175\n",
       "50%     1617.000000           0.599587             0.441639\n",
       "75%     2429.000000           0.830070             0.608201\n",
       "max     3241.000000           1.463773             1.270284"
      ]
     },
     "execution_count": 4,
     "metadata": {},
     "output_type": "execute_result"
    }
   ],
   "source": [
    "print(df_arc.info())\n",
    "df_arc.describe()"
   ]
  },
  {
   "cell_type": "markdown",
   "id": "f9feadcf",
   "metadata": {},
   "source": [
    "Датафрейм содержит 14876 значений без пропусков. Формат даты не приведен в соответствующий тип данных. Анализируя статистику датафрейма видно, что имеется выброс в колонке с реактивной мощностью. Датафрейм годится для анализа после приведения типа даты к требуемой и устранения выброса. "
   ]
  },
  {
   "cell_type": "markdown",
   "id": "8ff14abd",
   "metadata": {},
   "source": [
    "### Данные об объеме сыпучих материалов"
   ]
  },
  {
   "cell_type": "code",
   "execution_count": 5,
   "id": "bde5f298",
   "metadata": {},
   "outputs": [
    {
     "data": {
      "text/html": [
       "<div>\n",
       "<style scoped>\n",
       "    .dataframe tbody tr th:only-of-type {\n",
       "        vertical-align: middle;\n",
       "    }\n",
       "\n",
       "    .dataframe tbody tr th {\n",
       "        vertical-align: top;\n",
       "    }\n",
       "\n",
       "    .dataframe thead th {\n",
       "        text-align: right;\n",
       "    }\n",
       "</style>\n",
       "<table border=\"1\" class=\"dataframe\">\n",
       "  <thead>\n",
       "    <tr style=\"text-align: right;\">\n",
       "      <th></th>\n",
       "      <th>key</th>\n",
       "      <th>Bulk 1</th>\n",
       "      <th>Bulk 2</th>\n",
       "      <th>Bulk 3</th>\n",
       "      <th>Bulk 4</th>\n",
       "      <th>Bulk 5</th>\n",
       "      <th>Bulk 6</th>\n",
       "      <th>Bulk 7</th>\n",
       "      <th>Bulk 8</th>\n",
       "      <th>Bulk 9</th>\n",
       "      <th>Bulk 10</th>\n",
       "      <th>Bulk 11</th>\n",
       "      <th>Bulk 12</th>\n",
       "      <th>Bulk 13</th>\n",
       "      <th>Bulk 14</th>\n",
       "      <th>Bulk 15</th>\n",
       "    </tr>\n",
       "  </thead>\n",
       "  <tbody>\n",
       "    <tr>\n",
       "      <th>0</th>\n",
       "      <td>1</td>\n",
       "      <td>NaN</td>\n",
       "      <td>NaN</td>\n",
       "      <td>NaN</td>\n",
       "      <td>43.0</td>\n",
       "      <td>NaN</td>\n",
       "      <td>NaN</td>\n",
       "      <td>NaN</td>\n",
       "      <td>NaN</td>\n",
       "      <td>NaN</td>\n",
       "      <td>NaN</td>\n",
       "      <td>NaN</td>\n",
       "      <td>206.0</td>\n",
       "      <td>NaN</td>\n",
       "      <td>150.0</td>\n",
       "      <td>154.0</td>\n",
       "    </tr>\n",
       "    <tr>\n",
       "      <th>1</th>\n",
       "      <td>2</td>\n",
       "      <td>NaN</td>\n",
       "      <td>NaN</td>\n",
       "      <td>NaN</td>\n",
       "      <td>73.0</td>\n",
       "      <td>NaN</td>\n",
       "      <td>NaN</td>\n",
       "      <td>NaN</td>\n",
       "      <td>NaN</td>\n",
       "      <td>NaN</td>\n",
       "      <td>NaN</td>\n",
       "      <td>NaN</td>\n",
       "      <td>206.0</td>\n",
       "      <td>NaN</td>\n",
       "      <td>149.0</td>\n",
       "      <td>154.0</td>\n",
       "    </tr>\n",
       "    <tr>\n",
       "      <th>2</th>\n",
       "      <td>3</td>\n",
       "      <td>NaN</td>\n",
       "      <td>NaN</td>\n",
       "      <td>NaN</td>\n",
       "      <td>34.0</td>\n",
       "      <td>NaN</td>\n",
       "      <td>NaN</td>\n",
       "      <td>NaN</td>\n",
       "      <td>NaN</td>\n",
       "      <td>NaN</td>\n",
       "      <td>NaN</td>\n",
       "      <td>NaN</td>\n",
       "      <td>205.0</td>\n",
       "      <td>NaN</td>\n",
       "      <td>152.0</td>\n",
       "      <td>153.0</td>\n",
       "    </tr>\n",
       "    <tr>\n",
       "      <th>3</th>\n",
       "      <td>4</td>\n",
       "      <td>NaN</td>\n",
       "      <td>NaN</td>\n",
       "      <td>NaN</td>\n",
       "      <td>81.0</td>\n",
       "      <td>NaN</td>\n",
       "      <td>NaN</td>\n",
       "      <td>NaN</td>\n",
       "      <td>NaN</td>\n",
       "      <td>NaN</td>\n",
       "      <td>NaN</td>\n",
       "      <td>NaN</td>\n",
       "      <td>207.0</td>\n",
       "      <td>NaN</td>\n",
       "      <td>153.0</td>\n",
       "      <td>154.0</td>\n",
       "    </tr>\n",
       "    <tr>\n",
       "      <th>4</th>\n",
       "      <td>5</td>\n",
       "      <td>NaN</td>\n",
       "      <td>NaN</td>\n",
       "      <td>NaN</td>\n",
       "      <td>78.0</td>\n",
       "      <td>NaN</td>\n",
       "      <td>NaN</td>\n",
       "      <td>NaN</td>\n",
       "      <td>NaN</td>\n",
       "      <td>NaN</td>\n",
       "      <td>NaN</td>\n",
       "      <td>NaN</td>\n",
       "      <td>203.0</td>\n",
       "      <td>NaN</td>\n",
       "      <td>151.0</td>\n",
       "      <td>152.0</td>\n",
       "    </tr>\n",
       "  </tbody>\n",
       "</table>\n",
       "</div>"
      ],
      "text/plain": [
       "   key  Bulk 1  Bulk 2  Bulk 3  Bulk 4  Bulk 5  Bulk 6  Bulk 7  Bulk 8  \\\n",
       "0    1     NaN     NaN     NaN    43.0     NaN     NaN     NaN     NaN   \n",
       "1    2     NaN     NaN     NaN    73.0     NaN     NaN     NaN     NaN   \n",
       "2    3     NaN     NaN     NaN    34.0     NaN     NaN     NaN     NaN   \n",
       "3    4     NaN     NaN     NaN    81.0     NaN     NaN     NaN     NaN   \n",
       "4    5     NaN     NaN     NaN    78.0     NaN     NaN     NaN     NaN   \n",
       "\n",
       "   Bulk 9  Bulk 10  Bulk 11  Bulk 12  Bulk 13  Bulk 14  Bulk 15  \n",
       "0     NaN      NaN      NaN    206.0      NaN    150.0    154.0  \n",
       "1     NaN      NaN      NaN    206.0      NaN    149.0    154.0  \n",
       "2     NaN      NaN      NaN    205.0      NaN    152.0    153.0  \n",
       "3     NaN      NaN      NaN    207.0      NaN    153.0    154.0  \n",
       "4     NaN      NaN      NaN    203.0      NaN    151.0    152.0  "
      ]
     },
     "execution_count": 5,
     "metadata": {},
     "output_type": "execute_result"
    }
   ],
   "source": [
    "df_bulk.head()"
   ]
  },
  {
   "cell_type": "markdown",
   "id": "a5914746",
   "metadata": {},
   "source": [
    "Датафрейм представляет собой записи о легирующих элементах ,поданных в зону плавления . Большое количество NaN элементов означает отсутствие подачи. Корректно заменить эти элементы на нуль. "
   ]
  },
  {
   "cell_type": "code",
   "execution_count": 6,
   "id": "060d235b",
   "metadata": {},
   "outputs": [
    {
     "name": "stdout",
     "output_type": "stream",
     "text": [
      "<class 'pandas.core.frame.DataFrame'>\n",
      "RangeIndex: 3129 entries, 0 to 3128\n",
      "Data columns (total 16 columns):\n",
      " #   Column   Non-Null Count  Dtype  \n",
      "---  ------   --------------  -----  \n",
      " 0   key      3129 non-null   int64  \n",
      " 1   Bulk 1   252 non-null    float64\n",
      " 2   Bulk 2   22 non-null     float64\n",
      " 3   Bulk 3   1298 non-null   float64\n",
      " 4   Bulk 4   1014 non-null   float64\n",
      " 5   Bulk 5   77 non-null     float64\n",
      " 6   Bulk 6   576 non-null    float64\n",
      " 7   Bulk 7   25 non-null     float64\n",
      " 8   Bulk 8   1 non-null      float64\n",
      " 9   Bulk 9   19 non-null     float64\n",
      " 10  Bulk 10  176 non-null    float64\n",
      " 11  Bulk 11  177 non-null    float64\n",
      " 12  Bulk 12  2450 non-null   float64\n",
      " 13  Bulk 13  18 non-null     float64\n",
      " 14  Bulk 14  2806 non-null   float64\n",
      " 15  Bulk 15  2248 non-null   float64\n",
      "dtypes: float64(15), int64(1)\n",
      "memory usage: 391.2 KB\n",
      "None\n"
     ]
    },
    {
     "data": {
      "text/html": [
       "<div>\n",
       "<style scoped>\n",
       "    .dataframe tbody tr th:only-of-type {\n",
       "        vertical-align: middle;\n",
       "    }\n",
       "\n",
       "    .dataframe tbody tr th {\n",
       "        vertical-align: top;\n",
       "    }\n",
       "\n",
       "    .dataframe thead th {\n",
       "        text-align: right;\n",
       "    }\n",
       "</style>\n",
       "<table border=\"1\" class=\"dataframe\">\n",
       "  <thead>\n",
       "    <tr style=\"text-align: right;\">\n",
       "      <th></th>\n",
       "      <th>key</th>\n",
       "      <th>Bulk 1</th>\n",
       "      <th>Bulk 2</th>\n",
       "      <th>Bulk 3</th>\n",
       "      <th>Bulk 4</th>\n",
       "      <th>Bulk 5</th>\n",
       "      <th>Bulk 6</th>\n",
       "      <th>Bulk 7</th>\n",
       "      <th>Bulk 8</th>\n",
       "      <th>Bulk 9</th>\n",
       "      <th>Bulk 10</th>\n",
       "      <th>Bulk 11</th>\n",
       "      <th>Bulk 12</th>\n",
       "      <th>Bulk 13</th>\n",
       "      <th>Bulk 14</th>\n",
       "      <th>Bulk 15</th>\n",
       "    </tr>\n",
       "  </thead>\n",
       "  <tbody>\n",
       "    <tr>\n",
       "      <th>count</th>\n",
       "      <td>3129.000000</td>\n",
       "      <td>252.000000</td>\n",
       "      <td>22.000000</td>\n",
       "      <td>1298.000000</td>\n",
       "      <td>1014.000000</td>\n",
       "      <td>77.000000</td>\n",
       "      <td>576.000000</td>\n",
       "      <td>25.000000</td>\n",
       "      <td>1.0</td>\n",
       "      <td>19.000000</td>\n",
       "      <td>176.000000</td>\n",
       "      <td>177.000000</td>\n",
       "      <td>2450.000000</td>\n",
       "      <td>18.000000</td>\n",
       "      <td>2806.000000</td>\n",
       "      <td>2248.000000</td>\n",
       "    </tr>\n",
       "    <tr>\n",
       "      <th>mean</th>\n",
       "      <td>1624.383509</td>\n",
       "      <td>39.242063</td>\n",
       "      <td>253.045455</td>\n",
       "      <td>113.879045</td>\n",
       "      <td>104.394477</td>\n",
       "      <td>107.025974</td>\n",
       "      <td>118.925347</td>\n",
       "      <td>305.600000</td>\n",
       "      <td>49.0</td>\n",
       "      <td>76.315789</td>\n",
       "      <td>83.284091</td>\n",
       "      <td>76.819209</td>\n",
       "      <td>260.471020</td>\n",
       "      <td>181.111111</td>\n",
       "      <td>170.284747</td>\n",
       "      <td>160.513345</td>\n",
       "    </tr>\n",
       "    <tr>\n",
       "      <th>std</th>\n",
       "      <td>933.337642</td>\n",
       "      <td>18.277654</td>\n",
       "      <td>21.180578</td>\n",
       "      <td>75.483494</td>\n",
       "      <td>48.184126</td>\n",
       "      <td>81.790646</td>\n",
       "      <td>72.057776</td>\n",
       "      <td>191.022904</td>\n",
       "      <td>NaN</td>\n",
       "      <td>21.720581</td>\n",
       "      <td>26.060347</td>\n",
       "      <td>59.655365</td>\n",
       "      <td>120.649269</td>\n",
       "      <td>46.088009</td>\n",
       "      <td>65.868652</td>\n",
       "      <td>51.765319</td>\n",
       "    </tr>\n",
       "    <tr>\n",
       "      <th>min</th>\n",
       "      <td>1.000000</td>\n",
       "      <td>10.000000</td>\n",
       "      <td>228.000000</td>\n",
       "      <td>6.000000</td>\n",
       "      <td>12.000000</td>\n",
       "      <td>11.000000</td>\n",
       "      <td>17.000000</td>\n",
       "      <td>47.000000</td>\n",
       "      <td>49.0</td>\n",
       "      <td>63.000000</td>\n",
       "      <td>24.000000</td>\n",
       "      <td>8.000000</td>\n",
       "      <td>53.000000</td>\n",
       "      <td>151.000000</td>\n",
       "      <td>16.000000</td>\n",
       "      <td>1.000000</td>\n",
       "    </tr>\n",
       "    <tr>\n",
       "      <th>25%</th>\n",
       "      <td>816.000000</td>\n",
       "      <td>27.000000</td>\n",
       "      <td>242.000000</td>\n",
       "      <td>58.000000</td>\n",
       "      <td>72.000000</td>\n",
       "      <td>70.000000</td>\n",
       "      <td>69.750000</td>\n",
       "      <td>155.000000</td>\n",
       "      <td>49.0</td>\n",
       "      <td>66.000000</td>\n",
       "      <td>64.000000</td>\n",
       "      <td>25.000000</td>\n",
       "      <td>204.000000</td>\n",
       "      <td>153.250000</td>\n",
       "      <td>119.000000</td>\n",
       "      <td>105.000000</td>\n",
       "    </tr>\n",
       "    <tr>\n",
       "      <th>50%</th>\n",
       "      <td>1622.000000</td>\n",
       "      <td>31.000000</td>\n",
       "      <td>251.500000</td>\n",
       "      <td>97.500000</td>\n",
       "      <td>102.000000</td>\n",
       "      <td>86.000000</td>\n",
       "      <td>100.000000</td>\n",
       "      <td>298.000000</td>\n",
       "      <td>49.0</td>\n",
       "      <td>68.000000</td>\n",
       "      <td>86.500000</td>\n",
       "      <td>64.000000</td>\n",
       "      <td>208.000000</td>\n",
       "      <td>155.500000</td>\n",
       "      <td>151.000000</td>\n",
       "      <td>160.000000</td>\n",
       "    </tr>\n",
       "    <tr>\n",
       "      <th>75%</th>\n",
       "      <td>2431.000000</td>\n",
       "      <td>46.000000</td>\n",
       "      <td>257.750000</td>\n",
       "      <td>152.000000</td>\n",
       "      <td>133.000000</td>\n",
       "      <td>132.000000</td>\n",
       "      <td>157.000000</td>\n",
       "      <td>406.000000</td>\n",
       "      <td>49.0</td>\n",
       "      <td>70.500000</td>\n",
       "      <td>102.000000</td>\n",
       "      <td>106.000000</td>\n",
       "      <td>316.000000</td>\n",
       "      <td>203.500000</td>\n",
       "      <td>205.750000</td>\n",
       "      <td>205.000000</td>\n",
       "    </tr>\n",
       "    <tr>\n",
       "      <th>max</th>\n",
       "      <td>3241.000000</td>\n",
       "      <td>185.000000</td>\n",
       "      <td>325.000000</td>\n",
       "      <td>454.000000</td>\n",
       "      <td>281.000000</td>\n",
       "      <td>603.000000</td>\n",
       "      <td>503.000000</td>\n",
       "      <td>772.000000</td>\n",
       "      <td>49.0</td>\n",
       "      <td>147.000000</td>\n",
       "      <td>159.000000</td>\n",
       "      <td>313.000000</td>\n",
       "      <td>1849.000000</td>\n",
       "      <td>305.000000</td>\n",
       "      <td>636.000000</td>\n",
       "      <td>405.000000</td>\n",
       "    </tr>\n",
       "  </tbody>\n",
       "</table>\n",
       "</div>"
      ],
      "text/plain": [
       "               key      Bulk 1      Bulk 2       Bulk 3       Bulk 4  \\\n",
       "count  3129.000000  252.000000   22.000000  1298.000000  1014.000000   \n",
       "mean   1624.383509   39.242063  253.045455   113.879045   104.394477   \n",
       "std     933.337642   18.277654   21.180578    75.483494    48.184126   \n",
       "min       1.000000   10.000000  228.000000     6.000000    12.000000   \n",
       "25%     816.000000   27.000000  242.000000    58.000000    72.000000   \n",
       "50%    1622.000000   31.000000  251.500000    97.500000   102.000000   \n",
       "75%    2431.000000   46.000000  257.750000   152.000000   133.000000   \n",
       "max    3241.000000  185.000000  325.000000   454.000000   281.000000   \n",
       "\n",
       "           Bulk 5      Bulk 6      Bulk 7  Bulk 8      Bulk 9     Bulk 10  \\\n",
       "count   77.000000  576.000000   25.000000     1.0   19.000000  176.000000   \n",
       "mean   107.025974  118.925347  305.600000    49.0   76.315789   83.284091   \n",
       "std     81.790646   72.057776  191.022904     NaN   21.720581   26.060347   \n",
       "min     11.000000   17.000000   47.000000    49.0   63.000000   24.000000   \n",
       "25%     70.000000   69.750000  155.000000    49.0   66.000000   64.000000   \n",
       "50%     86.000000  100.000000  298.000000    49.0   68.000000   86.500000   \n",
       "75%    132.000000  157.000000  406.000000    49.0   70.500000  102.000000   \n",
       "max    603.000000  503.000000  772.000000    49.0  147.000000  159.000000   \n",
       "\n",
       "          Bulk 11      Bulk 12     Bulk 13      Bulk 14      Bulk 15  \n",
       "count  177.000000  2450.000000   18.000000  2806.000000  2248.000000  \n",
       "mean    76.819209   260.471020  181.111111   170.284747   160.513345  \n",
       "std     59.655365   120.649269   46.088009    65.868652    51.765319  \n",
       "min      8.000000    53.000000  151.000000    16.000000     1.000000  \n",
       "25%     25.000000   204.000000  153.250000   119.000000   105.000000  \n",
       "50%     64.000000   208.000000  155.500000   151.000000   160.000000  \n",
       "75%    106.000000   316.000000  203.500000   205.750000   205.000000  \n",
       "max    313.000000  1849.000000  305.000000   636.000000   405.000000  "
      ]
     },
     "execution_count": 6,
     "metadata": {},
     "output_type": "execute_result"
    }
   ],
   "source": [
    "print(df_bulk.info())\n",
    "df_bulk.describe()"
   ]
  },
  {
   "cell_type": "code",
   "execution_count": 7,
   "id": "475c86ad",
   "metadata": {},
   "outputs": [
    {
     "data": {
      "image/png": "[encoded data removed]",
      "text/plain": [
       "<Figure size 720x864 with 16 Axes>"
      ]
     },
     "metadata": {
      "needs_background": "light"
     },
     "output_type": "display_data"
    }
   ],
   "source": [
    "df_bulk.hist(column=list(df_bulk.columns)[1:]\n",
    "             ,figsize=(10,12));\n",
    "plt.suptitle('Гистограммы подачи сыпучих добавок',y=0.93\n",
    "             , ha='center', fontsize='x-large')\n",
    "plt.show()"
   ]
  },
  {
   "cell_type": "markdown",
   "id": "d925ca71",
   "metadata": {},
   "source": [
    "Анализ показывает правильные типов колонок. Явных выбросов в данных не наблюдается, кроме колонок Bulk 12, Bulk 14, Bulk15, где верхнее значение требует уточнения. Bulk 8 имеет лишь 1 значение, что мало для для обучения модели. Данную колонку имеет смысл удалить по результатам консультации с бизнесом.   "
   ]
  },
  {
   "cell_type": "markdown",
   "id": "780c9d58",
   "metadata": {},
   "source": [
    "### Данные о времени подачи сыпучих материалов"
   ]
  },
  {
   "cell_type": "code",
   "execution_count": 8,
   "id": "75c58b63",
   "metadata": {},
   "outputs": [
    {
     "data": {
      "text/html": [
       "<div>\n",
       "<style scoped>\n",
       "    .dataframe tbody tr th:only-of-type {\n",
       "        vertical-align: middle;\n",
       "    }\n",
       "\n",
       "    .dataframe tbody tr th {\n",
       "        vertical-align: top;\n",
       "    }\n",
       "\n",
       "    .dataframe thead th {\n",
       "        text-align: right;\n",
       "    }\n",
       "</style>\n",
       "<table border=\"1\" class=\"dataframe\">\n",
       "  <thead>\n",
       "    <tr style=\"text-align: right;\">\n",
       "      <th></th>\n",
       "      <th>key</th>\n",
       "      <th>Bulk 1</th>\n",
       "      <th>Bulk 2</th>\n",
       "      <th>Bulk 3</th>\n",
       "      <th>Bulk 4</th>\n",
       "      <th>Bulk 5</th>\n",
       "      <th>Bulk 6</th>\n",
       "      <th>Bulk 7</th>\n",
       "      <th>Bulk 8</th>\n",
       "      <th>Bulk 9</th>\n",
       "      <th>Bulk 10</th>\n",
       "      <th>Bulk 11</th>\n",
       "      <th>Bulk 12</th>\n",
       "      <th>Bulk 13</th>\n",
       "      <th>Bulk 14</th>\n",
       "      <th>Bulk 15</th>\n",
       "    </tr>\n",
       "  </thead>\n",
       "  <tbody>\n",
       "    <tr>\n",
       "      <th>0</th>\n",
       "      <td>1</td>\n",
       "      <td>NaN</td>\n",
       "      <td>NaN</td>\n",
       "      <td>NaN</td>\n",
       "      <td>2019-05-03 11:28:48</td>\n",
       "      <td>NaN</td>\n",
       "      <td>NaN</td>\n",
       "      <td>NaN</td>\n",
       "      <td>NaN</td>\n",
       "      <td>NaN</td>\n",
       "      <td>NaN</td>\n",
       "      <td>NaN</td>\n",
       "      <td>2019-05-03 11:24:31</td>\n",
       "      <td>NaN</td>\n",
       "      <td>2019-05-03 11:14:50</td>\n",
       "      <td>2019-05-03 11:10:43</td>\n",
       "    </tr>\n",
       "    <tr>\n",
       "      <th>1</th>\n",
       "      <td>2</td>\n",
       "      <td>NaN</td>\n",
       "      <td>NaN</td>\n",
       "      <td>NaN</td>\n",
       "      <td>2019-05-03 11:36:50</td>\n",
       "      <td>NaN</td>\n",
       "      <td>NaN</td>\n",
       "      <td>NaN</td>\n",
       "      <td>NaN</td>\n",
       "      <td>NaN</td>\n",
       "      <td>NaN</td>\n",
       "      <td>NaN</td>\n",
       "      <td>2019-05-03 11:53:30</td>\n",
       "      <td>NaN</td>\n",
       "      <td>2019-05-03 11:48:37</td>\n",
       "      <td>2019-05-03 11:44:39</td>\n",
       "    </tr>\n",
       "    <tr>\n",
       "      <th>2</th>\n",
       "      <td>3</td>\n",
       "      <td>NaN</td>\n",
       "      <td>NaN</td>\n",
       "      <td>NaN</td>\n",
       "      <td>2019-05-03 12:32:39</td>\n",
       "      <td>NaN</td>\n",
       "      <td>NaN</td>\n",
       "      <td>NaN</td>\n",
       "      <td>NaN</td>\n",
       "      <td>NaN</td>\n",
       "      <td>NaN</td>\n",
       "      <td>NaN</td>\n",
       "      <td>2019-05-03 12:27:13</td>\n",
       "      <td>NaN</td>\n",
       "      <td>2019-05-03 12:21:01</td>\n",
       "      <td>2019-05-03 12:16:16</td>\n",
       "    </tr>\n",
       "    <tr>\n",
       "      <th>3</th>\n",
       "      <td>4</td>\n",
       "      <td>NaN</td>\n",
       "      <td>NaN</td>\n",
       "      <td>NaN</td>\n",
       "      <td>2019-05-03 12:43:22</td>\n",
       "      <td>NaN</td>\n",
       "      <td>NaN</td>\n",
       "      <td>NaN</td>\n",
       "      <td>NaN</td>\n",
       "      <td>NaN</td>\n",
       "      <td>NaN</td>\n",
       "      <td>NaN</td>\n",
       "      <td>2019-05-03 12:58:00</td>\n",
       "      <td>NaN</td>\n",
       "      <td>2019-05-03 12:51:11</td>\n",
       "      <td>2019-05-03 12:46:36</td>\n",
       "    </tr>\n",
       "    <tr>\n",
       "      <th>4</th>\n",
       "      <td>5</td>\n",
       "      <td>NaN</td>\n",
       "      <td>NaN</td>\n",
       "      <td>NaN</td>\n",
       "      <td>2019-05-03 13:30:47</td>\n",
       "      <td>NaN</td>\n",
       "      <td>NaN</td>\n",
       "      <td>NaN</td>\n",
       "      <td>NaN</td>\n",
       "      <td>NaN</td>\n",
       "      <td>NaN</td>\n",
       "      <td>NaN</td>\n",
       "      <td>2019-05-03 13:30:47</td>\n",
       "      <td>NaN</td>\n",
       "      <td>2019-05-03 13:34:12</td>\n",
       "      <td>2019-05-03 13:30:47</td>\n",
       "    </tr>\n",
       "  </tbody>\n",
       "</table>\n",
       "</div>"
      ],
      "text/plain": [
       "   key Bulk 1 Bulk 2 Bulk 3               Bulk 4 Bulk 5 Bulk 6 Bulk 7 Bulk 8  \\\n",
       "0    1    NaN    NaN    NaN  2019-05-03 11:28:48    NaN    NaN    NaN    NaN   \n",
       "1    2    NaN    NaN    NaN  2019-05-03 11:36:50    NaN    NaN    NaN    NaN   \n",
       "2    3    NaN    NaN    NaN  2019-05-03 12:32:39    NaN    NaN    NaN    NaN   \n",
       "3    4    NaN    NaN    NaN  2019-05-03 12:43:22    NaN    NaN    NaN    NaN   \n",
       "4    5    NaN    NaN    NaN  2019-05-03 13:30:47    NaN    NaN    NaN    NaN   \n",
       "\n",
       "  Bulk 9 Bulk 10 Bulk 11              Bulk 12 Bulk 13              Bulk 14  \\\n",
       "0    NaN     NaN     NaN  2019-05-03 11:24:31     NaN  2019-05-03 11:14:50   \n",
       "1    NaN     NaN     NaN  2019-05-03 11:53:30     NaN  2019-05-03 11:48:37   \n",
       "2    NaN     NaN     NaN  2019-05-03 12:27:13     NaN  2019-05-03 12:21:01   \n",
       "3    NaN     NaN     NaN  2019-05-03 12:58:00     NaN  2019-05-03 12:51:11   \n",
       "4    NaN     NaN     NaN  2019-05-03 13:30:47     NaN  2019-05-03 13:34:12   \n",
       "\n",
       "               Bulk 15  \n",
       "0  2019-05-03 11:10:43  \n",
       "1  2019-05-03 11:44:39  \n",
       "2  2019-05-03 12:16:16  \n",
       "3  2019-05-03 12:46:36  \n",
       "4  2019-05-03 13:30:47  "
      ]
     },
     "execution_count": 8,
     "metadata": {},
     "output_type": "execute_result"
    }
   ],
   "source": [
    "df_bulk_t.head()"
   ]
  },
  {
   "cell_type": "code",
   "execution_count": 9,
   "id": "22032a0c",
   "metadata": {},
   "outputs": [
    {
     "name": "stdout",
     "output_type": "stream",
     "text": [
      "<class 'pandas.core.frame.DataFrame'>\n",
      "RangeIndex: 3129 entries, 0 to 3128\n",
      "Data columns (total 16 columns):\n",
      " #   Column   Non-Null Count  Dtype \n",
      "---  ------   --------------  ----- \n",
      " 0   key      3129 non-null   int64 \n",
      " 1   Bulk 1   252 non-null    object\n",
      " 2   Bulk 2   22 non-null     object\n",
      " 3   Bulk 3   1298 non-null   object\n",
      " 4   Bulk 4   1014 non-null   object\n",
      " 5   Bulk 5   77 non-null     object\n",
      " 6   Bulk 6   576 non-null    object\n",
      " 7   Bulk 7   25 non-null     object\n",
      " 8   Bulk 8   1 non-null      object\n",
      " 9   Bulk 9   19 non-null     object\n",
      " 10  Bulk 10  176 non-null    object\n",
      " 11  Bulk 11  177 non-null    object\n",
      " 12  Bulk 12  2450 non-null   object\n",
      " 13  Bulk 13  18 non-null     object\n",
      " 14  Bulk 14  2806 non-null   object\n",
      " 15  Bulk 15  2248 non-null   object\n",
      "dtypes: int64(1), object(15)\n",
      "memory usage: 391.2+ KB\n"
     ]
    }
   ],
   "source": [
    "df_bulk_t.info()"
   ]
  },
  {
   "cell_type": "markdown",
   "id": "fdabffb4",
   "metadata": {},
   "source": [
    "Датафрейм представляет собой дату загрузки материалов в стальной расплав. Тип данных желательно привести к date. Важно, что эта таблица связана напрямую с таблицей об объеме подачи материалов. Необходимо проверить, что все данные одной таблицы связаны с другой. "
   ]
  },
  {
   "cell_type": "code",
   "execution_count": 10,
   "id": "ba6a16e2",
   "metadata": {},
   "outputs": [
    {
     "data": {
      "text/plain": [
       "True"
      ]
     },
     "execution_count": 10,
     "metadata": {},
     "output_type": "execute_result"
    }
   ],
   "source": [
    "tab1 = df_bulk_t.isna() # ненулевые значения в таблице df_bulk_t\n",
    "tab2 = df_bulk.isna() # ненулевые значения в таблице df_bulk\n",
    "tab1.equals(tab2) #проверяем их соответствие"
   ]
  },
  {
   "cell_type": "markdown",
   "id": "36ab45ce",
   "metadata": {},
   "source": [
    "Данные в таблицах заполнены соответствующим образом."
   ]
  },
  {
   "cell_type": "markdown",
   "id": "4bcace1f",
   "metadata": {},
   "source": [
    "### Данные о продувке газом. \n",
    "Для перемешивания легирующих элементов и защиты от окисления с воздухом используется продувка расплава инертными газами. Информация о величине расхода инертного газа представлена ниже.  "
   ]
  },
  {
   "cell_type": "code",
   "execution_count": 11,
   "id": "4c28bb51",
   "metadata": {},
   "outputs": [
    {
     "name": "stdout",
     "output_type": "stream",
     "text": [
      "<class 'pandas.core.frame.DataFrame'>\n",
      "RangeIndex: 3239 entries, 0 to 3238\n",
      "Data columns (total 2 columns):\n",
      " #   Column  Non-Null Count  Dtype  \n",
      "---  ------  --------------  -----  \n",
      " 0   key     3239 non-null   int64  \n",
      " 1   Газ 1   3239 non-null   float64\n",
      "dtypes: float64(1), int64(1)\n",
      "memory usage: 50.7 KB\n",
      "None\n"
     ]
    },
    {
     "data": {
      "text/html": [
       "<div>\n",
       "<style scoped>\n",
       "    .dataframe tbody tr th:only-of-type {\n",
       "        vertical-align: middle;\n",
       "    }\n",
       "\n",
       "    .dataframe tbody tr th {\n",
       "        vertical-align: top;\n",
       "    }\n",
       "\n",
       "    .dataframe thead th {\n",
       "        text-align: right;\n",
       "    }\n",
       "</style>\n",
       "<table border=\"1\" class=\"dataframe\">\n",
       "  <thead>\n",
       "    <tr style=\"text-align: right;\">\n",
       "      <th></th>\n",
       "      <th>key</th>\n",
       "      <th>Газ 1</th>\n",
       "    </tr>\n",
       "  </thead>\n",
       "  <tbody>\n",
       "    <tr>\n",
       "      <th>count</th>\n",
       "      <td>3239.000000</td>\n",
       "      <td>3239.000000</td>\n",
       "    </tr>\n",
       "    <tr>\n",
       "      <th>mean</th>\n",
       "      <td>1621.861377</td>\n",
       "      <td>11.002062</td>\n",
       "    </tr>\n",
       "    <tr>\n",
       "      <th>std</th>\n",
       "      <td>935.386334</td>\n",
       "      <td>6.220327</td>\n",
       "    </tr>\n",
       "    <tr>\n",
       "      <th>min</th>\n",
       "      <td>1.000000</td>\n",
       "      <td>0.008399</td>\n",
       "    </tr>\n",
       "    <tr>\n",
       "      <th>25%</th>\n",
       "      <td>812.500000</td>\n",
       "      <td>7.043089</td>\n",
       "    </tr>\n",
       "    <tr>\n",
       "      <th>50%</th>\n",
       "      <td>1622.000000</td>\n",
       "      <td>9.836267</td>\n",
       "    </tr>\n",
       "    <tr>\n",
       "      <th>75%</th>\n",
       "      <td>2431.500000</td>\n",
       "      <td>13.769915</td>\n",
       "    </tr>\n",
       "    <tr>\n",
       "      <th>max</th>\n",
       "      <td>3241.000000</td>\n",
       "      <td>77.995040</td>\n",
       "    </tr>\n",
       "  </tbody>\n",
       "</table>\n",
       "</div>"
      ],
      "text/plain": [
       "               key        Газ 1\n",
       "count  3239.000000  3239.000000\n",
       "mean   1621.861377    11.002062\n",
       "std     935.386334     6.220327\n",
       "min       1.000000     0.008399\n",
       "25%     812.500000     7.043089\n",
       "50%    1622.000000     9.836267\n",
       "75%    2431.500000    13.769915\n",
       "max    3241.000000    77.995040"
      ]
     },
     "execution_count": 11,
     "metadata": {},
     "output_type": "execute_result"
    }
   ],
   "source": [
    "print(df_gas.info())\n",
    "df_gas.describe()"
   ]
  },
  {
   "cell_type": "code",
   "execution_count": 12,
   "id": "8e6c05aa",
   "metadata": {},
   "outputs": [
    {
     "data": {
      "image/png": "[encoded data removed]",
      "text/plain": [
       "<Figure size 360x216 with 1 Axes>"
      ]
     },
     "metadata": {
      "needs_background": "light"
     },
     "output_type": "display_data"
    }
   ],
   "source": [
    "df_gas['Газ 1'].hist(figsize=(5,3),bins=50)\n",
    "plt.suptitle('Гистограмма подачи газа',y=0.98, ha='center', fontsize='large')\n",
    "plt.xlabel('Расход газа')\n",
    "plt.ylabel('Частота')\n",
    "plt.show()"
   ]
  },
  {
   "cell_type": "markdown",
   "id": "582b24fa",
   "metadata": {},
   "source": [
    "Имеется очень аномально длинный хвост справа. В остальном данные подходят для анализа. "
   ]
  },
  {
   "cell_type": "markdown",
   "id": "8cc402e1",
   "metadata": {},
   "source": [
    "### Данные о температуре. \n",
    "Основным показателем при выплавке стали является её температура. Вместе с тем контроль температуры требуется производить с высокой точностью, что является нетривиальной задачей. Температура плавления стали зависит от марки стали варьируется от 1450 С до 1535 С град."
   ]
  },
  {
   "cell_type": "code",
   "execution_count": 13,
   "id": "3fa21d72",
   "metadata": {},
   "outputs": [
    {
     "data": {
      "text/html": [
       "<div>\n",
       "<style scoped>\n",
       "    .dataframe tbody tr th:only-of-type {\n",
       "        vertical-align: middle;\n",
       "    }\n",
       "\n",
       "    .dataframe tbody tr th {\n",
       "        vertical-align: top;\n",
       "    }\n",
       "\n",
       "    .dataframe thead th {\n",
       "        text-align: right;\n",
       "    }\n",
       "</style>\n",
       "<table border=\"1\" class=\"dataframe\">\n",
       "  <thead>\n",
       "    <tr style=\"text-align: right;\">\n",
       "      <th></th>\n",
       "      <th>key</th>\n",
       "      <th>Время замера</th>\n",
       "      <th>Температура</th>\n",
       "    </tr>\n",
       "  </thead>\n",
       "  <tbody>\n",
       "    <tr>\n",
       "      <th>0</th>\n",
       "      <td>1</td>\n",
       "      <td>2019-05-03 11:02:04</td>\n",
       "      <td>1571.0</td>\n",
       "    </tr>\n",
       "    <tr>\n",
       "      <th>1</th>\n",
       "      <td>1</td>\n",
       "      <td>2019-05-03 11:07:18</td>\n",
       "      <td>1604.0</td>\n",
       "    </tr>\n",
       "    <tr>\n",
       "      <th>2</th>\n",
       "      <td>1</td>\n",
       "      <td>2019-05-03 11:11:34</td>\n",
       "      <td>1618.0</td>\n",
       "    </tr>\n",
       "    <tr>\n",
       "      <th>3</th>\n",
       "      <td>1</td>\n",
       "      <td>2019-05-03 11:18:04</td>\n",
       "      <td>1601.0</td>\n",
       "    </tr>\n",
       "    <tr>\n",
       "      <th>4</th>\n",
       "      <td>1</td>\n",
       "      <td>2019-05-03 11:25:59</td>\n",
       "      <td>1606.0</td>\n",
       "    </tr>\n",
       "  </tbody>\n",
       "</table>\n",
       "</div>"
      ],
      "text/plain": [
       "   key         Время замера  Температура\n",
       "0    1  2019-05-03 11:02:04       1571.0\n",
       "1    1  2019-05-03 11:07:18       1604.0\n",
       "2    1  2019-05-03 11:11:34       1618.0\n",
       "3    1  2019-05-03 11:18:04       1601.0\n",
       "4    1  2019-05-03 11:25:59       1606.0"
      ]
     },
     "execution_count": 13,
     "metadata": {},
     "output_type": "execute_result"
    }
   ],
   "source": [
    "df_temp.head()"
   ]
  },
  {
   "cell_type": "code",
   "execution_count": 14,
   "id": "7b098b52",
   "metadata": {},
   "outputs": [
    {
     "name": "stdout",
     "output_type": "stream",
     "text": [
      "<class 'pandas.core.frame.DataFrame'>\n",
      "RangeIndex: 18092 entries, 0 to 18091\n",
      "Data columns (total 3 columns):\n",
      " #   Column        Non-Null Count  Dtype  \n",
      "---  ------        --------------  -----  \n",
      " 0   key           18092 non-null  int64  \n",
      " 1   Время замера  18092 non-null  object \n",
      " 2   Температура   14665 non-null  float64\n",
      "dtypes: float64(1), int64(1), object(1)\n",
      "memory usage: 424.2+ KB\n",
      "None\n"
     ]
    },
    {
     "data": {
      "text/html": [
       "<div>\n",
       "<style scoped>\n",
       "    .dataframe tbody tr th:only-of-type {\n",
       "        vertical-align: middle;\n",
       "    }\n",
       "\n",
       "    .dataframe tbody tr th {\n",
       "        vertical-align: top;\n",
       "    }\n",
       "\n",
       "    .dataframe thead th {\n",
       "        text-align: right;\n",
       "    }\n",
       "</style>\n",
       "<table border=\"1\" class=\"dataframe\">\n",
       "  <thead>\n",
       "    <tr style=\"text-align: right;\">\n",
       "      <th></th>\n",
       "      <th>key</th>\n",
       "      <th>Температура</th>\n",
       "    </tr>\n",
       "  </thead>\n",
       "  <tbody>\n",
       "    <tr>\n",
       "      <th>count</th>\n",
       "      <td>18092.000000</td>\n",
       "      <td>14665.000000</td>\n",
       "    </tr>\n",
       "    <tr>\n",
       "      <th>mean</th>\n",
       "      <td>1616.460977</td>\n",
       "      <td>1590.722741</td>\n",
       "    </tr>\n",
       "    <tr>\n",
       "      <th>std</th>\n",
       "      <td>934.641385</td>\n",
       "      <td>20.394381</td>\n",
       "    </tr>\n",
       "    <tr>\n",
       "      <th>min</th>\n",
       "      <td>1.000000</td>\n",
       "      <td>1191.000000</td>\n",
       "    </tr>\n",
       "    <tr>\n",
       "      <th>25%</th>\n",
       "      <td>807.750000</td>\n",
       "      <td>1580.000000</td>\n",
       "    </tr>\n",
       "    <tr>\n",
       "      <th>50%</th>\n",
       "      <td>1618.000000</td>\n",
       "      <td>1590.000000</td>\n",
       "    </tr>\n",
       "    <tr>\n",
       "      <th>75%</th>\n",
       "      <td>2429.000000</td>\n",
       "      <td>1599.000000</td>\n",
       "    </tr>\n",
       "    <tr>\n",
       "      <th>max</th>\n",
       "      <td>3241.000000</td>\n",
       "      <td>1705.000000</td>\n",
       "    </tr>\n",
       "  </tbody>\n",
       "</table>\n",
       "</div>"
      ],
      "text/plain": [
       "                key   Температура\n",
       "count  18092.000000  14665.000000\n",
       "mean    1616.460977   1590.722741\n",
       "std      934.641385     20.394381\n",
       "min        1.000000   1191.000000\n",
       "25%      807.750000   1580.000000\n",
       "50%     1618.000000   1590.000000\n",
       "75%     2429.000000   1599.000000\n",
       "max     3241.000000   1705.000000"
      ]
     },
     "execution_count": 14,
     "metadata": {},
     "output_type": "execute_result"
    }
   ],
   "source": [
    "print(df_temp.info())\n",
    "df_temp.describe()"
   ]
  },
  {
   "cell_type": "code",
   "execution_count": 15,
   "id": "5c1549b2",
   "metadata": {},
   "outputs": [
    {
     "data": {
      "image/png": "[encoded data removed]",
      "text/plain": [
       "<Figure size 432x216 with 1 Axes>"
      ]
     },
     "metadata": {
      "needs_background": "light"
     },
     "output_type": "display_data"
    }
   ],
   "source": [
    "df_temp['Температура'].hist(bins=50,figsize=(6,3))\n",
    "plt.suptitle('Гистограмма температур',y=0.98, ha='center', fontsize='large')\n",
    "plt.xlabel('Температура, град.')\n",
    "plt.ylabel('Частота')\n",
    "plt.show()"
   ]
  },
  {
   "cell_type": "markdown",
   "id": "0c1a39c1",
   "metadata": {},
   "source": [
    "Для некоторой части замеров не хватает данных о температуре. Температура находится в очень узком диапазоне - нижний квантиль - 1580 С, верхний - 1599 С. Температуры ниже 1450 для нашего сплава можно удалить. "
   ]
  },
  {
   "cell_type": "markdown",
   "id": "932c60de",
   "metadata": {},
   "source": [
    "### Данные о подаче проволоки"
   ]
  },
  {
   "cell_type": "markdown",
   "id": "a99fef9a",
   "metadata": {},
   "source": [
    "Датафрейм представляет собой записи о легирующих элементах ,поданных в зону плавления в виде проволоки. Большое количество NaN элементов означает отсутствие подачи. Корректно заменить эти элементы на нуль. "
   ]
  },
  {
   "cell_type": "code",
   "execution_count": 16,
   "id": "24cdb91f",
   "metadata": {},
   "outputs": [
    {
     "data": {
      "text/html": [
       "<div>\n",
       "<style scoped>\n",
       "    .dataframe tbody tr th:only-of-type {\n",
       "        vertical-align: middle;\n",
       "    }\n",
       "\n",
       "    .dataframe tbody tr th {\n",
       "        vertical-align: top;\n",
       "    }\n",
       "\n",
       "    .dataframe thead th {\n",
       "        text-align: right;\n",
       "    }\n",
       "</style>\n",
       "<table border=\"1\" class=\"dataframe\">\n",
       "  <thead>\n",
       "    <tr style=\"text-align: right;\">\n",
       "      <th></th>\n",
       "      <th>key</th>\n",
       "      <th>Wire 1</th>\n",
       "      <th>Wire 2</th>\n",
       "      <th>Wire 3</th>\n",
       "      <th>Wire 4</th>\n",
       "      <th>Wire 5</th>\n",
       "      <th>Wire 6</th>\n",
       "      <th>Wire 7</th>\n",
       "      <th>Wire 8</th>\n",
       "      <th>Wire 9</th>\n",
       "    </tr>\n",
       "  </thead>\n",
       "  <tbody>\n",
       "    <tr>\n",
       "      <th>0</th>\n",
       "      <td>1</td>\n",
       "      <td>60.059998</td>\n",
       "      <td>NaN</td>\n",
       "      <td>NaN</td>\n",
       "      <td>NaN</td>\n",
       "      <td>NaN</td>\n",
       "      <td>NaN</td>\n",
       "      <td>NaN</td>\n",
       "      <td>NaN</td>\n",
       "      <td>NaN</td>\n",
       "    </tr>\n",
       "    <tr>\n",
       "      <th>1</th>\n",
       "      <td>2</td>\n",
       "      <td>96.052315</td>\n",
       "      <td>NaN</td>\n",
       "      <td>NaN</td>\n",
       "      <td>NaN</td>\n",
       "      <td>NaN</td>\n",
       "      <td>NaN</td>\n",
       "      <td>NaN</td>\n",
       "      <td>NaN</td>\n",
       "      <td>NaN</td>\n",
       "    </tr>\n",
       "    <tr>\n",
       "      <th>2</th>\n",
       "      <td>3</td>\n",
       "      <td>91.160157</td>\n",
       "      <td>NaN</td>\n",
       "      <td>NaN</td>\n",
       "      <td>NaN</td>\n",
       "      <td>NaN</td>\n",
       "      <td>NaN</td>\n",
       "      <td>NaN</td>\n",
       "      <td>NaN</td>\n",
       "      <td>NaN</td>\n",
       "    </tr>\n",
       "    <tr>\n",
       "      <th>3</th>\n",
       "      <td>4</td>\n",
       "      <td>89.063515</td>\n",
       "      <td>NaN</td>\n",
       "      <td>NaN</td>\n",
       "      <td>NaN</td>\n",
       "      <td>NaN</td>\n",
       "      <td>NaN</td>\n",
       "      <td>NaN</td>\n",
       "      <td>NaN</td>\n",
       "      <td>NaN</td>\n",
       "    </tr>\n",
       "    <tr>\n",
       "      <th>4</th>\n",
       "      <td>5</td>\n",
       "      <td>89.238236</td>\n",
       "      <td>9.11456</td>\n",
       "      <td>NaN</td>\n",
       "      <td>NaN</td>\n",
       "      <td>NaN</td>\n",
       "      <td>NaN</td>\n",
       "      <td>NaN</td>\n",
       "      <td>NaN</td>\n",
       "      <td>NaN</td>\n",
       "    </tr>\n",
       "  </tbody>\n",
       "</table>\n",
       "</div>"
      ],
      "text/plain": [
       "   key     Wire 1   Wire 2  Wire 3  Wire 4  Wire 5  Wire 6  Wire 7  Wire 8  \\\n",
       "0    1  60.059998      NaN     NaN     NaN     NaN     NaN     NaN     NaN   \n",
       "1    2  96.052315      NaN     NaN     NaN     NaN     NaN     NaN     NaN   \n",
       "2    3  91.160157      NaN     NaN     NaN     NaN     NaN     NaN     NaN   \n",
       "3    4  89.063515      NaN     NaN     NaN     NaN     NaN     NaN     NaN   \n",
       "4    5  89.238236  9.11456     NaN     NaN     NaN     NaN     NaN     NaN   \n",
       "\n",
       "   Wire 9  \n",
       "0     NaN  \n",
       "1     NaN  \n",
       "2     NaN  \n",
       "3     NaN  \n",
       "4     NaN  "
      ]
     },
     "execution_count": 16,
     "metadata": {},
     "output_type": "execute_result"
    }
   ],
   "source": [
    "df_wire.head()"
   ]
  },
  {
   "cell_type": "code",
   "execution_count": 17,
   "id": "1c4b7eeb",
   "metadata": {},
   "outputs": [
    {
     "name": "stdout",
     "output_type": "stream",
     "text": [
      "<class 'pandas.core.frame.DataFrame'>\n",
      "RangeIndex: 3081 entries, 0 to 3080\n",
      "Data columns (total 10 columns):\n",
      " #   Column  Non-Null Count  Dtype  \n",
      "---  ------  --------------  -----  \n",
      " 0   key     3081 non-null   int64  \n",
      " 1   Wire 1  3055 non-null   float64\n",
      " 2   Wire 2  1079 non-null   float64\n",
      " 3   Wire 3  63 non-null     float64\n",
      " 4   Wire 4  14 non-null     float64\n",
      " 5   Wire 5  1 non-null      float64\n",
      " 6   Wire 6  73 non-null     float64\n",
      " 7   Wire 7  11 non-null     float64\n",
      " 8   Wire 8  19 non-null     float64\n",
      " 9   Wire 9  29 non-null     float64\n",
      "dtypes: float64(9), int64(1)\n",
      "memory usage: 240.8 KB\n",
      "None\n"
     ]
    },
    {
     "data": {
      "text/html": [
       "<div>\n",
       "<style scoped>\n",
       "    .dataframe tbody tr th:only-of-type {\n",
       "        vertical-align: middle;\n",
       "    }\n",
       "\n",
       "    .dataframe tbody tr th {\n",
       "        vertical-align: top;\n",
       "    }\n",
       "\n",
       "    .dataframe thead th {\n",
       "        text-align: right;\n",
       "    }\n",
       "</style>\n",
       "<table border=\"1\" class=\"dataframe\">\n",
       "  <thead>\n",
       "    <tr style=\"text-align: right;\">\n",
       "      <th></th>\n",
       "      <th>key</th>\n",
       "      <th>Wire 1</th>\n",
       "      <th>Wire 2</th>\n",
       "      <th>Wire 3</th>\n",
       "      <th>Wire 4</th>\n",
       "      <th>Wire 5</th>\n",
       "      <th>Wire 6</th>\n",
       "      <th>Wire 7</th>\n",
       "      <th>Wire 8</th>\n",
       "      <th>Wire 9</th>\n",
       "    </tr>\n",
       "  </thead>\n",
       "  <tbody>\n",
       "    <tr>\n",
       "      <th>count</th>\n",
       "      <td>3081.000000</td>\n",
       "      <td>3055.000000</td>\n",
       "      <td>1079.000000</td>\n",
       "      <td>63.000000</td>\n",
       "      <td>14.000000</td>\n",
       "      <td>1.000</td>\n",
       "      <td>73.000000</td>\n",
       "      <td>11.000000</td>\n",
       "      <td>19.000000</td>\n",
       "      <td>29.000000</td>\n",
       "    </tr>\n",
       "    <tr>\n",
       "      <th>mean</th>\n",
       "      <td>1623.426485</td>\n",
       "      <td>100.895853</td>\n",
       "      <td>50.577323</td>\n",
       "      <td>189.482681</td>\n",
       "      <td>57.442841</td>\n",
       "      <td>15.132</td>\n",
       "      <td>48.016974</td>\n",
       "      <td>10.039007</td>\n",
       "      <td>53.625193</td>\n",
       "      <td>34.155752</td>\n",
       "    </tr>\n",
       "    <tr>\n",
       "      <th>std</th>\n",
       "      <td>932.996726</td>\n",
       "      <td>42.012518</td>\n",
       "      <td>39.320216</td>\n",
       "      <td>99.513444</td>\n",
       "      <td>28.824667</td>\n",
       "      <td>NaN</td>\n",
       "      <td>33.919845</td>\n",
       "      <td>8.610584</td>\n",
       "      <td>16.881728</td>\n",
       "      <td>19.931616</td>\n",
       "    </tr>\n",
       "    <tr>\n",
       "      <th>min</th>\n",
       "      <td>1.000000</td>\n",
       "      <td>1.918800</td>\n",
       "      <td>0.030160</td>\n",
       "      <td>0.144144</td>\n",
       "      <td>24.148801</td>\n",
       "      <td>15.132</td>\n",
       "      <td>0.034320</td>\n",
       "      <td>0.234208</td>\n",
       "      <td>45.076721</td>\n",
       "      <td>4.622800</td>\n",
       "    </tr>\n",
       "    <tr>\n",
       "      <th>25%</th>\n",
       "      <td>823.000000</td>\n",
       "      <td>72.115684</td>\n",
       "      <td>20.193680</td>\n",
       "      <td>95.135044</td>\n",
       "      <td>40.807002</td>\n",
       "      <td>15.132</td>\n",
       "      <td>25.053600</td>\n",
       "      <td>6.762756</td>\n",
       "      <td>46.094879</td>\n",
       "      <td>22.058401</td>\n",
       "    </tr>\n",
       "    <tr>\n",
       "      <th>50%</th>\n",
       "      <td>1619.000000</td>\n",
       "      <td>100.158234</td>\n",
       "      <td>40.142956</td>\n",
       "      <td>235.194977</td>\n",
       "      <td>45.234282</td>\n",
       "      <td>15.132</td>\n",
       "      <td>42.076324</td>\n",
       "      <td>9.017009</td>\n",
       "      <td>46.279999</td>\n",
       "      <td>30.066399</td>\n",
       "    </tr>\n",
       "    <tr>\n",
       "      <th>75%</th>\n",
       "      <td>2434.000000</td>\n",
       "      <td>126.060483</td>\n",
       "      <td>70.227558</td>\n",
       "      <td>276.252014</td>\n",
       "      <td>76.124619</td>\n",
       "      <td>15.132</td>\n",
       "      <td>64.212723</td>\n",
       "      <td>11.886057</td>\n",
       "      <td>48.089603</td>\n",
       "      <td>43.862003</td>\n",
       "    </tr>\n",
       "    <tr>\n",
       "      <th>max</th>\n",
       "      <td>3241.000000</td>\n",
       "      <td>330.314424</td>\n",
       "      <td>282.780152</td>\n",
       "      <td>385.008668</td>\n",
       "      <td>113.231044</td>\n",
       "      <td>15.132</td>\n",
       "      <td>180.454575</td>\n",
       "      <td>32.847674</td>\n",
       "      <td>102.762401</td>\n",
       "      <td>90.053604</td>\n",
       "    </tr>\n",
       "  </tbody>\n",
       "</table>\n",
       "</div>"
      ],
      "text/plain": [
       "               key       Wire 1       Wire 2      Wire 3      Wire 4  Wire 5  \\\n",
       "count  3081.000000  3055.000000  1079.000000   63.000000   14.000000   1.000   \n",
       "mean   1623.426485   100.895853    50.577323  189.482681   57.442841  15.132   \n",
       "std     932.996726    42.012518    39.320216   99.513444   28.824667     NaN   \n",
       "min       1.000000     1.918800     0.030160    0.144144   24.148801  15.132   \n",
       "25%     823.000000    72.115684    20.193680   95.135044   40.807002  15.132   \n",
       "50%    1619.000000   100.158234    40.142956  235.194977   45.234282  15.132   \n",
       "75%    2434.000000   126.060483    70.227558  276.252014   76.124619  15.132   \n",
       "max    3241.000000   330.314424   282.780152  385.008668  113.231044  15.132   \n",
       "\n",
       "           Wire 6     Wire 7      Wire 8     Wire 9  \n",
       "count   73.000000  11.000000   19.000000  29.000000  \n",
       "mean    48.016974  10.039007   53.625193  34.155752  \n",
       "std     33.919845   8.610584   16.881728  19.931616  \n",
       "min      0.034320   0.234208   45.076721   4.622800  \n",
       "25%     25.053600   6.762756   46.094879  22.058401  \n",
       "50%     42.076324   9.017009   46.279999  30.066399  \n",
       "75%     64.212723  11.886057   48.089603  43.862003  \n",
       "max    180.454575  32.847674  102.762401  90.053604  "
      ]
     },
     "execution_count": 17,
     "metadata": {},
     "output_type": "execute_result"
    }
   ],
   "source": [
    "print(df_wire.info())\n",
    "df_wire.describe()"
   ]
  },
  {
   "cell_type": "code",
   "execution_count": 18,
   "id": "52fb1d14",
   "metadata": {},
   "outputs": [
    {
     "data": {
      "image/png": "[encoded data removed]",
      "text/plain": [
       "<Figure size 720x864 with 9 Axes>"
      ]
     },
     "metadata": {
      "needs_background": "light"
     },
     "output_type": "display_data"
    }
   ],
   "source": [
    "df_wire.hist(column=list(df_wire.columns)[1:]\n",
    "             ,figsize=(10,12));\n",
    "plt.suptitle('Гистограммы подачи проволоки',y=0.93\n",
    "             , ha='center', fontsize='x-large')\n",
    "plt.show()"
   ]
  },
  {
   "cell_type": "markdown",
   "id": "c8826c77",
   "metadata": {},
   "source": [
    "Анализ показывает правильные типов колонок. Явных выбросов в данных не наблюдается. Wire 5 имеет лишь 1 значение, что мало для для обучения модели. Данную колонку имеет смысл удалить по результатам консультации с бизнесом.  "
   ]
  },
  {
   "cell_type": "markdown",
   "id": "70ecbfae",
   "metadata": {},
   "source": [
    "### Данные о времени подаче проволоки"
   ]
  },
  {
   "cell_type": "code",
   "execution_count": 19,
   "id": "416a4296",
   "metadata": {},
   "outputs": [
    {
     "data": {
      "text/html": [
       "<div>\n",
       "<style scoped>\n",
       "    .dataframe tbody tr th:only-of-type {\n",
       "        vertical-align: middle;\n",
       "    }\n",
       "\n",
       "    .dataframe tbody tr th {\n",
       "        vertical-align: top;\n",
       "    }\n",
       "\n",
       "    .dataframe thead th {\n",
       "        text-align: right;\n",
       "    }\n",
       "</style>\n",
       "<table border=\"1\" class=\"dataframe\">\n",
       "  <thead>\n",
       "    <tr style=\"text-align: right;\">\n",
       "      <th></th>\n",
       "      <th>key</th>\n",
       "      <th>Wire 1</th>\n",
       "      <th>Wire 2</th>\n",
       "      <th>Wire 3</th>\n",
       "      <th>Wire 4</th>\n",
       "      <th>Wire 5</th>\n",
       "      <th>Wire 6</th>\n",
       "      <th>Wire 7</th>\n",
       "      <th>Wire 8</th>\n",
       "      <th>Wire 9</th>\n",
       "    </tr>\n",
       "  </thead>\n",
       "  <tbody>\n",
       "    <tr>\n",
       "      <th>0</th>\n",
       "      <td>1</td>\n",
       "      <td>2019-05-03 11:06:19</td>\n",
       "      <td>NaN</td>\n",
       "      <td>NaN</td>\n",
       "      <td>NaN</td>\n",
       "      <td>NaN</td>\n",
       "      <td>NaN</td>\n",
       "      <td>NaN</td>\n",
       "      <td>NaN</td>\n",
       "      <td>NaN</td>\n",
       "    </tr>\n",
       "    <tr>\n",
       "      <th>1</th>\n",
       "      <td>2</td>\n",
       "      <td>2019-05-03 11:36:50</td>\n",
       "      <td>NaN</td>\n",
       "      <td>NaN</td>\n",
       "      <td>NaN</td>\n",
       "      <td>NaN</td>\n",
       "      <td>NaN</td>\n",
       "      <td>NaN</td>\n",
       "      <td>NaN</td>\n",
       "      <td>NaN</td>\n",
       "    </tr>\n",
       "    <tr>\n",
       "      <th>2</th>\n",
       "      <td>3</td>\n",
       "      <td>2019-05-03 12:11:46</td>\n",
       "      <td>NaN</td>\n",
       "      <td>NaN</td>\n",
       "      <td>NaN</td>\n",
       "      <td>NaN</td>\n",
       "      <td>NaN</td>\n",
       "      <td>NaN</td>\n",
       "      <td>NaN</td>\n",
       "      <td>NaN</td>\n",
       "    </tr>\n",
       "    <tr>\n",
       "      <th>3</th>\n",
       "      <td>4</td>\n",
       "      <td>2019-05-03 12:43:22</td>\n",
       "      <td>NaN</td>\n",
       "      <td>NaN</td>\n",
       "      <td>NaN</td>\n",
       "      <td>NaN</td>\n",
       "      <td>NaN</td>\n",
       "      <td>NaN</td>\n",
       "      <td>NaN</td>\n",
       "      <td>NaN</td>\n",
       "    </tr>\n",
       "    <tr>\n",
       "      <th>4</th>\n",
       "      <td>5</td>\n",
       "      <td>2019-05-03 13:20:44</td>\n",
       "      <td>2019-05-03 13:15:34</td>\n",
       "      <td>NaN</td>\n",
       "      <td>NaN</td>\n",
       "      <td>NaN</td>\n",
       "      <td>NaN</td>\n",
       "      <td>NaN</td>\n",
       "      <td>NaN</td>\n",
       "      <td>NaN</td>\n",
       "    </tr>\n",
       "  </tbody>\n",
       "</table>\n",
       "</div>"
      ],
      "text/plain": [
       "   key               Wire 1               Wire 2 Wire 3 Wire 4 Wire 5 Wire 6  \\\n",
       "0    1  2019-05-03 11:06:19                  NaN    NaN    NaN    NaN    NaN   \n",
       "1    2  2019-05-03 11:36:50                  NaN    NaN    NaN    NaN    NaN   \n",
       "2    3  2019-05-03 12:11:46                  NaN    NaN    NaN    NaN    NaN   \n",
       "3    4  2019-05-03 12:43:22                  NaN    NaN    NaN    NaN    NaN   \n",
       "4    5  2019-05-03 13:20:44  2019-05-03 13:15:34    NaN    NaN    NaN    NaN   \n",
       "\n",
       "  Wire 7 Wire 8 Wire 9  \n",
       "0    NaN    NaN    NaN  \n",
       "1    NaN    NaN    NaN  \n",
       "2    NaN    NaN    NaN  \n",
       "3    NaN    NaN    NaN  \n",
       "4    NaN    NaN    NaN  "
      ]
     },
     "execution_count": 19,
     "metadata": {},
     "output_type": "execute_result"
    }
   ],
   "source": [
    "df_wire_t.head()"
   ]
  },
  {
   "cell_type": "code",
   "execution_count": 20,
   "id": "12a61867",
   "metadata": {},
   "outputs": [
    {
     "name": "stdout",
     "output_type": "stream",
     "text": [
      "<class 'pandas.core.frame.DataFrame'>\n",
      "RangeIndex: 3081 entries, 0 to 3080\n",
      "Data columns (total 10 columns):\n",
      " #   Column  Non-Null Count  Dtype \n",
      "---  ------  --------------  ----- \n",
      " 0   key     3081 non-null   int64 \n",
      " 1   Wire 1  3055 non-null   object\n",
      " 2   Wire 2  1079 non-null   object\n",
      " 3   Wire 3  63 non-null     object\n",
      " 4   Wire 4  14 non-null     object\n",
      " 5   Wire 5  1 non-null      object\n",
      " 6   Wire 6  73 non-null     object\n",
      " 7   Wire 7  11 non-null     object\n",
      " 8   Wire 8  19 non-null     object\n",
      " 9   Wire 9  29 non-null     object\n",
      "dtypes: int64(1), object(9)\n",
      "memory usage: 240.8+ KB\n"
     ]
    }
   ],
   "source": [
    "df_wire_t.info()"
   ]
  },
  {
   "cell_type": "markdown",
   "id": "3afa0baf",
   "metadata": {},
   "source": [
    "Датафрейм представляет собой дату загрузки проволочных материалов. Тип данных желательно привести к date. Важно, что эта таблица связана напрямую с таблицей об объеме загрузки проволочных материалов. Необходимо проверить, что все данные одной таблицы связаны с другой. "
   ]
  },
  {
   "cell_type": "code",
   "execution_count": 21,
   "id": "e2c4c111",
   "metadata": {},
   "outputs": [
    {
     "data": {
      "text/plain": [
       "True"
      ]
     },
     "execution_count": 21,
     "metadata": {},
     "output_type": "execute_result"
    }
   ],
   "source": [
    "tab1 = df_wire_t.isna() # ненулевые значения в таблице df_bulk_t\n",
    "tab2 = df_wire.isna() # ненулевые значения в таблице df_bulk\n",
    "tab1.equals(tab2) #проверяем их соответствие"
   ]
  },
  {
   "cell_type": "markdown",
   "id": "2b108521",
   "metadata": {},
   "source": [
    "Данные в таблицах заполнены соответствующим образом."
   ]
  },
  {
   "cell_type": "markdown",
   "id": "b438e752",
   "metadata": {},
   "source": [
    "## Подготовка датасетов\n",
    "### Обработка данных о мощности электродов\n",
    "Приведем названия к одному стилистическому оформлению путем переименования их. Затем преобразуем типы столбцов с датой к соответствующему формату. Вычислим время работы нагревательных стержней в секундах. Чтобы узнать вложенную в расплав энергию вычислим произведение активной мощности на время работы. Реактивная мощность не играет роли в нагреве стали, поэтому учитываться не будет. "
   ]
  },
  {
   "cell_type": "code",
   "execution_count": 22,
   "id": "08561420",
   "metadata": {},
   "outputs": [
    {
     "data": {
      "text/html": [
       "<div>\n",
       "<style scoped>\n",
       "    .dataframe tbody tr th:only-of-type {\n",
       "        vertical-align: middle;\n",
       "    }\n",
       "\n",
       "    .dataframe tbody tr th {\n",
       "        vertical-align: top;\n",
       "    }\n",
       "\n",
       "    .dataframe thead th {\n",
       "        text-align: right;\n",
       "    }\n",
       "</style>\n",
       "<table border=\"1\" class=\"dataframe\">\n",
       "  <thead>\n",
       "    <tr style=\"text-align: right;\">\n",
       "      <th></th>\n",
       "      <th>key</th>\n",
       "      <th>start_heat</th>\n",
       "      <th>end_heat</th>\n",
       "      <th>act_power</th>\n",
       "      <th>react_power</th>\n",
       "      <th>delta</th>\n",
       "      <th>income_power</th>\n",
       "    </tr>\n",
       "  </thead>\n",
       "  <tbody>\n",
       "    <tr>\n",
       "      <th>14873</th>\n",
       "      <td>3241</td>\n",
       "      <td>2019-09-06 17:06:48</td>\n",
       "      <td>2019-09-06 17:09:52</td>\n",
       "      <td>1.039726</td>\n",
       "      <td>0.769302</td>\n",
       "      <td>184</td>\n",
       "      <td>191.309584</td>\n",
       "    </tr>\n",
       "    <tr>\n",
       "      <th>14874</th>\n",
       "      <td>3241</td>\n",
       "      <td>2019-09-06 17:21:58</td>\n",
       "      <td>2019-09-06 17:22:55</td>\n",
       "      <td>0.530267</td>\n",
       "      <td>0.361543</td>\n",
       "      <td>57</td>\n",
       "      <td>30.225219</td>\n",
       "    </tr>\n",
       "    <tr>\n",
       "      <th>14875</th>\n",
       "      <td>3241</td>\n",
       "      <td>2019-09-06 17:24:54</td>\n",
       "      <td>2019-09-06 17:26:15</td>\n",
       "      <td>0.389057</td>\n",
       "      <td>0.251347</td>\n",
       "      <td>81</td>\n",
       "      <td>31.513617</td>\n",
       "    </tr>\n",
       "  </tbody>\n",
       "</table>\n",
       "</div>"
      ],
      "text/plain": [
       "        key          start_heat            end_heat  act_power  react_power  \\\n",
       "14873  3241 2019-09-06 17:06:48 2019-09-06 17:09:52   1.039726     0.769302   \n",
       "14874  3241 2019-09-06 17:21:58 2019-09-06 17:22:55   0.530267     0.361543   \n",
       "14875  3241 2019-09-06 17:24:54 2019-09-06 17:26:15   0.389057     0.251347   \n",
       "\n",
       "       delta  income_power  \n",
       "14873    184    191.309584  \n",
       "14874     57     30.225219  \n",
       "14875     81     31.513617  "
      ]
     },
     "execution_count": 22,
     "metadata": {},
     "output_type": "execute_result"
    }
   ],
   "source": [
    "# переименуем столбцы\n",
    "df_arc.rename(columns={'Начало нагрева дугой':'start_heat',\n",
    "                    'Конец нагрева дугой':'end_heat',\n",
    "                    'Активная мощность':'act_power',\n",
    "                    'Реактивная мощность':'react_power'},\n",
    "                     errors='ignore',inplace=True)\n",
    "# приводим формат к типу datetime:\n",
    "df_arc['start_heat'] = pd.to_datetime(df_arc['start_heat']\n",
    "                                           ,format='%Y-%m-%dT%H:%M:%S')\n",
    "df_arc['end_heat'] = pd.to_datetime(df_arc['end_heat']\n",
    "                                           ,format='%Y-%m-%dT%H:%M:%S')\n",
    "# вычисляем дельту времени работы нагревателей:\n",
    "df_arc['delta'] = df_arc['end_heat'] - df_arc['start_heat']\n",
    "df_arc['delta'] = df_arc['delta'].dt.seconds\n",
    "\n",
    "# вычисляем вложенную в расплав мощность:\n",
    "df_arc['income_power'] = df_arc['delta'] * df_arc['act_power']\n",
    "\n",
    "df_arc.tail(3)"
   ]
  },
  {
   "cell_type": "markdown",
   "id": "f09c656b",
   "metadata": {},
   "source": [
    "Физически на конечную температуру расплава помимо вложенной энергии влияет продолжительность изготовления партии стали. Для вычисления суммарного времени итерации возьмем разницу времени первого и последнего включения стержней в секундах."
   ]
  },
  {
   "cell_type": "code",
   "execution_count": 23,
   "id": "2a2fa2d8",
   "metadata": {},
   "outputs": [
    {
     "data": {
      "image/png": "[encoded data removed]",
      "text/plain": [
       "<Figure size 504x216 with 1 Axes>"
      ]
     },
     "metadata": {
      "needs_background": "light"
     },
     "output_type": "display_data"
    }
   ],
   "source": [
    "# агрегирующие функции и агрегируемые столбцы:\n",
    "aggreg = {'income_power': np.sum}\n",
    "col_pivot = ['income_power'] \n",
    "# сводная таблица:\n",
    "df_energy = pd.pivot_table(df_arc,values=col_pivot,index='key',aggfunc=aggreg).reset_index()\n",
    "\n",
    "df_energy.hist(column=list(df_energy.columns)[1:], bins=50, figsize=(7,3));\n",
    "plt.suptitle('Гистограмма вложенной энергии',y=1.05, ha='center', fontsize='large')\n",
    "plt.xlabel('Вложенная энергия')\n",
    "plt.ylabel('Частота')\n",
    "plt.show()"
   ]
  },
  {
   "cell_type": "markdown",
   "id": "2b3a59e4",
   "metadata": {},
   "source": [
    "### Обработка данных об объёме и времени подачи сыпучих элементов \n",
    "Из предварительного анализа решено удалить столбец Bulk 8, т.к. в нем только один экземпляр, что мало для обучения и тестирования.\n",
    "\n",
    "\n",
    "Пропущенные значения заполняем нулями. \n",
    "\n",
    "В ходе анализа решено отказаться от обработки датафрейма с временем загрузки легирующих элементов, т.к. динамические процессы не будут моделироваться в модели. "
   ]
  },
  {
   "cell_type": "code",
   "execution_count": 24,
   "id": "f679945c",
   "metadata": {},
   "outputs": [
    {
     "name": "stdout",
     "output_type": "stream",
     "text": [
      "Количество строк 3129. Количество колонок 16.\n"
     ]
    },
    {
     "data": {
      "text/html": [
       "<div>\n",
       "<style scoped>\n",
       "    .dataframe tbody tr th:only-of-type {\n",
       "        vertical-align: middle;\n",
       "    }\n",
       "\n",
       "    .dataframe tbody tr th {\n",
       "        vertical-align: top;\n",
       "    }\n",
       "\n",
       "    .dataframe thead th {\n",
       "        text-align: right;\n",
       "    }\n",
       "</style>\n",
       "<table border=\"1\" class=\"dataframe\">\n",
       "  <thead>\n",
       "    <tr style=\"text-align: right;\">\n",
       "      <th></th>\n",
       "      <th>key</th>\n",
       "      <th>Bulk 1</th>\n",
       "      <th>Bulk 2</th>\n",
       "      <th>Bulk 3</th>\n",
       "      <th>Bulk 4</th>\n",
       "      <th>Bulk 5</th>\n",
       "      <th>Bulk 6</th>\n",
       "      <th>Bulk 7</th>\n",
       "      <th>Bulk 8</th>\n",
       "      <th>Bulk 9</th>\n",
       "      <th>Bulk 10</th>\n",
       "      <th>Bulk 11</th>\n",
       "      <th>Bulk 12</th>\n",
       "      <th>Bulk 13</th>\n",
       "      <th>Bulk 14</th>\n",
       "      <th>Bulk 15</th>\n",
       "    </tr>\n",
       "  </thead>\n",
       "  <tbody>\n",
       "    <tr>\n",
       "      <th>0</th>\n",
       "      <td>1</td>\n",
       "      <td>NaN</td>\n",
       "      <td>NaN</td>\n",
       "      <td>NaN</td>\n",
       "      <td>43.0</td>\n",
       "      <td>NaN</td>\n",
       "      <td>NaN</td>\n",
       "      <td>NaN</td>\n",
       "      <td>NaN</td>\n",
       "      <td>NaN</td>\n",
       "      <td>NaN</td>\n",
       "      <td>NaN</td>\n",
       "      <td>206.0</td>\n",
       "      <td>NaN</td>\n",
       "      <td>150.0</td>\n",
       "      <td>154.0</td>\n",
       "    </tr>\n",
       "    <tr>\n",
       "      <th>1</th>\n",
       "      <td>2</td>\n",
       "      <td>NaN</td>\n",
       "      <td>NaN</td>\n",
       "      <td>NaN</td>\n",
       "      <td>73.0</td>\n",
       "      <td>NaN</td>\n",
       "      <td>NaN</td>\n",
       "      <td>NaN</td>\n",
       "      <td>NaN</td>\n",
       "      <td>NaN</td>\n",
       "      <td>NaN</td>\n",
       "      <td>NaN</td>\n",
       "      <td>206.0</td>\n",
       "      <td>NaN</td>\n",
       "      <td>149.0</td>\n",
       "      <td>154.0</td>\n",
       "    </tr>\n",
       "    <tr>\n",
       "      <th>2</th>\n",
       "      <td>3</td>\n",
       "      <td>NaN</td>\n",
       "      <td>NaN</td>\n",
       "      <td>NaN</td>\n",
       "      <td>34.0</td>\n",
       "      <td>NaN</td>\n",
       "      <td>NaN</td>\n",
       "      <td>NaN</td>\n",
       "      <td>NaN</td>\n",
       "      <td>NaN</td>\n",
       "      <td>NaN</td>\n",
       "      <td>NaN</td>\n",
       "      <td>205.0</td>\n",
       "      <td>NaN</td>\n",
       "      <td>152.0</td>\n",
       "      <td>153.0</td>\n",
       "    </tr>\n",
       "  </tbody>\n",
       "</table>\n",
       "</div>"
      ],
      "text/plain": [
       "   key  Bulk 1  Bulk 2  Bulk 3  Bulk 4  Bulk 5  Bulk 6  Bulk 7  Bulk 8  \\\n",
       "0    1     NaN     NaN     NaN    43.0     NaN     NaN     NaN     NaN   \n",
       "1    2     NaN     NaN     NaN    73.0     NaN     NaN     NaN     NaN   \n",
       "2    3     NaN     NaN     NaN    34.0     NaN     NaN     NaN     NaN   \n",
       "\n",
       "   Bulk 9  Bulk 10  Bulk 11  Bulk 12  Bulk 13  Bulk 14  Bulk 15  \n",
       "0     NaN      NaN      NaN    206.0      NaN    150.0    154.0  \n",
       "1     NaN      NaN      NaN    206.0      NaN    149.0    154.0  \n",
       "2     NaN      NaN      NaN    205.0      NaN    152.0    153.0  "
      ]
     },
     "execution_count": 24,
     "metadata": {},
     "output_type": "execute_result"
    }
   ],
   "source": [
    "print(f'Количество строк {df_bulk.shape[0]}. Количество колонок {df_bulk.shape[1]}.')\n",
    "df_bulk.head(3)"
   ]
  },
  {
   "cell_type": "code",
   "execution_count": 25,
   "id": "9238bd31",
   "metadata": {},
   "outputs": [],
   "source": [
    "# удаляем столбец с единственным примером:\n",
    "df_bulk = df_bulk.drop(columns='Bulk 8',axis=1,errors='ignore')\n",
    "    \n",
    "# заполняем пропуски нулями:\n",
    "df_bulk.fillna(value=0,inplace=True)"
   ]
  },
  {
   "cell_type": "code",
   "execution_count": 26,
   "id": "7cb32c76",
   "metadata": {},
   "outputs": [
    {
     "name": "stdout",
     "output_type": "stream",
     "text": [
      "Количество строк 3129. Количество колонок 15.\n"
     ]
    },
    {
     "data": {
      "text/html": [
       "<div>\n",
       "<style scoped>\n",
       "    .dataframe tbody tr th:only-of-type {\n",
       "        vertical-align: middle;\n",
       "    }\n",
       "\n",
       "    .dataframe tbody tr th {\n",
       "        vertical-align: top;\n",
       "    }\n",
       "\n",
       "    .dataframe thead th {\n",
       "        text-align: right;\n",
       "    }\n",
       "</style>\n",
       "<table border=\"1\" class=\"dataframe\">\n",
       "  <thead>\n",
       "    <tr style=\"text-align: right;\">\n",
       "      <th></th>\n",
       "      <th>key</th>\n",
       "      <th>Bulk 1</th>\n",
       "      <th>Bulk 2</th>\n",
       "      <th>Bulk 3</th>\n",
       "      <th>Bulk 4</th>\n",
       "      <th>Bulk 5</th>\n",
       "      <th>Bulk 6</th>\n",
       "      <th>Bulk 7</th>\n",
       "      <th>Bulk 9</th>\n",
       "      <th>Bulk 10</th>\n",
       "      <th>Bulk 11</th>\n",
       "      <th>Bulk 12</th>\n",
       "      <th>Bulk 13</th>\n",
       "      <th>Bulk 14</th>\n",
       "      <th>Bulk 15</th>\n",
       "    </tr>\n",
       "  </thead>\n",
       "  <tbody>\n",
       "    <tr>\n",
       "      <th>0</th>\n",
       "      <td>1</td>\n",
       "      <td>0.0</td>\n",
       "      <td>0.0</td>\n",
       "      <td>0.0</td>\n",
       "      <td>43.0</td>\n",
       "      <td>0.0</td>\n",
       "      <td>0.0</td>\n",
       "      <td>0.0</td>\n",
       "      <td>0.0</td>\n",
       "      <td>0.0</td>\n",
       "      <td>0.0</td>\n",
       "      <td>206.0</td>\n",
       "      <td>0.0</td>\n",
       "      <td>150.0</td>\n",
       "      <td>154.0</td>\n",
       "    </tr>\n",
       "    <tr>\n",
       "      <th>1</th>\n",
       "      <td>2</td>\n",
       "      <td>0.0</td>\n",
       "      <td>0.0</td>\n",
       "      <td>0.0</td>\n",
       "      <td>73.0</td>\n",
       "      <td>0.0</td>\n",
       "      <td>0.0</td>\n",
       "      <td>0.0</td>\n",
       "      <td>0.0</td>\n",
       "      <td>0.0</td>\n",
       "      <td>0.0</td>\n",
       "      <td>206.0</td>\n",
       "      <td>0.0</td>\n",
       "      <td>149.0</td>\n",
       "      <td>154.0</td>\n",
       "    </tr>\n",
       "    <tr>\n",
       "      <th>2</th>\n",
       "      <td>3</td>\n",
       "      <td>0.0</td>\n",
       "      <td>0.0</td>\n",
       "      <td>0.0</td>\n",
       "      <td>34.0</td>\n",
       "      <td>0.0</td>\n",
       "      <td>0.0</td>\n",
       "      <td>0.0</td>\n",
       "      <td>0.0</td>\n",
       "      <td>0.0</td>\n",
       "      <td>0.0</td>\n",
       "      <td>205.0</td>\n",
       "      <td>0.0</td>\n",
       "      <td>152.0</td>\n",
       "      <td>153.0</td>\n",
       "    </tr>\n",
       "  </tbody>\n",
       "</table>\n",
       "</div>"
      ],
      "text/plain": [
       "   key  Bulk 1  Bulk 2  Bulk 3  Bulk 4  Bulk 5  Bulk 6  Bulk 7  Bulk 9  \\\n",
       "0    1     0.0     0.0     0.0    43.0     0.0     0.0     0.0     0.0   \n",
       "1    2     0.0     0.0     0.0    73.0     0.0     0.0     0.0     0.0   \n",
       "2    3     0.0     0.0     0.0    34.0     0.0     0.0     0.0     0.0   \n",
       "\n",
       "   Bulk 10  Bulk 11  Bulk 12  Bulk 13  Bulk 14  Bulk 15  \n",
       "0      0.0      0.0    206.0      0.0    150.0    154.0  \n",
       "1      0.0      0.0    206.0      0.0    149.0    154.0  \n",
       "2      0.0      0.0    205.0      0.0    152.0    153.0  "
      ]
     },
     "execution_count": 26,
     "metadata": {},
     "output_type": "execute_result"
    }
   ],
   "source": [
    "print(f'Количество строк {df_bulk.shape[0]}. Количество колонок {df_bulk.shape[1]}.')\n",
    "df_bulk.head(3)"
   ]
  },
  {
   "cell_type": "markdown",
   "id": "02d3b107",
   "metadata": {},
   "source": [
    "### Обработка данных о газе\n",
    "Приведем оформление колонок к одному стилю. Согласно предварительному анализу других преобразований не требуется. "
   ]
  },
  {
   "cell_type": "code",
   "execution_count": 27,
   "id": "429fbf56",
   "metadata": {},
   "outputs": [
    {
     "name": "stdout",
     "output_type": "stream",
     "text": [
      "Количество строк 3239. Количество колонок 2.\n"
     ]
    },
    {
     "data": {
      "text/html": [
       "<div>\n",
       "<style scoped>\n",
       "    .dataframe tbody tr th:only-of-type {\n",
       "        vertical-align: middle;\n",
       "    }\n",
       "\n",
       "    .dataframe tbody tr th {\n",
       "        vertical-align: top;\n",
       "    }\n",
       "\n",
       "    .dataframe thead th {\n",
       "        text-align: right;\n",
       "    }\n",
       "</style>\n",
       "<table border=\"1\" class=\"dataframe\">\n",
       "  <thead>\n",
       "    <tr style=\"text-align: right;\">\n",
       "      <th></th>\n",
       "      <th>key</th>\n",
       "      <th>Газ 1</th>\n",
       "    </tr>\n",
       "  </thead>\n",
       "  <tbody>\n",
       "    <tr>\n",
       "      <th>0</th>\n",
       "      <td>1</td>\n",
       "      <td>29.749986</td>\n",
       "    </tr>\n",
       "    <tr>\n",
       "      <th>1</th>\n",
       "      <td>2</td>\n",
       "      <td>12.555561</td>\n",
       "    </tr>\n",
       "    <tr>\n",
       "      <th>2</th>\n",
       "      <td>3</td>\n",
       "      <td>28.554793</td>\n",
       "    </tr>\n",
       "  </tbody>\n",
       "</table>\n",
       "</div>"
      ],
      "text/plain": [
       "   key      Газ 1\n",
       "0    1  29.749986\n",
       "1    2  12.555561\n",
       "2    3  28.554793"
      ]
     },
     "execution_count": 27,
     "metadata": {},
     "output_type": "execute_result"
    }
   ],
   "source": [
    "print(f'Количество строк {df_gas.shape[0]}. Количество колонок {df_gas.shape[1]}.')\n",
    "df_gas.head(3)"
   ]
  },
  {
   "cell_type": "code",
   "execution_count": 28,
   "id": "a8536850",
   "metadata": {
    "scrolled": true
   },
   "outputs": [
    {
     "data": {
      "text/html": [
       "<div>\n",
       "<style scoped>\n",
       "    .dataframe tbody tr th:only-of-type {\n",
       "        vertical-align: middle;\n",
       "    }\n",
       "\n",
       "    .dataframe tbody tr th {\n",
       "        vertical-align: top;\n",
       "    }\n",
       "\n",
       "    .dataframe thead th {\n",
       "        text-align: right;\n",
       "    }\n",
       "</style>\n",
       "<table border=\"1\" class=\"dataframe\">\n",
       "  <thead>\n",
       "    <tr style=\"text-align: right;\">\n",
       "      <th></th>\n",
       "      <th>key</th>\n",
       "      <th>gas</th>\n",
       "    </tr>\n",
       "  </thead>\n",
       "  <tbody>\n",
       "    <tr>\n",
       "      <th>0</th>\n",
       "      <td>1</td>\n",
       "      <td>29.749986</td>\n",
       "    </tr>\n",
       "    <tr>\n",
       "      <th>1</th>\n",
       "      <td>2</td>\n",
       "      <td>12.555561</td>\n",
       "    </tr>\n",
       "    <tr>\n",
       "      <th>2</th>\n",
       "      <td>3</td>\n",
       "      <td>28.554793</td>\n",
       "    </tr>\n",
       "  </tbody>\n",
       "</table>\n",
       "</div>"
      ],
      "text/plain": [
       "   key        gas\n",
       "0    1  29.749986\n",
       "1    2  12.555561\n",
       "2    3  28.554793"
      ]
     },
     "execution_count": 28,
     "metadata": {},
     "output_type": "execute_result"
    }
   ],
   "source": [
    "df_gas.rename(columns={'Газ 1':'gas'}, errors='ignore',inplace=True)\n",
    "df_gas.head(3)"
   ]
  },
  {
   "cell_type": "markdown",
   "id": "97f799e1",
   "metadata": {},
   "source": [
    "### Обработка данных о температуре\n",
    "Для удобства приведем названия столбцов к одному стилистическому оформлению.    "
   ]
  },
  {
   "cell_type": "code",
   "execution_count": 29,
   "id": "a853f802",
   "metadata": {},
   "outputs": [
    {
     "name": "stdout",
     "output_type": "stream",
     "text": [
      "Количество строк 18092. Количество колонок 3.\n"
     ]
    },
    {
     "data": {
      "text/html": [
       "<div>\n",
       "<style scoped>\n",
       "    .dataframe tbody tr th:only-of-type {\n",
       "        vertical-align: middle;\n",
       "    }\n",
       "\n",
       "    .dataframe tbody tr th {\n",
       "        vertical-align: top;\n",
       "    }\n",
       "\n",
       "    .dataframe thead th {\n",
       "        text-align: right;\n",
       "    }\n",
       "</style>\n",
       "<table border=\"1\" class=\"dataframe\">\n",
       "  <thead>\n",
       "    <tr style=\"text-align: right;\">\n",
       "      <th></th>\n",
       "      <th>key</th>\n",
       "      <th>Время замера</th>\n",
       "      <th>Температура</th>\n",
       "    </tr>\n",
       "  </thead>\n",
       "  <tbody>\n",
       "    <tr>\n",
       "      <th>0</th>\n",
       "      <td>1</td>\n",
       "      <td>2019-05-03 11:02:04</td>\n",
       "      <td>1571.0</td>\n",
       "    </tr>\n",
       "    <tr>\n",
       "      <th>1</th>\n",
       "      <td>1</td>\n",
       "      <td>2019-05-03 11:07:18</td>\n",
       "      <td>1604.0</td>\n",
       "    </tr>\n",
       "  </tbody>\n",
       "</table>\n",
       "</div>"
      ],
      "text/plain": [
       "   key         Время замера  Температура\n",
       "0    1  2019-05-03 11:02:04       1571.0\n",
       "1    1  2019-05-03 11:07:18       1604.0"
      ]
     },
     "execution_count": 29,
     "metadata": {},
     "output_type": "execute_result"
    }
   ],
   "source": [
    "print(f'Количество строк {df_temp.shape[0]}. Количество колонок {df_temp.shape[1]}.')\n",
    "df_temp.head(2)"
   ]
  },
  {
   "cell_type": "code",
   "execution_count": 30,
   "id": "6101f8f7",
   "metadata": {},
   "outputs": [
    {
     "data": {
      "text/html": [
       "<div>\n",
       "<style scoped>\n",
       "    .dataframe tbody tr th:only-of-type {\n",
       "        vertical-align: middle;\n",
       "    }\n",
       "\n",
       "    .dataframe tbody tr th {\n",
       "        vertical-align: top;\n",
       "    }\n",
       "\n",
       "    .dataframe thead th {\n",
       "        text-align: right;\n",
       "    }\n",
       "</style>\n",
       "<table border=\"1\" class=\"dataframe\">\n",
       "  <thead>\n",
       "    <tr style=\"text-align: right;\">\n",
       "      <th></th>\n",
       "      <th>key</th>\n",
       "      <th>time_measure_first</th>\n",
       "      <th>temp_start</th>\n",
       "    </tr>\n",
       "  </thead>\n",
       "  <tbody>\n",
       "    <tr>\n",
       "      <th>0</th>\n",
       "      <td>1</td>\n",
       "      <td>2019-05-03 11:02:04</td>\n",
       "      <td>1571.0</td>\n",
       "    </tr>\n",
       "    <tr>\n",
       "      <th>1</th>\n",
       "      <td>1</td>\n",
       "      <td>2019-05-03 11:07:18</td>\n",
       "      <td>1604.0</td>\n",
       "    </tr>\n",
       "  </tbody>\n",
       "</table>\n",
       "</div>"
      ],
      "text/plain": [
       "   key   time_measure_first  temp_start\n",
       "0    1  2019-05-03 11:02:04      1571.0\n",
       "1    1  2019-05-03 11:07:18      1604.0"
      ]
     },
     "execution_count": 30,
     "metadata": {},
     "output_type": "execute_result"
    }
   ],
   "source": [
    "#переименовываем столбцы:\n",
    "df_temp.rename(columns={'Время замера':'time_measure_first',\n",
    "                    'Температура':'temp_start'},\n",
    "                     errors='ignore',inplace=True)\n",
    "df_temp.head(2)"
   ]
  },
  {
   "cell_type": "markdown",
   "id": "561e0b72",
   "metadata": {},
   "source": [
    "Согласно предварительному анализу будут выброшены партии, где температура хоть в одном замере была ниже 1450 С. Так же будут выброшены партии, где замеры температуры пропущены. Для построения модели требуется начальная и конечная температуры для одной итерации, значит в партии должно быть минимум два замера. Не подходящие под эти требования партии не войдут в финальный датафрейм температуры. "
   ]
  },
  {
   "cell_type": "code",
   "execution_count": 31,
   "id": "a0595acf",
   "metadata": {},
   "outputs": [],
   "source": [
    "# создаем столбцы для учета конечной температуры и количества замеров:\n",
    "df_temp['temp_end'] = df_temp['temp_start'].copy()\n",
    "df_temp['key_counts'] = df_temp['key'].copy()\n",
    "# конвертируем в формат datetime  и создаем дополнительный столбец:\n",
    "df_temp['time_measure_first'] = pd.to_datetime(df_temp['time_measure_first'],format='%Y-%m-%dT%H:%M:%S')\n",
    "df_temp['time_measure_end'] = df_temp['time_measure_first'].copy()\n",
    "#собираем ключи партий и удаляем партии, где температура была хоть раз ниже 1450С:\n",
    "key_small_t = df_temp[df_temp['temp_start']<1450]['key'].values\n",
    "df_temp = df_temp.query('key not in @key_small_t')\n",
    "#собираем ключи партий и удаляем партии, где были пропуски замеров:\n",
    "key_null_t = df_temp[df_temp['temp_start'].isna()]['key'].values\n",
    "df_temp = df_temp.query('key not in @key_null_t')"
   ]
  },
  {
   "cell_type": "markdown",
   "id": "f3b33158",
   "metadata": {},
   "source": [
    "Перед дальнейшей обработкой следует отметить, что при моделировании нам будет известна только начальная температура. Конечную температуру необходимо будет предсказывать. Поэтому начальная температура будет признаком обучения, а конечная температура партии - целевой переменной. \n",
    "\n",
    "Дополнительно создадим признак:'delta_iter' - общее время итерации. Он вычисляется как разница первого и последнего замера в секундах.  "
   ]
  },
  {
   "cell_type": "code",
   "execution_count": 32,
   "id": "85a44d6b",
   "metadata": {},
   "outputs": [
    {
     "name": "stdout",
     "output_type": "stream",
     "text": [
      "Количество строк 2471. Количество колонок 4.\n"
     ]
    },
    {
     "data": {
      "text/html": [
       "<div>\n",
       "<style scoped>\n",
       "    .dataframe tbody tr th:only-of-type {\n",
       "        vertical-align: middle;\n",
       "    }\n",
       "\n",
       "    .dataframe tbody tr th {\n",
       "        vertical-align: top;\n",
       "    }\n",
       "\n",
       "    .dataframe thead th {\n",
       "        text-align: right;\n",
       "    }\n",
       "</style>\n",
       "<table border=\"1\" class=\"dataframe\">\n",
       "  <thead>\n",
       "    <tr style=\"text-align: right;\">\n",
       "      <th></th>\n",
       "      <th>key</th>\n",
       "      <th>temp_end</th>\n",
       "      <th>temp_start</th>\n",
       "      <th>delta_iter</th>\n",
       "    </tr>\n",
       "  </thead>\n",
       "  <tbody>\n",
       "    <tr>\n",
       "      <th>2470</th>\n",
       "      <td>2497</td>\n",
       "      <td>1589.0</td>\n",
       "      <td>1571.0</td>\n",
       "      <td>962</td>\n",
       "    </tr>\n",
       "    <tr>\n",
       "      <th>2471</th>\n",
       "      <td>2498</td>\n",
       "      <td>1594.0</td>\n",
       "      <td>1591.0</td>\n",
       "      <td>1520</td>\n",
       "    </tr>\n",
       "    <tr>\n",
       "      <th>2472</th>\n",
       "      <td>2499</td>\n",
       "      <td>1603.0</td>\n",
       "      <td>1569.0</td>\n",
       "      <td>1537</td>\n",
       "    </tr>\n",
       "  </tbody>\n",
       "</table>\n",
       "</div>"
      ],
      "text/plain": [
       "       key  temp_end  temp_start  delta_iter\n",
       "2470  2497    1589.0      1571.0         962\n",
       "2471  2498    1594.0      1591.0        1520\n",
       "2472  2499    1603.0      1569.0        1537"
      ]
     },
     "execution_count": 32,
     "metadata": {},
     "output_type": "execute_result"
    }
   ],
   "source": [
    "# создаем сводную таблицу: \n",
    "aggreg = {'temp_start': 'first', 'temp_end':'last', \n",
    "          'time_measure_first':'first', 'time_measure_end':'last', 'key_counts':'count' }\n",
    "col_pivot = ['temp_start','temp_end','time_measure_first','time_measure_end','key_counts']\n",
    "df_temp_fin = pd.pivot_table(df_temp, values=col_pivot, index='key',aggfunc=aggreg)\\\n",
    "            .reset_index()\n",
    "# проходят только те партии, где количество замеров больше 1:\n",
    "df_temp_fin = df_temp_fin.query('key_counts>1')\n",
    "# вычисляем длительность партии: \n",
    "df_temp_fin['delta_iter'] = (df_temp_fin['time_measure_end'] - df_temp_fin['time_measure_first']).dt.seconds\n",
    "\n",
    "# удаляем  лишние столбцы:\n",
    "df_temp_fin.drop(['time_measure_first','time_measure_end','key_counts'],axis=1,inplace=True,errors='ignore')\n",
    "\n",
    "print(f'Количество строк {df_temp_fin.shape[0]}. Количество колонок {df_temp_fin.shape[1]}.')\n",
    "df_temp_fin.tail(3)"
   ]
  },
  {
   "cell_type": "markdown",
   "id": "e48e6bc2",
   "metadata": {},
   "source": [
    "### Данные по проволоке"
   ]
  },
  {
   "cell_type": "markdown",
   "id": "67ebe745",
   "metadata": {},
   "source": [
    "Обработку начнем с заполнения пропусков нулями. Во многих колонках количество значений недостаточно много, что может оказать негативное действие на результат. Сильное преобладание нулевых значений делает гистограмму неинформативной. "
   ]
  },
  {
   "cell_type": "code",
   "execution_count": 33,
   "id": "81c74846",
   "metadata": {},
   "outputs": [
    {
     "name": "stdout",
     "output_type": "stream",
     "text": [
      "Количество строк 3081. Количество колонок 10.\n"
     ]
    },
    {
     "data": {
      "text/html": [
       "<div>\n",
       "<style scoped>\n",
       "    .dataframe tbody tr th:only-of-type {\n",
       "        vertical-align: middle;\n",
       "    }\n",
       "\n",
       "    .dataframe tbody tr th {\n",
       "        vertical-align: top;\n",
       "    }\n",
       "\n",
       "    .dataframe thead th {\n",
       "        text-align: right;\n",
       "    }\n",
       "</style>\n",
       "<table border=\"1\" class=\"dataframe\">\n",
       "  <thead>\n",
       "    <tr style=\"text-align: right;\">\n",
       "      <th></th>\n",
       "      <th>key</th>\n",
       "      <th>Wire 1</th>\n",
       "      <th>Wire 2</th>\n",
       "      <th>Wire 3</th>\n",
       "      <th>Wire 4</th>\n",
       "      <th>Wire 5</th>\n",
       "      <th>Wire 6</th>\n",
       "      <th>Wire 7</th>\n",
       "      <th>Wire 8</th>\n",
       "      <th>Wire 9</th>\n",
       "    </tr>\n",
       "  </thead>\n",
       "  <tbody>\n",
       "    <tr>\n",
       "      <th>0</th>\n",
       "      <td>1</td>\n",
       "      <td>60.059998</td>\n",
       "      <td>NaN</td>\n",
       "      <td>NaN</td>\n",
       "      <td>NaN</td>\n",
       "      <td>NaN</td>\n",
       "      <td>NaN</td>\n",
       "      <td>NaN</td>\n",
       "      <td>NaN</td>\n",
       "      <td>NaN</td>\n",
       "    </tr>\n",
       "    <tr>\n",
       "      <th>1</th>\n",
       "      <td>2</td>\n",
       "      <td>96.052315</td>\n",
       "      <td>NaN</td>\n",
       "      <td>NaN</td>\n",
       "      <td>NaN</td>\n",
       "      <td>NaN</td>\n",
       "      <td>NaN</td>\n",
       "      <td>NaN</td>\n",
       "      <td>NaN</td>\n",
       "      <td>NaN</td>\n",
       "    </tr>\n",
       "    <tr>\n",
       "      <th>2</th>\n",
       "      <td>3</td>\n",
       "      <td>91.160157</td>\n",
       "      <td>NaN</td>\n",
       "      <td>NaN</td>\n",
       "      <td>NaN</td>\n",
       "      <td>NaN</td>\n",
       "      <td>NaN</td>\n",
       "      <td>NaN</td>\n",
       "      <td>NaN</td>\n",
       "      <td>NaN</td>\n",
       "    </tr>\n",
       "  </tbody>\n",
       "</table>\n",
       "</div>"
      ],
      "text/plain": [
       "   key     Wire 1  Wire 2  Wire 3  Wire 4  Wire 5  Wire 6  Wire 7  Wire 8  \\\n",
       "0    1  60.059998     NaN     NaN     NaN     NaN     NaN     NaN     NaN   \n",
       "1    2  96.052315     NaN     NaN     NaN     NaN     NaN     NaN     NaN   \n",
       "2    3  91.160157     NaN     NaN     NaN     NaN     NaN     NaN     NaN   \n",
       "\n",
       "   Wire 9  \n",
       "0     NaN  \n",
       "1     NaN  \n",
       "2     NaN  "
      ]
     },
     "execution_count": 33,
     "metadata": {},
     "output_type": "execute_result"
    }
   ],
   "source": [
    "print(f'Количество строк {df_wire.shape[0]}. Количество колонок {df_wire.shape[1]}.')\n",
    "df_wire.head(3)"
   ]
  },
  {
   "cell_type": "code",
   "execution_count": 34,
   "id": "d80db379",
   "metadata": {
    "scrolled": true
   },
   "outputs": [
    {
     "name": "stdout",
     "output_type": "stream",
     "text": [
      "Количество строк 3081. Количество колонок 8.\n"
     ]
    },
    {
     "data": {
      "text/html": [
       "<div>\n",
       "<style scoped>\n",
       "    .dataframe tbody tr th:only-of-type {\n",
       "        vertical-align: middle;\n",
       "    }\n",
       "\n",
       "    .dataframe tbody tr th {\n",
       "        vertical-align: top;\n",
       "    }\n",
       "\n",
       "    .dataframe thead th {\n",
       "        text-align: right;\n",
       "    }\n",
       "</style>\n",
       "<table border=\"1\" class=\"dataframe\">\n",
       "  <thead>\n",
       "    <tr style=\"text-align: right;\">\n",
       "      <th></th>\n",
       "      <th>key</th>\n",
       "      <th>Wire 1</th>\n",
       "      <th>Wire 2</th>\n",
       "      <th>Wire 3</th>\n",
       "      <th>Wire 4</th>\n",
       "      <th>Wire 6</th>\n",
       "      <th>Wire 8</th>\n",
       "      <th>Wire 9</th>\n",
       "    </tr>\n",
       "  </thead>\n",
       "  <tbody>\n",
       "    <tr>\n",
       "      <th>0</th>\n",
       "      <td>1</td>\n",
       "      <td>60.059998</td>\n",
       "      <td>0.0</td>\n",
       "      <td>0.0</td>\n",
       "      <td>0.0</td>\n",
       "      <td>0.0</td>\n",
       "      <td>0.0</td>\n",
       "      <td>0.0</td>\n",
       "    </tr>\n",
       "    <tr>\n",
       "      <th>1</th>\n",
       "      <td>2</td>\n",
       "      <td>96.052315</td>\n",
       "      <td>0.0</td>\n",
       "      <td>0.0</td>\n",
       "      <td>0.0</td>\n",
       "      <td>0.0</td>\n",
       "      <td>0.0</td>\n",
       "      <td>0.0</td>\n",
       "    </tr>\n",
       "    <tr>\n",
       "      <th>2</th>\n",
       "      <td>3</td>\n",
       "      <td>91.160157</td>\n",
       "      <td>0.0</td>\n",
       "      <td>0.0</td>\n",
       "      <td>0.0</td>\n",
       "      <td>0.0</td>\n",
       "      <td>0.0</td>\n",
       "      <td>0.0</td>\n",
       "    </tr>\n",
       "  </tbody>\n",
       "</table>\n",
       "</div>"
      ],
      "text/plain": [
       "   key     Wire 1  Wire 2  Wire 3  Wire 4  Wire 6  Wire 8  Wire 9\n",
       "0    1  60.059998     0.0     0.0     0.0     0.0     0.0     0.0\n",
       "1    2  96.052315     0.0     0.0     0.0     0.0     0.0     0.0\n",
       "2    3  91.160157     0.0     0.0     0.0     0.0     0.0     0.0"
      ]
     },
     "execution_count": 34,
     "metadata": {},
     "output_type": "execute_result"
    }
   ],
   "source": [
    "# заполняем нулями пропуски\n",
    "df_wire.fillna(value=0,inplace=True)\n",
    "# удаляем столбцы\n",
    "df_wire.drop(['Wire 5','Wire 7'], axis=1, inplace = True, errors = 'ignore')\n",
    "print(f'Количество строк {df_wire.shape[0]}. Количество колонок {df_wire.shape[1]}.')\n",
    "df_wire.head(3)"
   ]
  },
  {
   "cell_type": "markdown",
   "id": "1e791281",
   "metadata": {},
   "source": [
    "### Объединение датасетов\n",
    "\n",
    "Для анализа модели соединим разрозненные датасеты в один. Ключом для соединения будет колонка key - номер партии. "
   ]
  },
  {
   "cell_type": "code",
   "execution_count": 35,
   "id": "f82d7551",
   "metadata": {
    "scrolled": false
   },
   "outputs": [
    {
     "name": "stdout",
     "output_type": "stream",
     "text": [
      "Количество строк 2325. Количество колонок 26.\n"
     ]
    },
    {
     "data": {
      "image/png": "[encoded data removed]",
      "text/plain": [
       "<Figure size 792x1152 with 30 Axes>"
      ]
     },
     "metadata": {
      "needs_background": "light"
     },
     "output_type": "display_data"
    }
   ],
   "source": [
    "# соединяем датафремы по ключу key:\n",
    "df = df_temp_fin.merge(df_gas,on='key',how='inner')\n",
    "df = df.merge(df_energy,on='key',how='inner')\n",
    "df = df.merge(df_bulk,on='key',how='inner')\n",
    "df = df.merge(df_wire,on='key',how='inner')\n",
    "# удаляем столбец с номером партии:\n",
    "df.drop('key', inplace=True, axis=1)\n",
    "\n",
    "print(f'Количество строк {df.shape[0]}. Количество колонок {df.shape[1]}.')\n",
    "df.hist(bins=50,figsize=(11,16),xlabelsize=8,ylabelsize=8)\n",
    "plt.suptitle('Гистограммы общей таблицы',y=0.93\n",
    "             , ha='center', fontsize='x-large')\n",
    "plt.show()"
   ]
  },
  {
   "cell_type": "markdown",
   "id": "2742f6f1",
   "metadata": {},
   "source": [
    "Анализируя графики гистрограм видно, что ряд столбцов имеют большой набор значений, а другие столбцы почти целиком заполнены нулями. Можно предположить, что столбцы с большим числом ненулевых столбцов будут играть решающую роль в прогнозировании конечной температуры. Если закрыть глаза на подачу легирующих элементов, то большинство параметров распределены по нормальному закону распределения. Заметны выбросы в ряде измеренных величин, которые решили не удалять. "
   ]
  },
  {
   "cell_type": "code",
   "execution_count": 36,
   "id": "50f64fdb",
   "metadata": {},
   "outputs": [
    {
     "name": "stdout",
     "output_type": "stream",
     "text": [
      "<class 'pandas.core.frame.DataFrame'>\n",
      "Int64Index: 2325 entries, 0 to 2324\n",
      "Data columns (total 26 columns):\n",
      " #   Column        Non-Null Count  Dtype  \n",
      "---  ------        --------------  -----  \n",
      " 0   temp_end      2325 non-null   float64\n",
      " 1   temp_start    2325 non-null   float64\n",
      " 2   delta_iter    2325 non-null   int64  \n",
      " 3   gas           2325 non-null   float64\n",
      " 4   income_power  2325 non-null   float64\n",
      " 5   Bulk 1        2325 non-null   float64\n",
      " 6   Bulk 2        2325 non-null   float64\n",
      " 7   Bulk 3        2325 non-null   float64\n",
      " 8   Bulk 4        2325 non-null   float64\n",
      " 9   Bulk 5        2325 non-null   float64\n",
      " 10  Bulk 6        2325 non-null   float64\n",
      " 11  Bulk 7        2325 non-null   float64\n",
      " 12  Bulk 9        2325 non-null   float64\n",
      " 13  Bulk 10       2325 non-null   float64\n",
      " 14  Bulk 11       2325 non-null   float64\n",
      " 15  Bulk 12       2325 non-null   float64\n",
      " 16  Bulk 13       2325 non-null   float64\n",
      " 17  Bulk 14       2325 non-null   float64\n",
      " 18  Bulk 15       2325 non-null   float64\n",
      " 19  Wire 1        2325 non-null   float64\n",
      " 20  Wire 2        2325 non-null   float64\n",
      " 21  Wire 3        2325 non-null   float64\n",
      " 22  Wire 4        2325 non-null   float64\n",
      " 23  Wire 6        2325 non-null   float64\n",
      " 24  Wire 8        2325 non-null   float64\n",
      " 25  Wire 9        2325 non-null   float64\n",
      "dtypes: float64(25), int64(1)\n",
      "memory usage: 490.4 KB\n",
      "None\n"
     ]
    },
    {
     "data": {
      "text/html": [
       "<div>\n",
       "<style scoped>\n",
       "    .dataframe tbody tr th:only-of-type {\n",
       "        vertical-align: middle;\n",
       "    }\n",
       "\n",
       "    .dataframe tbody tr th {\n",
       "        vertical-align: top;\n",
       "    }\n",
       "\n",
       "    .dataframe thead th {\n",
       "        text-align: right;\n",
       "    }\n",
       "</style>\n",
       "<table border=\"1\" class=\"dataframe\">\n",
       "  <thead>\n",
       "    <tr style=\"text-align: right;\">\n",
       "      <th></th>\n",
       "      <th>temp_end</th>\n",
       "      <th>temp_start</th>\n",
       "      <th>delta_iter</th>\n",
       "      <th>gas</th>\n",
       "      <th>income_power</th>\n",
       "      <th>Bulk 1</th>\n",
       "      <th>Bulk 2</th>\n",
       "      <th>Bulk 3</th>\n",
       "      <th>Bulk 4</th>\n",
       "      <th>Bulk 5</th>\n",
       "      <th>...</th>\n",
       "      <th>Bulk 13</th>\n",
       "      <th>Bulk 14</th>\n",
       "      <th>Bulk 15</th>\n",
       "      <th>Wire 1</th>\n",
       "      <th>Wire 2</th>\n",
       "      <th>Wire 3</th>\n",
       "      <th>Wire 4</th>\n",
       "      <th>Wire 6</th>\n",
       "      <th>Wire 8</th>\n",
       "      <th>Wire 9</th>\n",
       "    </tr>\n",
       "  </thead>\n",
       "  <tbody>\n",
       "    <tr>\n",
       "      <th>0</th>\n",
       "      <td>1613.0</td>\n",
       "      <td>1571.0</td>\n",
       "      <td>1714</td>\n",
       "      <td>29.749986</td>\n",
       "      <td>628.616930</td>\n",
       "      <td>0.0</td>\n",
       "      <td>0.0</td>\n",
       "      <td>0.0</td>\n",
       "      <td>43.0</td>\n",
       "      <td>0.0</td>\n",
       "      <td>...</td>\n",
       "      <td>0.0</td>\n",
       "      <td>150.0</td>\n",
       "      <td>154.0</td>\n",
       "      <td>60.059998</td>\n",
       "      <td>0.00000</td>\n",
       "      <td>0.0</td>\n",
       "      <td>0.0</td>\n",
       "      <td>0.0</td>\n",
       "      <td>0.0</td>\n",
       "      <td>0.0</td>\n",
       "    </tr>\n",
       "    <tr>\n",
       "      <th>1</th>\n",
       "      <td>1602.0</td>\n",
       "      <td>1581.0</td>\n",
       "      <td>1265</td>\n",
       "      <td>12.555561</td>\n",
       "      <td>395.281800</td>\n",
       "      <td>0.0</td>\n",
       "      <td>0.0</td>\n",
       "      <td>0.0</td>\n",
       "      <td>73.0</td>\n",
       "      <td>0.0</td>\n",
       "      <td>...</td>\n",
       "      <td>0.0</td>\n",
       "      <td>149.0</td>\n",
       "      <td>154.0</td>\n",
       "      <td>96.052315</td>\n",
       "      <td>0.00000</td>\n",
       "      <td>0.0</td>\n",
       "      <td>0.0</td>\n",
       "      <td>0.0</td>\n",
       "      <td>0.0</td>\n",
       "      <td>0.0</td>\n",
       "    </tr>\n",
       "    <tr>\n",
       "      <th>2</th>\n",
       "      <td>1599.0</td>\n",
       "      <td>1596.0</td>\n",
       "      <td>1753</td>\n",
       "      <td>28.554793</td>\n",
       "      <td>581.774624</td>\n",
       "      <td>0.0</td>\n",
       "      <td>0.0</td>\n",
       "      <td>0.0</td>\n",
       "      <td>34.0</td>\n",
       "      <td>0.0</td>\n",
       "      <td>...</td>\n",
       "      <td>0.0</td>\n",
       "      <td>152.0</td>\n",
       "      <td>153.0</td>\n",
       "      <td>91.160157</td>\n",
       "      <td>0.00000</td>\n",
       "      <td>0.0</td>\n",
       "      <td>0.0</td>\n",
       "      <td>0.0</td>\n",
       "      <td>0.0</td>\n",
       "      <td>0.0</td>\n",
       "    </tr>\n",
       "    <tr>\n",
       "      <th>3</th>\n",
       "      <td>1625.0</td>\n",
       "      <td>1601.0</td>\n",
       "      <td>1220</td>\n",
       "      <td>18.841219</td>\n",
       "      <td>543.710274</td>\n",
       "      <td>0.0</td>\n",
       "      <td>0.0</td>\n",
       "      <td>0.0</td>\n",
       "      <td>81.0</td>\n",
       "      <td>0.0</td>\n",
       "      <td>...</td>\n",
       "      <td>0.0</td>\n",
       "      <td>153.0</td>\n",
       "      <td>154.0</td>\n",
       "      <td>89.063515</td>\n",
       "      <td>0.00000</td>\n",
       "      <td>0.0</td>\n",
       "      <td>0.0</td>\n",
       "      <td>0.0</td>\n",
       "      <td>0.0</td>\n",
       "      <td>0.0</td>\n",
       "    </tr>\n",
       "    <tr>\n",
       "      <th>4</th>\n",
       "      <td>1602.0</td>\n",
       "      <td>1576.0</td>\n",
       "      <td>1536</td>\n",
       "      <td>5.413692</td>\n",
       "      <td>412.180480</td>\n",
       "      <td>0.0</td>\n",
       "      <td>0.0</td>\n",
       "      <td>0.0</td>\n",
       "      <td>78.0</td>\n",
       "      <td>0.0</td>\n",
       "      <td>...</td>\n",
       "      <td>0.0</td>\n",
       "      <td>151.0</td>\n",
       "      <td>152.0</td>\n",
       "      <td>89.238236</td>\n",
       "      <td>9.11456</td>\n",
       "      <td>0.0</td>\n",
       "      <td>0.0</td>\n",
       "      <td>0.0</td>\n",
       "      <td>0.0</td>\n",
       "      <td>0.0</td>\n",
       "    </tr>\n",
       "  </tbody>\n",
       "</table>\n",
       "<p>5 rows × 26 columns</p>\n",
       "</div>"
      ],
      "text/plain": [
       "   temp_end  temp_start  delta_iter        gas  income_power  Bulk 1  Bulk 2  \\\n",
       "0    1613.0      1571.0        1714  29.749986    628.616930     0.0     0.0   \n",
       "1    1602.0      1581.0        1265  12.555561    395.281800     0.0     0.0   \n",
       "2    1599.0      1596.0        1753  28.554793    581.774624     0.0     0.0   \n",
       "3    1625.0      1601.0        1220  18.841219    543.710274     0.0     0.0   \n",
       "4    1602.0      1576.0        1536   5.413692    412.180480     0.0     0.0   \n",
       "\n",
       "   Bulk 3  Bulk 4  Bulk 5  ...  Bulk 13  Bulk 14  Bulk 15     Wire 1   Wire 2  \\\n",
       "0     0.0    43.0     0.0  ...      0.0    150.0    154.0  60.059998  0.00000   \n",
       "1     0.0    73.0     0.0  ...      0.0    149.0    154.0  96.052315  0.00000   \n",
       "2     0.0    34.0     0.0  ...      0.0    152.0    153.0  91.160157  0.00000   \n",
       "3     0.0    81.0     0.0  ...      0.0    153.0    154.0  89.063515  0.00000   \n",
       "4     0.0    78.0     0.0  ...      0.0    151.0    152.0  89.238236  9.11456   \n",
       "\n",
       "   Wire 3  Wire 4  Wire 6  Wire 8  Wire 9  \n",
       "0     0.0     0.0     0.0     0.0     0.0  \n",
       "1     0.0     0.0     0.0     0.0     0.0  \n",
       "2     0.0     0.0     0.0     0.0     0.0  \n",
       "3     0.0     0.0     0.0     0.0     0.0  \n",
       "4     0.0     0.0     0.0     0.0     0.0  \n",
       "\n",
       "[5 rows x 26 columns]"
      ]
     },
     "execution_count": 36,
     "metadata": {},
     "output_type": "execute_result"
    }
   ],
   "source": [
    "print(df.info())\n",
    "df.head(5)"
   ]
  },
  {
   "cell_type": "markdown",
   "id": "b8fbc61e",
   "metadata": {},
   "source": [
    "Перед машинным обучением рекомендуется проверить колонки на линейную зависимость между признаками. При наличии линейной зависимости(пусть даже и случайной) между признаками ухудшается сходимость и надежность работы алгоритма из-за того, что матрица для поиска градиента получается с большиим числом обусловленности(близка к вырожденной). Компенсировать это возможно введением регуляризации, но это требует дополнительных трудозатрат. В первую очередь от линейной зависимости признаков страдает модель линейной регрессии. Корреляция почти не влияет на \"деревянные\" и бустинговые модели. "
   ]
  },
  {
   "cell_type": "code",
   "execution_count": 37,
   "id": "734f0bac",
   "metadata": {},
   "outputs": [
    {
     "data": {
      "image/png": "[encoded data removed]",
      "text/plain": [
       "<Figure size 1080x1080 with 2 Axes>"
      ]
     },
     "metadata": {
      "needs_background": "light"
     },
     "output_type": "display_data"
    }
   ],
   "source": [
    "fig, ax = plt.subplots(figsize=(15,15))\n",
    "\n",
    "sns.heatmap(abs(df.corr().round(2)), annot=True, ax=ax)\n",
    "plt.suptitle('Карта корреляции признаков',y=0.92\n",
    "             , ha='center', fontsize='large')\n",
    "plt.show()"
   ]
  },
  {
   "cell_type": "markdown",
   "id": "93972ddf",
   "metadata": {},
   "source": [
    "Из-за корреляции столбцов Wire 8 и Bulk 9 удалим один из них. "
   ]
  },
  {
   "cell_type": "code",
   "execution_count": 38,
   "id": "2e29e5b6",
   "metadata": {},
   "outputs": [
    {
     "name": "stdout",
     "output_type": "stream",
     "text": [
      "Количество строк 2325. Количество колонок 25.\n"
     ]
    }
   ],
   "source": [
    "df.drop(['Wire 8'],axis=1,inplace=True,errors='ignore')\n",
    "print(f'Количество строк {df.shape[0]}. Количество колонок {df.shape[1]}.')"
   ]
  },
  {
   "cell_type": "markdown",
   "id": "b3fb62ef",
   "metadata": {},
   "source": [
    "### Разделение выборок на признаковую и целевую"
   ]
  },
  {
   "cell_type": "markdown",
   "id": "0cb6e83f",
   "metadata": {},
   "source": [
    "Разделим датафрейм на признаковый и целевой. Целевым признаком будет конечная температура. Для оценки качества разделим датафрейм на две части, отделив долю в 25% для тестирования.  "
   ]
  },
  {
   "cell_type": "code",
   "execution_count": 39,
   "id": "14c61e37",
   "metadata": {},
   "outputs": [],
   "source": [
    "target = df['temp_end']\n",
    "features = df.drop(['temp_end'],axis=1)\n",
    "\n",
    "features_train, features_test, target_train,target_test = train_test_split(\n",
    "    features, \n",
    "    target, \n",
    "    test_size=0.25, \n",
    "    random_state=rdm)"
   ]
  },
  {
   "cell_type": "markdown",
   "id": "58135c1c",
   "metadata": {},
   "source": [
    "### Масштабирование признаков"
   ]
  },
  {
   "cell_type": "markdown",
   "id": "f0a9cbe5",
   "metadata": {},
   "source": [
    "Чтобы улучшить результаты отмасштабируем признаки, перед этим обучив стандартизатор на тренировочных данных. Это в значительной степени актуально для линейной регрессии. "
   ]
  },
  {
   "cell_type": "code",
   "execution_count": 40,
   "id": "5efd00e6",
   "metadata": {},
   "outputs": [],
   "source": [
    "col_name = features_train.columns\n",
    "scaler = StandardScaler() #стандартизатор \n",
    "scaler.fit(features_train) #обучение стандартизатора\n",
    "features_train = scaler.transform(features_train) #стандартизация тренировочной выборки\n",
    "features_test = scaler.transform(features_test) #стандартизация тестовой выборки\n",
    "\n",
    "features_train = pd.DataFrame(features_train, columns=col_name)\n",
    "features_test  = pd.DataFrame(features_test, columns=col_name)"
   ]
  },
  {
   "cell_type": "markdown",
   "id": "d21b28c2",
   "metadata": {},
   "source": [
    "## Построение моделей\n",
    "### Обучение модели lightGBM\n",
    "Модель lightGBM, использующая принцип градиентного бустинга, хорошо подходит для анализа данных и отличается высокой скоростью. Для подбора лучших параметров используем RandomizedSearchCV, который поможет подобрать параметры и сделает кросс-валидацию. "
   ]
  },
  {
   "cell_type": "code",
   "execution_count": 41,
   "id": "c5c5ce36",
   "metadata": {
    "scrolled": false
   },
   "outputs": [
    {
     "name": "stdout",
     "output_type": "stream",
     "text": [
      "Cредний результат lightGBM при кросс-валидации 6.482236744631433\n",
      "Лучшие гиперпараметры модели:\n",
      "{'num_leaves': 9, 'n_estimators': 100, 'learning_rate': 0.04}\n"
     ]
    }
   ],
   "source": [
    "gbm = lgb.LGBMRegressor(random_state=rdm) #инициализируем бустинговый регрессор\n",
    "\n",
    "grid = {'num_leaves': [5, 7, 9],\n",
    "        'learning_rate': [0.02, 0.04, 0.06],\n",
    "        'n_estimators':[50,100,150]} #задаем сетку поиска \n",
    "\n",
    "rd_gbm = RandomizedSearchCV(estimator=gbm, \n",
    "                         param_distributions = grid, \n",
    "                         random_state=rdm,\n",
    "                         cv=5,\n",
    "                         scoring='neg_mean_absolute_error',\n",
    "                         n_jobs=-1) \n",
    "# обучение:\n",
    "rd_gbm.fit(features_train, target_train)\n",
    "#создаем словарь для результатов:\n",
    "result = {}\n",
    "result['lightGBM'] = abs( rd_gbm.cv_results_['mean_test_score'][rd_gbm.best_index_])\n",
    "\n",
    "print(f'Cредний результат lightGBM при кросс-валидации {result.get(\"lightGBM\")}')\n",
    "#Лучшие параметры модели\n",
    "print('Лучшие гиперпараметры модели:')\n",
    "print(rd_gbm.best_params_)"
   ]
  },
  {
   "cell_type": "markdown",
   "id": "a3ff93af",
   "metadata": {},
   "source": [
    "### Обучение модели линейной регрессии\n",
    "\n",
    "Модель линейной регрессии может быть интересной альтернативой градиентному спуску для данной задачи, т.к. такие её слабые стороны как работа с категориальными признаками в данном случае не имеют значения. "
   ]
  },
  {
   "cell_type": "code",
   "execution_count": 42,
   "id": "81035baa",
   "metadata": {},
   "outputs": [
    {
     "name": "stdout",
     "output_type": "stream",
     "text": [
      "Cредний результат линейной регрессии при кросс-валидации 6.530863665313798\n"
     ]
    }
   ],
   "source": [
    "lreg = LinearRegression()\n",
    "result['Регрессия'] = abs(cross_val_score(lreg, features_train, target_train, \n",
    "                             cv=5,scoring='neg_mean_absolute_error').mean() )\n",
    "print(f'Cредний результат линейной регрессии при кросс-валидации {result.get(\"Регрессия\")}')"
   ]
  },
  {
   "cell_type": "markdown",
   "id": "9a6e4755",
   "metadata": {},
   "source": [
    "### Сравнение с константной моделью\n",
    "При создании модели за отправную точку берется метрика, которая получена с помощью предсказания постоянным числом для всех случаев. Для метрики MAE лучшей константной моделью является предсказывание медианного значения.   "
   ]
  },
  {
   "cell_type": "code",
   "execution_count": 43,
   "id": "7d56f6ce",
   "metadata": {
    "scrolled": true
   },
   "outputs": [
    {
     "name": "stdout",
     "output_type": "stream",
     "text": [
      "Cредний результат константной модели 8.036144578313253\n"
     ]
    }
   ],
   "source": [
    "# создаем константные предсказания\n",
    "const = [target_train.median()]*len(target_train)\n",
    "# оцениваем ошибку \n",
    "result['const'] = mean_absolute_error(target_train,const)\n",
    "print(f'Cредний результат константной модели {result.get(\"const\")}')"
   ]
  },
  {
   "cell_type": "markdown",
   "id": "13b7e623",
   "metadata": {},
   "source": [
    "### Сравнение моделей\n"
   ]
  },
  {
   "cell_type": "code",
   "execution_count": 44,
   "id": "ec5e60b2",
   "metadata": {
    "scrolled": true
   },
   "outputs": [
    {
     "data": {
      "text/html": [
       "<div>\n",
       "<style scoped>\n",
       "    .dataframe tbody tr th:only-of-type {\n",
       "        vertical-align: middle;\n",
       "    }\n",
       "\n",
       "    .dataframe tbody tr th {\n",
       "        vertical-align: top;\n",
       "    }\n",
       "\n",
       "    .dataframe thead th {\n",
       "        text-align: right;\n",
       "    }\n",
       "</style>\n",
       "<table border=\"1\" class=\"dataframe\">\n",
       "  <thead>\n",
       "    <tr style=\"text-align: right;\">\n",
       "      <th></th>\n",
       "      <th>Результаты</th>\n",
       "    </tr>\n",
       "  </thead>\n",
       "  <tbody>\n",
       "    <tr>\n",
       "      <th>lightGBM</th>\n",
       "      <td>6.482237</td>\n",
       "    </tr>\n",
       "    <tr>\n",
       "      <th>Регрессия</th>\n",
       "      <td>6.530864</td>\n",
       "    </tr>\n",
       "    <tr>\n",
       "      <th>const</th>\n",
       "      <td>8.036145</td>\n",
       "    </tr>\n",
       "  </tbody>\n",
       "</table>\n",
       "</div>"
      ],
      "text/plain": [
       "           Результаты\n",
       "lightGBM     6.482237\n",
       "Регрессия    6.530864\n",
       "const        8.036145"
      ]
     },
     "execution_count": 44,
     "metadata": {},
     "output_type": "execute_result"
    }
   ],
   "source": [
    "pd.DataFrame.from_dict(result,orient='index',columns=['Результаты'])"
   ]
  },
  {
   "cell_type": "markdown",
   "id": "f8e06dde",
   "metadata": {},
   "source": [
    "Лучшие результаты показада модель lightGBM. Модель регрессии лишь немного улучшила результаты константной модели. Результаты, полученные моделью lightGBM отвечают требованиям по достижению метрики MAE ниже 6.8. "
   ]
  },
  {
   "cell_type": "markdown",
   "id": "19b36faa",
   "metadata": {},
   "source": [
    "### Тест лучшей модели\n",
    "\n",
    "Для тестирования лучшей модели возьмем датасет, который ранее отделили от основного датафрейма. Необходимость проверки на тестовом датасете возникает из-за того, чтобы исключить возможность переобучения модели,а так же правильность гиперпараметров."
   ]
  },
  {
   "cell_type": "code",
   "execution_count": 45,
   "id": "263792e9",
   "metadata": {},
   "outputs": [
    {
     "name": "stdout",
     "output_type": "stream",
     "text": [
      "MAE на тестовой выборке 6.688490868494018\n",
      "R2 на тестовой выборке 0.36889185453892315\n"
     ]
    }
   ],
   "source": [
    "# лучшая модель:\n",
    "best_gbm = rd_gbm.best_estimator_\n",
    "\n",
    "predict = best_gbm.predict(features_test)\n",
    "mae_test = mean_absolute_error(target_test,predict)\n",
    "print(f'MAE на тестовой выборке {mae_test}')\n",
    "\n",
    "r2_test = r2_score(target_test,predict) \n",
    "print(f'R2 на тестовой выборке {r2_test}' )"
   ]
  },
  {
   "cell_type": "markdown",
   "id": "c1bd0004",
   "metadata": {},
   "source": [
    "Результаты на тестовой выборке оказались несколько хуже, чем при обучении. Это означает, что модель не обладает хорошей обобщающей способностью. Вместе с тем требуемая метрика MAE достигнута. \n",
    "\n",
    "Коэффициент R2 показывает, какую долю дисперсии объясняет модель. Чем ближе результат к 1, тем лучше. Значение R2  модели показывает, что имеются возможности для совершенствования. "
   ]
  },
  {
   "cell_type": "markdown",
   "id": "14fbfd7e",
   "metadata": {},
   "source": [
    "### Оценка степени важности признаков\n",
    "Интересными для анализа предметами является анализ важности признаков в построении модели. Т.к. в основе lightGBM лежит бустинговая модель, в основе которой в свою очередь лежат деревья, то степень важности признаков оценивается двумя способами. По приросту информации - 'gain' и по количеству участий в делении узлов - 'split'."
   ]
  },
  {
   "cell_type": "code",
   "execution_count": 46,
   "id": "3760953d",
   "metadata": {
    "scrolled": true
   },
   "outputs": [
    {
     "data": {
      "image/png": "[encoded data removed]",
      "text/plain": [
       "<Figure size 576x360 with 1 Axes>"
      ]
     },
     "metadata": {
      "needs_background": "light"
     },
     "output_type": "display_data"
    },
    {
     "data": {
      "image/png": "[encoded data removed]",
      "text/plain": [
       "<Figure size 576x360 with 1 Axes>"
      ]
     },
     "metadata": {
      "needs_background": "light"
     },
     "output_type": "display_data"
    }
   ],
   "source": [
    "lgb.plot_importance(best_gbm,title='Важность признаков по участию',figsize=(8,5),\n",
    "                    xlabel='Степень важности',ylabel='Признак',importance_type='split')\n",
    "lgb.plot_importance(best_gbm,title='Важность признаков по приросту информации',figsize=(8,5),\n",
    "                    xlabel='Степень важности',ylabel='Признак',importance_type='gain',\n",
    "                   precision=0);                   "
   ]
  },
  {
   "cell_type": "markdown",
   "id": "4e1d5111",
   "metadata": {},
   "source": [
    "Чем выше значение, тем сильнее признак влияет на результат. Максимальное влияние начальной температуры вполне объяснимо, второй по важности признак - мощность нагревателей.  "
   ]
  },
  {
   "cell_type": "markdown",
   "id": "78fbcde4",
   "metadata": {},
   "source": [
    "### Итоги построения модели\n",
    "В ходе работ была проведена предварительная обработка датасетов. Произведена модификация признаков, в результате чего получены новые признаки. Разрозненные таблицы были сведены в одну, после чего сделана финальная проверка и корректировка финального датасета. \n",
    "\n",
    "На основе датасета построены модели lightGBM и линейной регрессии. Полученные lightGBM результаты удовлетворяют требованиям. Обе модели показывают результаты лучше константной модели. \n",
    "\n",
    "На тестовой выборке лучшей моделью lightGBM получен высокий результат, превышающий требования задания. "
   ]
  },
  {
   "cell_type": "markdown",
   "id": "b1437ca0",
   "metadata": {},
   "source": [
    "# Отчет\n",
    "## Постановка задачи и описание\n",
    "Во время процесса изготовления стали используется её нагрев до высоких температур(свыше 1450 град.), что требует большого потребления электричества. В целях снижения издержек для предприятия необходима модель прогнозирования конечной температуры стали. Сложность создания модели заключается в том, что помимо самого процесса нагрева стали, происходит добавление легирующих элементов из бункеров и в виде проволоки. Перемешивание и защита расплава происходит продувкой инертными газами. Таким образом \n",
    "\n",
    "## План\n",
    "\n",
    "После разведывательного анализа данных был составлен предварительный план:\n",
    "1. Очистить таблицы от выбросов и аномалий,заполнить пропуски, привести данные к нужному типу. \n",
    "2. Провести слияние таблиц в одну большую таблицу по ключу или по дате.\n",
    "3. Добавить столбцы, которые сигнализируют о начале операции легирования. Например, если в 15:20 добавили проволоку, то с этого времени и до окончания итерации справочный столбец имеет значение 1. До этого времени значение столбца равно 0. И так по каждой итерации. \n",
    "4. Далее попробовать два варианта. Первый вариант подразумевает стационарность процессов. Второй вариант подразумевает применение модели временных рядов или скользящего среднего. После этого соответственно удалить столбцы с ключом или/и временем.\n",
    "5. Разделить датасет, выделив целевую величину - температуру стали. \n",
    "6. Опробовать модель lightGBM, которая должна лучше всего подойти для этой задачи. \n",
    "7. Протестировать модель на тестовой и валидационной выборке. Метрика MSE предпочтительна.\n",
    "\n",
    "После консультации и изучения новых вводных план был значительно скорректирован. Получены следующие требования:\n",
    "1. Могут быть удалены только явные выбросы, нарушающие законы физики. \n",
    "2. Партии, где имеются замеры температуры с пропусками или ниже 1450 град., должны быть целиком удалены.\n",
    "3. В качестве признака известна только первая измеренная температура. \n",
    "4. Модель должна обеспечивать метрику МАЕ<=6.8\n",
    "5. Должно быть минимум три модели - одна с автоматизированным подбором параметров, одна альтернативная, еще одна константная. Модели должны обучаться с применением метода кросс-валидации. \n",
    "6. Доля данных тестовой выборки - 25%. \n",
    "7. Random_state установлен на 80523. \n",
    "\n",
    "Итоговый план был значительно скорректирован и выглядит следующим образом:\n",
    "1. Подготовка датасетов: преобразование данных, выделение признаков, создание новых признаков на базе имеющихся. \n",
    "2. Объединение датасетов в один сводный. \n",
    "3. Анализ сводного датасета, его разделение на признаковый и целевой, тренировочный и тестовый.\n",
    "4. Обучение стандартизатора на тренировочном датасете с последующей нормализацией значений всех выборок.\n",
    "5. Обучение модели lightGBM и оценка её результатов.\n",
    "6. Обучение модели линейной регрессии и оценка её результатов.\n",
    "7. Получение результатов константой модели. \n",
    "8. Анализ важности признаков\n",
    "\n",
    "Корректировка плана произошла после консультации вследствие получения уточняющей информации. \n",
    "\n",
    "## Трудности проекта\n",
    "Трудностью в проекте является большое количество датасетов, которые требуется соответствующим образом свести в итоговый. Сложностью при выполнении проекта является тот факт, что колебание температуры происходит в очень незначительном коридоре значений. Межквартильный размах значений не превышает 20 град. Помимо технически сложного замера температуры стали, которая имеет температуру 1500 град., требуется обеспечить высокую точность измерений. Согласно открытым источникам погрешность измерения стали составляет 4 градуса, что является существенным возмущающим фактором в точность модели. \n",
    "\n",
    "\n",
    "## Ключевые шаги решения\n",
    "\n",
    "При выполнении проекта выполнен большой объем работ. Далее приведено краткое описание работ.\n",
    "\n",
    "### Подготовка данных\n",
    "Для построения модели предоставлены основные данные:\n",
    "- время и мощность включения нагревателей\n",
    "- время и объем легирующих элементов из бункера\n",
    "- время и количество проволочных легирующих элементов\n",
    "- время замера и температура стали\n",
    "- расход газа\n",
    "\n",
    "Согласно требованиям произведено удаление явных выбросов и аномалий в данных. Заполнение пропусков нулями в таблицах о подаче легирующих элементов или удаление записей целиком в случае с температурой. Данные по мощности и температуре сгруппированы по ключу с помощью механизма сводных таблиц. Вместо мощности и времени работы нагревателя используется обобщенная характеристика в виде суммы активной энергии, вложенной в расплав. Добавлено общее время выплавки стали, вычисленное по результатам первого и последнего замера температуры стали. \n",
    "\n",
    "Из отдельных таблиц сформирован общий датасет, состоящий из данных о температуре, мощности и объеме подачи легирующих элементов. В окончательный датасет не вошли данные о времени подачи легирующих элементов. В результирующий датасет попали только данные, отвечающие требованиям проекта и информация о которых имеется во всех таблицах. \n",
    "\n",
    "Для снижения размерности задачи и повышения надежности решения проведен анализ признаков на корреляцию значений. Столбец 'wire 8' был удален из-за сильной корреляции с столбцом 'bulk 9'. \n",
    "\n",
    "Данные разделены на признаковую и целевую части. Целевым значением выступает последняя температура партии. Затем данные разделены на обучающую и тестовую выборки. Обучающая выборка используется для создания модели, а тестовая выборка показывает, как модель будет вести себя с новыми данными.  Некоторые модели лучше работают, если данные нормализованы. Для этого на обучающей выборке обучен стандартизатор, после чего он применен к обработке датасетов. \n",
    "\n",
    "### Обучение моделей, тестирование,метрики\n",
    "На основе подготовленных данных обучена бустинговая модель фреймворка lightGBM. Параметры модели автоматически подбирались механизмом RandomSearchCV. Получены следующие лучшие параметры модели: 'num_leaves': 9, 'n_estimators': 100, 'learning_rate': 0.04, 'random_state': 80523. В процессе работы происходит кросс-валидация по 5 блокам. Итоговый средний результат  метрики MAE удовлетворяет требованиям задачи и составляет около 6.5. \n",
    "\n",
    "В качестве альтернативной модели взята модель линейной регрессии. Значимых гиперпараметров в ней не имеется, но результат так же удовлетворяет требованиям и составляет около 6.5. \n",
    "\n",
    "Для оценки эффективности работы обучающихся моделей взята константная модель, которая всегда предсказывает одно и тоже число. Для метрики MAE наилучшим предсказанием является медианное значение, для которого получена метрика МАЕ \n",
    "\n",
    "Для окончательного тестирования выбрана модель lightGBM, которая на тестовых данных показала метрику 6.7. Это удовлетворяет требованиям задания. Дополнительно проанализирована метрика R2, которая показывает качество модели. Идеальная модель имеет показатель 1, константная 0. Результат составил 0.37, что показывает наличие резервов для улучшения модели. \n",
    "\n",
    "Интересными для анализа являются диаграммы важности признаков. Чем важнее признак, тем чаще он участвует в построении модели ('split') или дает наибольший прирост информации ('gain'). Самыми важными признаками оказалась начальная температура, вложенная энергия и объем подачи проволоки Wire 1. \n",
    "\n",
    "## Рекомендации по улучшению модели\n",
    "Улучшение модели можно достичь с помощью увеличения объема информации, которое получено со стороны завода. Некоторого улучшения можно добиться, если отбирать лучшие признаки и удалять малозначимые. \n",
    "\n",
    "\n",
    "## Итог\n",
    "Полученные модели отвечают требованиям задания и могут успешно применяться для предсказания температуры. \n"
   ]
  }
 ],
 "metadata": {
  "ExecuteTimeLog": [
   {
    "duration": 429,
    "start_time": "2023-05-09T21:18:51.782Z"
   },
   {
    "duration": 162,
    "start_time": "2023-05-09T21:18:52.213Z"
   },
   {
    "duration": 17,
    "start_time": "2023-05-09T21:18:52.376Z"
   },
   {
    "duration": 31,
    "start_time": "2023-05-09T21:18:52.395Z"
   },
   {
    "duration": 17,
    "start_time": "2023-05-09T21:18:52.428Z"
   },
   {
    "duration": 84,
    "start_time": "2023-05-09T21:18:52.446Z"
   },
   {
    "duration": 1895,
    "start_time": "2023-05-09T21:18:52.532Z"
   },
   {
    "duration": 15,
    "start_time": "2023-05-09T21:18:54.429Z"
   },
   {
    "duration": 14,
    "start_time": "2023-05-09T21:18:54.445Z"
   },
   {
    "duration": 6,
    "start_time": "2023-05-09T21:18:54.461Z"
   },
   {
    "duration": 22,
    "start_time": "2023-05-09T21:18:54.490Z"
   },
   {
    "duration": 122,
    "start_time": "2023-05-09T21:18:54.513Z"
   },
   {
    "duration": 8,
    "start_time": "2023-05-09T21:18:54.637Z"
   },
   {
    "duration": 42,
    "start_time": "2023-05-09T21:18:54.648Z"
   },
   {
    "duration": 163,
    "start_time": "2023-05-09T21:18:54.692Z"
   },
   {
    "duration": 13,
    "start_time": "2023-05-09T21:18:54.857Z"
   },
   {
    "duration": 65,
    "start_time": "2023-05-09T21:18:54.871Z"
   },
   {
    "duration": 1111,
    "start_time": "2023-05-09T21:18:54.937Z"
   },
   {
    "duration": 12,
    "start_time": "2023-05-09T21:18:56.050Z"
   },
   {
    "duration": 25,
    "start_time": "2023-05-09T21:18:56.064Z"
   },
   {
    "duration": 12,
    "start_time": "2023-05-09T21:18:56.091Z"
   },
   {
    "duration": 3888,
    "start_time": "2023-05-15T19:04:16.092Z"
   },
   {
    "duration": 1100,
    "start_time": "2023-05-15T19:04:20.052Z"
   },
   {
    "duration": 22,
    "start_time": "2023-05-15T19:04:21.154Z"
   },
   {
    "duration": 98,
    "start_time": "2023-05-15T19:04:21.180Z"
   },
   {
    "duration": 20,
    "start_time": "2023-05-15T19:04:21.354Z"
   },
   {
    "duration": 226,
    "start_time": "2023-05-15T19:04:21.452Z"
   },
   {
    "duration": 5987,
    "start_time": "2023-05-15T19:04:21.680Z"
   },
   {
    "duration": 14,
    "start_time": "2023-05-15T19:04:27.668Z"
   },
   {
    "duration": 79,
    "start_time": "2023-05-15T19:04:27.684Z"
   },
   {
    "duration": 7,
    "start_time": "2023-05-15T19:04:27.767Z"
   },
   {
    "duration": 94,
    "start_time": "2023-05-15T19:04:27.775Z"
   },
   {
    "duration": 417,
    "start_time": "2023-05-15T19:04:27.871Z"
   },
   {
    "duration": 68,
    "start_time": "2023-05-15T19:04:28.290Z"
   },
   {
    "duration": 36,
    "start_time": "2023-05-15T19:04:28.359Z"
   },
   {
    "duration": 344,
    "start_time": "2023-05-15T19:04:28.449Z"
   },
   {
    "duration": 69,
    "start_time": "2023-05-15T19:04:28.795Z"
   },
   {
    "duration": 105,
    "start_time": "2023-05-15T19:04:28.867Z"
   },
   {
    "duration": 2409,
    "start_time": "2023-05-15T19:04:28.974Z"
   },
   {
    "duration": 80,
    "start_time": "2023-05-15T19:04:31.384Z"
   },
   {
    "duration": 16,
    "start_time": "2023-05-15T19:04:31.466Z"
   },
   {
    "duration": 11,
    "start_time": "2023-05-15T19:04:31.484Z"
   },
   {
    "duration": 375,
    "start_time": "2023-05-15T19:04:31.497Z"
   },
   {
    "duration": 705,
    "start_time": "2023-05-15T19:04:31.874Z"
   },
   {
    "duration": 790,
    "start_time": "2023-05-15T19:04:32.581Z"
   },
   {
    "duration": 15,
    "start_time": "2023-05-15T19:04:33.372Z"
   },
   {
    "duration": 63,
    "start_time": "2023-05-15T19:04:33.388Z"
   },
   {
    "duration": 22,
    "start_time": "2023-05-15T19:04:33.456Z"
   },
   {
    "duration": 8,
    "start_time": "2023-05-15T19:04:33.481Z"
   },
   {
    "duration": 71,
    "start_time": "2023-05-15T19:04:33.490Z"
   },
   {
    "duration": 7,
    "start_time": "2023-05-15T19:04:33.566Z"
   },
   {
    "duration": 9,
    "start_time": "2023-05-15T19:04:33.575Z"
   },
   {
    "duration": 85,
    "start_time": "2023-05-15T19:04:33.586Z"
   },
   {
    "duration": 12,
    "start_time": "2023-05-15T19:04:33.672Z"
   },
   {
    "duration": 82,
    "start_time": "2023-05-15T19:04:33.685Z"
   },
   {
    "duration": 8386,
    "start_time": "2023-05-15T19:04:33.770Z"
   },
   {
    "duration": 8432,
    "start_time": "2023-05-15T19:04:42.160Z"
   },
   {
    "duration": 63,
    "start_time": "2023-05-15T19:04:50.594Z"
   },
   {
    "duration": 15,
    "start_time": "2023-05-15T19:04:50.659Z"
   },
   {
    "duration": 21,
    "start_time": "2023-05-15T19:04:50.675Z"
   },
   {
    "duration": 2298966,
    "start_time": "2023-05-15T19:04:50.697Z"
   },
   {
    "duration": 2,
    "start_time": "2023-05-15T19:43:09.666Z"
   },
   {
    "duration": 685,
    "start_time": "2023-05-15T19:43:09.671Z"
   },
   {
    "duration": 98,
    "start_time": "2023-05-15T19:43:10.364Z"
   },
   {
    "duration": 12,
    "start_time": "2023-05-15T19:43:10.465Z"
   },
   {
    "duration": 15,
    "start_time": "2023-05-15T19:43:10.478Z"
   },
   {
    "duration": 672,
    "start_time": "2023-05-15T19:43:10.495Z"
   },
   {
    "duration": 2465,
    "start_time": "2023-05-17T20:35:39.883Z"
   },
   {
    "duration": 512,
    "start_time": "2023-05-17T20:35:42.350Z"
   },
   {
    "duration": 11,
    "start_time": "2023-05-17T20:35:42.864Z"
   },
   {
    "duration": 24,
    "start_time": "2023-05-17T20:35:42.876Z"
   },
   {
    "duration": 14,
    "start_time": "2023-05-17T20:35:42.901Z"
   },
   {
    "duration": 56,
    "start_time": "2023-05-17T20:35:42.916Z"
   },
   {
    "duration": 1569,
    "start_time": "2023-05-17T20:35:42.973Z"
   },
   {
    "duration": 14,
    "start_time": "2023-05-17T20:35:44.544Z"
   },
   {
    "duration": 22,
    "start_time": "2023-05-17T20:35:44.559Z"
   },
   {
    "duration": 30,
    "start_time": "2023-05-17T20:35:44.582Z"
   },
   {
    "duration": 26,
    "start_time": "2023-05-17T20:35:44.614Z"
   },
   {
    "duration": 260,
    "start_time": "2023-05-17T20:35:44.643Z"
   },
   {
    "duration": 10,
    "start_time": "2023-05-17T20:35:44.905Z"
   },
   {
    "duration": 31,
    "start_time": "2023-05-17T20:35:44.918Z"
   },
   {
    "duration": 192,
    "start_time": "2023-05-17T20:35:44.951Z"
   },
   {
    "duration": 14,
    "start_time": "2023-05-17T20:35:45.145Z"
   },
   {
    "duration": 62,
    "start_time": "2023-05-17T20:35:45.161Z"
   },
   {
    "duration": 1199,
    "start_time": "2023-05-17T20:35:45.225Z"
   },
   {
    "duration": 12,
    "start_time": "2023-05-17T20:35:46.426Z"
   },
   {
    "duration": 141,
    "start_time": "2023-05-17T20:35:46.439Z"
   },
   {
    "duration": 15,
    "start_time": "2023-05-17T20:35:46.581Z"
   },
   {
    "duration": 31,
    "start_time": "2023-05-17T20:35:46.597Z"
   },
   {
    "duration": 191,
    "start_time": "2023-05-17T20:35:46.629Z"
   },
   {
    "duration": 14,
    "start_time": "2023-05-17T20:35:46.822Z"
   },
   {
    "duration": 6,
    "start_time": "2023-05-17T20:35:46.838Z"
   },
   {
    "duration": 25,
    "start_time": "2023-05-17T20:35:46.845Z"
   },
   {
    "duration": 12,
    "start_time": "2023-05-17T20:35:46.872Z"
   },
   {
    "duration": 12,
    "start_time": "2023-05-17T20:35:46.895Z"
   },
   {
    "duration": 18,
    "start_time": "2023-05-17T20:35:46.908Z"
   },
   {
    "duration": 16,
    "start_time": "2023-05-17T20:35:46.927Z"
   },
   {
    "duration": 21,
    "start_time": "2023-05-17T20:35:46.944Z"
   },
   {
    "duration": 28,
    "start_time": "2023-05-17T20:35:46.967Z"
   },
   {
    "duration": 11,
    "start_time": "2023-05-17T20:35:46.996Z"
   },
   {
    "duration": 29,
    "start_time": "2023-05-17T20:35:47.009Z"
   },
   {
    "duration": 3281,
    "start_time": "2023-05-17T20:35:47.040Z"
   },
   {
    "duration": 29,
    "start_time": "2023-05-17T20:35:50.323Z"
   },
   {
    "duration": 3648,
    "start_time": "2023-05-17T20:35:50.354Z"
   },
   {
    "duration": 4,
    "start_time": "2023-05-17T20:35:54.004Z"
   },
   {
    "duration": 9,
    "start_time": "2023-05-17T20:35:54.010Z"
   },
   {
    "duration": 14,
    "start_time": "2023-05-17T20:35:54.020Z"
   },
   {
    "duration": 45661,
    "start_time": "2023-05-17T20:35:54.037Z"
   },
   {
    "duration": 210,
    "start_time": "2023-05-17T20:36:39.699Z"
   },
   {
    "duration": 9,
    "start_time": "2023-05-17T20:36:39.995Z"
   },
   {
    "duration": 109,
    "start_time": "2023-05-17T20:36:40.006Z"
   },
   {
    "duration": 8,
    "start_time": "2023-05-17T20:36:40.117Z"
   },
   {
    "duration": 439,
    "start_time": "2023-05-17T20:36:40.127Z"
   },
   {
    "duration": 8,
    "start_time": "2023-05-17T20:43:23.279Z"
   },
   {
    "duration": 1515,
    "start_time": "2023-09-30T16:12:56.587Z"
   },
   {
    "duration": 537,
    "start_time": "2023-09-30T16:12:58.104Z"
   },
   {
    "duration": 13,
    "start_time": "2023-09-30T16:12:58.643Z"
   },
   {
    "duration": 32,
    "start_time": "2023-09-30T16:12:58.658Z"
   },
   {
    "duration": 16,
    "start_time": "2023-09-30T16:12:58.692Z"
   },
   {
    "duration": 80,
    "start_time": "2023-09-30T16:12:58.710Z"
   },
   {
    "duration": 1569,
    "start_time": "2023-09-30T16:12:58.792Z"
   },
   {
    "duration": 16,
    "start_time": "2023-09-30T16:13:00.363Z"
   },
   {
    "duration": 34,
    "start_time": "2023-09-30T16:13:00.381Z"
   },
   {
    "duration": 31,
    "start_time": "2023-09-30T16:13:00.419Z"
   },
   {
    "duration": 46,
    "start_time": "2023-09-30T16:13:00.452Z"
   },
   {
    "duration": 255,
    "start_time": "2023-09-30T16:13:00.501Z"
   },
   {
    "duration": 9,
    "start_time": "2023-09-30T16:13:00.758Z"
   },
   {
    "duration": 66,
    "start_time": "2023-09-30T16:13:00.768Z"
   },
   {
    "duration": 246,
    "start_time": "2023-09-30T16:13:00.836Z"
   },
   {
    "duration": 13,
    "start_time": "2023-09-30T16:13:01.083Z"
   },
   {
    "duration": 90,
    "start_time": "2023-09-30T16:13:01.098Z"
   },
   {
    "duration": 1091,
    "start_time": "2023-09-30T16:13:01.190Z"
   },
   {
    "duration": 13,
    "start_time": "2023-09-30T16:13:02.283Z"
   },
   {
    "duration": 37,
    "start_time": "2023-09-30T16:13:02.298Z"
   },
   {
    "duration": 37,
    "start_time": "2023-09-30T16:13:02.336Z"
   },
   {
    "duration": 193,
    "start_time": "2023-09-30T16:13:02.375Z"
   },
   {
    "duration": 232,
    "start_time": "2023-09-30T16:13:02.570Z"
   },
   {
    "duration": 17,
    "start_time": "2023-09-30T16:13:02.804Z"
   },
   {
    "duration": 29,
    "start_time": "2023-09-30T16:13:02.823Z"
   },
   {
    "duration": 25,
    "start_time": "2023-09-30T16:13:02.854Z"
   },
   {
    "duration": 29,
    "start_time": "2023-09-30T16:13:02.880Z"
   },
   {
    "duration": 23,
    "start_time": "2023-09-30T16:13:02.913Z"
   },
   {
    "duration": 41,
    "start_time": "2023-09-30T16:13:02.937Z"
   },
   {
    "duration": 44,
    "start_time": "2023-09-30T16:13:02.980Z"
   },
   {
    "duration": 23,
    "start_time": "2023-09-30T16:13:03.025Z"
   },
   {
    "duration": 27,
    "start_time": "2023-09-30T16:13:03.050Z"
   },
   {
    "duration": 11,
    "start_time": "2023-09-30T16:13:03.079Z"
   },
   {
    "duration": 15,
    "start_time": "2023-09-30T16:13:03.092Z"
   },
   {
    "duration": 3917,
    "start_time": "2023-09-30T16:13:03.109Z"
   },
   {
    "duration": 34,
    "start_time": "2023-09-30T16:13:07.028Z"
   },
   {
    "duration": 3845,
    "start_time": "2023-09-30T16:13:07.080Z"
   },
   {
    "duration": 6,
    "start_time": "2023-09-30T16:13:10.928Z"
   },
   {
    "duration": 39,
    "start_time": "2023-09-30T16:13:10.936Z"
   },
   {
    "duration": 47,
    "start_time": "2023-09-30T16:13:10.977Z"
   },
   {
    "duration": 29264,
    "start_time": "2023-09-30T16:13:11.026Z"
   },
   {
    "duration": 289,
    "start_time": "2023-09-30T16:13:40.292Z"
   },
   {
    "duration": 7,
    "start_time": "2023-09-30T16:13:40.584Z"
   },
   {
    "duration": 10,
    "start_time": "2023-09-30T16:13:40.680Z"
   },
   {
    "duration": 18,
    "start_time": "2023-09-30T16:13:40.692Z"
   },
   {
    "duration": 537,
    "start_time": "2023-09-30T16:13:40.712Z"
   }
  ],
  "celltoolbar": "Необработанный формат ячейки",
  "kernelspec": {
   "display_name": "Python 3 (ipykernel)",
   "language": "python",
   "name": "python3"
  },
  "language_info": {
   "codemirror_mode": {
    "name": "ipython",
    "version": 3
   },
   "file_extension": ".py",
   "mimetype": "text/x-python",
   "name": "python",
   "nbconvert_exporter": "python",
   "pygments_lexer": "ipython3",
   "version": "3.10.9"
  },
  "toc": {
   "base_numbering": 1,
   "nav_menu": {},
   "number_sections": true,
   "sideBar": true,
   "skip_h1_title": true,
   "title_cell": "Table of Contents",
   "title_sidebar": "Contents",
   "toc_cell": false,
   "toc_position": {},
   "toc_section_display": true,
   "toc_window_display": false
  }
 },
 "nbformat": 4,
 "nbformat_minor": 5
}
