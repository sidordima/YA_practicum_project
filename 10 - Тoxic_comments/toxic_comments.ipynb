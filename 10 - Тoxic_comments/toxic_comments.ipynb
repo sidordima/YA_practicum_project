{
 "cells": [
  {
   "cell_type": "markdown",
   "id": "5804f8a0",
   "metadata": {},
   "source": [
    "# Проект для «Викишоп»"
   ]
  },
  {
   "cell_type": "markdown",
   "id": "8018c7c8",
   "metadata": {},
   "source": [
    "Интернет-магазин «Викишоп» запускает новый сервис. Теперь пользователи могут редактировать и дополнять описания товаров, как в вики-сообществах. То есть клиенты предлагают свои правки и комментируют изменения других. Магазину нужен инструмент, который будет искать токсичные комментарии и отправлять их на модерацию. \n",
    "\n",
    "В данном проекте тестируется модель,которая умеет классифицировать комментарии на позитивные и негативные. В нашем распоряжении набор данных с разметкой о токсичности правок.\n",
    "\n",
    "По заданию требуется модель со значением метрики качества *F1* не меньше 0.75.\n",
    "\n",
    "План работ следующий:\n",
    " - открыть,подготовить и разделить датасет\n",
    " - произвести векторизацию текстов\n",
    " - обучить модели на векторизированных текстах\n",
    " - лучшей модели предоставить тестовый датасет"
   ]
  },
  {
   "cell_type": "markdown",
   "id": "a4257196",
   "metadata": {},
   "source": [
    "## Подготовка"
   ]
  },
  {
   "cell_type": "markdown",
   "id": "aea50788",
   "metadata": {},
   "source": [
    "### Подключение библиотек"
   ]
  },
  {
   "cell_type": "code",
   "execution_count": 1,
   "id": "b85bc90e",
   "metadata": {},
   "outputs": [
    {
     "name": "stdout",
     "output_type": "stream",
     "text": [
      "Requirement already satisfied: lightgbm in /opt/conda/lib/python3.9/site-packages (3.3.1)\n",
      "Requirement already satisfied: scikit-learn!=0.22.0 in /opt/conda/lib/python3.9/site-packages (from lightgbm) (0.24.1)\n",
      "Requirement already satisfied: scipy in /opt/conda/lib/python3.9/site-packages (from lightgbm) (1.9.1)\n",
      "Requirement already satisfied: numpy in /opt/conda/lib/python3.9/site-packages (from lightgbm) (1.21.1)\n",
      "Requirement already satisfied: wheel in /opt/conda/lib/python3.9/site-packages (from lightgbm) (0.36.2)\n",
      "Requirement already satisfied: joblib>=0.11 in /opt/conda/lib/python3.9/site-packages (from scikit-learn!=0.22.0->lightgbm) (1.1.0)\n",
      "Requirement already satisfied: threadpoolctl>=2.0.0 in /opt/conda/lib/python3.9/site-packages (from scikit-learn!=0.22.0->lightgbm) (3.1.0)\n",
      "Note: you may need to restart the kernel to use updated packages.\n"
     ]
    }
   ],
   "source": [
    "pip install lightgbm"
   ]
  },
  {
   "cell_type": "code",
   "execution_count": 2,
   "id": "1360d3a8",
   "metadata": {},
   "outputs": [],
   "source": [
    "import os \n",
    "import pandas as pd\n",
    "import re \n",
    "import time \n",
    "import numpy as np\n",
    "import nltk\n",
    "import lightgbm as lgb\n",
    "\n",
    "from nltk.corpus import stopwords as nltk_stopwords\n",
    "from sklearn.feature_extraction.text import TfidfVectorizer \n",
    "from sklearn.linear_model import LogisticRegression\n",
    "from sklearn.model_selection import train_test_split\n",
    "from sklearn.metrics import f1_score\n",
    "from catboost import CatBoostClassifier"
   ]
  },
  {
   "cell_type": "markdown",
   "id": "383000e7",
   "metadata": {},
   "source": [
    "### Чтение файла данных и его обзор"
   ]
  },
  {
   "cell_type": "markdown",
   "id": "a9c0ca30",
   "metadata": {},
   "source": [
    "Для анализа предоставлен обучающий датасет."
   ]
  },
  {
   "cell_type": "code",
   "execution_count": 3,
   "id": "d177e60b",
   "metadata": {},
   "outputs": [],
   "source": [
    "#читаем файл с сайта или с компа \n",
    "pth1 = '/datasets/toxic_comments.csv'\n",
    "pth2 = '/home/dmitrii/Документы/ucheba/toxic_comments.csv'\n",
    "\n",
    "if os.path.exists(pth1):\n",
    "    df = pd.read_csv(pth1)\n",
    "elif os.path.exists(pth2):\n",
    "    df = pd.read_csv(pth2)\n",
    "else:\n",
    "    print('Файл не прочитался')"
   ]
  },
  {
   "cell_type": "code",
   "execution_count": 4,
   "id": "5ad8e0b9",
   "metadata": {},
   "outputs": [
    {
     "data": {
      "text/html": [
       "<div>\n",
       "<style scoped>\n",
       "    .dataframe tbody tr th:only-of-type {\n",
       "        vertical-align: middle;\n",
       "    }\n",
       "\n",
       "    .dataframe tbody tr th {\n",
       "        vertical-align: top;\n",
       "    }\n",
       "\n",
       "    .dataframe thead th {\n",
       "        text-align: right;\n",
       "    }\n",
       "</style>\n",
       "<table border=\"1\" class=\"dataframe\">\n",
       "  <thead>\n",
       "    <tr style=\"text-align: right;\">\n",
       "      <th></th>\n",
       "      <th>Unnamed: 0</th>\n",
       "      <th>text</th>\n",
       "      <th>toxic</th>\n",
       "    </tr>\n",
       "  </thead>\n",
       "  <tbody>\n",
       "    <tr>\n",
       "      <th>0</th>\n",
       "      <td>0</td>\n",
       "      <td>Explanation\\nWhy the edits made under my usern...</td>\n",
       "      <td>0</td>\n",
       "    </tr>\n",
       "    <tr>\n",
       "      <th>1</th>\n",
       "      <td>1</td>\n",
       "      <td>D'aww! He matches this background colour I'm s...</td>\n",
       "      <td>0</td>\n",
       "    </tr>\n",
       "    <tr>\n",
       "      <th>2</th>\n",
       "      <td>2</td>\n",
       "      <td>Hey man, I'm really not trying to edit war. It...</td>\n",
       "      <td>0</td>\n",
       "    </tr>\n",
       "    <tr>\n",
       "      <th>3</th>\n",
       "      <td>3</td>\n",
       "      <td>\"\\nMore\\nI can't make any real suggestions on ...</td>\n",
       "      <td>0</td>\n",
       "    </tr>\n",
       "    <tr>\n",
       "      <th>4</th>\n",
       "      <td>4</td>\n",
       "      <td>You, sir, are my hero. Any chance you remember...</td>\n",
       "      <td>0</td>\n",
       "    </tr>\n",
       "  </tbody>\n",
       "</table>\n",
       "</div>"
      ],
      "text/plain": [
       "   Unnamed: 0                                               text  toxic\n",
       "0           0  Explanation\\nWhy the edits made under my usern...      0\n",
       "1           1  D'aww! He matches this background colour I'm s...      0\n",
       "2           2  Hey man, I'm really not trying to edit war. It...      0\n",
       "3           3  \"\\nMore\\nI can't make any real suggestions on ...      0\n",
       "4           4  You, sir, are my hero. Any chance you remember...      0"
      ]
     },
     "execution_count": 4,
     "metadata": {},
     "output_type": "execute_result"
    }
   ],
   "source": [
    "df.head()"
   ]
  },
  {
   "cell_type": "code",
   "execution_count": 5,
   "id": "cbdd8cc2",
   "metadata": {},
   "outputs": [
    {
     "name": "stdout",
     "output_type": "stream",
     "text": [
      "<class 'pandas.core.frame.DataFrame'>\n",
      "RangeIndex: 159292 entries, 0 to 159291\n",
      "Data columns (total 3 columns):\n",
      " #   Column      Non-Null Count   Dtype \n",
      "---  ------      --------------   ----- \n",
      " 0   Unnamed: 0  159292 non-null  int64 \n",
      " 1   text        159292 non-null  object\n",
      " 2   toxic       159292 non-null  int64 \n",
      "dtypes: int64(2), object(1)\n",
      "memory usage: 3.6+ MB\n"
     ]
    }
   ],
   "source": [
    "df.info()"
   ]
  },
  {
   "cell_type": "code",
   "execution_count": 6,
   "id": "905330e1",
   "metadata": {
    "scrolled": true
   },
   "outputs": [
    {
     "data": {
      "image/png": "[encoded data removed]",
      "text/plain": [
       "<Figure size 432x288 with 1 Axes>"
      ]
     },
     "metadata": {
      "needs_background": "light"
     },
     "output_type": "display_data"
    }
   ],
   "source": [
    "df['toxic'].hist(bins=2);"
   ]
  },
  {
   "cell_type": "markdown",
   "id": "3e633b71",
   "metadata": {},
   "source": [
    "Исследование датасета показывает, что в данных отсутствуют пропуски. Количество данных должно быть достаточно для анализа. На гистрограмме видно, что данные имеют несбалансированное распределение. Токсичных комментариев сильно меньше нормальных. При построении моделей это будет устранено опцией решателя balance. "
   ]
  },
  {
   "cell_type": "markdown",
   "id": "3443eb0a",
   "metadata": {},
   "source": [
    "### Подготовка файла"
   ]
  },
  {
   "cell_type": "markdown",
   "id": "7a9ada74",
   "metadata": {},
   "source": [
    "Для анализа колонка 'Unnamed: 0' не несет смысла, поэтому удалим её. Так же для ограничения размерности пространства ограничим размер анализируемых текстов "
   ]
  },
  {
   "cell_type": "code",
   "execution_count": 7,
   "id": "704d323e",
   "metadata": {},
   "outputs": [],
   "source": [
    "df = df.drop('Unnamed: 0',axis=1)"
   ]
  },
  {
   "cell_type": "code",
   "execution_count": 8,
   "id": "5965fa35",
   "metadata": {},
   "outputs": [
    {
     "data": {
      "text/html": [
       "<div>\n",
       "<style scoped>\n",
       "    .dataframe tbody tr th:only-of-type {\n",
       "        vertical-align: middle;\n",
       "    }\n",
       "\n",
       "    .dataframe tbody tr th {\n",
       "        vertical-align: top;\n",
       "    }\n",
       "\n",
       "    .dataframe thead th {\n",
       "        text-align: right;\n",
       "    }\n",
       "</style>\n",
       "<table border=\"1\" class=\"dataframe\">\n",
       "  <thead>\n",
       "    <tr style=\"text-align: right;\">\n",
       "      <th></th>\n",
       "      <th>text</th>\n",
       "      <th>toxic</th>\n",
       "    </tr>\n",
       "  </thead>\n",
       "  <tbody>\n",
       "    <tr>\n",
       "      <th>0</th>\n",
       "      <td>Explanation Why the edits made under my userna...</td>\n",
       "      <td>0</td>\n",
       "    </tr>\n",
       "    <tr>\n",
       "      <th>1</th>\n",
       "      <td>D aww  He matches this background colour I m s...</td>\n",
       "      <td>0</td>\n",
       "    </tr>\n",
       "    <tr>\n",
       "      <th>2</th>\n",
       "      <td>Hey man  I m really not trying to edit war  It...</td>\n",
       "      <td>0</td>\n",
       "    </tr>\n",
       "    <tr>\n",
       "      <th>3</th>\n",
       "      <td>More I can t make any real suggestions on im...</td>\n",
       "      <td>0</td>\n",
       "    </tr>\n",
       "    <tr>\n",
       "      <th>4</th>\n",
       "      <td>You  sir  are my hero  Any chance you remember...</td>\n",
       "      <td>0</td>\n",
       "    </tr>\n",
       "    <tr>\n",
       "      <th>5</th>\n",
       "      <td>Congratulations from me as well  use the to...</td>\n",
       "      <td>0</td>\n",
       "    </tr>\n",
       "    <tr>\n",
       "      <th>6</th>\n",
       "      <td>COCKSUCKER BEFORE YOU PISS AROUND ON MY WORK</td>\n",
       "      <td>1</td>\n",
       "    </tr>\n",
       "    <tr>\n",
       "      <th>7</th>\n",
       "      <td>Your vandalism to the Matt Shirvington article...</td>\n",
       "      <td>0</td>\n",
       "    </tr>\n",
       "    <tr>\n",
       "      <th>8</th>\n",
       "      <td>Sorry if the word  nonsense  was offensive to ...</td>\n",
       "      <td>0</td>\n",
       "    </tr>\n",
       "    <tr>\n",
       "      <th>9</th>\n",
       "      <td>alignment on this subject and which are contra...</td>\n",
       "      <td>0</td>\n",
       "    </tr>\n",
       "  </tbody>\n",
       "</table>\n",
       "</div>"
      ],
      "text/plain": [
       "                                                text  toxic\n",
       "0  Explanation Why the edits made under my userna...      0\n",
       "1  D aww  He matches this background colour I m s...      0\n",
       "2  Hey man  I m really not trying to edit war  It...      0\n",
       "3    More I can t make any real suggestions on im...      0\n",
       "4  You  sir  are my hero  Any chance you remember...      0\n",
       "5     Congratulations from me as well  use the to...      0\n",
       "6       COCKSUCKER BEFORE YOU PISS AROUND ON MY WORK      1\n",
       "7  Your vandalism to the Matt Shirvington article...      0\n",
       "8  Sorry if the word  nonsense  was offensive to ...      0\n",
       "9  alignment on this subject and which are contra...      0"
      ]
     },
     "execution_count": 8,
     "metadata": {},
     "output_type": "execute_result"
    }
   ],
   "source": [
    "#очистка от лиших символов\n",
    "pattern = r'[^a-zA-Z ]'\n",
    "df['text'] = df['text'].apply(lambda x: re.sub(pattern, ' ', x))\n",
    "#ограничиваем размер символов\n",
    "df['text'] = df['text'].str.slice(stop = 2000)\n",
    "df.head(10)"
   ]
  },
  {
   "cell_type": "markdown",
   "id": "3c67efc2",
   "metadata": {},
   "source": [
    "## Подготовка к расчету"
   ]
  },
  {
   "cell_type": "markdown",
   "id": "655ac055",
   "metadata": {},
   "source": [
    "### Разделение выборки"
   ]
  },
  {
   "cell_type": "markdown",
   "id": "0891c8fa",
   "metadata": {},
   "source": [
    "Разделим выборку на 3 части - тренировучню, валидационную, тестовую. Т.к. данные сильно несбалансированные, то деление будет просходить с активированной опцией stratify."
   ]
  },
  {
   "cell_type": "code",
   "execution_count": 9,
   "id": "68faddb6",
   "metadata": {},
   "outputs": [],
   "source": [
    "train, var = train_test_split(df, test_size=0.2,stratify=df['toxic'], random_state=12345)\n",
    "\n",
    "#train\n",
    "features_train = train['text']\n",
    "target_train = train['toxic']\n",
    "\n",
    "valid, test = train_test_split(var, test_size=0.5,stratify=var['toxic'], random_state=12345)\n",
    "\n",
    "#valid \n",
    "features_valid = valid['text']\n",
    "target_valid = valid['toxic']\n",
    "\n",
    "#test\n",
    "features_test = test['text']\n",
    "target_test = test['toxic']"
   ]
  },
  {
   "cell_type": "markdown",
   "id": "5d950c0b",
   "metadata": {},
   "source": [
    "### Векторизация слов"
   ]
  },
  {
   "cell_type": "markdown",
   "id": "71bb3e22",
   "metadata": {},
   "source": [
    "Для возможности провести анализ текстов необходимо произвести обработку текстов для подготовки к численному анализу. В первую очередь тексты очищаются от лишних слов,не несущих смысловую нагрузку. "
   ]
  },
  {
   "cell_type": "code",
   "execution_count": 10,
   "id": "31210d05",
   "metadata": {},
   "outputs": [
    {
     "name": "stderr",
     "output_type": "stream",
     "text": [
      "[nltk_data] Downloading package stopwords to /home/jovyan/nltk_data...\n",
      "[nltk_data]   Package stopwords is already up-to-date!\n"
     ]
    }
   ],
   "source": [
    "nltk.download('stopwords')\n",
    "stopwords = set(nltk_stopwords.words('english'))\n",
    "count_tf_idf = TfidfVectorizer(stop_words=stopwords)"
   ]
  },
  {
   "cell_type": "markdown",
   "id": "fd86be84",
   "metadata": {},
   "source": [
    "Произведем векторизацию текстов"
   ]
  },
  {
   "cell_type": "code",
   "execution_count": 11,
   "id": "8adebe53",
   "metadata": {},
   "outputs": [],
   "source": [
    "tf_idf = count_tf_idf.fit(features_train)\n",
    "features_train = tf_idf.transform(features_train)\n",
    "features_valid = tf_idf.transform(features_valid)\n",
    "features_test = tf_idf.transform(features_test)"
   ]
  },
  {
   "cell_type": "markdown",
   "id": "95b4f1ce",
   "metadata": {},
   "source": [
    "## Построение моделей"
   ]
  },
  {
   "cell_type": "markdown",
   "id": "99aef759",
   "metadata": {},
   "source": [
    "### Logistic regression"
   ]
  },
  {
   "cell_type": "markdown",
   "id": "71105ff4",
   "metadata": {},
   "source": [
    "Логистическая регрессия подходит для проведения бинарной классификации. Для устранения несбалансированности установлен гиперпараметр весов классов с автоматической коррекцией. "
   ]
  },
  {
   "cell_type": "code",
   "execution_count": 12,
   "id": "34ddbf60",
   "metadata": {},
   "outputs": [
    {
     "name": "stdout",
     "output_type": "stream",
     "text": [
      "Метрика F1: 0.7677383592017738 | Время 5.467674255371094 | Solver -  sag\n",
      "Метрика F1: 0.7677383592017738 | Время 78.066734790802 | Solver -  lbfgs\n",
      "Метрика F1: 0.7677383592017738 | Время 14.310633420944214 | Solver -  liblinear\n"
     ]
    }
   ],
   "source": [
    "#разные решатели\n",
    "solver = ['sag','lbfgs','liblinear']\n",
    "#массив для разных моделей\n",
    "models = []\n",
    "\n",
    "for item in solver:\n",
    "    start = time.time() \n",
    "    model_log = LogisticRegression(max_iter=400, \n",
    "                                   class_weight='balanced',\n",
    "                                   random_state=12345,\n",
    "                                   solver = item )\n",
    "    model_log.fit(features_train, target_train)\n",
    "    predicted = model_log.predict(features_valid)\n",
    "    f1 = f1_score(target_valid,predicted)\n",
    "    total_time = time.time()-start\n",
    "    print( 'Метрика F1:', f1,'| Время', total_time, '| Solver - ',item  ) \n",
    "    models.append(model_log)"
   ]
  },
  {
   "cell_type": "markdown",
   "id": "314250b3",
   "metadata": {},
   "source": [
    "Анализируя результаты работы логистической с разными гиперпараметрами решателя видно, что наиболее быстрый решатель - liblinear. Результаты метрики f1 всех решателей одинаковы, но т.к. liblinear справился в разы быстрее, то имеет смысл использовать его.  "
   ]
  },
  {
   "cell_type": "markdown",
   "id": "e834e626",
   "metadata": {},
   "source": [
    "Результат превышает минимально требуемый по заданию. "
   ]
  },
  {
   "cell_type": "markdown",
   "id": "9b2dd2c5",
   "metadata": {},
   "source": [
    "### LightGBM"
   ]
  },
  {
   "cell_type": "markdown",
   "id": "2ee05f3d",
   "metadata": {},
   "source": [
    "В качестве альтернативы рассмотрим классификатор LightGBM. Так же установим параметры для сбалансирования весов классов."
   ]
  },
  {
   "cell_type": "code",
   "execution_count": 13,
   "id": "89f726a5",
   "metadata": {},
   "outputs": [
    {
     "name": "stdout",
     "output_type": "stream",
     "text": [
      "CPU times: user 4min 3s, sys: 0 ns, total: 4min 3s\n",
      "Wall time: 4min 5s\n"
     ]
    },
    {
     "data": {
      "text/plain": [
       "LGBMClassifier(class_weight='balanced', random_state=12345)"
      ]
     },
     "execution_count": 13,
     "metadata": {},
     "output_type": "execute_result"
    }
   ],
   "source": [
    "%%time\n",
    "lgbm = lgb.LGBMClassifier(class_weight='balanced',\n",
    "                                   random_state=12345)\n",
    "lgbm.fit(features_train, target_train);"
   ]
  },
  {
   "cell_type": "code",
   "execution_count": 14,
   "id": "e7c81c0d",
   "metadata": {},
   "outputs": [],
   "source": [
    "preds_class = lgbm.predict(features_valid)"
   ]
  },
  {
   "cell_type": "code",
   "execution_count": 15,
   "id": "a979720a",
   "metadata": {},
   "outputs": [
    {
     "name": "stdout",
     "output_type": "stream",
     "text": [
      "Метрика F1: 0.7359454855195912\n"
     ]
    }
   ],
   "source": [
    "print('Метрика F1:', f1_score(target_valid,preds_class) )"
   ]
  },
  {
   "cell_type": "markdown",
   "id": "65748704",
   "metadata": {},
   "source": [
    "## Тестирование лучшей модели"
   ]
  },
  {
   "cell_type": "markdown",
   "id": "f034a134",
   "metadata": {},
   "source": [
    "Наилучшие результаты показала модель логистической регрессии. Протестируем её на тестовом датафрейме. "
   ]
  },
  {
   "cell_type": "code",
   "execution_count": 16,
   "id": "34887b8b",
   "metadata": {
    "scrolled": true
   },
   "outputs": [
    {
     "name": "stdout",
     "output_type": "stream",
     "text": [
      "Метрика F1: 0.7531266992930942\n"
     ]
    }
   ],
   "source": [
    "predicted_test = models[2].predict(features_test)\n",
    "print('Метрика F1:', f1_score(target_test,predicted_test) )"
   ]
  },
  {
   "cell_type": "markdown",
   "id": "520041dd",
   "metadata": {},
   "source": [
    "## Вывод"
   ]
  },
  {
   "cell_type": "markdown",
   "id": "7ad40d5e",
   "metadata": {},
   "source": [
    "В ходе работы обработан датафрейм с целью построения модели. Текст очищен и преобразован в векторную форму. С целью уменьшения размерности длина твитов ограничена 2000 букв. \n",
    "\n",
    "В результате построенных моделей логистической регрессии и lightGBM видно, что хорошие результаты показала модель логистической регрессии. На тестовой выборке она выдала результаты с метрикой F1 выше минимально требуемых 0,75. Таким образом данная модель подходит для анализа и классификации тональности. "
   ]
  }
 ],
 "metadata": {
  "ExecuteTimeLog": [
   {
    "duration": 2665,
    "start_time": "2023-09-30T14:27:25.449Z"
   },
   {
    "duration": 1432,
    "start_time": "2023-09-30T14:27:28.116Z"
   },
   {
    "duration": 2480,
    "start_time": "2023-09-30T14:27:29.550Z"
   },
   {
    "duration": 15,
    "start_time": "2023-09-30T14:27:32.032Z"
   },
   {
    "duration": 85,
    "start_time": "2023-09-30T14:27:32.049Z"
   },
   {
    "duration": 427,
    "start_time": "2023-09-30T14:27:32.136Z"
   },
   {
    "duration": 17,
    "start_time": "2023-09-30T14:27:32.564Z"
   },
   {
    "duration": 1545,
    "start_time": "2023-09-30T14:27:32.583Z"
   },
   {
    "duration": 81,
    "start_time": "2023-09-30T14:27:34.130Z"
   },
   {
    "duration": 220,
    "start_time": "2023-09-30T14:27:34.213Z"
   },
   {
    "duration": 12128,
    "start_time": "2023-09-30T14:27:34.435Z"
   },
   {
    "duration": 97851,
    "start_time": "2023-09-30T14:27:46.565Z"
   },
   {
    "duration": 245778,
    "start_time": "2023-09-30T14:29:24.418Z"
   },
   {
    "duration": 1485,
    "start_time": "2023-09-30T14:33:30.198Z"
   },
   {
    "duration": 8,
    "start_time": "2023-09-30T14:33:31.685Z"
   },
   {
    "duration": 34,
    "start_time": "2023-09-30T14:33:31.694Z"
   }
  ],
  "kernelspec": {
   "display_name": "Python 3 (ipykernel)",
   "language": "python",
   "name": "python3"
  },
  "language_info": {
   "codemirror_mode": {
    "name": "ipython",
    "version": 3
   },
   "file_extension": ".py",
   "mimetype": "text/x-python",
   "name": "python",
   "nbconvert_exporter": "python",
   "pygments_lexer": "ipython3",
   "version": "3.10.9"
  },
  "toc": {
   "base_numbering": 1,
   "nav_menu": {},
   "number_sections": true,
   "sideBar": true,
   "skip_h1_title": true,
   "title_cell": "Table of Contents",
   "title_sidebar": "Contents",
   "toc_cell": false,
   "toc_position": {},
   "toc_section_display": true,
   "toc_window_display": false
  }
 },
 "nbformat": 4,
 "nbformat_minor": 5
}
