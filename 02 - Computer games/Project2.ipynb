{
 "cells": [
  {
   "cell_type": "markdown",
   "metadata": {},
   "source": [
    "# Выявление успешности игр\n",
    "## Введение\n",
    "\n",
    "В интернет-магазине «Стримчик», который продаёт по всему миру компьютерные игры, хотят выявить закономерности успешности игр. Из открытых источников доступны исторические данные о продажах игр, оценки пользователей и экспертов, жанры и платформы (например, Xbox или PlayStation). Вам нужно выявить определяющие успешность игры закономерности. Это позволит сделать ставку на потенциально популярный продукт и спланировать рекламные кампании.\n",
    "## Изучение исходной информации\n",
    "Целью данного проекта является произвести прогнозирование маркетинговых действий по продвижению игр на 2017 год по данным за предыдущие года. "
   ]
  },
  {
   "cell_type": "code",
   "execution_count": 1,
   "metadata": {},
   "outputs": [],
   "source": [
    "import pandas as pd\n",
    "import numpy as np\n",
    "import matplotlib.pyplot as plt\n",
    "import seaborn as sns\n",
    "from scipy import stats as st"
   ]
  },
  {
   "cell_type": "markdown",
   "metadata": {},
   "source": [
    "Открываем файл с имеющимися данными и выведем первые 15 строк для оценки датафрейма"
   ]
  },
  {
   "cell_type": "code",
   "execution_count": 2,
   "metadata": {},
   "outputs": [
    {
     "data": {
      "text/html": [
       "<div>\n",
       "<style scoped>\n",
       "    .dataframe tbody tr th:only-of-type {\n",
       "        vertical-align: middle;\n",
       "    }\n",
       "\n",
       "    .dataframe tbody tr th {\n",
       "        vertical-align: top;\n",
       "    }\n",
       "\n",
       "    .dataframe thead th {\n",
       "        text-align: right;\n",
       "    }\n",
       "</style>\n",
       "<table border=\"1\" class=\"dataframe\">\n",
       "  <thead>\n",
       "    <tr style=\"text-align: right;\">\n",
       "      <th></th>\n",
       "      <th>Name</th>\n",
       "      <th>Platform</th>\n",
       "      <th>Year_of_Release</th>\n",
       "      <th>Genre</th>\n",
       "      <th>NA_sales</th>\n",
       "      <th>EU_sales</th>\n",
       "      <th>JP_sales</th>\n",
       "      <th>Other_sales</th>\n",
       "      <th>Critic_Score</th>\n",
       "      <th>User_Score</th>\n",
       "      <th>Rating</th>\n",
       "    </tr>\n",
       "  </thead>\n",
       "  <tbody>\n",
       "    <tr>\n",
       "      <th>0</th>\n",
       "      <td>Wii Sports</td>\n",
       "      <td>Wii</td>\n",
       "      <td>2006.0</td>\n",
       "      <td>Sports</td>\n",
       "      <td>41.36</td>\n",
       "      <td>28.96</td>\n",
       "      <td>3.77</td>\n",
       "      <td>8.45</td>\n",
       "      <td>76.0</td>\n",
       "      <td>8</td>\n",
       "      <td>E</td>\n",
       "    </tr>\n",
       "    <tr>\n",
       "      <th>1</th>\n",
       "      <td>Super Mario Bros.</td>\n",
       "      <td>NES</td>\n",
       "      <td>1985.0</td>\n",
       "      <td>Platform</td>\n",
       "      <td>29.08</td>\n",
       "      <td>3.58</td>\n",
       "      <td>6.81</td>\n",
       "      <td>0.77</td>\n",
       "      <td>NaN</td>\n",
       "      <td>NaN</td>\n",
       "      <td>NaN</td>\n",
       "    </tr>\n",
       "    <tr>\n",
       "      <th>2</th>\n",
       "      <td>Mario Kart Wii</td>\n",
       "      <td>Wii</td>\n",
       "      <td>2008.0</td>\n",
       "      <td>Racing</td>\n",
       "      <td>15.68</td>\n",
       "      <td>12.76</td>\n",
       "      <td>3.79</td>\n",
       "      <td>3.29</td>\n",
       "      <td>82.0</td>\n",
       "      <td>8.3</td>\n",
       "      <td>E</td>\n",
       "    </tr>\n",
       "    <tr>\n",
       "      <th>3</th>\n",
       "      <td>Wii Sports Resort</td>\n",
       "      <td>Wii</td>\n",
       "      <td>2009.0</td>\n",
       "      <td>Sports</td>\n",
       "      <td>15.61</td>\n",
       "      <td>10.93</td>\n",
       "      <td>3.28</td>\n",
       "      <td>2.95</td>\n",
       "      <td>80.0</td>\n",
       "      <td>8</td>\n",
       "      <td>E</td>\n",
       "    </tr>\n",
       "    <tr>\n",
       "      <th>4</th>\n",
       "      <td>Pokemon Red/Pokemon Blue</td>\n",
       "      <td>GB</td>\n",
       "      <td>1996.0</td>\n",
       "      <td>Role-Playing</td>\n",
       "      <td>11.27</td>\n",
       "      <td>8.89</td>\n",
       "      <td>10.22</td>\n",
       "      <td>1.00</td>\n",
       "      <td>NaN</td>\n",
       "      <td>NaN</td>\n",
       "      <td>NaN</td>\n",
       "    </tr>\n",
       "    <tr>\n",
       "      <th>5</th>\n",
       "      <td>Tetris</td>\n",
       "      <td>GB</td>\n",
       "      <td>1989.0</td>\n",
       "      <td>Puzzle</td>\n",
       "      <td>23.20</td>\n",
       "      <td>2.26</td>\n",
       "      <td>4.22</td>\n",
       "      <td>0.58</td>\n",
       "      <td>NaN</td>\n",
       "      <td>NaN</td>\n",
       "      <td>NaN</td>\n",
       "    </tr>\n",
       "    <tr>\n",
       "      <th>6</th>\n",
       "      <td>New Super Mario Bros.</td>\n",
       "      <td>DS</td>\n",
       "      <td>2006.0</td>\n",
       "      <td>Platform</td>\n",
       "      <td>11.28</td>\n",
       "      <td>9.14</td>\n",
       "      <td>6.50</td>\n",
       "      <td>2.88</td>\n",
       "      <td>89.0</td>\n",
       "      <td>8.5</td>\n",
       "      <td>E</td>\n",
       "    </tr>\n",
       "    <tr>\n",
       "      <th>7</th>\n",
       "      <td>Wii Play</td>\n",
       "      <td>Wii</td>\n",
       "      <td>2006.0</td>\n",
       "      <td>Misc</td>\n",
       "      <td>13.96</td>\n",
       "      <td>9.18</td>\n",
       "      <td>2.93</td>\n",
       "      <td>2.84</td>\n",
       "      <td>58.0</td>\n",
       "      <td>6.6</td>\n",
       "      <td>E</td>\n",
       "    </tr>\n",
       "    <tr>\n",
       "      <th>8</th>\n",
       "      <td>New Super Mario Bros. Wii</td>\n",
       "      <td>Wii</td>\n",
       "      <td>2009.0</td>\n",
       "      <td>Platform</td>\n",
       "      <td>14.44</td>\n",
       "      <td>6.94</td>\n",
       "      <td>4.70</td>\n",
       "      <td>2.24</td>\n",
       "      <td>87.0</td>\n",
       "      <td>8.4</td>\n",
       "      <td>E</td>\n",
       "    </tr>\n",
       "    <tr>\n",
       "      <th>9</th>\n",
       "      <td>Duck Hunt</td>\n",
       "      <td>NES</td>\n",
       "      <td>1984.0</td>\n",
       "      <td>Shooter</td>\n",
       "      <td>26.93</td>\n",
       "      <td>0.63</td>\n",
       "      <td>0.28</td>\n",
       "      <td>0.47</td>\n",
       "      <td>NaN</td>\n",
       "      <td>NaN</td>\n",
       "      <td>NaN</td>\n",
       "    </tr>\n",
       "    <tr>\n",
       "      <th>10</th>\n",
       "      <td>Nintendogs</td>\n",
       "      <td>DS</td>\n",
       "      <td>2005.0</td>\n",
       "      <td>Simulation</td>\n",
       "      <td>9.05</td>\n",
       "      <td>10.95</td>\n",
       "      <td>1.93</td>\n",
       "      <td>2.74</td>\n",
       "      <td>NaN</td>\n",
       "      <td>NaN</td>\n",
       "      <td>NaN</td>\n",
       "    </tr>\n",
       "    <tr>\n",
       "      <th>11</th>\n",
       "      <td>Mario Kart DS</td>\n",
       "      <td>DS</td>\n",
       "      <td>2005.0</td>\n",
       "      <td>Racing</td>\n",
       "      <td>9.71</td>\n",
       "      <td>7.47</td>\n",
       "      <td>4.13</td>\n",
       "      <td>1.90</td>\n",
       "      <td>91.0</td>\n",
       "      <td>8.6</td>\n",
       "      <td>E</td>\n",
       "    </tr>\n",
       "    <tr>\n",
       "      <th>12</th>\n",
       "      <td>Pokemon Gold/Pokemon Silver</td>\n",
       "      <td>GB</td>\n",
       "      <td>1999.0</td>\n",
       "      <td>Role-Playing</td>\n",
       "      <td>9.00</td>\n",
       "      <td>6.18</td>\n",
       "      <td>7.20</td>\n",
       "      <td>0.71</td>\n",
       "      <td>NaN</td>\n",
       "      <td>NaN</td>\n",
       "      <td>NaN</td>\n",
       "    </tr>\n",
       "    <tr>\n",
       "      <th>13</th>\n",
       "      <td>Wii Fit</td>\n",
       "      <td>Wii</td>\n",
       "      <td>2007.0</td>\n",
       "      <td>Sports</td>\n",
       "      <td>8.92</td>\n",
       "      <td>8.03</td>\n",
       "      <td>3.60</td>\n",
       "      <td>2.15</td>\n",
       "      <td>80.0</td>\n",
       "      <td>7.7</td>\n",
       "      <td>E</td>\n",
       "    </tr>\n",
       "    <tr>\n",
       "      <th>14</th>\n",
       "      <td>Kinect Adventures!</td>\n",
       "      <td>X360</td>\n",
       "      <td>2010.0</td>\n",
       "      <td>Misc</td>\n",
       "      <td>15.00</td>\n",
       "      <td>4.89</td>\n",
       "      <td>0.24</td>\n",
       "      <td>1.69</td>\n",
       "      <td>61.0</td>\n",
       "      <td>6.3</td>\n",
       "      <td>E</td>\n",
       "    </tr>\n",
       "  </tbody>\n",
       "</table>\n",
       "</div>"
      ],
      "text/plain": [
       "                           Name Platform  Year_of_Release         Genre  \\\n",
       "0                    Wii Sports      Wii           2006.0        Sports   \n",
       "1             Super Mario Bros.      NES           1985.0      Platform   \n",
       "2                Mario Kart Wii      Wii           2008.0        Racing   \n",
       "3             Wii Sports Resort      Wii           2009.0        Sports   \n",
       "4      Pokemon Red/Pokemon Blue       GB           1996.0  Role-Playing   \n",
       "5                        Tetris       GB           1989.0        Puzzle   \n",
       "6         New Super Mario Bros.       DS           2006.0      Platform   \n",
       "7                      Wii Play      Wii           2006.0          Misc   \n",
       "8     New Super Mario Bros. Wii      Wii           2009.0      Platform   \n",
       "9                     Duck Hunt      NES           1984.0       Shooter   \n",
       "10                   Nintendogs       DS           2005.0    Simulation   \n",
       "11                Mario Kart DS       DS           2005.0        Racing   \n",
       "12  Pokemon Gold/Pokemon Silver       GB           1999.0  Role-Playing   \n",
       "13                      Wii Fit      Wii           2007.0        Sports   \n",
       "14           Kinect Adventures!     X360           2010.0          Misc   \n",
       "\n",
       "    NA_sales  EU_sales  JP_sales  Other_sales  Critic_Score User_Score Rating  \n",
       "0      41.36     28.96      3.77         8.45          76.0          8      E  \n",
       "1      29.08      3.58      6.81         0.77           NaN        NaN    NaN  \n",
       "2      15.68     12.76      3.79         3.29          82.0        8.3      E  \n",
       "3      15.61     10.93      3.28         2.95          80.0          8      E  \n",
       "4      11.27      8.89     10.22         1.00           NaN        NaN    NaN  \n",
       "5      23.20      2.26      4.22         0.58           NaN        NaN    NaN  \n",
       "6      11.28      9.14      6.50         2.88          89.0        8.5      E  \n",
       "7      13.96      9.18      2.93         2.84          58.0        6.6      E  \n",
       "8      14.44      6.94      4.70         2.24          87.0        8.4      E  \n",
       "9      26.93      0.63      0.28         0.47           NaN        NaN    NaN  \n",
       "10      9.05     10.95      1.93         2.74           NaN        NaN    NaN  \n",
       "11      9.71      7.47      4.13         1.90          91.0        8.6      E  \n",
       "12      9.00      6.18      7.20         0.71           NaN        NaN    NaN  \n",
       "13      8.92      8.03      3.60         2.15          80.0        7.7      E  \n",
       "14     15.00      4.89      0.24         1.69          61.0        6.3      E  "
      ]
     },
     "execution_count": 2,
     "metadata": {},
     "output_type": "execute_result"
    }
   ],
   "source": [
    "data = pd.read_csv('/datasets/games.csv')\n",
    "data.head(15)"
   ]
  },
  {
   "cell_type": "markdown",
   "metadata": {},
   "source": [
    "Датасет имеет удовлетворительное качество данных. Для упрощения обработки заменим названия столбцов строчными символами. После этого рассмотрим количество пропусков данных."
   ]
  },
  {
   "cell_type": "code",
   "execution_count": 3,
   "metadata": {
    "scrolled": false
   },
   "outputs": [
    {
     "name": "stdout",
     "output_type": "stream",
     "text": [
      "<class 'pandas.core.frame.DataFrame'>\n",
      "RangeIndex: 16715 entries, 0 to 16714\n",
      "Data columns (total 11 columns):\n",
      " #   Column           Non-Null Count  Dtype  \n",
      "---  ------           --------------  -----  \n",
      " 0   name             16713 non-null  object \n",
      " 1   platform         16715 non-null  object \n",
      " 2   year_of_release  16446 non-null  float64\n",
      " 3   genre            16713 non-null  object \n",
      " 4   na_sales         16715 non-null  float64\n",
      " 5   eu_sales         16715 non-null  float64\n",
      " 6   jp_sales         16715 non-null  float64\n",
      " 7   other_sales      16715 non-null  float64\n",
      " 8   critic_score     8137 non-null   float64\n",
      " 9   user_score       10014 non-null  object \n",
      " 10  rating           9949 non-null   object \n",
      "dtypes: float64(6), object(5)\n",
      "memory usage: 1.4+ MB\n"
     ]
    }
   ],
   "source": [
    "data.columns = data.columns.astype(str).str.lower()\n",
    "data.info()"
   ]
  },
  {
   "cell_type": "markdown",
   "metadata": {},
   "source": [
    "Предварительный анализ датасета показывает, что имеются почти полностью заполненые разделы с объемом продажам,жанром,названием игры и платформой. Немного не хватает данных, связанных с годом выпуска игры. Данные об оценках и рейтинги заполнены наполовину, что является заметным для анализа."
   ]
  },
  {
   "cell_type": "markdown",
   "metadata": {},
   "source": [
    "## Подготовка данных"
   ]
  },
  {
   "cell_type": "markdown",
   "metadata": {},
   "source": [
    "Имеется порядка 300 пропусков в графе с годом релиза. Анализ пропусков не выявил закономерности их появления. Заполнение пропусков в столбце с годом релиза медианным значением не рекомендуется, т.к. приведёт к внесению явных ложных данных в датасете. Например, FIFA Soccer 2004 очевидно была выпущена в 2003-2004 году. При заполнении медианным значением 2007 получится очевидная ошибка, которая подорвет доверие к отчету. Для заполнения порядка 120 значений из 269 неизвестных сделано предположение, что мультиплатформенные игры выходят одновременно на разных платформах. Исходя из этого одинаковым играм на разных платформах присвоен равнозначный год. Дальнейшее заполнение пустых ячеек в столбце year_of_release весьма трудоемко.\n",
    "\n",
    "\n",
    "**Осторожно, длительное выполнение ячейчки!(10-15с)**"
   ]
  },
  {
   "cell_type": "code",
   "execution_count": 4,
   "metadata": {},
   "outputs": [
    {
     "name": "stdout",
     "output_type": "stream",
     "text": [
      "Количество строк без даты выпуска до обработки 269\n",
      "Количество строк без даты выпуска после обрабоки 146\n"
     ]
    }
   ],
   "source": [
    "data['year_of_release'] = data['year_of_release'].fillna(0).astype('int')\n",
    "print('Количество строк без даты выпуска до обработки', data.loc[(data['year_of_release'] == 0),'name'].count() )\n",
    "true_y = data.groupby('name')['year_of_release'].max() #составляем сгрупированный список всех игр\n",
    "#заполняем нулевые значения списком true_y\n",
    "for t in data['name'].unique():\n",
    "    if t in true_y:\n",
    "        data.loc[(data['name'] == t) & (data['year_of_release']==0), 'year_of_release'] = true_y[t]\n",
    "print('Количество строк без даты выпуска после обрабоки', data.loc[(data['year_of_release'] == 0),'name'].count() )"
   ]
  },
  {
   "cell_type": "markdown",
   "metadata": {},
   "source": [
    "Заполнение рейтинговых данных медианными значениями неразумно, т.к. отсутствующих значений примерно половина выборки. Это окажет большое влияние на процесс исследования. Пропуски в столбцах critic_score, user_score оставлены без изменений.\n",
    "Есть две игры без названия, имеющие пропуски многих столбцов и маленькие продажи. Эти игры были удалены без заметного влияния. Проверка на дубликаты показала их отсутствие. Пропуски в столбе rating заполнены значениями unknown. "
   ]
  },
  {
   "cell_type": "code",
   "execution_count": 5,
   "metadata": {
    "scrolled": true
   },
   "outputs": [
    {
     "name": "stdout",
     "output_type": "stream",
     "text": [
      "Количество явных дубликатов:  0\n"
     ]
    }
   ],
   "source": [
    "data['rating'] = data['rating'].fillna('unknown')\n",
    "print(\"Количество явных дубликатов: \", data.duplicated().sum()) \n",
    "data.dropna(subset =['name'], inplace=True)"
   ]
  },
  {
   "cell_type": "markdown",
   "metadata": {},
   "source": [
    "Пропуски значений в столбцах с оценками и рейтингом отчетливо прослеживаются для игр до 1996 года. Вероятнее всего до этого года не существовало практики выставления оценок. Поэтому имеются основания заполнить пустующие значения с рейтингами и оценками для игр до 1996 года нулями.\n",
    "\n",
    "\n",
    "Столбец user_score содержит значения 'tbd', что подразумевает ожидание рейтинга. По сути это просто уточнение причины пропуска, из-за которой рейтинг отсутствует, вследствие этого эти значения также заменены на NaN и преобразованы в числовой формат для удобной обработки и ранжирования. \n",
    "\n",
    "\n",
    "Далее, рассматривая столбец rating видим, что имеются игры с категорией K-A и E, что является одной категорией. Эти оценки приведены к более современному обозначению Е."
   ]
  },
  {
   "cell_type": "code",
   "execution_count": 6,
   "metadata": {},
   "outputs": [],
   "source": [
    "#print( data.groupby('year_of_release')['rating'].count() ) проверка появления рейтингов в 1996\n",
    "#data.loc[ (data['critic_score']!=data['critic_score']) & (data['year_of_release'] < 1996), 'critic_score'] = 0\n",
    "data.loc[  data['user_score']=='tbd' , 'user_score'] = np.nan\n",
    "data['user_score'] = data['user_score'].astype('float16')\n",
    "#data.loc[ (data['rating']!=data['rating']) & (data['year_of_release'] < 1996), 'rating' ] = 0\n",
    "data.loc[data['rating']=='K-A', 'rating'] = 'E'"
   ]
  },
  {
   "cell_type": "markdown",
   "metadata": {},
   "source": [
    "Внесем в датафрейм новый столбец с суммой продаж по всем регионам"
   ]
  },
  {
   "cell_type": "code",
   "execution_count": 7,
   "metadata": {},
   "outputs": [],
   "source": [
    "data['sum_sales'] = data['na_sales'] + data['eu_sales'] + data['jp_sales'] + data['other_sales']"
   ]
  },
  {
   "cell_type": "markdown",
   "metadata": {},
   "source": [
    "## Исследовательный анализ данных\n",
    "### Общий анализ"
   ]
  },
  {
   "cell_type": "markdown",
   "metadata": {},
   "source": [
    "Раасмотрим количество проданных игр по годам. При этом на графике ниже видно, что количество игр до 1990 года продавалось незначительно. После 1990 количество новых игр начало резко расти и достигло пика в 2008 году, после чего наметился такой же резкий спад. Наблюдается отчетливая тенденция к снижению продаж новых игр."
   ]
  },
  {
   "cell_type": "code",
   "execution_count": 8,
   "metadata": {
    "scrolled": false
   },
   "outputs": [
    {
     "data": {
      "image/png": "[encoded data removed]",
      "text/plain": [
       "<Figure size 504x504 with 1 Axes>"
      ]
     },
     "metadata": {
      "needs_background": "light"
     },
     "output_type": "display_data"
    }
   ],
   "source": [
    "plt.figure(figsize=(7,7))\n",
    "plt.xlabel('Года')\n",
    "plt.ylabel('Количество копий')\n",
    "plt.title('Диаграмма распределения продаж игр по годам')\n",
    "plt.hist(data['year_of_release'],bins=20, range=[1978, 2020] );"
   ]
  },
  {
   "cell_type": "code",
   "execution_count": 9,
   "metadata": {
    "scrolled": true
   },
   "outputs": [
    {
     "data": {
      "image/png": "[encoded data removed]",
      "text/plain": [
       "<Figure size 576x576 with 1 Axes>"
      ]
     },
     "metadata": {
      "needs_background": "light"
     },
     "output_type": "display_data"
    }
   ],
   "source": [
    "count_data = data.groupby('year_of_release')['name'].nunique().reset_index()\n",
    "plt.figure(figsize=(8,8))\n",
    "plt.xlabel('год')\n",
    "plt.ylabel('количество игр')\n",
    "plt.title('Количество оригинальных игр по годам')\n",
    "plt.xlim(1980, 2017)\n",
    "plt.bar('year_of_release', 'name', data=count_data);"
   ]
  },
  {
   "cell_type": "markdown",
   "metadata": {},
   "source": [
    "График показывает количество оригинальных игр, выпущенных с 1980 по 2016 год. При этом в целом график отражает тенденции графика выше."
   ]
  },
  {
   "cell_type": "markdown",
   "metadata": {},
   "source": [
    "Рассмотрим распределение продаж игр по платформам, для котороых они выпускались."
   ]
  },
  {
   "cell_type": "code",
   "execution_count": 10,
   "metadata": {},
   "outputs": [
    {
     "name": "stdout",
     "output_type": "stream",
     "text": [
      "          sum_sales\n",
      "platform           \n",
      "PS2         1255.77\n",
      "X360         971.42\n",
      "PS3          939.65\n",
      "Wii          907.51\n",
      "DS           806.12\n",
      "PS           730.86\n",
      "GBA          317.85\n",
      "PS4          314.14\n",
      "PSP          294.05\n",
      "PC           259.52\n",
      "3DS          259.00\n",
      "XB           257.74\n",
      "GB           255.46\n",
      "NES          251.05\n",
      "N64          218.68\n",
      "SNES         200.04\n",
      "GC           198.93\n",
      "XOne         159.32\n",
      "2600          96.98\n",
      "WiiU          82.19\n",
      "PSV           54.07\n",
      "SAT           33.59\n",
      "GEN           28.35\n",
      "DC            15.95\n",
      "SCD            1.86\n",
      "NG             1.44\n",
      "WS             1.42\n",
      "TG16           0.16\n",
      "3DO            0.10\n",
      "GG             0.04\n",
      "PCFX           0.03\n"
     ]
    }
   ],
   "source": [
    "print( data.pivot_table(index='platform', values='sum_sales',aggfunc='sum').sort_values('sum_sales',ascending=False))"
   ]
  },
  {
   "cell_type": "markdown",
   "metadata": {},
   "source": [
    "Самые большие продажи имеют игры на платформе PS2, X360, PS3, Wii, DS и PS. \n",
    "\n",
    "Рассмотрим как менялись продажи электронных игр на различных платформах за всех время. "
   ]
  },
  {
   "cell_type": "code",
   "execution_count": 11,
   "metadata": {
    "scrolled": true
   },
   "outputs": [
    {
     "data": {
      "image/png": "[encoded data removed]",
      "text/plain": [
       "<Figure size 1080x648 with 1 Axes>"
      ]
     },
     "metadata": {
      "needs_background": "light"
     },
     "output_type": "display_data"
    }
   ],
   "source": [
    "history_pl = data.pivot_table(index='year_of_release',columns='platform', values='sum_sales',aggfunc='sum')\n",
    "history_pl.plot(kind='line',xlim = [1985,2017],figsize = [15,9] , xlabel='Год',ylabel='количество проданных копий',  \n",
    "                title='Популярность платформ в разные года'  );"
   ]
  },
  {
   "cell_type": "markdown",
   "metadata": {},
   "source": [
    "Построенный график показывают, что пики продаж игр были в 1997-2012. К 2015 большинство игровых платформ растеряли поклонников. Среднее время жизни платформы порядка 6-10 лет. \n",
    "\n",
    "Определим год, с которого считаем данные актуальными для нас. Судя по графику начиная с 2012 года тенденции становятся заметными  и достаточными для анализа. \n",
    "Создадим датафрейм с интересующими годами и оценим продажи в последнее время. "
   ]
  },
  {
   "cell_type": "code",
   "execution_count": 12,
   "metadata": {
    "scrolled": true
   },
   "outputs": [
    {
     "data": {
      "image/png": "[encoded data removed]",
      "text/plain": [
       "<Figure size 1080x576 with 1 Axes>"
      ]
     },
     "metadata": {
      "needs_background": "light"
     },
     "output_type": "display_data"
    }
   ],
   "source": [
    "res_data = data.loc[data['year_of_release']>2012]\n",
    "piv_data = res_data.pivot_table(index='year_of_release',columns='platform', values='sum_sales',aggfunc='sum')\n",
    "piv_data.plot(kind='line',figsize = [15,8], xlabel='Год',ylabel='количество проданных копий',  \n",
    "                title='Популярность платформ в последние года');"
   ]
  },
  {
   "cell_type": "markdown",
   "metadata": {},
   "source": [
    "График отчетливо показывает, что продажи игр на всех платформах находятся на спаде или их продажи стабильно маленькие. Для проведения рекламных компаний следует сосредоточиться на продвижении игр для платформ Xone и PS4, однако следует осторожно относиться к продвижению, т.к. нет гарантии роста продаж. "
   ]
  },
  {
   "cell_type": "markdown",
   "metadata": {},
   "source": [
    "### Диаграммы и зависимости\n",
    "Построим график типа \"ящик с усами\""
   ]
  },
  {
   "cell_type": "code",
   "execution_count": 13,
   "metadata": {
    "scrolled": true
   },
   "outputs": [
    {
     "data": {
      "image/png": "[encoded data removed]",
      "text/plain": [
       "<Figure size 1296x432 with 1 Axes>"
      ]
     },
     "metadata": {
      "needs_background": "light"
     },
     "output_type": "display_data"
    }
   ],
   "source": [
    "plt.figure(figsize=(18,6))\n",
    "plt.xlim([0,3])\n",
    "plt.title('Диаграмма размаха платформ')\n",
    "sns.boxplot(data=res_data, x='sum_sales', y='platform'  );"
   ]
  },
  {
   "cell_type": "code",
   "execution_count": 17,
   "metadata": {},
   "outputs": [
    {
     "name": "stdout",
     "output_type": "stream",
     "text": [
      "   platform  sum_sales\n",
      "1        DS       1.54\n",
      "5       PSP       3.74\n",
      "7       Wii      13.66\n",
      "6       PSV      32.99\n",
      "2        PC      40.06\n",
      "8      WiiU      64.63\n",
      "9      X360     136.80\n",
      "0       3DS     143.25\n",
      "10     XOne     159.32\n",
      "3       PS3     181.43\n",
      "4       PS4     314.14\n"
     ]
    }
   ],
   "source": [
    "print(res_data.groupby('platform')['sum_sales'].sum().reset_index().sort_values('sum_sales') )"
   ]
  },
  {
   "cell_type": "markdown",
   "metadata": {},
   "source": [
    "На примере игры PS4 выявлена слабая связь между объемом продаж и критическими оценками. Связь между продажами и оценками пользователей почти отсутствует.\n",
    "\n",
    "Построим диаграмму рассеяния связи критических оценок с объемом продаж для игр на PS4."
   ]
  },
  {
   "cell_type": "code",
   "execution_count": null,
   "metadata": {},
   "outputs": [],
   "source": [
    "x_c = res_data.loc[res_data['platform']=='PS4', 'critic_score']\n",
    "y_c = res_data.loc[res_data['platform']=='PS4', 'sum_sales']\n",
    "plt.title('Связь критических оценок с объемом продаж PS4')\n",
    "sns.scatterplot(x=x_c, y=y_c);"
   ]
  },
  {
   "cell_type": "markdown",
   "metadata": {},
   "source": [
    "Основная информация о продажах игр сводится к следующей фразе - игры с рейтингом менее 6.0 продаются очень плохо. Игры с рейтингом более 6.0 могут продаваться хорошо, но это редко. Игр с рейтингом более 9.0 мало, но они все имеют неплохие продажи. "
   ]
  },
  {
   "cell_type": "code",
   "execution_count": null,
   "metadata": {},
   "outputs": [],
   "source": [
    "x_c = res_data.loc[res_data['platform']=='PS4', 'user_score']\n",
    "y_c = res_data.loc[res_data['platform']=='PS4', 'sum_sales']\n",
    "plt.title('Связь пользовательских оценок с объемом продаж PS4')\n",
    "sns.scatterplot(x=x_c, y=y_c);"
   ]
  },
  {
   "cell_type": "markdown",
   "metadata": {},
   "source": [
    "График показывает, что только игры с оцень низким рейтингом имеют слабые продажи. В целом пользовательские оценки не влияют на продажи. Самые большие продажи имеет игра с рейтингом 8,5, а за ней следует игра с рейтингом 4,5. "
   ]
  },
  {
   "cell_type": "markdown",
   "metadata": {},
   "source": [
    "### Анализ данных X360\n",
    "Рассмотрим как распределена корреляция для платформы X360"
   ]
  },
  {
   "cell_type": "code",
   "execution_count": null,
   "metadata": {
    "scrolled": true
   },
   "outputs": [],
   "source": [
    "res_data.loc[res_data['platform']=='X360',['sum_sales','critic_score','user_score']].corr()"
   ]
  },
  {
   "cell_type": "markdown",
   "metadata": {},
   "source": [
    "Для проверки взяты результаты анализа корреляции для платформы X360. Результаты предыдущего вывода подтверждаются. \n",
    "\n",
    "\n",
    "Построим диаграмму рассеяния связи критических оценок с объемом продаж для платформы X360."
   ]
  },
  {
   "cell_type": "code",
   "execution_count": null,
   "metadata": {},
   "outputs": [],
   "source": [
    "x_c = res_data.loc[res_data['platform']=='X360', 'critic_score']\n",
    "y_c = res_data.loc[res_data['platform']=='X360', 'sum_sales']\n",
    "plt.title('Связь критических оценок с объемом продаж X360')\n",
    "sns.scatterplot(x=x_c, y=y_c);"
   ]
  },
  {
   "cell_type": "markdown",
   "metadata": {},
   "source": [
    "Вывод во многом повторяет полученный для платформы PS4. Игры с рейтингом менее 6.0 продаются очень плохо. Игры с рейтингом более 6.0 могут продаваться хорошо, но это редко.\n",
    "\n",
    "Рассмотрим диаграмму рассеяния пользовательских оценок для платформы X360."
   ]
  },
  {
   "cell_type": "code",
   "execution_count": null,
   "metadata": {},
   "outputs": [],
   "source": [
    "x_c = res_data.loc[res_data['platform']=='X360', 'user_score']\n",
    "y_c = res_data.loc[res_data['platform']=='X360', 'sum_sales']\n",
    "plt.title('Связь пользовательских оценок с объемом продаж X360')\n",
    "sns.scatterplot(x=x_c, y=y_c);"
   ]
  },
  {
   "cell_type": "markdown",
   "metadata": {},
   "source": [
    "Вывод также соотносится с полученным ранее, за исключением одного выброса-игры с рейтингом 3. "
   ]
  },
  {
   "cell_type": "markdown",
   "metadata": {},
   "source": [
    "### Анализ данных XOne"
   ]
  },
  {
   "cell_type": "code",
   "execution_count": null,
   "metadata": {},
   "outputs": [],
   "source": [
    "res_data.loc[res_data['platform']=='XOne',['sum_sales','critic_score','user_score']].corr()"
   ]
  },
  {
   "cell_type": "markdown",
   "metadata": {},
   "source": [
    "Для дополнительной проверки взяты результаты анализа корреляции для платформы XOne. Результаты предыдущих выводов подтверждаются. \n",
    "\n",
    "Построим диаграмму рассеяния связи критических оценок с объемом продаж для платформы XOne."
   ]
  },
  {
   "cell_type": "code",
   "execution_count": null,
   "metadata": {},
   "outputs": [],
   "source": [
    "x_c = res_data.loc[res_data['platform']=='XOne', 'critic_score']\n",
    "y_c = res_data.loc[res_data['platform']=='XOne', 'sum_sales']\n",
    "plt.title('Связь критических оценок с объемом продаж XOne')\n",
    "sns.scatterplot(x=x_c, y=y_c);"
   ]
  },
  {
   "cell_type": "markdown",
   "metadata": {},
   "source": [
    "Игры с рейтингом менее 6.0 продаются очень плохо. Игры с рейтингом более 6.0 могут продаваться хорошо, но это редко.\n",
    "\n",
    "Рассмотрим диаграмму рассеяния пользовательских оценок для платформы XOne."
   ]
  },
  {
   "cell_type": "code",
   "execution_count": null,
   "metadata": {},
   "outputs": [],
   "source": [
    "x_c = res_data.loc[res_data['platform']=='XOne', 'user_score']\n",
    "y_c = res_data.loc[res_data['platform']=='XOne', 'sum_sales']\n",
    "plt.title('Связь пользовательских оценок с объемом продаж XOne')\n",
    "sns.scatterplot(x=x_c, y=y_c);"
   ]
  },
  {
   "cell_type": "markdown",
   "metadata": {},
   "source": [
    "График показывает, что только игры с оцень низким рейтингом имеют слабые продажи. Пользовательские оценки не влияют на продажи. Самые большие продажи имеет игра с рейтингом 8, а за ней следует игра с рейтингом 5,5. Близкие результаты получены для платформ PS4 и X360."
   ]
  },
  {
   "cell_type": "markdown",
   "metadata": {},
   "source": [
    "Рассмотрим как распределены продажи игр по жанрам. Попробуем найти самый прибыльный жанр - такой жанр, где медианные продажи  самые высокие. Согласно отсортированного списка видно, что самым прибыльными являются игры в жанре Shooter."
   ]
  },
  {
   "cell_type": "code",
   "execution_count": null,
   "metadata": {
    "scrolled": true
   },
   "outputs": [],
   "source": [
    "plt.figure(figsize=(18,6))\n",
    "plt.xlim([0,1.5])\n",
    "plt.title('Диаграмма размаха по жанрам')\n",
    "sns.boxplot(data=res_data, x='sum_sales', y='genre'  );"
   ]
  },
  {
   "cell_type": "code",
   "execution_count": null,
   "metadata": {
    "scrolled": true
   },
   "outputs": [],
   "source": [
    "print('Список медианных значений продаж по жанрам\\n', res_data.groupby('genre')['sum_sales'].median().sort_values(ascending=False) )"
   ]
  },
  {
   "cell_type": "markdown",
   "metadata": {},
   "source": [
    "## Портрет пользователя каждого региона"
   ]
  },
  {
   "cell_type": "markdown",
   "metadata": {},
   "source": [
    "Оценим данные по лидирующим платформам на трех рынках."
   ]
  },
  {
   "cell_type": "code",
   "execution_count": null,
   "metadata": {
    "scrolled": true
   },
   "outputs": [],
   "source": [
    "for item in ['na_sales','eu_sales','jp_sales']:\n",
    "    print(res_data.pivot_table(index='platform', values=item,aggfunc='sum')\\\n",
    "      .sort_values(by=item,ascending=False)\\\n",
    "      .reset_index()\\\n",
    "      .loc[0:4] , '\\n')"
   ]
  },
  {
   "cell_type": "markdown",
   "metadata": {},
   "source": [
    "В Северной Америке лидирует PS4, немного отстает Xone и X360. В Европе с серьезным отрывом лидирует PS4. В Японии с серьезным отрывом лидирует 3DS, втрое обгоняя PS3.\n",
    "\n",
    "Рассмотрим распределение предпочтений по жанрам игр среди трех континентов. "
   ]
  },
  {
   "cell_type": "code",
   "execution_count": null,
   "metadata": {
    "scrolled": true
   },
   "outputs": [],
   "source": [
    "for item in ['na_sales','eu_sales','jp_sales']:\n",
    "    print(res_data.pivot_table(index='genre', values=item,aggfunc='sum')\\\n",
    "      .sort_values(by=item,ascending=False)\\\n",
    "      .reset_index()\\\n",
    "      .loc[0:4] , '\\n')"
   ]
  },
  {
   "cell_type": "markdown",
   "metadata": {},
   "source": [
    "Жанровые предпочтения в Северной Америке и Европе очень похожи. В Японии же наблюдаются отличия в том, что первое место занимают Role-Playing игры, а Shooter пользуются очень слабой популярностью.\n",
    "\n",
    "Далее рассмотрим рейтинг возрастного ограничения и его связь с продажами. "
   ]
  },
  {
   "cell_type": "code",
   "execution_count": null,
   "metadata": {},
   "outputs": [],
   "source": [
    "for item in ['na_sales','eu_sales','jp_sales']:\n",
    "    print(res_data.pivot_table(index='rating', values=item,aggfunc='sum')\\\n",
    "      .sort_values(by=item,ascending=False)\\\n",
    "      .reset_index()\\\n",
    "      .loc[0:4] , '\\n')"
   ]
  },
  {
   "cell_type": "markdown",
   "metadata": {},
   "source": [
    "\"Влияет ли рейтинг ESRB на продажи в отдельном регионе?\" - этот вопрос немного неккоректен, т.к. вероятнее всего не рейтинг влияет на продажи, а жанровые предпочтения, которые уже в свою очередь влияют результаты количества продаж по рейтингам ESRB. Большие продажи игр в жанре Action приводят к увеличению продаж игр с рейтингом M, что заметно по рынкам Европы и Северной Америки. Вместе с тем игры без рейтинга занимают существенную роль в продажах на японском рынке. Вероятнее всего из-за того, что много игр не представлены на рынке Америки и не получили рейтинга. "
   ]
  },
  {
   "cell_type": "markdown",
   "metadata": {},
   "source": [
    "## Проверка гипотезы"
   ]
  },
  {
   "cell_type": "markdown",
   "metadata": {},
   "source": [
    "Рассмотрим сравнение средних пользовательских рейтингов платформ Xbox One и PC. Нулевая гипотеза - средние пользовательские рейтинги на Xbox One и PC равны. Альтернативная гипотеза - средние пользовательские рейтинги на Xbox One и PC не равны."
   ]
  },
  {
   "cell_type": "code",
   "execution_count": null,
   "metadata": {
    "scrolled": true
   },
   "outputs": [],
   "source": [
    "sample_xb = list( res_data.dropna(subset=['user_score']).loc[data['platform']=='XOne', 'user_score']  )\n",
    "sample_pc = list( res_data.dropna(subset=['user_score']).loc[data['platform']=='PC', 'user_score']  )\n",
    "alpha = .05 # критический уровень статистической значимости\n",
    "results = st.ttest_ind(sample_xb, sample_pc)\n",
    "print('p-значение:', results.pvalue)\n",
    "if results.pvalue < alpha:\n",
    "    print(\"Отвергаем нулевую гипотезу\")\n",
    "else:\n",
    "    print(\"Не получилось отвергнуть нулевую гипотезу\") "
   ]
  },
  {
   "cell_type": "markdown",
   "metadata": {},
   "source": [
    "При уровне статистической значимости 5% следует, что средние пользовательские рейтинги на Xbox One и PC равны.\n",
    "\n",
    "Рассмотрим следующую задачу. Необходимо подтвердить информацию о том, что средние пользовательские рейтинги жанров Action и Sports разные.\n",
    "- Нулевая гипотеза: cредние пользовательские рейтинги жанров Action и Sports равны. \n",
    "- Альтернативная гипотеза:  cредние пользовательские рейтинги жанров Action и Sports не равны."
   ]
  },
  {
   "cell_type": "code",
   "execution_count": null,
   "metadata": {},
   "outputs": [],
   "source": [
    "sample_ac = list(res_data.dropna(subset=['user_score']).loc[data['genre']=='Action', 'user_score']  )\n",
    "sample_sp = list(res_data.dropna(subset=['user_score']).loc[data['genre']=='Sports', 'user_score']  )\n",
    "alpha = .05 # критический уровень статистической значимости\n",
    "results = st.ttest_ind(sample_ac, sample_sp)\n",
    "print('p-значение:', results.pvalue)\n",
    "if results.pvalue < alpha:\n",
    "    print(\"Отвергаем нулевую гипотезу\")\n",
    "else:\n",
    "    print(\"Не получилось отвергнуть нулевую гипотезу\") "
   ]
  },
  {
   "cell_type": "markdown",
   "metadata": {},
   "source": [
    "На основе результатов видно, что средние пользовательские рейтинги жанров Action и Sports не равны. Альтернативная гипотеза считается более вероятной.\n",
    "\n",
    "Применен критерий о равенстве средних двух выборок. Для использования t-теста подходят условия его применения. "
   ]
  },
  {
   "cell_type": "markdown",
   "metadata": {},
   "source": [
    "## Вывод"
   ]
  },
  {
   "cell_type": "markdown",
   "metadata": {},
   "source": [
    "В данной работе был взят для анализа большой обьем данных про продажам игр. При подготовке к анализу ряд отсутствующих значений был заполнен актуальными значениями, две нерепрезентативные строки удалены. Тип данных приведен к удобному для анализа. \n",
    "\n",
    "При историческом осмотре видно, что бурный рост продаж игр начался с 1996 года и достиг пика в 2008 году. За это время несколько платформ сменили друг друга. Среднее время жизни платформы: 6-10 лет. В ходе анализа становится виден основной тренд продаж игр после 2010 года - количество проданных копий снижается. Надеяться на увеличение продаж следует с большой осторожностью. При этом только на двух платформах имеются шансы получить удовлетворительные результаты продаж - XOne и PS4. \n",
    "\n",
    "Особо большим спросом у жителей Северной Америки и Европы пользуются игры в жанре Action и Shooter. Для жителей Японии расклад несколько другой - на первом месте с большим отрывом игры в жанре Role-Playing и Action. \n",
    "\n",
    "По результатам рассмотрения суммарных продаж и оценок игры сделано заключение, что имеется слабая корреляция между обьемом продаж и критическими оценками, и нулевая связь между продажами и оценками пользователей. Данный вывод сделан в результате анализа трех платформ: PS4, X360 и XOne.\n",
    "\n",
    "Проверка гипотез показала , что средние пользовательские рейтинги на Xbox One и PC равны, а средние пользовательские рейтинги жанров Action и Sports не равны с уровнем статистической погрешности 5%. "
   ]
  }
 ],
 "metadata": {
  "ExecuteTimeLog": [
   {
    "duration": 51,
    "start_time": "2022-11-14T09:35:38.758Z"
   },
   {
    "duration": 366,
    "start_time": "2022-11-14T09:35:41.176Z"
   },
   {
    "duration": 245,
    "start_time": "2022-11-14T09:35:42.405Z"
   },
   {
    "duration": 52,
    "start_time": "2022-11-14T09:36:48.539Z"
   },
   {
    "duration": 30,
    "start_time": "2022-11-14T09:36:52.024Z"
   },
   {
    "duration": 31,
    "start_time": "2022-11-14T09:38:10.202Z"
   },
   {
    "duration": 8,
    "start_time": "2022-11-14T09:38:16.842Z"
   },
   {
    "duration": 3,
    "start_time": "2022-11-14T09:40:07.127Z"
   },
   {
    "duration": 4,
    "start_time": "2022-11-14T09:40:23.615Z"
   },
   {
    "duration": 9,
    "start_time": "2022-11-14T09:40:41.272Z"
   },
   {
    "duration": 8,
    "start_time": "2022-11-14T09:40:59.400Z"
   },
   {
    "duration": 8,
    "start_time": "2022-11-14T09:42:30.462Z"
   },
   {
    "duration": 8,
    "start_time": "2022-11-14T09:42:37.964Z"
   },
   {
    "duration": 77,
    "start_time": "2022-11-14T09:48:36.729Z"
   },
   {
    "duration": 8,
    "start_time": "2022-11-14T09:48:49.623Z"
   },
   {
    "duration": 3,
    "start_time": "2022-11-14T09:49:01.973Z"
   },
   {
    "duration": 11,
    "start_time": "2022-11-14T09:49:13.410Z"
   },
   {
    "duration": 15,
    "start_time": "2022-11-14T09:49:43.833Z"
   },
   {
    "duration": 4,
    "start_time": "2022-11-14T09:49:54.396Z"
   },
   {
    "duration": 425,
    "start_time": "2022-11-14T09:50:05.615Z"
   },
   {
    "duration": 57,
    "start_time": "2022-11-14T09:50:06.042Z"
   },
   {
    "duration": 16,
    "start_time": "2022-11-14T09:50:06.101Z"
   },
   {
    "duration": 25,
    "start_time": "2022-11-14T09:50:06.119Z"
   },
   {
    "duration": 14,
    "start_time": "2022-11-14T09:50:31.493Z"
   },
   {
    "duration": 27,
    "start_time": "2022-11-14T09:50:36.361Z"
   },
   {
    "duration": 14,
    "start_time": "2022-11-14T09:50:37.859Z"
   },
   {
    "duration": 69,
    "start_time": "2022-11-14T10:53:48.643Z"
   },
   {
    "duration": 18,
    "start_time": "2022-11-14T10:53:56.719Z"
   },
   {
    "duration": 17,
    "start_time": "2022-11-14T10:54:41.631Z"
   },
   {
    "duration": 16,
    "start_time": "2022-11-14T10:56:33.702Z"
   },
   {
    "duration": 9,
    "start_time": "2022-11-14T10:56:48.013Z"
   },
   {
    "duration": 8,
    "start_time": "2022-11-14T11:03:43.974Z"
   },
   {
    "duration": 441,
    "start_time": "2022-11-14T11:03:51.297Z"
   },
   {
    "duration": 54,
    "start_time": "2022-11-14T11:03:51.740Z"
   },
   {
    "duration": 24,
    "start_time": "2022-11-14T11:03:51.795Z"
   },
   {
    "duration": 17,
    "start_time": "2022-11-14T11:03:51.820Z"
   },
   {
    "duration": 3,
    "start_time": "2022-11-14T11:03:51.840Z"
   },
   {
    "duration": 1237,
    "start_time": "2022-11-14T11:03:51.846Z"
   },
   {
    "duration": 5,
    "start_time": "2022-11-14T11:07:24.082Z"
   },
   {
    "duration": 16,
    "start_time": "2022-11-14T11:07:34.832Z"
   },
   {
    "duration": 460,
    "start_time": "2022-11-14T11:07:46.501Z"
   },
   {
    "duration": 54,
    "start_time": "2022-11-14T11:07:46.963Z"
   },
   {
    "duration": 24,
    "start_time": "2022-11-14T11:07:47.019Z"
   },
   {
    "duration": 14,
    "start_time": "2022-11-14T11:07:47.044Z"
   },
   {
    "duration": 4,
    "start_time": "2022-11-14T11:07:47.060Z"
   },
   {
    "duration": 20,
    "start_time": "2022-11-14T11:07:47.065Z"
   },
   {
    "duration": 14,
    "start_time": "2022-11-14T11:08:20.403Z"
   },
   {
    "duration": 15,
    "start_time": "2022-11-14T11:08:26.737Z"
   },
   {
    "duration": 74,
    "start_time": "2022-11-14T11:09:00.785Z"
   },
   {
    "duration": 16,
    "start_time": "2022-11-14T11:11:06.967Z"
   },
   {
    "duration": 13,
    "start_time": "2022-11-14T11:11:16.088Z"
   },
   {
    "duration": 16,
    "start_time": "2022-11-14T11:11:44.564Z"
   },
   {
    "duration": 15,
    "start_time": "2022-11-14T11:17:04.815Z"
   },
   {
    "duration": 9,
    "start_time": "2022-11-14T11:17:19.548Z"
   },
   {
    "duration": 13,
    "start_time": "2022-11-14T11:17:29.698Z"
   },
   {
    "duration": 13,
    "start_time": "2022-11-14T11:20:09.125Z"
   },
   {
    "duration": 16,
    "start_time": "2022-11-14T11:21:27.135Z"
   },
   {
    "duration": 15,
    "start_time": "2022-11-14T11:23:51.304Z"
   },
   {
    "duration": 40,
    "start_time": "2022-11-14T11:24:21.671Z"
   },
   {
    "duration": 24,
    "start_time": "2022-11-14T11:26:05.896Z"
   },
   {
    "duration": 34,
    "start_time": "2022-11-14T11:28:32.638Z"
   },
   {
    "duration": 19,
    "start_time": "2022-11-14T11:29:05.979Z"
   },
   {
    "duration": 19,
    "start_time": "2022-11-14T11:29:21.040Z"
   },
   {
    "duration": 9,
    "start_time": "2022-11-14T11:29:32.010Z"
   },
   {
    "duration": 8,
    "start_time": "2022-11-14T11:29:39.025Z"
   },
   {
    "duration": 7,
    "start_time": "2022-11-14T11:30:08.208Z"
   },
   {
    "duration": 7,
    "start_time": "2022-11-14T11:30:28.183Z"
   },
   {
    "duration": 8,
    "start_time": "2022-11-14T11:30:37.790Z"
   },
   {
    "duration": 8,
    "start_time": "2022-11-14T11:30:52.582Z"
   },
   {
    "duration": 8,
    "start_time": "2022-11-14T11:31:08.880Z"
   },
   {
    "duration": 8,
    "start_time": "2022-11-14T11:31:17.266Z"
   },
   {
    "duration": 16,
    "start_time": "2022-11-14T11:38:42.536Z"
   },
   {
    "duration": 15,
    "start_time": "2022-11-14T11:39:26.048Z"
   },
   {
    "duration": 18,
    "start_time": "2022-11-14T11:40:20.639Z"
   },
   {
    "duration": 3,
    "start_time": "2022-11-14T11:45:28.503Z"
   },
   {
    "duration": 1077,
    "start_time": "2022-11-14T11:45:34.056Z"
   },
   {
    "duration": 694,
    "start_time": "2022-11-14T11:45:52.377Z"
   },
   {
    "duration": 9,
    "start_time": "2022-11-14T11:46:10.731Z"
   },
   {
    "duration": 18,
    "start_time": "2022-11-14T11:46:21.012Z"
   },
   {
    "duration": 16,
    "start_time": "2022-11-14T11:46:43.344Z"
   },
   {
    "duration": 443,
    "start_time": "2022-11-14T11:46:52.799Z"
   },
   {
    "duration": 54,
    "start_time": "2022-11-14T11:46:53.244Z"
   },
   {
    "duration": 24,
    "start_time": "2022-11-14T11:46:53.299Z"
   },
   {
    "duration": 13,
    "start_time": "2022-11-14T11:46:53.325Z"
   },
   {
    "duration": 6,
    "start_time": "2022-11-14T11:46:53.340Z"
   },
   {
    "duration": 96,
    "start_time": "2022-11-14T11:46:53.348Z"
   },
   {
    "duration": 0,
    "start_time": "2022-11-14T11:46:53.446Z"
   },
   {
    "duration": 0,
    "start_time": "2022-11-14T11:46:53.447Z"
   },
   {
    "duration": 0,
    "start_time": "2022-11-14T11:46:53.449Z"
   },
   {
    "duration": 20,
    "start_time": "2022-11-14T11:47:20.310Z"
   },
   {
    "duration": 18,
    "start_time": "2022-11-14T11:47:37.398Z"
   },
   {
    "duration": 16,
    "start_time": "2022-11-14T11:47:42.756Z"
   },
   {
    "duration": 17,
    "start_time": "2022-11-14T11:48:02.081Z"
   },
   {
    "duration": 19,
    "start_time": "2022-11-14T11:48:08.405Z"
   },
   {
    "duration": 360,
    "start_time": "2022-11-14T11:48:22.374Z"
   },
   {
    "duration": 54,
    "start_time": "2022-11-14T11:48:22.736Z"
   },
   {
    "duration": 26,
    "start_time": "2022-11-14T11:48:22.792Z"
   },
   {
    "duration": 14,
    "start_time": "2022-11-14T11:48:22.820Z"
   },
   {
    "duration": 7,
    "start_time": "2022-11-14T11:48:22.836Z"
   },
   {
    "duration": 54,
    "start_time": "2022-11-14T11:48:22.845Z"
   },
   {
    "duration": 15,
    "start_time": "2022-11-14T11:48:22.900Z"
   },
   {
    "duration": 16,
    "start_time": "2022-11-14T11:48:22.916Z"
   },
   {
    "duration": 22,
    "start_time": "2022-11-14T11:48:22.934Z"
   },
   {
    "duration": 607,
    "start_time": "2022-11-14T11:49:13.191Z"
   },
   {
    "duration": 115,
    "start_time": "2022-11-14T11:49:35.031Z"
   },
   {
    "duration": 112,
    "start_time": "2022-11-14T11:49:51.497Z"
   },
   {
    "duration": 131,
    "start_time": "2022-11-14T11:50:41.800Z"
   },
   {
    "duration": 205,
    "start_time": "2022-11-14T11:51:18.715Z"
   },
   {
    "duration": 411,
    "start_time": "2022-11-14T11:51:52.356Z"
   },
   {
    "duration": 58,
    "start_time": "2022-11-14T11:51:52.769Z"
   },
   {
    "duration": 27,
    "start_time": "2022-11-14T11:51:52.828Z"
   },
   {
    "duration": 16,
    "start_time": "2022-11-14T11:51:52.857Z"
   },
   {
    "duration": 4,
    "start_time": "2022-11-14T11:51:52.876Z"
   },
   {
    "duration": 486,
    "start_time": "2022-11-14T11:51:52.882Z"
   },
   {
    "duration": 0,
    "start_time": "2022-11-14T11:51:53.370Z"
   },
   {
    "duration": 0,
    "start_time": "2022-11-14T11:51:53.372Z"
   },
   {
    "duration": 0,
    "start_time": "2022-11-14T11:51:53.374Z"
   },
   {
    "duration": 19,
    "start_time": "2022-11-14T11:52:24.909Z"
   },
   {
    "duration": 127,
    "start_time": "2022-11-14T11:53:33.646Z"
   },
   {
    "duration": 19,
    "start_time": "2022-11-14T11:53:46.014Z"
   },
   {
    "duration": 18,
    "start_time": "2022-11-14T11:53:51.040Z"
   },
   {
    "duration": 20,
    "start_time": "2022-11-14T11:54:01.301Z"
   },
   {
    "duration": 21,
    "start_time": "2022-11-14T11:55:47.213Z"
   },
   {
    "duration": 24,
    "start_time": "2022-11-14T11:56:42.719Z"
   },
   {
    "duration": 139,
    "start_time": "2022-11-14T11:57:00.028Z"
   },
   {
    "duration": 16,
    "start_time": "2022-11-14T11:59:02.998Z"
   },
   {
    "duration": 9,
    "start_time": "2022-11-14T11:59:10.448Z"
   },
   {
    "duration": 15,
    "start_time": "2022-11-14T11:59:12.830Z"
   },
   {
    "duration": 19,
    "start_time": "2022-11-14T12:02:11.225Z"
   },
   {
    "duration": 398,
    "start_time": "2022-11-14T12:02:22.250Z"
   },
   {
    "duration": 52,
    "start_time": "2022-11-14T12:02:22.650Z"
   },
   {
    "duration": 0,
    "start_time": "2022-11-14T12:02:22.705Z"
   },
   {
    "duration": 0,
    "start_time": "2022-11-14T12:02:22.706Z"
   },
   {
    "duration": 0,
    "start_time": "2022-11-14T12:02:22.707Z"
   },
   {
    "duration": 0,
    "start_time": "2022-11-14T12:02:22.708Z"
   },
   {
    "duration": 0,
    "start_time": "2022-11-14T12:02:22.710Z"
   },
   {
    "duration": 0,
    "start_time": "2022-11-14T12:02:22.711Z"
   },
   {
    "duration": 0,
    "start_time": "2022-11-14T12:02:22.713Z"
   },
   {
    "duration": 0,
    "start_time": "2022-11-14T12:02:22.714Z"
   },
   {
    "duration": 67,
    "start_time": "2022-11-14T12:02:36.396Z"
   },
   {
    "duration": 389,
    "start_time": "2022-11-14T12:02:43.077Z"
   },
   {
    "duration": 56,
    "start_time": "2022-11-14T12:02:43.469Z"
   },
   {
    "duration": 31,
    "start_time": "2022-11-14T12:02:43.527Z"
   },
   {
    "duration": 30,
    "start_time": "2022-11-14T12:02:43.561Z"
   },
   {
    "duration": 8,
    "start_time": "2022-11-14T12:02:43.593Z"
   },
   {
    "duration": 416,
    "start_time": "2022-11-14T12:02:43.603Z"
   },
   {
    "duration": 16,
    "start_time": "2022-11-14T12:02:44.021Z"
   },
   {
    "duration": 29,
    "start_time": "2022-11-14T12:02:44.039Z"
   },
   {
    "duration": 19,
    "start_time": "2022-11-14T12:02:44.070Z"
   },
   {
    "duration": 162,
    "start_time": "2022-11-14T12:06:26.728Z"
   },
   {
    "duration": 151,
    "start_time": "2022-11-14T12:06:42.117Z"
   },
   {
    "duration": 143,
    "start_time": "2022-11-14T12:07:50.799Z"
   },
   {
    "duration": 143,
    "start_time": "2022-11-14T12:08:01.089Z"
   },
   {
    "duration": 202,
    "start_time": "2022-11-14T12:08:17.262Z"
   },
   {
    "duration": 145,
    "start_time": "2022-11-14T12:08:20.611Z"
   },
   {
    "duration": 152,
    "start_time": "2022-11-14T12:08:23.387Z"
   },
   {
    "duration": 143,
    "start_time": "2022-11-14T12:08:25.903Z"
   },
   {
    "duration": 142,
    "start_time": "2022-11-14T12:08:29.492Z"
   },
   {
    "duration": 692,
    "start_time": "2022-11-14T12:10:02.502Z"
   },
   {
    "duration": 684,
    "start_time": "2022-11-14T12:34:22.050Z"
   },
   {
    "duration": 78,
    "start_time": "2022-11-14T12:34:39.257Z"
   },
   {
    "duration": 86,
    "start_time": "2022-11-14T12:34:47.234Z"
   },
   {
    "duration": 605,
    "start_time": "2022-11-14T12:34:59.082Z"
   },
   {
    "duration": 49,
    "start_time": "2022-11-14T12:35:10.799Z"
   },
   {
    "duration": 607,
    "start_time": "2022-11-14T12:35:20.232Z"
   },
   {
    "duration": 770,
    "start_time": "2022-11-14T12:35:25.903Z"
   },
   {
    "duration": 907,
    "start_time": "2022-11-14T12:35:33.099Z"
   },
   {
    "duration": 1096,
    "start_time": "2022-11-14T12:44:31.636Z"
   },
   {
    "duration": 771,
    "start_time": "2022-11-14T12:46:08.972Z"
   },
   {
    "duration": 187,
    "start_time": "2022-11-14T12:46:17.970Z"
   },
   {
    "duration": 170,
    "start_time": "2022-11-14T12:46:21.255Z"
   },
   {
    "duration": 593,
    "start_time": "2022-11-14T12:46:34.234Z"
   },
   {
    "duration": 251,
    "start_time": "2022-11-14T12:48:27.377Z"
   },
   {
    "duration": 4,
    "start_time": "2022-11-14T12:49:32.808Z"
   },
   {
    "duration": 16,
    "start_time": "2022-11-14T12:49:35.288Z"
   },
   {
    "duration": 17,
    "start_time": "2022-11-14T13:01:11.234Z"
   },
   {
    "duration": 5,
    "start_time": "2022-11-14T13:05:33.736Z"
   },
   {
    "duration": 1248,
    "start_time": "2022-11-14T13:05:39.824Z"
   },
   {
    "duration": 530,
    "start_time": "2022-11-14T13:06:09.072Z"
   },
   {
    "duration": 12,
    "start_time": "2022-11-14T13:07:05.378Z"
   },
   {
    "duration": 11,
    "start_time": "2022-11-14T13:07:17.508Z"
   },
   {
    "duration": 15,
    "start_time": "2022-11-14T13:07:28.762Z"
   },
   {
    "duration": 5,
    "start_time": "2022-11-14T13:11:24.767Z"
   },
   {
    "duration": 30,
    "start_time": "2022-11-14T13:11:35.678Z"
   },
   {
    "duration": 33,
    "start_time": "2022-11-14T13:12:05.350Z"
   },
   {
    "duration": 22,
    "start_time": "2022-11-14T13:12:24.945Z"
   },
   {
    "duration": 22,
    "start_time": "2022-11-14T13:18:42.082Z"
   },
   {
    "duration": 16,
    "start_time": "2022-11-14T13:19:33.192Z"
   },
   {
    "duration": 16,
    "start_time": "2022-11-14T13:20:02.774Z"
   },
   {
    "duration": 18,
    "start_time": "2022-11-14T13:20:08.034Z"
   },
   {
    "duration": 23,
    "start_time": "2022-11-14T13:20:13.063Z"
   },
   {
    "duration": 21,
    "start_time": "2022-11-14T13:20:23.801Z"
   },
   {
    "duration": 32,
    "start_time": "2022-11-14T13:21:57.754Z"
   },
   {
    "duration": 36,
    "start_time": "2022-11-14T13:22:06.308Z"
   },
   {
    "duration": 791,
    "start_time": "2022-11-14T13:22:51.271Z"
   },
   {
    "duration": 52,
    "start_time": "2022-11-14T13:28:09.278Z"
   },
   {
    "duration": 53,
    "start_time": "2022-11-14T13:29:34.558Z"
   },
   {
    "duration": 439,
    "start_time": "2022-11-14T13:30:17.705Z"
   },
   {
    "duration": 54,
    "start_time": "2022-11-14T13:30:18.146Z"
   },
   {
    "duration": 27,
    "start_time": "2022-11-14T13:30:18.201Z"
   },
   {
    "duration": 15,
    "start_time": "2022-11-14T13:30:18.231Z"
   },
   {
    "duration": 4,
    "start_time": "2022-11-14T13:30:18.248Z"
   },
   {
    "duration": 111,
    "start_time": "2022-11-14T13:30:18.254Z"
   },
   {
    "duration": 0,
    "start_time": "2022-11-14T13:30:18.367Z"
   },
   {
    "duration": 0,
    "start_time": "2022-11-14T13:30:18.368Z"
   },
   {
    "duration": 0,
    "start_time": "2022-11-14T13:30:18.370Z"
   },
   {
    "duration": 49,
    "start_time": "2022-11-14T13:31:20.051Z"
   },
   {
    "duration": 35,
    "start_time": "2022-11-14T13:31:33.551Z"
   },
   {
    "duration": 41,
    "start_time": "2022-11-14T13:31:56.402Z"
   },
   {
    "duration": 3,
    "start_time": "2022-11-14T13:32:48.014Z"
   },
   {
    "duration": 64,
    "start_time": "2022-11-14T13:32:48.019Z"
   },
   {
    "duration": 20,
    "start_time": "2022-11-14T13:32:48.085Z"
   },
   {
    "duration": 17,
    "start_time": "2022-11-14T13:32:48.108Z"
   },
   {
    "duration": 4,
    "start_time": "2022-11-14T13:32:48.128Z"
   },
   {
    "duration": 45,
    "start_time": "2022-11-14T13:32:48.133Z"
   },
   {
    "duration": 14,
    "start_time": "2022-11-14T13:32:48.180Z"
   },
   {
    "duration": 23,
    "start_time": "2022-11-14T13:32:48.196Z"
   },
   {
    "duration": 26,
    "start_time": "2022-11-14T13:32:48.222Z"
   },
   {
    "duration": 766,
    "start_time": "2022-11-14T13:33:12.449Z"
   },
   {
    "duration": 11,
    "start_time": "2022-11-14T13:34:16.703Z"
   },
   {
    "duration": 38,
    "start_time": "2022-11-14T13:34:38.932Z"
   },
   {
    "duration": 868,
    "start_time": "2022-11-14T13:36:24.964Z"
   },
   {
    "duration": 799,
    "start_time": "2022-11-14T13:48:41.450Z"
   },
   {
    "duration": 30,
    "start_time": "2022-11-14T13:48:57.467Z"
   },
   {
    "duration": 33,
    "start_time": "2022-11-14T13:49:19.525Z"
   },
   {
    "duration": 30,
    "start_time": "2022-11-14T13:49:37.547Z"
   },
   {
    "duration": 408,
    "start_time": "2022-11-14T13:59:14.755Z"
   },
   {
    "duration": 58,
    "start_time": "2022-11-14T13:59:15.165Z"
   },
   {
    "duration": 29,
    "start_time": "2022-11-14T13:59:15.225Z"
   },
   {
    "duration": 16,
    "start_time": "2022-11-14T13:59:15.256Z"
   },
   {
    "duration": 3,
    "start_time": "2022-11-14T13:59:15.274Z"
   },
   {
    "duration": 20,
    "start_time": "2022-11-14T13:59:58.804Z"
   },
   {
    "duration": 6,
    "start_time": "2022-11-14T13:59:58.826Z"
   },
   {
    "duration": 18,
    "start_time": "2022-11-14T13:59:58.834Z"
   },
   {
    "duration": 43608,
    "start_time": "2022-11-14T13:59:58.855Z"
   },
   {
    "duration": 45099,
    "start_time": "2022-11-14T14:01:15.816Z"
   },
   {
    "duration": 44929,
    "start_time": "2022-11-14T14:02:29.352Z"
   },
   {
    "duration": 44006,
    "start_time": "2022-11-14T14:04:47.599Z"
   },
   {
    "duration": 391,
    "start_time": "2022-11-14T14:06:18.477Z"
   },
   {
    "duration": 57,
    "start_time": "2022-11-14T14:06:18.870Z"
   },
   {
    "duration": 28,
    "start_time": "2022-11-14T14:06:18.929Z"
   },
   {
    "duration": 15,
    "start_time": "2022-11-14T14:06:18.959Z"
   },
   {
    "duration": 3,
    "start_time": "2022-11-14T14:06:18.976Z"
   },
   {
    "duration": 39191,
    "start_time": "2022-11-14T14:06:18.980Z"
   },
   {
    "duration": 16,
    "start_time": "2022-11-14T14:06:58.172Z"
   },
   {
    "duration": 9,
    "start_time": "2022-11-14T14:06:58.190Z"
   },
   {
    "duration": 27,
    "start_time": "2022-11-14T14:06:58.200Z"
   },
   {
    "duration": 39332,
    "start_time": "2022-11-14T14:11:02.846Z"
   },
   {
    "duration": 16,
    "start_time": "2022-11-14T14:14:42.312Z"
   },
   {
    "duration": 96,
    "start_time": "2022-11-14T14:16:19.348Z"
   },
   {
    "duration": 845,
    "start_time": "2022-11-14T14:17:03.578Z"
   },
   {
    "duration": 39114,
    "start_time": "2022-11-14T14:17:24.015Z"
   },
   {
    "duration": 3,
    "start_time": "2022-11-14T14:20:49.339Z"
   },
   {
    "duration": 16,
    "start_time": "2022-11-14T14:20:58.766Z"
   },
   {
    "duration": 30671,
    "start_time": "2022-11-14T14:23:08.185Z"
   },
   {
    "duration": 8,
    "start_time": "2022-11-14T14:23:38.864Z"
   },
   {
    "duration": 13,
    "start_time": "2022-11-14T14:23:46.634Z"
   },
   {
    "duration": 14,
    "start_time": "2022-11-14T14:24:13.741Z"
   },
   {
    "duration": 31230,
    "start_time": "2022-11-14T14:25:51.578Z"
   },
   {
    "duration": 31101,
    "start_time": "2022-11-14T14:27:26.365Z"
   },
   {
    "duration": 24,
    "start_time": "2022-11-14T14:28:36.014Z"
   },
   {
    "duration": 2,
    "start_time": "2022-11-14T14:29:32.838Z"
   },
   {
    "duration": 100,
    "start_time": "2022-11-14T14:29:32.849Z"
   },
   {
    "duration": 19,
    "start_time": "2022-11-14T14:29:32.951Z"
   },
   {
    "duration": 60,
    "start_time": "2022-11-14T14:29:32.971Z"
   },
   {
    "duration": 14,
    "start_time": "2022-11-14T14:29:33.033Z"
   },
   {
    "duration": 30927,
    "start_time": "2022-11-14T14:29:33.049Z"
   },
   {
    "duration": 16,
    "start_time": "2022-11-14T14:30:03.978Z"
   },
   {
    "duration": 27,
    "start_time": "2022-11-14T14:30:03.996Z"
   },
   {
    "duration": 11,
    "start_time": "2022-11-14T14:30:04.025Z"
   },
   {
    "duration": 27,
    "start_time": "2022-11-14T14:30:04.037Z"
   },
   {
    "duration": 30819,
    "start_time": "2022-11-14T14:36:35.644Z"
   },
   {
    "duration": 31055,
    "start_time": "2022-11-14T14:37:28.059Z"
   },
   {
    "duration": 18,
    "start_time": "2022-11-14T14:39:18.605Z"
   },
   {
    "duration": 9,
    "start_time": "2022-11-14T14:39:23.657Z"
   },
   {
    "duration": 30066,
    "start_time": "2022-11-14T14:40:31.811Z"
   },
   {
    "duration": 30381,
    "start_time": "2022-11-14T14:44:09.429Z"
   },
   {
    "duration": 18039,
    "start_time": "2022-11-14T14:47:02.564Z"
   },
   {
    "duration": 30218,
    "start_time": "2022-11-14T14:48:17.143Z"
   },
   {
    "duration": 361,
    "start_time": "2022-11-14T14:49:06.775Z"
   },
   {
    "duration": 54,
    "start_time": "2022-11-14T14:49:07.138Z"
   },
   {
    "duration": 27,
    "start_time": "2022-11-14T14:49:07.194Z"
   },
   {
    "duration": 14,
    "start_time": "2022-11-14T14:49:07.224Z"
   },
   {
    "duration": 3,
    "start_time": "2022-11-14T14:49:07.240Z"
   },
   {
    "duration": 29632,
    "start_time": "2022-11-14T14:49:07.245Z"
   },
   {
    "duration": 777,
    "start_time": "2022-11-14T14:49:36.879Z"
   },
   {
    "duration": 0,
    "start_time": "2022-11-14T14:49:37.658Z"
   },
   {
    "duration": 0,
    "start_time": "2022-11-14T14:49:37.659Z"
   },
   {
    "duration": 0,
    "start_time": "2022-11-14T14:49:37.660Z"
   },
   {
    "duration": 10,
    "start_time": "2022-11-14T14:50:12.056Z"
   },
   {
    "duration": 51,
    "start_time": "2022-11-14T14:52:25.375Z"
   },
   {
    "duration": 46,
    "start_time": "2022-11-14T14:53:07.119Z"
   },
   {
    "duration": 54,
    "start_time": "2022-11-14T14:53:50.476Z"
   },
   {
    "duration": 41,
    "start_time": "2022-11-14T14:53:56.262Z"
   },
   {
    "duration": 8,
    "start_time": "2022-11-14T14:54:49.404Z"
   },
   {
    "duration": 10,
    "start_time": "2022-11-14T14:55:16.088Z"
   },
   {
    "duration": 7,
    "start_time": "2022-11-14T14:56:01.059Z"
   },
   {
    "duration": 38,
    "start_time": "2022-11-14T14:58:07.102Z"
   },
   {
    "duration": 36,
    "start_time": "2022-11-14T14:59:10.400Z"
   },
   {
    "duration": 616,
    "start_time": "2022-11-14T15:01:09.887Z"
   },
   {
    "duration": 38,
    "start_time": "2022-11-14T15:01:43.810Z"
   },
   {
    "duration": 782,
    "start_time": "2022-11-14T15:02:09.278Z"
   },
   {
    "duration": 893,
    "start_time": "2022-11-14T15:02:59.355Z"
   },
   {
    "duration": 36,
    "start_time": "2022-11-14T15:04:13.614Z"
   },
   {
    "duration": 39,
    "start_time": "2022-11-14T15:04:18.965Z"
   },
   {
    "duration": 32,
    "start_time": "2022-11-14T15:04:27.480Z"
   },
   {
    "duration": 32,
    "start_time": "2022-11-14T15:05:10.127Z"
   },
   {
    "duration": 30,
    "start_time": "2022-11-14T15:11:54.132Z"
   },
   {
    "duration": 28,
    "start_time": "2022-11-14T15:12:16.148Z"
   },
   {
    "duration": 28,
    "start_time": "2022-11-14T15:12:31.386Z"
   },
   {
    "duration": 29,
    "start_time": "2022-11-14T15:12:58.794Z"
   },
   {
    "duration": 34,
    "start_time": "2022-11-14T15:14:03.379Z"
   },
   {
    "duration": 35,
    "start_time": "2022-11-14T15:14:11.136Z"
   },
   {
    "duration": 46,
    "start_time": "2022-11-14T15:15:06.598Z"
   },
   {
    "duration": 788,
    "start_time": "2022-11-14T15:15:12.563Z"
   },
   {
    "duration": 1676,
    "start_time": "2022-11-14T15:16:42.387Z"
   },
   {
    "duration": 429,
    "start_time": "2022-11-14T15:17:14.021Z"
   },
   {
    "duration": 55,
    "start_time": "2022-11-14T15:17:14.452Z"
   },
   {
    "duration": 26,
    "start_time": "2022-11-14T15:17:14.509Z"
   },
   {
    "duration": 14,
    "start_time": "2022-11-14T15:17:14.537Z"
   },
   {
    "duration": 3,
    "start_time": "2022-11-14T15:17:14.554Z"
   },
   {
    "duration": 1761,
    "start_time": "2022-11-14T15:17:14.559Z"
   },
   {
    "duration": 0,
    "start_time": "2022-11-14T15:17:16.322Z"
   },
   {
    "duration": 0,
    "start_time": "2022-11-14T15:17:16.323Z"
   },
   {
    "duration": 0,
    "start_time": "2022-11-14T15:17:16.325Z"
   },
   {
    "duration": 0,
    "start_time": "2022-11-14T15:17:16.326Z"
   },
   {
    "duration": 1783,
    "start_time": "2022-11-14T15:19:18.555Z"
   },
   {
    "duration": 23848,
    "start_time": "2022-11-14T15:21:04.997Z"
   },
   {
    "duration": 55,
    "start_time": "2022-11-14T15:23:50.785Z"
   },
   {
    "duration": 430,
    "start_time": "2022-11-14T15:23:59.688Z"
   },
   {
    "duration": 56,
    "start_time": "2022-11-14T15:24:00.120Z"
   },
   {
    "duration": 40,
    "start_time": "2022-11-14T15:24:00.178Z"
   },
   {
    "duration": 56,
    "start_time": "2022-11-14T15:24:00.219Z"
   },
   {
    "duration": 34,
    "start_time": "2022-11-14T15:24:00.277Z"
   },
   {
    "duration": 22716,
    "start_time": "2022-11-14T15:24:00.313Z"
   },
   {
    "duration": 745,
    "start_time": "2022-11-14T15:24:23.030Z"
   },
   {
    "duration": 0,
    "start_time": "2022-11-14T15:24:23.777Z"
   },
   {
    "duration": 0,
    "start_time": "2022-11-14T15:24:23.779Z"
   },
   {
    "duration": 0,
    "start_time": "2022-11-14T15:24:23.780Z"
   },
   {
    "duration": 25650,
    "start_time": "2022-11-14T15:26:42.859Z"
   },
   {
    "duration": 43898,
    "start_time": "2022-11-14T15:27:39.386Z"
   },
   {
    "duration": 43859,
    "start_time": "2022-11-14T15:29:01.569Z"
   },
   {
    "duration": 43597,
    "start_time": "2022-11-14T15:31:17.636Z"
   },
   {
    "duration": 25970,
    "start_time": "2022-11-14T15:33:43.642Z"
   },
   {
    "duration": 33,
    "start_time": "2022-11-14T15:34:35.175Z"
   },
   {
    "duration": 33,
    "start_time": "2022-11-14T15:35:04.110Z"
   },
   {
    "duration": 35,
    "start_time": "2022-11-14T15:35:45.301Z"
   },
   {
    "duration": 2,
    "start_time": "2022-11-14T15:35:53.214Z"
   },
   {
    "duration": 5,
    "start_time": "2022-11-14T15:39:31.682Z"
   },
   {
    "duration": 21381,
    "start_time": "2022-11-14T15:39:38.308Z"
   },
   {
    "duration": 440,
    "start_time": "2022-11-14T15:40:06.591Z"
   },
   {
    "duration": 52,
    "start_time": "2022-11-14T15:40:07.033Z"
   },
   {
    "duration": 27,
    "start_time": "2022-11-14T15:40:07.087Z"
   },
   {
    "duration": 25,
    "start_time": "2022-11-14T15:40:07.116Z"
   },
   {
    "duration": 5,
    "start_time": "2022-11-14T15:40:07.143Z"
   },
   {
    "duration": 20921,
    "start_time": "2022-11-14T15:40:07.149Z"
   },
   {
    "duration": 3,
    "start_time": "2022-11-14T15:40:28.071Z"
   },
   {
    "duration": 20,
    "start_time": "2022-11-14T15:40:28.075Z"
   },
   {
    "duration": 6,
    "start_time": "2022-11-14T15:40:28.096Z"
   },
   {
    "duration": 22,
    "start_time": "2022-11-14T15:40:28.104Z"
   },
   {
    "duration": 14,
    "start_time": "2022-11-14T15:41:03.710Z"
   },
   {
    "duration": 413,
    "start_time": "2022-11-14T15:41:48.037Z"
   },
   {
    "duration": 56,
    "start_time": "2022-11-14T15:41:48.452Z"
   },
   {
    "duration": 27,
    "start_time": "2022-11-14T15:41:48.510Z"
   },
   {
    "duration": 16,
    "start_time": "2022-11-14T15:41:48.539Z"
   },
   {
    "duration": 16,
    "start_time": "2022-11-14T15:41:48.557Z"
   },
   {
    "duration": 21267,
    "start_time": "2022-11-14T15:41:48.575Z"
   },
   {
    "duration": 13,
    "start_time": "2022-11-14T15:42:09.844Z"
   },
   {
    "duration": 18,
    "start_time": "2022-11-14T15:42:09.859Z"
   },
   {
    "duration": 15,
    "start_time": "2022-11-14T15:42:09.879Z"
   },
   {
    "duration": 23,
    "start_time": "2022-11-14T15:42:09.896Z"
   },
   {
    "duration": 21099,
    "start_time": "2022-11-14T15:42:47.485Z"
   },
   {
    "duration": 21601,
    "start_time": "2022-11-14T15:53:43.401Z"
   },
   {
    "duration": 22242,
    "start_time": "2022-11-14T16:01:08.871Z"
   },
   {
    "duration": 22008,
    "start_time": "2022-11-14T16:01:55.191Z"
   },
   {
    "duration": 9,
    "start_time": "2022-11-14T18:19:41.749Z"
   },
   {
    "duration": 5,
    "start_time": "2022-11-14T18:20:02.730Z"
   },
   {
    "duration": 5,
    "start_time": "2022-11-14T18:20:21.901Z"
   },
   {
    "duration": 99,
    "start_time": "2022-11-14T18:20:30.192Z"
   },
   {
    "duration": 5,
    "start_time": "2022-11-14T18:21:32.837Z"
   },
   {
    "duration": 5,
    "start_time": "2022-11-14T18:23:47.700Z"
   },
   {
    "duration": 123,
    "start_time": "2022-11-14T18:24:01.729Z"
   },
   {
    "duration": 2,
    "start_time": "2022-11-14T18:24:28.963Z"
   },
   {
    "duration": 59,
    "start_time": "2022-11-14T18:25:20.294Z"
   },
   {
    "duration": 35,
    "start_time": "2022-11-14T18:25:37.802Z"
   },
   {
    "duration": 56,
    "start_time": "2022-11-14T18:26:15.214Z"
   },
   {
    "duration": 33,
    "start_time": "2022-11-14T18:26:43.495Z"
   },
   {
    "duration": 27283,
    "start_time": "2022-11-14T18:27:16.252Z"
   },
   {
    "duration": 77689,
    "start_time": "2022-11-14T18:30:20.596Z"
   },
   {
    "duration": 65472,
    "start_time": "2022-11-14T18:34:05.336Z"
   },
   {
    "duration": 443,
    "start_time": "2022-11-14T18:35:47.681Z"
   },
   {
    "duration": 55,
    "start_time": "2022-11-14T18:35:48.126Z"
   },
   {
    "duration": 31,
    "start_time": "2022-11-14T18:35:48.183Z"
   },
   {
    "duration": 22,
    "start_time": "2022-11-14T18:35:48.216Z"
   },
   {
    "duration": 7,
    "start_time": "2022-11-14T18:35:48.245Z"
   },
   {
    "duration": 65539,
    "start_time": "2022-11-14T18:35:48.255Z"
   },
   {
    "duration": 2,
    "start_time": "2022-11-14T18:36:53.796Z"
   },
   {
    "duration": 22,
    "start_time": "2022-11-14T18:36:53.800Z"
   },
   {
    "duration": 6,
    "start_time": "2022-11-14T18:36:53.823Z"
   },
   {
    "duration": 21,
    "start_time": "2022-11-14T18:36:53.830Z"
   },
   {
    "duration": 92,
    "start_time": "2022-11-14T18:47:11.738Z"
   },
   {
    "duration": 489,
    "start_time": "2022-11-14T18:49:11.617Z"
   },
   {
    "duration": 513,
    "start_time": "2022-11-14T18:52:02.583Z"
   },
   {
    "duration": 489,
    "start_time": "2022-11-14T18:52:10.452Z"
   },
   {
    "duration": 525,
    "start_time": "2022-11-14T18:52:27.824Z"
   },
   {
    "duration": 373,
    "start_time": "2022-11-14T18:52:47.101Z"
   },
   {
    "duration": 25,
    "start_time": "2022-11-14T18:52:53.354Z"
   },
   {
    "duration": 18,
    "start_time": "2022-11-14T18:53:31.964Z"
   },
   {
    "duration": 802,
    "start_time": "2022-11-14T18:53:52.864Z"
   },
   {
    "duration": 1878,
    "start_time": "2022-11-14T18:54:17.588Z"
   },
   {
    "duration": 733,
    "start_time": "2022-11-14T18:57:24.597Z"
   },
   {
    "duration": 20,
    "start_time": "2022-11-14T18:57:44.567Z"
   },
   {
    "duration": 19,
    "start_time": "2022-11-14T19:03:11.098Z"
   },
   {
    "duration": 18,
    "start_time": "2022-11-14T19:03:21.268Z"
   },
   {
    "duration": 18,
    "start_time": "2022-11-14T19:03:27.983Z"
   },
   {
    "duration": 15,
    "start_time": "2022-11-14T19:04:26.047Z"
   },
   {
    "duration": 12,
    "start_time": "2022-11-14T19:04:32.807Z"
   },
   {
    "duration": 17,
    "start_time": "2022-11-14T19:04:42.369Z"
   },
   {
    "duration": 19,
    "start_time": "2022-11-14T19:04:45.059Z"
   },
   {
    "duration": 1813,
    "start_time": "2022-11-14T19:05:06.702Z"
   },
   {
    "duration": 18,
    "start_time": "2022-11-14T19:05:33.984Z"
   },
   {
    "duration": 22,
    "start_time": "2022-11-14T19:11:15.467Z"
   },
   {
    "duration": 12,
    "start_time": "2022-11-14T19:11:26.454Z"
   },
   {
    "duration": 12,
    "start_time": "2022-11-14T19:11:49.342Z"
   },
   {
    "duration": 13,
    "start_time": "2022-11-14T19:12:00.630Z"
   },
   {
    "duration": 6,
    "start_time": "2022-11-14T19:12:07.102Z"
   },
   {
    "duration": 5,
    "start_time": "2022-11-14T19:13:11.829Z"
   },
   {
    "duration": 18,
    "start_time": "2022-11-14T19:13:21.357Z"
   },
   {
    "duration": 18,
    "start_time": "2022-11-14T19:14:19.566Z"
   },
   {
    "duration": 26,
    "start_time": "2022-11-14T19:15:45.889Z"
   },
   {
    "duration": 22,
    "start_time": "2022-11-14T19:15:51.935Z"
   },
   {
    "duration": 20,
    "start_time": "2022-11-14T19:16:09.508Z"
   },
   {
    "duration": 20,
    "start_time": "2022-11-14T19:16:19.074Z"
   },
   {
    "duration": 18,
    "start_time": "2022-11-14T19:16:35.570Z"
   },
   {
    "duration": 20,
    "start_time": "2022-11-14T19:17:02.812Z"
   },
   {
    "duration": 26,
    "start_time": "2022-11-14T19:17:21.399Z"
   },
   {
    "duration": 37,
    "start_time": "2022-11-14T19:17:36.433Z"
   },
   {
    "duration": 26,
    "start_time": "2022-11-14T19:18:09.452Z"
   },
   {
    "duration": 2,
    "start_time": "2022-11-14T19:18:27.037Z"
   },
   {
    "duration": 58,
    "start_time": "2022-11-14T19:18:27.041Z"
   },
   {
    "duration": 17,
    "start_time": "2022-11-14T19:18:27.100Z"
   },
   {
    "duration": 13,
    "start_time": "2022-11-14T19:18:27.119Z"
   },
   {
    "duration": 3,
    "start_time": "2022-11-14T19:18:27.134Z"
   },
   {
    "duration": 33,
    "start_time": "2022-11-14T19:18:27.138Z"
   },
   {
    "duration": 2,
    "start_time": "2022-11-14T19:18:27.173Z"
   },
   {
    "duration": 17,
    "start_time": "2022-11-14T19:18:27.176Z"
   },
   {
    "duration": 18,
    "start_time": "2022-11-14T19:18:27.194Z"
   },
   {
    "duration": 13,
    "start_time": "2022-11-14T19:18:27.214Z"
   },
   {
    "duration": 415,
    "start_time": "2022-11-14T19:18:33.833Z"
   },
   {
    "duration": 57,
    "start_time": "2022-11-14T19:18:34.251Z"
   },
   {
    "duration": 29,
    "start_time": "2022-11-14T19:18:34.310Z"
   },
   {
    "duration": 14,
    "start_time": "2022-11-14T19:18:34.341Z"
   },
   {
    "duration": 3,
    "start_time": "2022-11-14T19:18:34.357Z"
   },
   {
    "duration": 55,
    "start_time": "2022-11-14T19:18:34.362Z"
   },
   {
    "duration": 2,
    "start_time": "2022-11-14T19:18:34.419Z"
   },
   {
    "duration": 22,
    "start_time": "2022-11-14T19:18:34.423Z"
   },
   {
    "duration": 5,
    "start_time": "2022-11-14T19:18:34.447Z"
   },
   {
    "duration": 22,
    "start_time": "2022-11-14T19:18:34.455Z"
   },
   {
    "duration": 83,
    "start_time": "2022-11-14T19:20:27.018Z"
   },
   {
    "duration": 25,
    "start_time": "2022-11-14T19:20:45.402Z"
   },
   {
    "duration": 19,
    "start_time": "2022-11-14T19:20:54.459Z"
   },
   {
    "duration": 22,
    "start_time": "2022-11-14T19:21:01.247Z"
   },
   {
    "duration": 23,
    "start_time": "2022-11-14T19:22:51.794Z"
   },
   {
    "duration": 22,
    "start_time": "2022-11-14T19:22:59.783Z"
   },
   {
    "duration": 19,
    "start_time": "2022-11-14T19:23:50.800Z"
   },
   {
    "duration": 26,
    "start_time": "2022-11-14T19:25:30.356Z"
   },
   {
    "duration": 31,
    "start_time": "2022-11-14T19:25:49.355Z"
   },
   {
    "duration": 29011,
    "start_time": "2022-11-14T19:26:37.432Z"
   },
   {
    "duration": 2134,
    "start_time": "2022-11-14T19:28:32.468Z"
   },
   {
    "duration": 2079,
    "start_time": "2022-11-14T19:28:43.728Z"
   },
   {
    "duration": 2059,
    "start_time": "2022-11-14T19:29:03.273Z"
   },
   {
    "duration": 426,
    "start_time": "2022-11-14T19:29:14.294Z"
   },
   {
    "duration": 52,
    "start_time": "2022-11-14T19:29:14.721Z"
   },
   {
    "duration": 26,
    "start_time": "2022-11-14T19:29:14.774Z"
   },
   {
    "duration": 15,
    "start_time": "2022-11-14T19:29:14.803Z"
   },
   {
    "duration": 3,
    "start_time": "2022-11-14T19:29:14.820Z"
   },
   {
    "duration": 1673,
    "start_time": "2022-11-14T19:29:14.825Z"
   },
   {
    "duration": 0,
    "start_time": "2022-11-14T19:29:16.500Z"
   },
   {
    "duration": 0,
    "start_time": "2022-11-14T19:29:16.502Z"
   },
   {
    "duration": 0,
    "start_time": "2022-11-14T19:29:16.504Z"
   },
   {
    "duration": 0,
    "start_time": "2022-11-14T19:29:16.506Z"
   },
   {
    "duration": 1927,
    "start_time": "2022-11-14T19:30:42.329Z"
   },
   {
    "duration": 18805,
    "start_time": "2022-11-14T19:30:58.138Z"
   },
   {
    "duration": 377,
    "start_time": "2022-11-14T19:31:25.665Z"
   },
   {
    "duration": 55,
    "start_time": "2022-11-14T19:31:26.044Z"
   },
   {
    "duration": 26,
    "start_time": "2022-11-14T19:31:26.101Z"
   },
   {
    "duration": 14,
    "start_time": "2022-11-14T19:31:26.129Z"
   },
   {
    "duration": 3,
    "start_time": "2022-11-14T19:31:26.145Z"
   },
   {
    "duration": 3,
    "start_time": "2022-11-14T19:31:43.669Z"
   },
   {
    "duration": 45,
    "start_time": "2022-11-14T19:31:43.673Z"
   },
   {
    "duration": 9,
    "start_time": "2022-11-14T19:31:43.720Z"
   },
   {
    "duration": 37,
    "start_time": "2022-11-14T19:31:43.731Z"
   },
   {
    "duration": 17713,
    "start_time": "2022-11-14T19:32:00.915Z"
   },
   {
    "duration": 46,
    "start_time": "2022-11-14T19:33:30.871Z"
   },
   {
    "duration": 366,
    "start_time": "2022-11-14T19:33:46.060Z"
   },
   {
    "duration": 57,
    "start_time": "2022-11-14T19:33:46.428Z"
   },
   {
    "duration": 29,
    "start_time": "2022-11-14T19:33:46.487Z"
   },
   {
    "duration": 17,
    "start_time": "2022-11-14T19:33:46.519Z"
   },
   {
    "duration": 9,
    "start_time": "2022-11-14T19:33:46.538Z"
   },
   {
    "duration": 17473,
    "start_time": "2022-11-14T19:33:46.549Z"
   },
   {
    "duration": 2,
    "start_time": "2022-11-14T19:34:04.024Z"
   },
   {
    "duration": 30,
    "start_time": "2022-11-14T19:34:04.028Z"
   },
   {
    "duration": 4,
    "start_time": "2022-11-14T19:34:04.061Z"
   },
   {
    "duration": 16,
    "start_time": "2022-11-14T19:34:04.067Z"
   },
   {
    "duration": 17813,
    "start_time": "2022-11-14T19:34:56.004Z"
   },
   {
    "duration": 14,
    "start_time": "2022-11-14T19:36:10.007Z"
   },
   {
    "duration": 42,
    "start_time": "2022-11-14T19:38:31.279Z"
   },
   {
    "duration": 7,
    "start_time": "2022-11-14T19:38:34.757Z"
   },
   {
    "duration": 17949,
    "start_time": "2022-11-14T19:39:21.268Z"
   },
   {
    "duration": 5,
    "start_time": "2022-11-14T19:41:42.718Z"
   },
   {
    "duration": 407,
    "start_time": "2022-11-14T19:44:23.677Z"
   },
   {
    "duration": 58,
    "start_time": "2022-11-14T19:44:24.086Z"
   },
   {
    "duration": 28,
    "start_time": "2022-11-14T19:44:24.145Z"
   },
   {
    "duration": 21,
    "start_time": "2022-11-14T19:44:24.175Z"
   },
   {
    "duration": 4,
    "start_time": "2022-11-14T19:44:24.211Z"
   },
   {
    "duration": 116,
    "start_time": "2022-11-14T19:44:24.218Z"
   },
   {
    "duration": 0,
    "start_time": "2022-11-14T19:44:24.336Z"
   },
   {
    "duration": 0,
    "start_time": "2022-11-14T19:44:24.338Z"
   },
   {
    "duration": 0,
    "start_time": "2022-11-14T19:44:24.339Z"
   },
   {
    "duration": 0,
    "start_time": "2022-11-14T19:44:24.340Z"
   },
   {
    "duration": 18041,
    "start_time": "2022-11-14T19:44:49.783Z"
   },
   {
    "duration": 6,
    "start_time": "2022-11-14T19:45:43.683Z"
   },
   {
    "duration": 7,
    "start_time": "2022-11-14T19:50:09.908Z"
   },
   {
    "duration": 17579,
    "start_time": "2022-11-14T20:11:35.955Z"
   },
   {
    "duration": 45,
    "start_time": "2022-11-14T20:15:51.287Z"
   },
   {
    "duration": 4,
    "start_time": "2022-11-14T20:15:54.333Z"
   },
   {
    "duration": 5,
    "start_time": "2022-11-14T20:16:02.161Z"
   },
   {
    "duration": 4,
    "start_time": "2022-11-14T20:16:13.685Z"
   },
   {
    "duration": 14,
    "start_time": "2022-11-14T20:16:23.069Z"
   },
   {
    "duration": 10,
    "start_time": "2022-11-14T20:16:36.105Z"
   },
   {
    "duration": 11,
    "start_time": "2022-11-14T20:20:21.421Z"
   },
   {
    "duration": 14,
    "start_time": "2022-11-14T20:20:34.665Z"
   },
   {
    "duration": 13,
    "start_time": "2022-11-14T20:22:03.559Z"
   },
   {
    "duration": 14,
    "start_time": "2022-11-14T20:24:39.045Z"
   },
   {
    "duration": 12,
    "start_time": "2022-11-14T20:25:07.884Z"
   },
   {
    "duration": 11,
    "start_time": "2022-11-14T20:25:52.223Z"
   },
   {
    "duration": 12,
    "start_time": "2022-11-14T20:26:03.591Z"
   },
   {
    "duration": 8,
    "start_time": "2022-11-14T20:27:09.781Z"
   },
   {
    "duration": 28,
    "start_time": "2022-11-14T20:27:18.180Z"
   },
   {
    "duration": 4,
    "start_time": "2022-11-14T20:38:24.872Z"
   },
   {
    "duration": 4,
    "start_time": "2022-11-14T20:38:38.533Z"
   },
   {
    "duration": 11,
    "start_time": "2022-11-14T20:38:45.271Z"
   },
   {
    "duration": 5,
    "start_time": "2022-11-14T20:46:06.149Z"
   },
   {
    "duration": 5,
    "start_time": "2022-11-14T20:47:39.836Z"
   },
   {
    "duration": 54,
    "start_time": "2022-11-15T06:26:58.078Z"
   },
   {
    "duration": 459,
    "start_time": "2022-11-15T06:27:06.921Z"
   },
   {
    "duration": 95,
    "start_time": "2022-11-15T06:27:07.382Z"
   },
   {
    "duration": 36,
    "start_time": "2022-11-15T06:27:07.479Z"
   },
   {
    "duration": 17,
    "start_time": "2022-11-15T06:27:07.517Z"
   },
   {
    "duration": 17,
    "start_time": "2022-11-15T06:27:07.536Z"
   },
   {
    "duration": 20929,
    "start_time": "2022-11-15T06:27:07.555Z"
   },
   {
    "duration": 21,
    "start_time": "2022-11-15T06:27:28.486Z"
   },
   {
    "duration": 17,
    "start_time": "2022-11-15T06:27:28.509Z"
   },
   {
    "duration": 34,
    "start_time": "2022-11-15T06:27:28.528Z"
   },
   {
    "duration": 5,
    "start_time": "2022-11-15T06:27:28.565Z"
   },
   {
    "duration": 27,
    "start_time": "2022-11-15T06:27:28.572Z"
   },
   {
    "duration": 28,
    "start_time": "2022-11-15T06:50:30.082Z"
   },
   {
    "duration": 16,
    "start_time": "2022-11-15T06:50:42.340Z"
   },
   {
    "duration": 10,
    "start_time": "2022-11-15T06:50:51.388Z"
   },
   {
    "duration": 16,
    "start_time": "2022-11-15T06:51:22.681Z"
   },
   {
    "duration": 20,
    "start_time": "2022-11-15T06:51:25.395Z"
   },
   {
    "duration": 9,
    "start_time": "2022-11-15T06:51:36.595Z"
   },
   {
    "duration": 17,
    "start_time": "2022-11-15T06:51:41.226Z"
   },
   {
    "duration": 16,
    "start_time": "2022-11-15T06:52:36.434Z"
   },
   {
    "duration": 20,
    "start_time": "2022-11-15T06:52:52.450Z"
   },
   {
    "duration": 23,
    "start_time": "2022-11-15T06:53:02.905Z"
   },
   {
    "duration": 466,
    "start_time": "2022-11-15T06:55:46.670Z"
   },
   {
    "duration": 372,
    "start_time": "2022-11-15T06:56:22.641Z"
   },
   {
    "duration": 18,
    "start_time": "2022-11-15T06:57:07.257Z"
   },
   {
    "duration": 315,
    "start_time": "2022-11-15T06:57:31.229Z"
   },
   {
    "duration": 22,
    "start_time": "2022-11-15T06:57:42.640Z"
   },
   {
    "duration": 305,
    "start_time": "2022-11-15T06:59:06.336Z"
   },
   {
    "duration": 12,
    "start_time": "2022-11-15T06:59:53.204Z"
   },
   {
    "duration": 14,
    "start_time": "2022-11-15T07:00:03.956Z"
   },
   {
    "duration": 15,
    "start_time": "2022-11-15T07:01:06.377Z"
   },
   {
    "duration": 328,
    "start_time": "2022-11-15T07:01:10.761Z"
   },
   {
    "duration": 462,
    "start_time": "2022-11-15T07:01:43.526Z"
   },
   {
    "duration": 54,
    "start_time": "2022-11-15T07:01:43.990Z"
   },
   {
    "duration": 29,
    "start_time": "2022-11-15T07:01:44.046Z"
   },
   {
    "duration": 20,
    "start_time": "2022-11-15T07:01:44.078Z"
   },
   {
    "duration": 4,
    "start_time": "2022-11-15T07:01:44.100Z"
   },
   {
    "duration": 19619,
    "start_time": "2022-11-15T07:01:44.106Z"
   },
   {
    "duration": 29,
    "start_time": "2022-11-15T07:02:03.727Z"
   },
   {
    "duration": 421,
    "start_time": "2022-11-15T07:02:03.758Z"
   },
   {
    "duration": 0,
    "start_time": "2022-11-15T07:02:04.181Z"
   },
   {
    "duration": 0,
    "start_time": "2022-11-15T07:02:04.183Z"
   },
   {
    "duration": 0,
    "start_time": "2022-11-15T07:02:04.184Z"
   },
   {
    "duration": 322,
    "start_time": "2022-11-15T07:03:39.104Z"
   },
   {
    "duration": 362,
    "start_time": "2022-11-15T07:03:43.497Z"
   },
   {
    "duration": 353,
    "start_time": "2022-11-15T07:03:57.332Z"
   },
   {
    "duration": 19,
    "start_time": "2022-11-15T07:05:25.712Z"
   },
   {
    "duration": 18,
    "start_time": "2022-11-15T07:07:00.762Z"
   },
   {
    "duration": 15,
    "start_time": "2022-11-15T07:07:11.129Z"
   },
   {
    "duration": 15,
    "start_time": "2022-11-15T07:10:57.369Z"
   },
   {
    "duration": 18,
    "start_time": "2022-11-15T07:11:47.596Z"
   },
   {
    "duration": 26,
    "start_time": "2022-11-15T07:12:06.093Z"
   },
   {
    "duration": 12,
    "start_time": "2022-11-15T07:12:09.513Z"
   },
   {
    "duration": 2,
    "start_time": "2022-11-15T07:13:53.460Z"
   },
   {
    "duration": 50,
    "start_time": "2022-11-15T07:13:53.488Z"
   },
   {
    "duration": 18,
    "start_time": "2022-11-15T07:13:53.540Z"
   },
   {
    "duration": 19,
    "start_time": "2022-11-15T07:13:53.560Z"
   },
   {
    "duration": 3,
    "start_time": "2022-11-15T07:13:53.580Z"
   },
   {
    "duration": 393,
    "start_time": "2022-11-15T07:14:03.804Z"
   },
   {
    "duration": 55,
    "start_time": "2022-11-15T07:14:04.199Z"
   },
   {
    "duration": 28,
    "start_time": "2022-11-15T07:14:04.256Z"
   },
   {
    "duration": 16,
    "start_time": "2022-11-15T07:14:04.287Z"
   },
   {
    "duration": 4,
    "start_time": "2022-11-15T07:14:04.305Z"
   },
   {
    "duration": 19286,
    "start_time": "2022-11-15T07:14:04.310Z"
   },
   {
    "duration": 20,
    "start_time": "2022-11-15T07:14:23.598Z"
   },
   {
    "duration": 6,
    "start_time": "2022-11-15T07:14:23.620Z"
   },
   {
    "duration": 36,
    "start_time": "2022-11-15T07:14:23.628Z"
   },
   {
    "duration": 5,
    "start_time": "2022-11-15T07:14:23.666Z"
   },
   {
    "duration": 17,
    "start_time": "2022-11-15T07:14:23.673Z"
   },
   {
    "duration": 8,
    "start_time": "2022-11-15T07:15:08.340Z"
   },
   {
    "duration": 24,
    "start_time": "2022-11-15T07:15:20.264Z"
   },
   {
    "duration": 19,
    "start_time": "2022-11-15T07:15:30.655Z"
   },
   {
    "duration": 21,
    "start_time": "2022-11-15T07:15:49.370Z"
   },
   {
    "duration": 9,
    "start_time": "2022-11-15T07:15:52.719Z"
   },
   {
    "duration": 178,
    "start_time": "2022-11-15T07:17:41.573Z"
   },
   {
    "duration": 11,
    "start_time": "2022-11-15T07:17:59.111Z"
   },
   {
    "duration": 10,
    "start_time": "2022-11-15T07:18:47.958Z"
   },
   {
    "duration": 13,
    "start_time": "2022-11-15T07:19:06.080Z"
   },
   {
    "duration": 9,
    "start_time": "2022-11-15T07:19:12.563Z"
   },
   {
    "duration": 11,
    "start_time": "2022-11-15T07:19:40.807Z"
   },
   {
    "duration": 10,
    "start_time": "2022-11-15T07:21:03.049Z"
   },
   {
    "duration": 15,
    "start_time": "2022-11-15T07:22:21.014Z"
   },
   {
    "duration": 24,
    "start_time": "2022-11-15T07:23:17.594Z"
   },
   {
    "duration": 34,
    "start_time": "2022-11-15T07:23:52.747Z"
   },
   {
    "duration": 10,
    "start_time": "2022-11-15T07:25:20.169Z"
   },
   {
    "duration": 18480,
    "start_time": "2022-11-15T07:31:02.544Z"
   },
   {
    "duration": 11,
    "start_time": "2022-11-15T07:31:46.043Z"
   },
   {
    "duration": 24,
    "start_time": "2022-11-15T07:32:25.181Z"
   },
   {
    "duration": 20,
    "start_time": "2022-11-15T07:32:31.582Z"
   },
   {
    "duration": 21,
    "start_time": "2022-11-15T07:32:43.218Z"
   },
   {
    "duration": 22,
    "start_time": "2022-11-15T07:33:23.677Z"
   },
   {
    "duration": 27,
    "start_time": "2022-11-15T07:34:04.198Z"
   },
   {
    "duration": 39,
    "start_time": "2022-11-15T07:34:14.638Z"
   },
   {
    "duration": 28,
    "start_time": "2022-11-15T07:34:52.116Z"
   },
   {
    "duration": 29,
    "start_time": "2022-11-15T07:35:06.073Z"
   },
   {
    "duration": 29,
    "start_time": "2022-11-15T07:40:12.322Z"
   },
   {
    "duration": 31,
    "start_time": "2022-11-15T07:47:53.827Z"
   },
   {
    "duration": 8,
    "start_time": "2022-11-15T07:50:53.737Z"
   },
   {
    "duration": 22,
    "start_time": "2022-11-15T07:51:26.318Z"
   },
   {
    "duration": 23,
    "start_time": "2022-11-15T07:53:45.908Z"
   },
   {
    "duration": 24,
    "start_time": "2022-11-15T07:55:27.819Z"
   },
   {
    "duration": 27,
    "start_time": "2022-11-15T07:55:51.708Z"
   },
   {
    "duration": 28,
    "start_time": "2022-11-15T07:55:57.470Z"
   },
   {
    "duration": 26,
    "start_time": "2022-11-15T07:56:25.445Z"
   },
   {
    "duration": 20,
    "start_time": "2022-11-15T08:08:48.116Z"
   },
   {
    "duration": 446,
    "start_time": "2022-11-15T13:49:47.324Z"
   },
   {
    "duration": 114,
    "start_time": "2022-11-15T13:49:47.772Z"
   },
   {
    "duration": 29,
    "start_time": "2022-11-15T13:49:47.887Z"
   },
   {
    "duration": 16,
    "start_time": "2022-11-15T13:49:47.918Z"
   },
   {
    "duration": 26,
    "start_time": "2022-11-15T13:49:47.936Z"
   },
   {
    "duration": 18763,
    "start_time": "2022-11-15T13:49:47.964Z"
   },
   {
    "duration": 14,
    "start_time": "2022-11-15T13:50:06.729Z"
   },
   {
    "duration": 25,
    "start_time": "2022-11-15T13:50:06.745Z"
   },
   {
    "duration": 14,
    "start_time": "2022-11-15T13:50:06.771Z"
   },
   {
    "duration": 18,
    "start_time": "2022-11-15T13:50:06.788Z"
   },
   {
    "duration": 24,
    "start_time": "2022-11-15T13:54:05.969Z"
   },
   {
    "duration": 379,
    "start_time": "2022-11-15T13:55:02.989Z"
   },
   {
    "duration": 52,
    "start_time": "2022-11-15T13:55:03.370Z"
   },
   {
    "duration": 26,
    "start_time": "2022-11-15T13:55:03.424Z"
   },
   {
    "duration": 19,
    "start_time": "2022-11-15T13:55:03.452Z"
   },
   {
    "duration": 40,
    "start_time": "2022-11-15T13:55:03.473Z"
   },
   {
    "duration": 18430,
    "start_time": "2022-11-15T13:55:03.514Z"
   },
   {
    "duration": 7,
    "start_time": "2022-11-15T13:55:21.946Z"
   },
   {
    "duration": 20,
    "start_time": "2022-11-15T13:55:21.955Z"
   },
   {
    "duration": 15,
    "start_time": "2022-11-15T13:55:21.976Z"
   },
   {
    "duration": 18,
    "start_time": "2022-11-15T13:55:21.992Z"
   },
   {
    "duration": 446,
    "start_time": "2022-11-15T13:55:45.444Z"
   },
   {
    "duration": 53,
    "start_time": "2022-11-15T13:55:45.893Z"
   },
   {
    "duration": 27,
    "start_time": "2022-11-15T13:55:45.948Z"
   },
   {
    "duration": 15,
    "start_time": "2022-11-15T13:55:45.977Z"
   },
   {
    "duration": 3,
    "start_time": "2022-11-15T13:55:45.994Z"
   },
   {
    "duration": 18787,
    "start_time": "2022-11-15T13:55:45.999Z"
   },
   {
    "duration": 8,
    "start_time": "2022-11-15T13:56:04.788Z"
   },
   {
    "duration": 43,
    "start_time": "2022-11-15T13:56:04.798Z"
   },
   {
    "duration": 22,
    "start_time": "2022-11-15T13:56:04.843Z"
   },
   {
    "duration": 24,
    "start_time": "2022-11-15T13:56:04.869Z"
   },
   {
    "duration": 3,
    "start_time": "2022-11-15T13:56:20.128Z"
   },
   {
    "duration": 73,
    "start_time": "2022-11-15T13:56:20.133Z"
   },
   {
    "duration": 19,
    "start_time": "2022-11-15T13:56:20.208Z"
   },
   {
    "duration": 33,
    "start_time": "2022-11-15T13:56:20.230Z"
   },
   {
    "duration": 8,
    "start_time": "2022-11-15T13:56:20.265Z"
   },
   {
    "duration": 19803,
    "start_time": "2022-11-15T13:56:20.275Z"
   },
   {
    "duration": 9,
    "start_time": "2022-11-15T13:56:40.079Z"
   },
   {
    "duration": 25,
    "start_time": "2022-11-15T13:56:40.090Z"
   },
   {
    "duration": 34,
    "start_time": "2022-11-15T13:56:40.117Z"
   },
   {
    "duration": 17,
    "start_time": "2022-11-15T13:56:40.153Z"
   },
   {
    "duration": 11,
    "start_time": "2022-11-15T14:10:07.732Z"
   },
   {
    "duration": 376,
    "start_time": "2022-11-15T14:10:21.284Z"
   },
   {
    "duration": 52,
    "start_time": "2022-11-15T14:10:21.662Z"
   },
   {
    "duration": 28,
    "start_time": "2022-11-15T14:10:21.715Z"
   },
   {
    "duration": 15,
    "start_time": "2022-11-15T14:10:21.745Z"
   },
   {
    "duration": 4,
    "start_time": "2022-11-15T14:10:21.762Z"
   },
   {
    "duration": 18372,
    "start_time": "2022-11-15T14:10:21.767Z"
   },
   {
    "duration": 7,
    "start_time": "2022-11-15T14:10:40.141Z"
   },
   {
    "duration": 18,
    "start_time": "2022-11-15T14:10:40.150Z"
   },
   {
    "duration": 14,
    "start_time": "2022-11-15T14:10:40.170Z"
   },
   {
    "duration": 14,
    "start_time": "2022-11-15T14:10:40.187Z"
   },
   {
    "duration": 3,
    "start_time": "2022-11-15T14:12:22.541Z"
   },
   {
    "duration": 4,
    "start_time": "2022-11-15T14:12:29.157Z"
   },
   {
    "duration": 14,
    "start_time": "2022-11-15T14:12:30.745Z"
   },
   {
    "duration": 4,
    "start_time": "2022-11-15T14:13:06.160Z"
   },
   {
    "duration": 13,
    "start_time": "2022-11-15T14:13:08.206Z"
   },
   {
    "duration": 15,
    "start_time": "2022-11-15T14:13:18.191Z"
   },
   {
    "duration": 620,
    "start_time": "2022-11-15T14:30:50.365Z"
   },
   {
    "duration": 81,
    "start_time": "2022-11-15T14:34:00.770Z"
   },
   {
    "duration": 11,
    "start_time": "2022-11-15T14:34:08.946Z"
   },
   {
    "duration": 3,
    "start_time": "2022-11-15T14:34:17.797Z"
   },
   {
    "duration": 151,
    "start_time": "2022-11-15T14:34:23.757Z"
   },
   {
    "duration": 128,
    "start_time": "2022-11-15T14:34:38.359Z"
   },
   {
    "duration": 146,
    "start_time": "2022-11-15T14:35:05.959Z"
   },
   {
    "duration": 209,
    "start_time": "2022-11-15T14:35:12.639Z"
   },
   {
    "duration": 156,
    "start_time": "2022-11-15T14:38:07.673Z"
   },
   {
    "duration": 8,
    "start_time": "2022-11-15T14:54:17.841Z"
   },
   {
    "duration": 16,
    "start_time": "2022-11-15T14:54:23.304Z"
   },
   {
    "duration": 8,
    "start_time": "2022-11-15T14:54:35.897Z"
   },
   {
    "duration": 20,
    "start_time": "2022-11-15T14:54:45.028Z"
   },
   {
    "duration": 16,
    "start_time": "2022-11-15T15:12:59.388Z"
   },
   {
    "duration": 15,
    "start_time": "2022-11-15T15:13:18.705Z"
   },
   {
    "duration": 18,
    "start_time": "2022-11-15T15:13:39.229Z"
   },
   {
    "duration": 14,
    "start_time": "2022-11-15T15:14:55.573Z"
   },
   {
    "duration": 300,
    "start_time": "2022-11-15T15:23:44.087Z"
   },
   {
    "duration": 308,
    "start_time": "2022-11-15T15:24:11.588Z"
   },
   {
    "duration": 313,
    "start_time": "2022-11-15T15:26:09.978Z"
   },
   {
    "duration": 181,
    "start_time": "2022-11-15T15:28:40.466Z"
   },
   {
    "duration": 33,
    "start_time": "2022-11-15T15:33:31.579Z"
   },
   {
    "duration": 1190,
    "start_time": "2022-11-15T15:33:53.378Z"
   },
   {
    "duration": 90,
    "start_time": "2022-11-15T15:36:22.076Z"
   },
   {
    "duration": 1029,
    "start_time": "2022-11-15T15:37:06.077Z"
   },
   {
    "duration": 1028,
    "start_time": "2022-11-15T15:40:26.181Z"
   },
   {
    "duration": 76,
    "start_time": "2022-11-15T15:40:33.100Z"
   },
   {
    "duration": 1035,
    "start_time": "2022-11-15T15:40:40.577Z"
   },
   {
    "duration": 1141,
    "start_time": "2022-11-15T15:42:59.054Z"
   },
   {
    "duration": 1120,
    "start_time": "2022-11-15T15:43:14.234Z"
   },
   {
    "duration": 1114,
    "start_time": "2022-11-15T15:43:55.048Z"
   },
   {
    "duration": 1180,
    "start_time": "2022-11-15T15:44:09.241Z"
   },
   {
    "duration": 1195,
    "start_time": "2022-11-15T15:44:27.545Z"
   },
   {
    "duration": 202,
    "start_time": "2022-11-15T16:03:45.418Z"
   },
   {
    "duration": 269,
    "start_time": "2022-11-15T16:04:00.304Z"
   },
   {
    "duration": 161,
    "start_time": "2022-11-15T16:04:14.387Z"
   },
   {
    "duration": 153,
    "start_time": "2022-11-15T16:05:19.195Z"
   },
   {
    "duration": 13,
    "start_time": "2022-11-15T16:06:06.661Z"
   },
   {
    "duration": 12,
    "start_time": "2022-11-15T16:17:37.486Z"
   },
   {
    "duration": 28,
    "start_time": "2022-11-15T16:18:09.875Z"
   },
   {
    "duration": 34,
    "start_time": "2022-11-15T16:18:40.413Z"
   },
   {
    "duration": 831,
    "start_time": "2022-11-15T16:19:48.935Z"
   },
   {
    "duration": 863,
    "start_time": "2022-11-15T16:22:49.596Z"
   },
   {
    "duration": 880,
    "start_time": "2022-11-15T16:23:16.782Z"
   },
   {
    "duration": 943,
    "start_time": "2022-11-15T16:24:50.437Z"
   },
   {
    "duration": 33,
    "start_time": "2022-11-15T16:25:13.152Z"
   },
   {
    "duration": 35,
    "start_time": "2022-11-15T16:25:27.584Z"
   },
   {
    "duration": 1129,
    "start_time": "2022-11-15T16:25:56.441Z"
   },
   {
    "duration": 1141,
    "start_time": "2022-11-15T16:26:06.778Z"
   },
   {
    "duration": 1136,
    "start_time": "2022-11-15T16:26:24.158Z"
   },
   {
    "duration": 656,
    "start_time": "2022-11-15T16:26:32.651Z"
   },
   {
    "duration": 37,
    "start_time": "2022-11-15T16:27:04.489Z"
   },
   {
    "duration": 33,
    "start_time": "2022-11-15T16:27:20.145Z"
   },
   {
    "duration": 500,
    "start_time": "2022-11-15T16:30:06.749Z"
   },
   {
    "duration": 557,
    "start_time": "2022-11-15T16:30:18.966Z"
   },
   {
    "duration": 560,
    "start_time": "2022-11-15T16:31:05.218Z"
   },
   {
    "duration": 618,
    "start_time": "2022-11-15T17:52:31.962Z"
   },
   {
    "duration": 522,
    "start_time": "2022-11-15T17:53:50.128Z"
   },
   {
    "duration": 527,
    "start_time": "2022-11-15T17:54:13.469Z"
   },
   {
    "duration": 454,
    "start_time": "2022-11-15T17:59:22.095Z"
   },
   {
    "duration": 73,
    "start_time": "2022-11-15T18:01:32.839Z"
   },
   {
    "duration": 523,
    "start_time": "2022-11-15T18:01:41.365Z"
   },
   {
    "duration": 520,
    "start_time": "2022-11-15T18:01:47.347Z"
   },
   {
    "duration": 663,
    "start_time": "2022-11-15T18:02:18.578Z"
   },
   {
    "duration": 8,
    "start_time": "2022-11-15T18:23:44.366Z"
   },
   {
    "duration": 9,
    "start_time": "2022-11-15T18:24:17.834Z"
   },
   {
    "duration": 8,
    "start_time": "2022-11-15T18:24:24.014Z"
   },
   {
    "duration": 5,
    "start_time": "2022-11-15T18:25:32.802Z"
   },
   {
    "duration": 8,
    "start_time": "2022-11-15T18:26:18.776Z"
   },
   {
    "duration": 9,
    "start_time": "2022-11-15T18:26:26.513Z"
   },
   {
    "duration": 9,
    "start_time": "2022-11-15T18:26:50.317Z"
   },
   {
    "duration": 13,
    "start_time": "2022-11-15T18:29:11.815Z"
   },
   {
    "duration": 1177,
    "start_time": "2022-11-15T18:29:32.650Z"
   },
   {
    "duration": 1226,
    "start_time": "2022-11-15T18:30:09.372Z"
   },
   {
    "duration": 1216,
    "start_time": "2022-11-15T18:30:20.314Z"
   },
   {
    "duration": 9,
    "start_time": "2022-11-15T18:31:02.265Z"
   },
   {
    "duration": 10,
    "start_time": "2022-11-15T18:31:13.269Z"
   },
   {
    "duration": 10,
    "start_time": "2022-11-15T18:31:36.807Z"
   },
   {
    "duration": 1227,
    "start_time": "2022-11-15T18:32:47.059Z"
   },
   {
    "duration": 8,
    "start_time": "2022-11-15T18:33:02.557Z"
   },
   {
    "duration": 3,
    "start_time": "2022-11-15T18:33:15.481Z"
   },
   {
    "duration": 4,
    "start_time": "2022-11-15T18:33:19.726Z"
   },
   {
    "duration": 23,
    "start_time": "2022-11-15T18:33:26.672Z"
   },
   {
    "duration": 5,
    "start_time": "2022-11-15T18:34:46.653Z"
   },
   {
    "duration": 23,
    "start_time": "2022-11-15T18:34:52.669Z"
   },
   {
    "duration": 307,
    "start_time": "2022-11-15T18:36:05.186Z"
   },
   {
    "duration": 325,
    "start_time": "2022-11-15T18:45:57.519Z"
   },
   {
    "duration": 509,
    "start_time": "2022-11-15T19:12:42.194Z"
   },
   {
    "duration": 326,
    "start_time": "2022-11-15T19:15:23.949Z"
   },
   {
    "duration": 254,
    "start_time": "2022-11-15T19:18:35.237Z"
   },
   {
    "duration": 244,
    "start_time": "2022-11-15T19:18:52.017Z"
   },
   {
    "duration": 292,
    "start_time": "2022-11-15T19:18:55.724Z"
   },
   {
    "duration": 271,
    "start_time": "2022-11-15T19:21:26.866Z"
   },
   {
    "duration": 372,
    "start_time": "2022-11-15T19:21:42.825Z"
   },
   {
    "duration": 26,
    "start_time": "2022-11-15T19:36:19.438Z"
   },
   {
    "duration": 13,
    "start_time": "2022-11-15T19:36:38.398Z"
   },
   {
    "duration": 12,
    "start_time": "2022-11-15T19:36:59.874Z"
   },
   {
    "duration": 13,
    "start_time": "2022-11-15T19:38:42.566Z"
   },
   {
    "duration": 14,
    "start_time": "2022-11-15T19:38:51.195Z"
   },
   {
    "duration": 12,
    "start_time": "2022-11-15T19:39:35.769Z"
   },
   {
    "duration": 11,
    "start_time": "2022-11-15T19:44:12.503Z"
   },
   {
    "duration": 12,
    "start_time": "2022-11-15T19:44:26.641Z"
   },
   {
    "duration": 11,
    "start_time": "2022-11-15T19:45:08.729Z"
   },
   {
    "duration": 15,
    "start_time": "2022-11-15T19:54:30.760Z"
   },
   {
    "duration": 48,
    "start_time": "2022-11-15T19:54:53.604Z"
   },
   {
    "duration": 17,
    "start_time": "2022-11-15T19:55:03.759Z"
   },
   {
    "duration": 71,
    "start_time": "2022-11-15T19:55:53.156Z"
   },
   {
    "duration": 16,
    "start_time": "2022-11-15T19:55:58.484Z"
   },
   {
    "duration": 15,
    "start_time": "2022-11-15T19:56:05.664Z"
   },
   {
    "duration": 12,
    "start_time": "2022-11-15T19:57:06.915Z"
   },
   {
    "duration": 1285,
    "start_time": "2022-11-16T06:51:39.780Z"
   },
   {
    "duration": 195,
    "start_time": "2022-11-16T06:51:41.067Z"
   },
   {
    "duration": 18,
    "start_time": "2022-11-16T06:51:41.264Z"
   },
   {
    "duration": 13,
    "start_time": "2022-11-16T06:51:41.284Z"
   },
   {
    "duration": 3,
    "start_time": "2022-11-16T06:51:41.299Z"
   },
   {
    "duration": 16456,
    "start_time": "2022-11-16T06:51:41.303Z"
   },
   {
    "duration": 7,
    "start_time": "2022-11-16T06:51:57.760Z"
   },
   {
    "duration": 18,
    "start_time": "2022-11-16T06:51:57.768Z"
   },
   {
    "duration": 3,
    "start_time": "2022-11-16T06:51:57.788Z"
   },
   {
    "duration": 13,
    "start_time": "2022-11-16T06:51:57.793Z"
   },
   {
    "duration": 150,
    "start_time": "2022-11-16T06:51:57.807Z"
   },
   {
    "duration": 21,
    "start_time": "2022-11-16T06:51:57.958Z"
   },
   {
    "duration": 80,
    "start_time": "2022-11-16T06:51:57.980Z"
   },
   {
    "duration": 0,
    "start_time": "2022-11-16T06:51:58.061Z"
   },
   {
    "duration": 0,
    "start_time": "2022-11-16T06:51:58.063Z"
   },
   {
    "duration": 0,
    "start_time": "2022-11-16T06:51:58.064Z"
   },
   {
    "duration": 0,
    "start_time": "2022-11-16T06:51:58.066Z"
   },
   {
    "duration": 0,
    "start_time": "2022-11-16T06:51:58.067Z"
   },
   {
    "duration": 0,
    "start_time": "2022-11-16T06:51:58.068Z"
   },
   {
    "duration": 0,
    "start_time": "2022-11-16T06:51:58.069Z"
   },
   {
    "duration": 3,
    "start_time": "2022-11-16T06:52:43.734Z"
   },
   {
    "duration": 55,
    "start_time": "2022-11-16T06:52:43.739Z"
   },
   {
    "duration": 18,
    "start_time": "2022-11-16T06:52:43.797Z"
   },
   {
    "duration": 21,
    "start_time": "2022-11-16T06:52:43.816Z"
   },
   {
    "duration": 4,
    "start_time": "2022-11-16T06:52:43.840Z"
   },
   {
    "duration": 17359,
    "start_time": "2022-11-16T06:52:43.845Z"
   },
   {
    "duration": 7,
    "start_time": "2022-11-16T06:53:01.206Z"
   },
   {
    "duration": 25,
    "start_time": "2022-11-16T06:53:01.215Z"
   },
   {
    "duration": 18,
    "start_time": "2022-11-16T06:53:01.241Z"
   },
   {
    "duration": 31,
    "start_time": "2022-11-16T06:53:01.261Z"
   },
   {
    "duration": 167,
    "start_time": "2022-11-16T06:53:01.296Z"
   },
   {
    "duration": 19,
    "start_time": "2022-11-16T06:53:01.464Z"
   },
   {
    "duration": 59,
    "start_time": "2022-11-16T06:53:01.485Z"
   },
   {
    "duration": 0,
    "start_time": "2022-11-16T06:53:01.546Z"
   },
   {
    "duration": 0,
    "start_time": "2022-11-16T06:53:01.548Z"
   },
   {
    "duration": 0,
    "start_time": "2022-11-16T06:53:01.549Z"
   },
   {
    "duration": 0,
    "start_time": "2022-11-16T06:53:01.550Z"
   },
   {
    "duration": 0,
    "start_time": "2022-11-16T06:53:01.551Z"
   },
   {
    "duration": 0,
    "start_time": "2022-11-16T06:53:01.553Z"
   },
   {
    "duration": 0,
    "start_time": "2022-11-16T06:53:01.554Z"
   },
   {
    "duration": 109,
    "start_time": "2022-11-16T07:05:11.185Z"
   },
   {
    "duration": 3,
    "start_time": "2022-11-16T07:05:23.055Z"
   },
   {
    "duration": 63,
    "start_time": "2022-11-16T07:05:23.061Z"
   },
   {
    "duration": 17,
    "start_time": "2022-11-16T07:05:23.126Z"
   },
   {
    "duration": 22,
    "start_time": "2022-11-16T07:05:23.146Z"
   },
   {
    "duration": 5,
    "start_time": "2022-11-16T07:05:23.171Z"
   },
   {
    "duration": 17902,
    "start_time": "2022-11-16T07:05:23.178Z"
   },
   {
    "duration": 6,
    "start_time": "2022-11-16T07:05:41.081Z"
   },
   {
    "duration": 16,
    "start_time": "2022-11-16T07:05:41.089Z"
   },
   {
    "duration": 5,
    "start_time": "2022-11-16T07:05:41.107Z"
   },
   {
    "duration": 15,
    "start_time": "2022-11-16T07:05:41.114Z"
   },
   {
    "duration": 174,
    "start_time": "2022-11-16T07:05:41.131Z"
   },
   {
    "duration": 16,
    "start_time": "2022-11-16T07:05:41.307Z"
   },
   {
    "duration": 51,
    "start_time": "2022-11-16T07:05:41.325Z"
   },
   {
    "duration": 0,
    "start_time": "2022-11-16T07:05:41.378Z"
   },
   {
    "duration": 0,
    "start_time": "2022-11-16T07:05:41.379Z"
   },
   {
    "duration": 0,
    "start_time": "2022-11-16T07:05:41.380Z"
   },
   {
    "duration": 0,
    "start_time": "2022-11-16T07:05:41.381Z"
   },
   {
    "duration": 0,
    "start_time": "2022-11-16T07:05:41.382Z"
   },
   {
    "duration": 0,
    "start_time": "2022-11-16T07:05:41.383Z"
   },
   {
    "duration": 0,
    "start_time": "2022-11-16T07:05:41.384Z"
   },
   {
    "duration": 0,
    "start_time": "2022-11-16T07:05:41.385Z"
   },
   {
    "duration": 0,
    "start_time": "2022-11-16T07:05:41.386Z"
   },
   {
    "duration": 3,
    "start_time": "2022-11-16T07:05:57.404Z"
   },
   {
    "duration": 53,
    "start_time": "2022-11-16T07:05:57.409Z"
   },
   {
    "duration": 16,
    "start_time": "2022-11-16T07:05:57.464Z"
   },
   {
    "duration": 19,
    "start_time": "2022-11-16T07:05:57.481Z"
   },
   {
    "duration": 3,
    "start_time": "2022-11-16T07:05:57.502Z"
   },
   {
    "duration": 16965,
    "start_time": "2022-11-16T07:05:57.507Z"
   },
   {
    "duration": 7,
    "start_time": "2022-11-16T07:06:14.474Z"
   },
   {
    "duration": 15,
    "start_time": "2022-11-16T07:06:14.483Z"
   },
   {
    "duration": 5,
    "start_time": "2022-11-16T07:06:14.499Z"
   },
   {
    "duration": 14,
    "start_time": "2022-11-16T07:06:14.505Z"
   },
   {
    "duration": 173,
    "start_time": "2022-11-16T07:06:14.521Z"
   },
   {
    "duration": 14,
    "start_time": "2022-11-16T07:06:14.696Z"
   },
   {
    "duration": 10,
    "start_time": "2022-11-16T07:06:14.711Z"
   },
   {
    "duration": 10,
    "start_time": "2022-11-16T07:06:33.506Z"
   },
   {
    "duration": 360,
    "start_time": "2022-11-16T07:06:39.633Z"
   },
   {
    "duration": 263,
    "start_time": "2022-11-16T07:06:45.915Z"
   },
   {
    "duration": 13,
    "start_time": "2022-11-16T07:06:49.195Z"
   },
   {
    "duration": 11,
    "start_time": "2022-11-16T07:07:13.596Z"
   },
   {
    "duration": 3,
    "start_time": "2022-11-16T07:07:34.661Z"
   },
   {
    "duration": 56,
    "start_time": "2022-11-16T07:07:34.665Z"
   },
   {
    "duration": 16,
    "start_time": "2022-11-16T07:07:34.722Z"
   },
   {
    "duration": 25,
    "start_time": "2022-11-16T07:07:34.739Z"
   },
   {
    "duration": 21,
    "start_time": "2022-11-16T07:07:34.767Z"
   },
   {
    "duration": 17162,
    "start_time": "2022-11-16T07:07:34.790Z"
   },
   {
    "duration": 7,
    "start_time": "2022-11-16T07:07:51.954Z"
   },
   {
    "duration": 24,
    "start_time": "2022-11-16T07:07:51.963Z"
   },
   {
    "duration": 5,
    "start_time": "2022-11-16T07:07:51.991Z"
   },
   {
    "duration": 18,
    "start_time": "2022-11-16T07:07:51.998Z"
   },
   {
    "duration": 149,
    "start_time": "2022-11-16T07:07:52.018Z"
   },
   {
    "duration": 13,
    "start_time": "2022-11-16T07:07:52.176Z"
   },
   {
    "duration": 561,
    "start_time": "2022-11-16T07:07:52.191Z"
   },
   {
    "duration": 290,
    "start_time": "2022-11-16T07:07:52.753Z"
   },
   {
    "duration": 256,
    "start_time": "2022-11-16T07:07:53.044Z"
   },
   {
    "duration": 12,
    "start_time": "2022-11-16T07:07:53.301Z"
   },
   {
    "duration": 28,
    "start_time": "2022-11-16T07:07:53.314Z"
   },
   {
    "duration": 12,
    "start_time": "2022-11-16T07:13:10.709Z"
   },
   {
    "duration": 51,
    "start_time": "2022-11-16T07:13:10.724Z"
   },
   {
    "duration": 0,
    "start_time": "2022-11-16T07:13:10.777Z"
   },
   {
    "duration": 0,
    "start_time": "2022-11-16T07:13:10.778Z"
   },
   {
    "duration": 0,
    "start_time": "2022-11-16T07:13:10.779Z"
   },
   {
    "duration": 10,
    "start_time": "2022-11-16T07:13:20.204Z"
   },
   {
    "duration": 30,
    "start_time": "2022-11-16T07:13:20.218Z"
   },
   {
    "duration": 45,
    "start_time": "2022-11-16T07:13:20.249Z"
   },
   {
    "duration": 0,
    "start_time": "2022-11-16T07:13:20.295Z"
   },
   {
    "duration": 17,
    "start_time": "2022-11-16T07:16:09.638Z"
   },
   {
    "duration": 11,
    "start_time": "2022-11-16T07:18:06.202Z"
   },
   {
    "duration": 10,
    "start_time": "2022-11-16T07:25:22.052Z"
   },
   {
    "duration": 125,
    "start_time": "2022-11-16T07:25:33.182Z"
   },
   {
    "duration": 11,
    "start_time": "2022-11-16T07:25:47.439Z"
   },
   {
    "duration": 11,
    "start_time": "2022-11-16T07:25:59.846Z"
   },
   {
    "duration": 15,
    "start_time": "2022-11-16T07:26:17.485Z"
   },
   {
    "duration": 11,
    "start_time": "2022-11-16T07:26:42.777Z"
   },
   {
    "duration": 12,
    "start_time": "2022-11-16T07:27:11.826Z"
   },
   {
    "duration": 11,
    "start_time": "2022-11-16T07:27:18.108Z"
   },
   {
    "duration": 12,
    "start_time": "2022-11-16T07:28:55.609Z"
   },
   {
    "duration": 1106,
    "start_time": "2022-11-16T07:37:48.109Z"
   },
   {
    "duration": 53,
    "start_time": "2022-11-16T07:37:49.218Z"
   },
   {
    "duration": 21,
    "start_time": "2022-11-16T07:37:49.272Z"
   },
   {
    "duration": 13,
    "start_time": "2022-11-16T07:37:49.295Z"
   },
   {
    "duration": 3,
    "start_time": "2022-11-16T07:37:49.310Z"
   },
   {
    "duration": 17780,
    "start_time": "2022-11-16T07:37:49.314Z"
   },
   {
    "duration": 7,
    "start_time": "2022-11-16T07:38:07.095Z"
   },
   {
    "duration": 18,
    "start_time": "2022-11-16T07:38:07.103Z"
   },
   {
    "duration": 8,
    "start_time": "2022-11-16T07:38:07.122Z"
   },
   {
    "duration": 43,
    "start_time": "2022-11-16T07:38:07.133Z"
   },
   {
    "duration": 188,
    "start_time": "2022-11-16T07:38:07.178Z"
   },
   {
    "duration": 17,
    "start_time": "2022-11-16T07:38:07.368Z"
   },
   {
    "duration": 498,
    "start_time": "2022-11-16T07:38:07.387Z"
   },
   {
    "duration": 292,
    "start_time": "2022-11-16T07:38:07.887Z"
   },
   {
    "duration": 238,
    "start_time": "2022-11-16T07:38:08.180Z"
   },
   {
    "duration": 11,
    "start_time": "2022-11-16T07:38:08.419Z"
   },
   {
    "duration": 9,
    "start_time": "2022-11-16T07:38:08.432Z"
   },
   {
    "duration": 33,
    "start_time": "2022-11-16T07:38:08.443Z"
   },
   {
    "duration": 10,
    "start_time": "2022-11-16T07:38:08.478Z"
   },
   {
    "duration": 1048,
    "start_time": "2022-11-16T07:39:27.208Z"
   },
   {
    "duration": 962,
    "start_time": "2022-11-16T07:39:51.229Z"
   },
   {
    "duration": 1047,
    "start_time": "2022-11-16T07:40:40.228Z"
   },
   {
    "duration": 28,
    "start_time": "2022-11-16T07:42:20.226Z"
   },
   {
    "duration": 27,
    "start_time": "2022-11-16T07:42:41.764Z"
   },
   {
    "duration": 19,
    "start_time": "2022-11-16T07:42:49.232Z"
   },
   {
    "duration": 14,
    "start_time": "2022-11-16T07:43:43.470Z"
   },
   {
    "duration": 14,
    "start_time": "2022-11-16T07:43:50.926Z"
   },
   {
    "duration": 12,
    "start_time": "2022-11-16T07:44:46.227Z"
   },
   {
    "duration": 21,
    "start_time": "2022-11-16T07:46:59.437Z"
   },
   {
    "duration": 20,
    "start_time": "2022-11-16T07:47:21.851Z"
   },
   {
    "duration": 13,
    "start_time": "2022-11-16T08:02:59.744Z"
   },
   {
    "duration": 5,
    "start_time": "2022-11-16T08:04:42.560Z"
   },
   {
    "duration": 21,
    "start_time": "2022-11-16T08:04:56.157Z"
   },
   {
    "duration": 20,
    "start_time": "2022-11-16T08:06:25.954Z"
   },
   {
    "duration": 4,
    "start_time": "2022-11-16T08:06:37.803Z"
   },
   {
    "duration": 16,
    "start_time": "2022-11-16T08:06:40.469Z"
   },
   {
    "duration": 20,
    "start_time": "2022-11-16T08:08:36.235Z"
   },
   {
    "duration": 26,
    "start_time": "2022-11-16T08:09:07.149Z"
   },
   {
    "duration": 21,
    "start_time": "2022-11-16T08:10:38.572Z"
   },
   {
    "duration": 19,
    "start_time": "2022-11-16T08:11:16.334Z"
   },
   {
    "duration": 21,
    "start_time": "2022-11-16T08:11:24.395Z"
   },
   {
    "duration": 25,
    "start_time": "2022-11-16T08:11:39.527Z"
   },
   {
    "duration": 31,
    "start_time": "2022-11-16T08:11:59.962Z"
   },
   {
    "duration": 30,
    "start_time": "2022-11-16T08:12:06.170Z"
   },
   {
    "duration": 29,
    "start_time": "2022-11-16T08:34:12.444Z"
   },
   {
    "duration": 29,
    "start_time": "2022-11-16T08:34:47.606Z"
   },
   {
    "duration": 32,
    "start_time": "2022-11-16T08:35:03.531Z"
   },
   {
    "duration": 26,
    "start_time": "2022-11-16T08:38:31.823Z"
   },
   {
    "duration": 25,
    "start_time": "2022-11-16T08:42:37.057Z"
   },
   {
    "duration": 85,
    "start_time": "2022-11-16T14:14:08.283Z"
   },
   {
    "duration": 90,
    "start_time": "2022-11-16T14:14:15.848Z"
   },
   {
    "duration": 75,
    "start_time": "2022-11-16T14:14:35.406Z"
   },
   {
    "duration": 7,
    "start_time": "2022-11-16T14:14:52.285Z"
   },
   {
    "duration": 1598,
    "start_time": "2022-11-16T14:15:03.922Z"
   },
   {
    "duration": 118,
    "start_time": "2022-11-16T14:15:05.523Z"
   },
   {
    "duration": 34,
    "start_time": "2022-11-16T14:15:05.643Z"
   },
   {
    "duration": 21,
    "start_time": "2022-11-16T14:15:05.681Z"
   },
   {
    "duration": 5,
    "start_time": "2022-11-16T14:15:05.705Z"
   },
   {
    "duration": 22858,
    "start_time": "2022-11-16T14:15:05.712Z"
   },
   {
    "duration": 9,
    "start_time": "2022-11-16T14:15:28.572Z"
   },
   {
    "duration": 25,
    "start_time": "2022-11-16T14:15:28.584Z"
   },
   {
    "duration": 6,
    "start_time": "2022-11-16T14:15:28.611Z"
   },
   {
    "duration": 46,
    "start_time": "2022-11-16T14:15:28.619Z"
   },
   {
    "duration": 208,
    "start_time": "2022-11-16T14:15:28.667Z"
   },
   {
    "duration": 16,
    "start_time": "2022-11-16T14:15:28.877Z"
   },
   {
    "duration": 738,
    "start_time": "2022-11-16T14:15:28.895Z"
   },
   {
    "duration": 554,
    "start_time": "2022-11-16T14:15:29.638Z"
   },
   {
    "duration": 331,
    "start_time": "2022-11-16T14:15:30.194Z"
   },
   {
    "duration": 29,
    "start_time": "2022-11-16T14:15:30.527Z"
   },
   {
    "duration": 44,
    "start_time": "2022-11-16T14:15:30.557Z"
   },
   {
    "duration": 32,
    "start_time": "2022-11-16T14:15:30.603Z"
   },
   {
    "duration": 96,
    "start_time": "2022-11-16T14:15:30.638Z"
   },
   {
    "duration": 40,
    "start_time": "2022-11-16T14:15:30.736Z"
   },
   {
    "duration": 44,
    "start_time": "2022-11-16T14:15:30.778Z"
   },
   {
    "duration": 8,
    "start_time": "2022-11-16T14:15:30.825Z"
   },
   {
    "duration": 14,
    "start_time": "2022-11-16T14:16:02.806Z"
   },
   {
    "duration": 16,
    "start_time": "2022-11-16T14:16:11.644Z"
   },
   {
    "duration": 14,
    "start_time": "2022-11-16T14:16:22.335Z"
   },
   {
    "duration": 35,
    "start_time": "2022-11-16T14:17:10.362Z"
   },
   {
    "duration": 23,
    "start_time": "2022-11-16T14:17:33.752Z"
   },
   {
    "duration": 14,
    "start_time": "2022-11-16T14:17:48.219Z"
   },
   {
    "duration": 11,
    "start_time": "2022-11-16T14:17:58.196Z"
   },
   {
    "duration": 11,
    "start_time": "2022-11-16T14:18:26.221Z"
   },
   {
    "duration": 208,
    "start_time": "2022-11-16T14:18:57.050Z"
   },
   {
    "duration": 4,
    "start_time": "2022-11-16T14:19:22.015Z"
   },
   {
    "duration": 22,
    "start_time": "2022-11-16T14:19:26.691Z"
   },
   {
    "duration": 13,
    "start_time": "2022-11-16T14:19:36.383Z"
   },
   {
    "duration": 15,
    "start_time": "2022-11-16T14:20:55.153Z"
   },
   {
    "duration": 16,
    "start_time": "2022-11-16T14:21:11.350Z"
   },
   {
    "duration": 13,
    "start_time": "2022-11-16T14:22:11.412Z"
   },
   {
    "duration": 14,
    "start_time": "2022-11-16T14:22:26.392Z"
   },
   {
    "duration": 4,
    "start_time": "2022-11-16T14:59:26.528Z"
   },
   {
    "duration": 93,
    "start_time": "2022-11-16T15:00:35.785Z"
   },
   {
    "duration": 104,
    "start_time": "2022-11-16T15:03:15.231Z"
   },
   {
    "duration": 89,
    "start_time": "2022-11-16T15:03:22.622Z"
   },
   {
    "duration": 27,
    "start_time": "2022-11-16T15:03:33.443Z"
   },
   {
    "duration": 94,
    "start_time": "2022-11-16T15:03:36.294Z"
   },
   {
    "duration": 23,
    "start_time": "2022-11-16T15:06:32.297Z"
   },
   {
    "duration": 22284,
    "start_time": "2022-11-16T15:11:06.172Z"
   },
   {
    "duration": 30,
    "start_time": "2022-11-16T15:15:11.169Z"
   },
   {
    "duration": 16,
    "start_time": "2022-11-16T15:15:15.703Z"
   },
   {
    "duration": 9,
    "start_time": "2022-11-16T15:15:37.501Z"
   },
   {
    "duration": 17,
    "start_time": "2022-11-16T15:17:36.694Z"
   },
   {
    "duration": 36,
    "start_time": "2022-11-16T15:17:42.546Z"
   },
   {
    "duration": 72,
    "start_time": "2022-11-16T15:19:11.177Z"
   },
   {
    "duration": 10,
    "start_time": "2022-11-16T15:26:24.636Z"
   },
   {
    "duration": 31,
    "start_time": "2022-11-16T15:26:30.726Z"
   },
   {
    "duration": 20,
    "start_time": "2022-11-16T15:27:47.295Z"
   },
   {
    "duration": 6,
    "start_time": "2022-11-16T15:27:54.377Z"
   },
   {
    "duration": 15,
    "start_time": "2022-11-16T15:28:51.979Z"
   },
   {
    "duration": 5,
    "start_time": "2022-11-16T15:29:57.336Z"
   },
   {
    "duration": 12,
    "start_time": "2022-11-16T15:30:07.286Z"
   },
   {
    "duration": 7,
    "start_time": "2022-11-16T15:30:22.739Z"
   },
   {
    "duration": 26,
    "start_time": "2022-11-16T15:30:25.182Z"
   },
   {
    "duration": 1226,
    "start_time": "2022-11-16T15:30:46.678Z"
   },
   {
    "duration": 77,
    "start_time": "2022-11-16T15:30:47.906Z"
   },
   {
    "duration": 25,
    "start_time": "2022-11-16T15:30:47.985Z"
   },
   {
    "duration": 20516,
    "start_time": "2022-11-16T15:30:48.013Z"
   },
   {
    "duration": 39,
    "start_time": "2022-11-16T15:31:08.531Z"
   },
   {
    "duration": 13,
    "start_time": "2022-11-16T15:31:08.573Z"
   },
   {
    "duration": 6,
    "start_time": "2022-11-16T15:31:08.588Z"
   },
   {
    "duration": 20,
    "start_time": "2022-11-16T15:31:08.596Z"
   },
   {
    "duration": 211,
    "start_time": "2022-11-16T15:31:08.618Z"
   },
   {
    "duration": 29,
    "start_time": "2022-11-16T15:31:08.832Z"
   },
   {
    "duration": 694,
    "start_time": "2022-11-16T15:31:08.869Z"
   },
   {
    "duration": 442,
    "start_time": "2022-11-16T15:31:09.566Z"
   },
   {
    "duration": 363,
    "start_time": "2022-11-16T15:31:10.010Z"
   },
   {
    "duration": 13,
    "start_time": "2022-11-16T15:31:10.375Z"
   },
   {
    "duration": 12,
    "start_time": "2022-11-16T15:31:10.390Z"
   },
   {
    "duration": 17,
    "start_time": "2022-11-16T15:31:10.404Z"
   },
   {
    "duration": 61,
    "start_time": "2022-11-16T15:31:10.423Z"
   },
   {
    "duration": 31,
    "start_time": "2022-11-16T15:31:10.486Z"
   },
   {
    "duration": 63,
    "start_time": "2022-11-16T15:31:10.518Z"
   },
   {
    "duration": 12,
    "start_time": "2022-11-16T15:31:10.583Z"
   },
   {
    "duration": 22,
    "start_time": "2022-11-16T15:31:10.598Z"
   },
   {
    "duration": 8,
    "start_time": "2022-11-16T15:32:44.034Z"
   },
   {
    "duration": 6,
    "start_time": "2022-11-16T15:32:47.777Z"
   },
   {
    "duration": 17,
    "start_time": "2022-11-16T15:32:48.723Z"
   },
   {
    "duration": 15,
    "start_time": "2022-11-16T15:38:33.011Z"
   },
   {
    "duration": 76,
    "start_time": "2022-11-16T15:51:10.759Z"
   },
   {
    "duration": 16,
    "start_time": "2022-11-16T15:53:40.158Z"
   },
   {
    "duration": 15,
    "start_time": "2022-11-16T15:53:54.902Z"
   },
   {
    "duration": 12,
    "start_time": "2022-11-16T15:55:19.405Z"
   },
   {
    "duration": 15,
    "start_time": "2022-11-16T16:06:55.560Z"
   },
   {
    "duration": 8,
    "start_time": "2022-11-16T16:07:01.278Z"
   },
   {
    "duration": 130,
    "start_time": "2022-11-16T16:07:35.448Z"
   },
   {
    "duration": 8,
    "start_time": "2022-11-16T16:07:38.964Z"
   },
   {
    "duration": 10,
    "start_time": "2022-11-16T16:07:59.176Z"
   },
   {
    "duration": 10,
    "start_time": "2022-11-16T16:31:57.479Z"
   },
   {
    "duration": 9,
    "start_time": "2022-11-16T16:36:53.505Z"
   },
   {
    "duration": 13,
    "start_time": "2022-11-16T16:36:55.905Z"
   },
   {
    "duration": 111,
    "start_time": "2022-11-16T16:37:22.796Z"
   },
   {
    "duration": 12,
    "start_time": "2022-11-16T16:37:41.198Z"
   },
   {
    "duration": 13,
    "start_time": "2022-11-16T16:38:06.167Z"
   },
   {
    "duration": 99,
    "start_time": "2022-11-16T16:44:45.904Z"
   },
   {
    "duration": 80,
    "start_time": "2022-11-16T16:45:03.705Z"
   },
   {
    "duration": 77,
    "start_time": "2022-11-16T16:45:41.123Z"
   },
   {
    "duration": 11,
    "start_time": "2022-11-16T16:45:55.235Z"
   },
   {
    "duration": 14,
    "start_time": "2022-11-16T16:46:30.327Z"
   },
   {
    "duration": 15,
    "start_time": "2022-11-16T16:46:44.265Z"
   },
   {
    "duration": 16,
    "start_time": "2022-11-16T16:49:52.768Z"
   },
   {
    "duration": 20,
    "start_time": "2022-11-16T16:50:04.345Z"
   },
   {
    "duration": 10,
    "start_time": "2022-11-16T16:51:15.229Z"
   },
   {
    "duration": 21,
    "start_time": "2022-11-16T16:52:28.529Z"
   },
   {
    "duration": 15,
    "start_time": "2022-11-16T16:52:33.411Z"
   },
   {
    "duration": 19,
    "start_time": "2022-11-16T16:52:43.097Z"
   },
   {
    "duration": 19,
    "start_time": "2022-11-16T16:52:56.268Z"
   },
   {
    "duration": 19,
    "start_time": "2022-11-16T16:53:24.019Z"
   },
   {
    "duration": 19,
    "start_time": "2022-11-16T16:59:45.419Z"
   },
   {
    "duration": 89,
    "start_time": "2022-11-16T17:00:27.065Z"
   },
   {
    "duration": 1271,
    "start_time": "2022-11-16T19:03:15.037Z"
   },
   {
    "duration": 71,
    "start_time": "2022-11-16T19:03:16.310Z"
   },
   {
    "duration": 16,
    "start_time": "2022-11-16T19:03:16.383Z"
   },
   {
    "duration": 18492,
    "start_time": "2022-11-16T19:03:16.401Z"
   },
   {
    "duration": 23,
    "start_time": "2022-11-16T19:03:34.894Z"
   },
   {
    "duration": 30,
    "start_time": "2022-11-16T19:03:34.919Z"
   },
   {
    "duration": 18,
    "start_time": "2022-11-16T19:03:34.951Z"
   },
   {
    "duration": 188,
    "start_time": "2022-11-16T19:03:34.971Z"
   },
   {
    "duration": 13,
    "start_time": "2022-11-16T19:03:35.161Z"
   },
   {
    "duration": 607,
    "start_time": "2022-11-16T19:03:35.177Z"
   },
   {
    "duration": 329,
    "start_time": "2022-11-16T19:03:35.786Z"
   },
   {
    "duration": 293,
    "start_time": "2022-11-16T19:03:36.117Z"
   },
   {
    "duration": 13,
    "start_time": "2022-11-16T19:03:36.411Z"
   },
   {
    "duration": 32,
    "start_time": "2022-11-16T19:03:36.426Z"
   },
   {
    "duration": 13,
    "start_time": "2022-11-16T19:03:36.459Z"
   },
   {
    "duration": 46,
    "start_time": "2022-11-16T19:03:36.474Z"
   },
   {
    "duration": 34,
    "start_time": "2022-11-16T19:03:36.522Z"
   },
   {
    "duration": 29,
    "start_time": "2022-11-16T19:03:36.558Z"
   },
   {
    "duration": 26,
    "start_time": "2022-11-16T19:03:36.589Z"
   },
   {
    "duration": 35,
    "start_time": "2022-11-16T19:03:36.617Z"
   },
   {
    "duration": 21,
    "start_time": "2022-11-16T19:05:29.334Z"
   },
   {
    "duration": 20,
    "start_time": "2022-11-16T19:05:35.079Z"
   },
   {
    "duration": 1294,
    "start_time": "2022-11-17T03:43:24.223Z"
   },
   {
    "duration": 219,
    "start_time": "2022-11-17T03:43:25.518Z"
   },
   {
    "duration": 18,
    "start_time": "2022-11-17T03:43:25.738Z"
   },
   {
    "duration": 16648,
    "start_time": "2022-11-17T03:43:25.758Z"
   },
   {
    "duration": 35,
    "start_time": "2022-11-17T03:43:42.408Z"
   },
   {
    "duration": 12,
    "start_time": "2022-11-17T03:43:42.446Z"
   },
   {
    "duration": 25,
    "start_time": "2022-11-17T03:43:42.460Z"
   },
   {
    "duration": 199,
    "start_time": "2022-11-17T03:43:42.487Z"
   },
   {
    "duration": 12,
    "start_time": "2022-11-17T03:43:42.688Z"
   },
   {
    "duration": 535,
    "start_time": "2022-11-17T03:43:42.702Z"
   },
   {
    "duration": 299,
    "start_time": "2022-11-17T03:43:43.239Z"
   },
   {
    "duration": 257,
    "start_time": "2022-11-17T03:43:43.540Z"
   },
   {
    "duration": 11,
    "start_time": "2022-11-17T03:43:43.798Z"
   },
   {
    "duration": 11,
    "start_time": "2022-11-17T03:43:43.810Z"
   },
   {
    "duration": 11,
    "start_time": "2022-11-17T03:43:43.835Z"
   },
   {
    "duration": 27,
    "start_time": "2022-11-17T03:43:43.847Z"
   },
   {
    "duration": 24,
    "start_time": "2022-11-17T03:43:43.876Z"
   },
   {
    "duration": 50,
    "start_time": "2022-11-17T03:43:43.902Z"
   },
   {
    "duration": 16,
    "start_time": "2022-11-17T03:43:43.953Z"
   },
   {
    "duration": 17,
    "start_time": "2022-11-17T03:43:43.971Z"
   },
   {
    "duration": 55,
    "start_time": "2022-11-17T09:06:23.899Z"
   },
   {
    "duration": 1447,
    "start_time": "2022-11-17T09:06:32.874Z"
   },
   {
    "duration": 136,
    "start_time": "2022-11-17T09:06:34.324Z"
   },
   {
    "duration": 17,
    "start_time": "2022-11-17T09:06:34.461Z"
   },
   {
    "duration": 18917,
    "start_time": "2022-11-17T09:06:34.480Z"
   },
   {
    "duration": 39,
    "start_time": "2022-11-17T09:06:53.399Z"
   },
   {
    "duration": 12,
    "start_time": "2022-11-17T09:06:53.440Z"
   },
   {
    "duration": 6,
    "start_time": "2022-11-17T09:06:53.454Z"
   },
   {
    "duration": 184,
    "start_time": "2022-11-17T09:06:53.462Z"
   },
   {
    "duration": 14,
    "start_time": "2022-11-17T09:06:53.648Z"
   },
   {
    "duration": 716,
    "start_time": "2022-11-17T09:06:53.664Z"
   },
   {
    "duration": 344,
    "start_time": "2022-11-17T09:06:54.382Z"
   },
   {
    "duration": 307,
    "start_time": "2022-11-17T09:06:54.739Z"
   },
   {
    "duration": 13,
    "start_time": "2022-11-17T09:06:55.048Z"
   },
   {
    "duration": 12,
    "start_time": "2022-11-17T09:06:55.063Z"
   },
   {
    "duration": 27,
    "start_time": "2022-11-17T09:06:55.079Z"
   },
   {
    "duration": 57,
    "start_time": "2022-11-17T09:06:55.108Z"
   },
   {
    "duration": 45,
    "start_time": "2022-11-17T09:06:55.167Z"
   },
   {
    "duration": 36,
    "start_time": "2022-11-17T09:06:55.214Z"
   },
   {
    "duration": 16,
    "start_time": "2022-11-17T09:06:55.252Z"
   },
   {
    "duration": 18,
    "start_time": "2022-11-17T09:06:55.270Z"
   },
   {
    "duration": 48,
    "start_time": "2022-11-17T09:08:16.385Z"
   },
   {
    "duration": 25,
    "start_time": "2022-11-17T09:08:22.432Z"
   },
   {
    "duration": 106,
    "start_time": "2022-11-17T09:08:46.621Z"
   },
   {
    "duration": 138,
    "start_time": "2022-11-17T09:26:25.379Z"
   },
   {
    "duration": 165,
    "start_time": "2022-11-17T09:27:10.506Z"
   },
   {
    "duration": 256,
    "start_time": "2022-11-17T09:28:05.490Z"
   },
   {
    "duration": 260,
    "start_time": "2022-11-17T09:29:12.136Z"
   },
   {
    "duration": 169,
    "start_time": "2022-11-17T09:29:18.660Z"
   },
   {
    "duration": 174,
    "start_time": "2022-11-17T09:29:34.505Z"
   },
   {
    "duration": 183,
    "start_time": "2022-11-17T09:30:14.887Z"
   },
   {
    "duration": 224,
    "start_time": "2022-11-17T09:31:00.459Z"
   },
   {
    "duration": 43,
    "start_time": "2022-11-17T09:35:28.178Z"
   },
   {
    "duration": 56,
    "start_time": "2022-11-17T09:35:39.774Z"
   },
   {
    "duration": 58,
    "start_time": "2022-11-17T09:36:01.532Z"
   },
   {
    "duration": 3732,
    "start_time": "2022-11-17T09:36:13.269Z"
   },
   {
    "duration": 3357,
    "start_time": "2022-11-17T09:36:24.735Z"
   },
   {
    "duration": 10,
    "start_time": "2022-11-17T09:36:56.177Z"
   },
   {
    "duration": 3698,
    "start_time": "2022-11-17T09:37:01.142Z"
   },
   {
    "duration": 84,
    "start_time": "2022-11-17T09:37:13.282Z"
   },
   {
    "duration": 80,
    "start_time": "2022-11-17T09:46:13.413Z"
   },
   {
    "duration": 18,
    "start_time": "2022-11-17T09:48:08.770Z"
   },
   {
    "duration": 14,
    "start_time": "2022-11-17T09:48:46.923Z"
   },
   {
    "duration": 104,
    "start_time": "2022-11-17T10:05:07.104Z"
   },
   {
    "duration": 4,
    "start_time": "2022-11-17T10:09:14.471Z"
   },
   {
    "duration": 15,
    "start_time": "2022-11-17T10:09:25.508Z"
   },
   {
    "duration": 32,
    "start_time": "2022-11-17T10:09:32.895Z"
   },
   {
    "duration": 29,
    "start_time": "2022-11-17T10:10:19.240Z"
   },
   {
    "duration": 17,
    "start_time": "2022-11-17T10:10:34.491Z"
   },
   {
    "duration": 8,
    "start_time": "2022-11-17T10:11:18.288Z"
   },
   {
    "duration": 15,
    "start_time": "2022-11-17T10:12:32.546Z"
   },
   {
    "duration": 188,
    "start_time": "2022-11-17T10:12:48.898Z"
   },
   {
    "duration": 17,
    "start_time": "2022-11-17T10:13:00.112Z"
   },
   {
    "duration": 9,
    "start_time": "2022-11-17T10:15:29.111Z"
   },
   {
    "duration": 13,
    "start_time": "2022-11-17T10:16:40.094Z"
   },
   {
    "duration": 23,
    "start_time": "2022-11-17T10:16:48.017Z"
   },
   {
    "duration": 18,
    "start_time": "2022-11-17T10:16:51.772Z"
   },
   {
    "duration": 649,
    "start_time": "2022-11-17T10:17:02.546Z"
   },
   {
    "duration": 366,
    "start_time": "2022-11-17T10:17:13.242Z"
   },
   {
    "duration": 385,
    "start_time": "2022-11-17T10:18:06.102Z"
   },
   {
    "duration": 182,
    "start_time": "2022-11-17T10:19:21.703Z"
   },
   {
    "duration": 301,
    "start_time": "2022-11-17T10:23:09.299Z"
   },
   {
    "duration": 234,
    "start_time": "2022-11-17T10:23:43.805Z"
   },
   {
    "duration": 196,
    "start_time": "2022-11-17T10:23:49.370Z"
   },
   {
    "duration": 301,
    "start_time": "2022-11-17T10:24:02.157Z"
   },
   {
    "duration": 195,
    "start_time": "2022-11-17T10:24:07.961Z"
   },
   {
    "duration": 195,
    "start_time": "2022-11-17T10:24:43.611Z"
   },
   {
    "duration": 171,
    "start_time": "2022-11-17T10:25:01.456Z"
   },
   {
    "duration": 211,
    "start_time": "2022-11-17T10:25:14.434Z"
   },
   {
    "duration": 252,
    "start_time": "2022-11-17T10:25:36.303Z"
   },
   {
    "duration": 33,
    "start_time": "2022-11-17T10:30:00.258Z"
   },
   {
    "duration": 12,
    "start_time": "2022-11-17T10:30:08.991Z"
   },
   {
    "duration": 237,
    "start_time": "2022-11-17T10:30:59.720Z"
   },
   {
    "duration": 223,
    "start_time": "2022-11-17T10:31:56.065Z"
   },
   {
    "duration": 1660,
    "start_time": "2022-11-17T10:32:10.872Z"
   },
   {
    "duration": 1763,
    "start_time": "2022-11-17T10:33:10.046Z"
   },
   {
    "duration": 260,
    "start_time": "2022-11-17T10:33:39.816Z"
   },
   {
    "duration": 363,
    "start_time": "2022-11-17T10:34:04.146Z"
   },
   {
    "duration": 592,
    "start_time": "2022-11-17T10:38:41.784Z"
   },
   {
    "duration": 627,
    "start_time": "2022-11-17T10:38:48.769Z"
   },
   {
    "duration": 22,
    "start_time": "2022-11-17T10:40:35.768Z"
   },
   {
    "duration": 702,
    "start_time": "2022-11-17T10:40:44.948Z"
   },
   {
    "duration": 591,
    "start_time": "2022-11-17T10:40:51.872Z"
   },
   {
    "duration": 665,
    "start_time": "2022-11-17T10:43:43.860Z"
   },
   {
    "duration": 17,
    "start_time": "2022-11-17T10:46:04.576Z"
   },
   {
    "duration": 16,
    "start_time": "2022-11-17T10:47:17.053Z"
   },
   {
    "duration": 728,
    "start_time": "2022-11-17T10:47:29.372Z"
   },
   {
    "duration": 565,
    "start_time": "2022-11-17T10:47:56.012Z"
   },
   {
    "duration": 325,
    "start_time": "2022-11-17T10:48:09.379Z"
   },
   {
    "duration": 354,
    "start_time": "2022-11-17T10:48:43.242Z"
   },
   {
    "duration": 76,
    "start_time": "2022-11-17T10:59:54.547Z"
   },
   {
    "duration": 25,
    "start_time": "2022-11-17T12:38:16.341Z"
   },
   {
    "duration": 16,
    "start_time": "2022-11-17T12:38:38.994Z"
   },
   {
    "duration": 12,
    "start_time": "2022-11-17T12:39:12.588Z"
   },
   {
    "duration": 13,
    "start_time": "2022-11-17T12:40:16.009Z"
   },
   {
    "duration": 12,
    "start_time": "2022-11-17T12:40:32.917Z"
   },
   {
    "duration": 13,
    "start_time": "2022-11-17T12:40:46.005Z"
   },
   {
    "duration": 15,
    "start_time": "2022-11-17T12:42:54.999Z"
   },
   {
    "duration": 16,
    "start_time": "2022-11-17T12:43:01.484Z"
   },
   {
    "duration": 35,
    "start_time": "2022-11-17T12:43:11.658Z"
   },
   {
    "duration": 77,
    "start_time": "2022-11-17T12:44:55.778Z"
   },
   {
    "duration": 25,
    "start_time": "2022-11-17T12:45:51.921Z"
   },
   {
    "duration": 19,
    "start_time": "2022-11-17T12:46:13.743Z"
   },
   {
    "duration": 11,
    "start_time": "2022-11-17T12:46:20.737Z"
   },
   {
    "duration": 13,
    "start_time": "2022-11-17T12:47:02.569Z"
   },
   {
    "duration": 11,
    "start_time": "2022-11-17T12:47:26.361Z"
   },
   {
    "duration": 75,
    "start_time": "2022-11-17T14:05:02.995Z"
   },
   {
    "duration": 269,
    "start_time": "2022-11-17T14:19:31.268Z"
   },
   {
    "duration": 12,
    "start_time": "2022-11-17T14:35:43.722Z"
   },
   {
    "duration": 12,
    "start_time": "2022-11-17T14:35:49.255Z"
   },
   {
    "duration": 159,
    "start_time": "2022-11-17T14:35:54.715Z"
   },
   {
    "duration": 147,
    "start_time": "2022-11-17T14:36:08.630Z"
   },
   {
    "duration": 165,
    "start_time": "2022-11-17T14:45:54.803Z"
   },
   {
    "duration": 261,
    "start_time": "2022-11-17T14:46:21.684Z"
   },
   {
    "duration": 163,
    "start_time": "2022-11-17T14:58:44.670Z"
   },
   {
    "duration": 161,
    "start_time": "2022-11-17T15:00:43.019Z"
   },
   {
    "duration": 74,
    "start_time": "2022-11-17T15:02:57.707Z"
   },
   {
    "duration": 163,
    "start_time": "2022-11-17T15:03:16.236Z"
   },
   {
    "duration": 147,
    "start_time": "2022-11-17T15:03:37.105Z"
   },
   {
    "duration": 147,
    "start_time": "2022-11-17T15:03:49.375Z"
   },
   {
    "duration": 157,
    "start_time": "2022-11-17T15:09:10.455Z"
   },
   {
    "duration": 165,
    "start_time": "2022-11-17T15:09:24.950Z"
   },
   {
    "duration": 151,
    "start_time": "2022-11-17T15:15:22.911Z"
   },
   {
    "duration": 200,
    "start_time": "2022-11-17T15:18:14.140Z"
   },
   {
    "duration": 169,
    "start_time": "2022-11-17T15:22:24.357Z"
   },
   {
    "duration": 163,
    "start_time": "2022-11-17T15:22:30.138Z"
   },
   {
    "duration": 165,
    "start_time": "2022-11-17T15:22:55.689Z"
   },
   {
    "duration": 12,
    "start_time": "2022-11-17T15:28:54.541Z"
   },
   {
    "duration": 10,
    "start_time": "2022-11-17T15:29:03.979Z"
   },
   {
    "duration": 12,
    "start_time": "2022-11-17T15:29:14.037Z"
   },
   {
    "duration": 149,
    "start_time": "2022-11-17T15:30:51.384Z"
   },
   {
    "duration": 254,
    "start_time": "2022-11-17T15:36:43.180Z"
   },
   {
    "duration": 152,
    "start_time": "2022-11-17T15:36:53.936Z"
   },
   {
    "duration": 150,
    "start_time": "2022-11-17T15:37:00.171Z"
   },
   {
    "duration": 24,
    "start_time": "2022-11-17T15:51:01.807Z"
   },
   {
    "duration": 17,
    "start_time": "2022-11-17T15:51:07.047Z"
   },
   {
    "duration": 71,
    "start_time": "2022-11-17T15:51:55.274Z"
   },
   {
    "duration": 5,
    "start_time": "2022-11-17T15:52:01.072Z"
   },
   {
    "duration": 4,
    "start_time": "2022-11-17T15:52:07.719Z"
   },
   {
    "duration": 4,
    "start_time": "2022-11-17T15:52:13.566Z"
   },
   {
    "duration": 13,
    "start_time": "2022-11-17T15:53:24.976Z"
   },
   {
    "duration": 13,
    "start_time": "2022-11-17T15:53:32.686Z"
   },
   {
    "duration": 14,
    "start_time": "2022-11-17T15:53:41.498Z"
   },
   {
    "duration": 22,
    "start_time": "2022-11-17T15:55:44.166Z"
   },
   {
    "duration": 14,
    "start_time": "2022-11-17T15:56:01.029Z"
   },
   {
    "duration": 72,
    "start_time": "2022-11-17T15:56:40.493Z"
   },
   {
    "duration": 21,
    "start_time": "2022-11-17T15:56:44.416Z"
   },
   {
    "duration": 20,
    "start_time": "2022-11-17T15:57:05.173Z"
   },
   {
    "duration": 20,
    "start_time": "2022-11-17T15:57:28.063Z"
   },
   {
    "duration": 22,
    "start_time": "2022-11-17T17:22:33.721Z"
   },
   {
    "duration": 13,
    "start_time": "2022-11-17T17:37:56.781Z"
   },
   {
    "duration": 348,
    "start_time": "2022-11-17T17:39:53.999Z"
   },
   {
    "duration": 303,
    "start_time": "2022-11-17T17:40:01.730Z"
   },
   {
    "duration": 303,
    "start_time": "2022-11-17T17:40:31.384Z"
   },
   {
    "duration": 72,
    "start_time": "2022-11-17T17:53:51.882Z"
   },
   {
    "duration": 1123,
    "start_time": "2022-11-17T17:55:55.191Z"
   },
   {
    "duration": 64,
    "start_time": "2022-11-17T17:55:56.316Z"
   },
   {
    "duration": 16,
    "start_time": "2022-11-17T17:55:56.382Z"
   },
   {
    "duration": 17049,
    "start_time": "2022-11-17T17:55:56.400Z"
   },
   {
    "duration": 21,
    "start_time": "2022-11-17T17:56:13.450Z"
   },
   {
    "duration": 11,
    "start_time": "2022-11-17T17:56:13.472Z"
   },
   {
    "duration": 7,
    "start_time": "2022-11-17T17:56:13.485Z"
   },
   {
    "duration": 186,
    "start_time": "2022-11-17T17:56:13.494Z"
   },
   {
    "duration": 198,
    "start_time": "2022-11-17T17:56:13.681Z"
   },
   {
    "duration": 13,
    "start_time": "2022-11-17T17:56:13.881Z"
   },
   {
    "duration": 636,
    "start_time": "2022-11-17T17:56:13.896Z"
   },
   {
    "duration": 292,
    "start_time": "2022-11-17T17:56:14.534Z"
   },
   {
    "duration": 273,
    "start_time": "2022-11-17T17:56:14.828Z"
   },
   {
    "duration": 10,
    "start_time": "2022-11-17T17:56:15.103Z"
   },
   {
    "duration": 160,
    "start_time": "2022-11-17T17:56:15.122Z"
   },
   {
    "duration": 238,
    "start_time": "2022-11-17T17:56:15.284Z"
   },
   {
    "duration": 10,
    "start_time": "2022-11-17T17:56:15.523Z"
   },
   {
    "duration": 171,
    "start_time": "2022-11-17T17:56:15.535Z"
   },
   {
    "duration": 189,
    "start_time": "2022-11-17T17:56:15.707Z"
   },
   {
    "duration": 24,
    "start_time": "2022-11-17T17:56:15.898Z"
   },
   {
    "duration": 154,
    "start_time": "2022-11-17T17:56:15.924Z"
   },
   {
    "duration": 162,
    "start_time": "2022-11-17T17:56:16.080Z"
   },
   {
    "duration": 290,
    "start_time": "2022-11-17T17:56:16.244Z"
   },
   {
    "duration": 29,
    "start_time": "2022-11-17T17:56:16.536Z"
   },
   {
    "duration": 27,
    "start_time": "2022-11-17T17:56:16.567Z"
   },
   {
    "duration": 51,
    "start_time": "2022-11-17T17:56:16.596Z"
   },
   {
    "duration": 10,
    "start_time": "2022-11-17T17:56:16.649Z"
   },
   {
    "duration": 12,
    "start_time": "2022-11-17T17:56:16.662Z"
   },
   {
    "duration": 251,
    "start_time": "2022-11-17T18:02:44.885Z"
   },
   {
    "duration": 256,
    "start_time": "2022-11-17T18:02:50.680Z"
   },
   {
    "duration": 350,
    "start_time": "2022-11-17T18:03:23.112Z"
   },
   {
    "duration": 274,
    "start_time": "2022-11-17T18:04:27.560Z"
   },
   {
    "duration": 67,
    "start_time": "2022-11-17T18:08:49.438Z"
   },
   {
    "duration": 1340,
    "start_time": "2022-11-18T15:17:32.415Z"
   },
   {
    "duration": 112,
    "start_time": "2022-11-18T15:17:33.758Z"
   },
   {
    "duration": 14,
    "start_time": "2022-11-18T15:17:33.871Z"
   },
   {
    "duration": 16908,
    "start_time": "2022-11-18T15:17:33.887Z"
   },
   {
    "duration": 21,
    "start_time": "2022-11-18T15:17:50.797Z"
   },
   {
    "duration": 20,
    "start_time": "2022-11-18T15:17:50.820Z"
   },
   {
    "duration": 9,
    "start_time": "2022-11-18T15:17:50.842Z"
   },
   {
    "duration": 176,
    "start_time": "2022-11-18T15:17:50.853Z"
   },
   {
    "duration": 195,
    "start_time": "2022-11-18T15:17:51.030Z"
   },
   {
    "duration": 18,
    "start_time": "2022-11-18T15:17:51.227Z"
   },
   {
    "duration": 543,
    "start_time": "2022-11-18T15:17:51.246Z"
   },
   {
    "duration": 308,
    "start_time": "2022-11-18T15:17:51.791Z"
   },
   {
    "duration": 275,
    "start_time": "2022-11-18T15:17:52.101Z"
   },
   {
    "duration": 13,
    "start_time": "2022-11-18T15:17:52.377Z"
   },
   {
    "duration": 211,
    "start_time": "2022-11-18T15:17:52.392Z"
   },
   {
    "duration": 233,
    "start_time": "2022-11-18T15:17:52.605Z"
   },
   {
    "duration": 10,
    "start_time": "2022-11-18T15:17:52.840Z"
   },
   {
    "duration": 167,
    "start_time": "2022-11-18T15:17:52.851Z"
   },
   {
    "duration": 161,
    "start_time": "2022-11-18T15:17:53.020Z"
   },
   {
    "duration": 11,
    "start_time": "2022-11-18T15:17:53.183Z"
   },
   {
    "duration": 157,
    "start_time": "2022-11-18T15:17:53.195Z"
   },
   {
    "duration": 147,
    "start_time": "2022-11-18T15:17:53.353Z"
   },
   {
    "duration": 298,
    "start_time": "2022-11-18T15:17:53.502Z"
   },
   {
    "duration": 35,
    "start_time": "2022-11-18T15:17:53.801Z"
   },
   {
    "duration": 27,
    "start_time": "2022-11-18T15:17:53.838Z"
   },
   {
    "duration": 26,
    "start_time": "2022-11-18T15:17:53.867Z"
   },
   {
    "duration": 10,
    "start_time": "2022-11-18T15:17:53.895Z"
   },
   {
    "duration": 11,
    "start_time": "2022-11-18T15:17:53.934Z"
   },
   {
    "duration": 103,
    "start_time": "2022-11-18T15:18:40.755Z"
   },
   {
    "duration": 34,
    "start_time": "2022-11-18T15:19:17.525Z"
   },
   {
    "duration": 13,
    "start_time": "2022-11-18T15:20:02.086Z"
   },
   {
    "duration": 14,
    "start_time": "2022-11-18T15:20:38.807Z"
   },
   {
    "duration": 9,
    "start_time": "2022-11-18T15:21:08.169Z"
   },
   {
    "duration": 10,
    "start_time": "2022-11-18T15:21:18.638Z"
   },
   {
    "duration": 13,
    "start_time": "2022-11-18T15:22:42.817Z"
   },
   {
    "duration": 13,
    "start_time": "2022-11-18T15:23:37.993Z"
   },
   {
    "duration": 45,
    "start_time": "2022-11-18T16:41:53.148Z"
   },
   {
    "duration": 1372,
    "start_time": "2022-11-18T16:42:01.775Z"
   },
   {
    "duration": 123,
    "start_time": "2022-11-18T16:42:03.149Z"
   },
   {
    "duration": 14,
    "start_time": "2022-11-18T16:42:03.274Z"
   },
   {
    "duration": 17410,
    "start_time": "2022-11-18T16:42:03.289Z"
   },
   {
    "duration": 34,
    "start_time": "2022-11-18T16:42:20.701Z"
   },
   {
    "duration": 8,
    "start_time": "2022-11-18T16:42:20.737Z"
   },
   {
    "duration": 4,
    "start_time": "2022-11-18T16:42:20.747Z"
   },
   {
    "duration": 189,
    "start_time": "2022-11-18T16:42:20.752Z"
   },
   {
    "duration": 194,
    "start_time": "2022-11-18T16:42:20.943Z"
   },
   {
    "duration": 13,
    "start_time": "2022-11-18T16:42:21.139Z"
   },
   {
    "duration": 583,
    "start_time": "2022-11-18T16:42:21.154Z"
   },
   {
    "duration": 318,
    "start_time": "2022-11-18T16:42:21.739Z"
   },
   {
    "duration": 285,
    "start_time": "2022-11-18T16:42:22.059Z"
   },
   {
    "duration": 10,
    "start_time": "2022-11-18T16:42:22.347Z"
   },
   {
    "duration": 177,
    "start_time": "2022-11-18T16:42:22.358Z"
   },
   {
    "duration": 260,
    "start_time": "2022-11-18T16:42:22.536Z"
   },
   {
    "duration": 12,
    "start_time": "2022-11-18T16:42:22.798Z"
   },
   {
    "duration": 182,
    "start_time": "2022-11-18T16:42:22.822Z"
   },
   {
    "duration": 211,
    "start_time": "2022-11-18T16:42:23.005Z"
   },
   {
    "duration": 17,
    "start_time": "2022-11-18T16:42:23.221Z"
   },
   {
    "duration": 161,
    "start_time": "2022-11-18T16:42:23.241Z"
   },
   {
    "duration": 145,
    "start_time": "2022-11-18T16:42:23.404Z"
   },
   {
    "duration": 402,
    "start_time": "2022-11-18T16:42:23.551Z"
   },
   {
    "duration": 0,
    "start_time": "2022-11-18T16:42:23.955Z"
   },
   {
    "duration": 0,
    "start_time": "2022-11-18T16:42:23.956Z"
   },
   {
    "duration": 0,
    "start_time": "2022-11-18T16:42:23.957Z"
   },
   {
    "duration": 0,
    "start_time": "2022-11-18T16:42:23.958Z"
   },
   {
    "duration": 0,
    "start_time": "2022-11-18T16:42:23.959Z"
   },
   {
    "duration": 280,
    "start_time": "2022-11-18T16:43:18.033Z"
   },
   {
    "duration": 313,
    "start_time": "2022-11-18T16:44:16.439Z"
   },
   {
    "duration": 363,
    "start_time": "2022-11-18T16:44:31.633Z"
   },
   {
    "duration": 280,
    "start_time": "2022-11-18T16:44:45.700Z"
   },
   {
    "duration": 3,
    "start_time": "2022-11-18T16:44:54.071Z"
   },
   {
    "duration": 6,
    "start_time": "2022-11-18T16:45:01.875Z"
   },
   {
    "duration": 6,
    "start_time": "2022-11-18T16:45:42.310Z"
   },
   {
    "duration": 6,
    "start_time": "2022-11-18T16:45:54.376Z"
   },
   {
    "duration": 8,
    "start_time": "2022-11-18T16:46:05.432Z"
   },
   {
    "duration": 12,
    "start_time": "2022-11-18T16:46:23.681Z"
   },
   {
    "duration": 6,
    "start_time": "2022-11-18T16:46:27.906Z"
   },
   {
    "duration": 17,
    "start_time": "2022-11-18T16:47:11.148Z"
   },
   {
    "duration": 918,
    "start_time": "2022-11-18T16:47:18.392Z"
   },
   {
    "duration": 15,
    "start_time": "2022-11-18T16:47:41.836Z"
   },
   {
    "duration": 7,
    "start_time": "2022-11-18T16:47:47.713Z"
   },
   {
    "duration": 63,
    "start_time": "2022-11-18T16:49:46.719Z"
   },
   {
    "duration": 114,
    "start_time": "2022-11-18T16:50:06.053Z"
   },
   {
    "duration": 86,
    "start_time": "2022-11-18T16:50:19.176Z"
   },
   {
    "duration": 50,
    "start_time": "2022-11-18T16:50:26.554Z"
   },
   {
    "duration": 19,
    "start_time": "2022-11-18T18:14:15.209Z"
   },
   {
    "duration": 14,
    "start_time": "2022-11-18T18:14:23.162Z"
   },
   {
    "duration": 13,
    "start_time": "2022-11-18T18:14:48.815Z"
   },
   {
    "duration": 14,
    "start_time": "2022-11-18T18:14:58.478Z"
   },
   {
    "duration": 13,
    "start_time": "2022-11-18T18:17:01.207Z"
   },
   {
    "duration": 18,
    "start_time": "2022-11-18T18:17:25.483Z"
   },
   {
    "duration": 14,
    "start_time": "2022-11-18T18:17:56.168Z"
   },
   {
    "duration": 16,
    "start_time": "2022-11-18T18:21:24.946Z"
   },
   {
    "duration": 17,
    "start_time": "2022-11-18T18:21:53.692Z"
   },
   {
    "duration": 17,
    "start_time": "2022-11-18T18:22:10.744Z"
   },
   {
    "duration": 13,
    "start_time": "2022-11-18T18:22:43.722Z"
   },
   {
    "duration": 13,
    "start_time": "2022-11-18T18:22:49.882Z"
   },
   {
    "duration": 8,
    "start_time": "2022-11-18T18:23:08.379Z"
   },
   {
    "duration": 8,
    "start_time": "2022-11-18T18:23:14.738Z"
   },
   {
    "duration": 1099,
    "start_time": "2022-11-18T18:23:27.410Z"
   },
   {
    "duration": 75,
    "start_time": "2022-11-18T18:23:28.511Z"
   },
   {
    "duration": 13,
    "start_time": "2022-11-18T18:23:28.588Z"
   },
   {
    "duration": 16169,
    "start_time": "2022-11-18T18:23:28.603Z"
   },
   {
    "duration": 19,
    "start_time": "2022-11-18T18:23:44.774Z"
   },
   {
    "duration": 8,
    "start_time": "2022-11-18T18:23:44.794Z"
   },
   {
    "duration": 25,
    "start_time": "2022-11-18T18:23:44.803Z"
   },
   {
    "duration": 177,
    "start_time": "2022-11-18T18:23:44.829Z"
   },
   {
    "duration": 177,
    "start_time": "2022-11-18T18:23:45.007Z"
   },
   {
    "duration": 13,
    "start_time": "2022-11-18T18:23:45.187Z"
   },
   {
    "duration": 582,
    "start_time": "2022-11-18T18:23:45.202Z"
   },
   {
    "duration": 279,
    "start_time": "2022-11-18T18:23:45.786Z"
   },
   {
    "duration": 256,
    "start_time": "2022-11-18T18:23:46.067Z"
   },
   {
    "duration": 12,
    "start_time": "2022-11-18T18:23:46.325Z"
   },
   {
    "duration": 148,
    "start_time": "2022-11-18T18:23:46.338Z"
   },
   {
    "duration": 222,
    "start_time": "2022-11-18T18:23:46.487Z"
   },
   {
    "duration": 16,
    "start_time": "2022-11-18T18:23:46.711Z"
   },
   {
    "duration": 160,
    "start_time": "2022-11-18T18:23:46.728Z"
   },
   {
    "duration": 146,
    "start_time": "2022-11-18T18:23:46.890Z"
   },
   {
    "duration": 10,
    "start_time": "2022-11-18T18:23:47.038Z"
   },
   {
    "duration": 149,
    "start_time": "2022-11-18T18:23:47.049Z"
   },
   {
    "duration": 139,
    "start_time": "2022-11-18T18:23:47.200Z"
   },
   {
    "duration": 281,
    "start_time": "2022-11-18T18:23:47.340Z"
   },
   {
    "duration": 5,
    "start_time": "2022-11-18T18:23:47.623Z"
   },
   {
    "duration": 43,
    "start_time": "2022-11-18T18:23:47.630Z"
   },
   {
    "duration": 24,
    "start_time": "2022-11-18T18:23:47.675Z"
   },
   {
    "duration": 34,
    "start_time": "2022-11-18T18:23:47.701Z"
   },
   {
    "duration": 8,
    "start_time": "2022-11-18T18:23:47.738Z"
   },
   {
    "duration": 52,
    "start_time": "2022-11-18T18:23:47.747Z"
   },
   {
    "duration": 11,
    "start_time": "2022-11-18T18:24:54.690Z"
   },
   {
    "duration": 6,
    "start_time": "2022-11-18T18:25:01.853Z"
   },
   {
    "duration": 6,
    "start_time": "2022-11-18T18:25:30.271Z"
   },
   {
    "duration": 101,
    "start_time": "2022-11-18T18:25:33.288Z"
   },
   {
    "duration": 14,
    "start_time": "2022-11-18T18:26:04.335Z"
   },
   {
    "duration": 17,
    "start_time": "2022-11-18T18:26:48.435Z"
   },
   {
    "duration": 23,
    "start_time": "2022-11-18T18:27:14.843Z"
   },
   {
    "duration": 15,
    "start_time": "2022-11-18T18:27:22.378Z"
   },
   {
    "duration": 9,
    "start_time": "2022-11-18T18:27:37.034Z"
   },
   {
    "duration": 10,
    "start_time": "2022-11-18T18:27:56.918Z"
   },
   {
    "duration": 55,
    "start_time": "2022-11-18T18:28:15.595Z"
   },
   {
    "duration": 16,
    "start_time": "2022-11-18T18:28:19.202Z"
   },
   {
    "duration": 18,
    "start_time": "2022-11-18T18:28:35.253Z"
   },
   {
    "duration": 20,
    "start_time": "2022-11-18T18:28:51.477Z"
   },
   {
    "duration": 16,
    "start_time": "2022-11-18T18:29:36.777Z"
   },
   {
    "duration": 14,
    "start_time": "2022-11-18T18:29:48.101Z"
   },
   {
    "duration": 19,
    "start_time": "2022-11-18T18:30:30.227Z"
   },
   {
    "duration": 306,
    "start_time": "2022-11-18T18:31:29.989Z"
   },
   {
    "duration": 281,
    "start_time": "2022-11-18T18:31:36.367Z"
   },
   {
    "duration": 348,
    "start_time": "2022-11-18T18:32:00.806Z"
   },
   {
    "duration": 1040,
    "start_time": "2022-11-18T18:32:16.670Z"
   },
   {
    "duration": 67,
    "start_time": "2022-11-18T18:32:17.713Z"
   },
   {
    "duration": 16,
    "start_time": "2022-11-18T18:32:17.782Z"
   },
   {
    "duration": 16441,
    "start_time": "2022-11-18T18:32:17.800Z"
   },
   {
    "duration": 20,
    "start_time": "2022-11-18T18:32:34.242Z"
   },
   {
    "duration": 9,
    "start_time": "2022-11-18T18:32:34.263Z"
   },
   {
    "duration": 12,
    "start_time": "2022-11-18T18:32:34.273Z"
   },
   {
    "duration": 162,
    "start_time": "2022-11-18T18:32:34.286Z"
   },
   {
    "duration": 189,
    "start_time": "2022-11-18T18:32:34.450Z"
   },
   {
    "duration": 12,
    "start_time": "2022-11-18T18:32:34.641Z"
   },
   {
    "duration": 521,
    "start_time": "2022-11-18T18:32:34.655Z"
   },
   {
    "duration": 349,
    "start_time": "2022-11-18T18:32:35.177Z"
   },
   {
    "duration": 251,
    "start_time": "2022-11-18T18:32:35.527Z"
   },
   {
    "duration": 10,
    "start_time": "2022-11-18T18:32:35.780Z"
   },
   {
    "duration": 148,
    "start_time": "2022-11-18T18:32:35.792Z"
   },
   {
    "duration": 217,
    "start_time": "2022-11-18T18:32:35.942Z"
   },
   {
    "duration": 10,
    "start_time": "2022-11-18T18:32:36.160Z"
   },
   {
    "duration": 151,
    "start_time": "2022-11-18T18:32:36.172Z"
   },
   {
    "duration": 153,
    "start_time": "2022-11-18T18:32:36.325Z"
   },
   {
    "duration": 13,
    "start_time": "2022-11-18T18:32:36.480Z"
   },
   {
    "duration": 173,
    "start_time": "2022-11-18T18:32:36.494Z"
   },
   {
    "duration": 138,
    "start_time": "2022-11-18T18:32:36.669Z"
   },
   {
    "duration": 269,
    "start_time": "2022-11-18T18:32:36.808Z"
   },
   {
    "duration": 6,
    "start_time": "2022-11-18T18:32:37.079Z"
   },
   {
    "duration": 37,
    "start_time": "2022-11-18T18:32:37.086Z"
   },
   {
    "duration": 25,
    "start_time": "2022-11-18T18:32:37.124Z"
   },
   {
    "duration": 26,
    "start_time": "2022-11-18T18:32:37.151Z"
   },
   {
    "duration": 43,
    "start_time": "2022-11-18T18:32:37.180Z"
   },
   {
    "duration": 9,
    "start_time": "2022-11-18T18:32:37.225Z"
   },
   {
    "duration": 13,
    "start_time": "2022-11-18T18:33:48.905Z"
   },
   {
    "duration": 41,
    "start_time": "2022-11-18T18:35:14.638Z"
   },
   {
    "duration": 13,
    "start_time": "2022-11-18T18:36:31.016Z"
   },
   {
    "duration": 46,
    "start_time": "2022-11-18T18:37:55.163Z"
   },
   {
    "duration": 67,
    "start_time": "2022-11-18T18:38:48.535Z"
   },
   {
    "duration": 1085,
    "start_time": "2022-11-18T18:40:18.122Z"
   },
   {
    "duration": 66,
    "start_time": "2022-11-18T18:40:19.209Z"
   },
   {
    "duration": 13,
    "start_time": "2022-11-18T18:40:19.277Z"
   },
   {
    "duration": 16434,
    "start_time": "2022-11-18T18:40:19.292Z"
   },
   {
    "duration": 20,
    "start_time": "2022-11-18T18:40:35.727Z"
   },
   {
    "duration": 8,
    "start_time": "2022-11-18T18:40:35.748Z"
   },
   {
    "duration": 6,
    "start_time": "2022-11-18T18:40:35.757Z"
   },
   {
    "duration": 164,
    "start_time": "2022-11-18T18:40:35.765Z"
   },
   {
    "duration": 177,
    "start_time": "2022-11-18T18:40:35.930Z"
   },
   {
    "duration": 18,
    "start_time": "2022-11-18T18:40:36.109Z"
   },
   {
    "duration": 527,
    "start_time": "2022-11-18T18:40:36.129Z"
   },
   {
    "duration": 275,
    "start_time": "2022-11-18T18:40:36.658Z"
   },
   {
    "duration": 251,
    "start_time": "2022-11-18T18:40:36.934Z"
   },
   {
    "duration": 10,
    "start_time": "2022-11-18T18:40:37.187Z"
   },
   {
    "duration": 152,
    "start_time": "2022-11-18T18:40:37.199Z"
   },
   {
    "duration": 213,
    "start_time": "2022-11-18T18:40:37.353Z"
   },
   {
    "duration": 9,
    "start_time": "2022-11-18T18:40:37.568Z"
   },
   {
    "duration": 157,
    "start_time": "2022-11-18T18:40:37.579Z"
   },
   {
    "duration": 155,
    "start_time": "2022-11-18T18:40:37.738Z"
   },
   {
    "duration": 9,
    "start_time": "2022-11-18T18:40:37.894Z"
   },
   {
    "duration": 150,
    "start_time": "2022-11-18T18:40:37.904Z"
   },
   {
    "duration": 140,
    "start_time": "2022-11-18T18:40:38.056Z"
   },
   {
    "duration": 280,
    "start_time": "2022-11-18T18:40:38.197Z"
   },
   {
    "duration": 6,
    "start_time": "2022-11-18T18:40:38.479Z"
   },
   {
    "duration": 36,
    "start_time": "2022-11-18T18:40:38.487Z"
   },
   {
    "duration": 24,
    "start_time": "2022-11-18T18:40:38.525Z"
   },
   {
    "duration": 26,
    "start_time": "2022-11-18T18:40:38.551Z"
   },
   {
    "duration": 40,
    "start_time": "2022-11-18T18:40:38.581Z"
   },
   {
    "duration": 13,
    "start_time": "2022-11-18T18:40:38.622Z"
   },
   {
    "duration": 5,
    "start_time": "2022-11-18T18:50:44.282Z"
   },
   {
    "duration": 6,
    "start_time": "2022-11-18T18:50:55.807Z"
   },
   {
    "duration": 6,
    "start_time": "2022-11-18T18:50:59.338Z"
   },
   {
    "duration": 47,
    "start_time": "2022-11-19T09:56:44.338Z"
   },
   {
    "duration": 6,
    "start_time": "2022-11-19T09:57:08.237Z"
   },
   {
    "duration": 1362,
    "start_time": "2022-11-19T09:57:13.007Z"
   },
   {
    "duration": 201,
    "start_time": "2022-11-19T09:57:14.371Z"
   },
   {
    "duration": 16,
    "start_time": "2022-11-19T09:57:14.574Z"
   },
   {
    "duration": 17531,
    "start_time": "2022-11-19T09:57:14.593Z"
   },
   {
    "duration": 29,
    "start_time": "2022-11-19T09:57:32.126Z"
   },
   {
    "duration": 10,
    "start_time": "2022-11-19T09:57:32.157Z"
   },
   {
    "duration": 8,
    "start_time": "2022-11-19T09:57:32.169Z"
   },
   {
    "duration": 196,
    "start_time": "2022-11-19T09:57:32.179Z"
   },
   {
    "duration": 201,
    "start_time": "2022-11-19T09:57:32.377Z"
   },
   {
    "duration": 13,
    "start_time": "2022-11-19T09:57:32.581Z"
   },
   {
    "duration": 616,
    "start_time": "2022-11-19T09:57:32.596Z"
   },
   {
    "duration": 313,
    "start_time": "2022-11-19T09:57:33.214Z"
   },
   {
    "duration": 299,
    "start_time": "2022-11-19T09:57:33.529Z"
   },
   {
    "duration": 112,
    "start_time": "2022-11-19T09:57:33.830Z"
   },
   {
    "duration": 0,
    "start_time": "2022-11-19T09:57:33.944Z"
   },
   {
    "duration": 0,
    "start_time": "2022-11-19T09:57:33.945Z"
   },
   {
    "duration": 0,
    "start_time": "2022-11-19T09:57:33.950Z"
   },
   {
    "duration": 0,
    "start_time": "2022-11-19T09:57:33.952Z"
   },
   {
    "duration": 0,
    "start_time": "2022-11-19T09:57:33.953Z"
   },
   {
    "duration": 0,
    "start_time": "2022-11-19T09:57:33.954Z"
   },
   {
    "duration": 0,
    "start_time": "2022-11-19T09:57:33.955Z"
   },
   {
    "duration": 0,
    "start_time": "2022-11-19T09:57:33.956Z"
   },
   {
    "duration": 0,
    "start_time": "2022-11-19T09:57:33.958Z"
   },
   {
    "duration": 0,
    "start_time": "2022-11-19T09:57:33.960Z"
   },
   {
    "duration": 0,
    "start_time": "2022-11-19T09:57:33.961Z"
   },
   {
    "duration": 0,
    "start_time": "2022-11-19T09:57:33.963Z"
   },
   {
    "duration": 0,
    "start_time": "2022-11-19T09:57:33.964Z"
   },
   {
    "duration": 0,
    "start_time": "2022-11-19T09:57:33.967Z"
   },
   {
    "duration": 0,
    "start_time": "2022-11-19T09:57:33.968Z"
   },
   {
    "duration": 0,
    "start_time": "2022-11-19T09:57:33.969Z"
   },
   {
    "duration": 14,
    "start_time": "2022-11-19T09:57:59.782Z"
   },
   {
    "duration": 12,
    "start_time": "2022-11-19T09:58:18.628Z"
   },
   {
    "duration": 10,
    "start_time": "2022-11-19T09:58:31.148Z"
   }
  ],
  "kernelspec": {
   "display_name": "Python 3 (ipykernel)",
   "language": "python",
   "name": "python3"
  },
  "language_info": {
   "codemirror_mode": {
    "name": "ipython",
    "version": 3
   },
   "file_extension": ".py",
   "mimetype": "text/x-python",
   "name": "python",
   "nbconvert_exporter": "python",
   "pygments_lexer": "ipython3",
   "version": "3.11.5"
  },
  "toc": {
   "base_numbering": 1,
   "nav_menu": {},
   "number_sections": true,
   "sideBar": true,
   "skip_h1_title": true,
   "title_cell": "Table of Contents",
   "title_sidebar": "Contents",
   "toc_cell": false,
   "toc_position": {
    "height": "calc(100% - 180px)",
    "left": "10px",
    "top": "150px",
    "width": "273.082px"
   },
   "toc_section_display": true,
   "toc_window_display": false
  }
 },
 "nbformat": 4,
 "nbformat_minor": 2
}
