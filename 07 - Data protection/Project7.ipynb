{
 "cells": [
  {
   "cell_type": "markdown",
   "metadata": {},
   "source": [
    "# Защита персональных данных клиентов"
   ]
  },
  {
   "cell_type": "markdown",
   "metadata": {},
   "source": [
    "Вам нужно защитить данные клиентов страховой компании «Хоть потоп». Разработайте такой метод преобразования данных, чтобы по ним было сложно восстановить персональную информацию. Обоснуйте корректность его работы.\n",
    "\n",
    "Нужно защитить данные, чтобы при преобразовании качество моделей машинного обучения не ухудшилось. Подбирать наилучшую модель не требуется."
   ]
  },
  {
   "cell_type": "markdown",
   "metadata": {
    "toc": true
   },
   "source": [
    "<h1>Содержание<span class=\"tocSkip\"></span></h1>\n",
    "<div class=\"toc\"><ul class=\"toc-item\"><li><span><a href=\"#Загрузка-данных\" data-toc-modified-id=\"Загрузка-данных-1\"><span class=\"toc-item-num\">1&nbsp;&nbsp;</span>Загрузка данных</a></span></li><li><span><a href=\"#Умножение-матриц\" data-toc-modified-id=\"Умножение-матриц-2\"><span class=\"toc-item-num\">2&nbsp;&nbsp;</span>Умножение матриц</a></span></li><li><span><a href=\"#Алгоритм-преобразования\" data-toc-modified-id=\"Алгоритм-преобразования-3\"><span class=\"toc-item-num\">3&nbsp;&nbsp;</span>Алгоритм преобразования</a></span></li><li><span><a href=\"#Проверка-алгоритма\" data-toc-modified-id=\"Проверка-алгоритма-4\"><span class=\"toc-item-num\">4&nbsp;&nbsp;</span>Проверка алгоритма</a></span><ul class=\"toc-item\"><li><span><a href=\"#Алгоритм-без-шифрования\" data-toc-modified-id=\"Алгоритм-без-шифрования-4.1\"><span class=\"toc-item-num\">4.1&nbsp;&nbsp;</span>Алгоритм без шифрования</a></span></li><li><span><a href=\"#Алгоритм-с-шифрованием\" data-toc-modified-id=\"Алгоритм-с-шифрованием-4.2\"><span class=\"toc-item-num\">4.2&nbsp;&nbsp;</span>Алгоритм с шифрованием</a></span></li></ul></li>"
   ]
  },
  {
   "cell_type": "markdown",
   "metadata": {},
   "source": [
    "## Загрузка данных"
   ]
  },
  {
   "cell_type": "code",
   "execution_count": 1,
   "metadata": {},
   "outputs": [
    {
     "name": "stdout",
     "output_type": "stream",
     "text": [
      "Requirement already satisfied: phik in /opt/conda/lib/python3.9/site-packages (0.12.3)\n",
      "Requirement already satisfied: numpy>=1.18.0 in /opt/conda/lib/python3.9/site-packages (from phik) (1.21.1)\n",
      "Requirement already satisfied: scipy>=1.5.2 in /opt/conda/lib/python3.9/site-packages (from phik) (1.9.1)\n",
      "Requirement already satisfied: matplotlib>=2.2.3 in /opt/conda/lib/python3.9/site-packages (from phik) (3.3.4)\n",
      "Requirement already satisfied: pandas>=0.25.1 in /opt/conda/lib/python3.9/site-packages (from phik) (1.2.4)\n",
      "Requirement already satisfied: joblib>=0.14.1 in /opt/conda/lib/python3.9/site-packages (from phik) (1.1.0)\n",
      "Requirement already satisfied: python-dateutil>=2.1 in /opt/conda/lib/python3.9/site-packages (from matplotlib>=2.2.3->phik) (2.8.1)\n",
      "Requirement already satisfied: kiwisolver>=1.0.1 in /opt/conda/lib/python3.9/site-packages (from matplotlib>=2.2.3->phik) (1.4.4)\n",
      "Requirement already satisfied: cycler>=0.10 in /opt/conda/lib/python3.9/site-packages (from matplotlib>=2.2.3->phik) (0.11.0)\n",
      "Requirement already satisfied: pyparsing!=2.0.4,!=2.1.2,!=2.1.6,>=2.0.3 in /opt/conda/lib/python3.9/site-packages (from matplotlib>=2.2.3->phik) (2.4.7)\n",
      "Requirement already satisfied: pillow>=6.2.0 in /opt/conda/lib/python3.9/site-packages (from matplotlib>=2.2.3->phik) (8.4.0)\n",
      "Requirement already satisfied: pytz>=2017.3 in /opt/conda/lib/python3.9/site-packages (from pandas>=0.25.1->phik) (2021.1)\n",
      "Requirement already satisfied: six>=1.5 in /opt/conda/lib/python3.9/site-packages (from python-dateutil>=2.1->matplotlib>=2.2.3->phik) (1.16.0)\n"
     ]
    }
   ],
   "source": [
    "!pip install phik"
   ]
  },
  {
   "cell_type": "code",
   "execution_count": 2,
   "metadata": {},
   "outputs": [],
   "source": [
    "import matplotlib.pyplot as plt\n",
    "import numpy as np\n",
    "import pandas as pd\n",
    "import phik\n",
    "from phik import report\n",
    "\n",
    "from sklearn.metrics import r2_score"
   ]
  },
  {
   "cell_type": "code",
   "execution_count": 3,
   "metadata": {},
   "outputs": [],
   "source": [
    "#читаем файл с сайта или с компа \n",
    "try:\n",
    "    df = pd.read_csv('/datasets/insurance.csv')\n",
    "\n",
    "except:\n",
    "    df = pd.read_csv('C:/Users/Dmitrii/Documents/Dstudy/matrix/insurance.csv')"
   ]
  },
  {
   "cell_type": "code",
   "execution_count": 4,
   "metadata": {},
   "outputs": [
    {
     "data": {
      "text/html": [
       "<div>\n",
       "<style scoped>\n",
       "    .dataframe tbody tr th:only-of-type {\n",
       "        vertical-align: middle;\n",
       "    }\n",
       "\n",
       "    .dataframe tbody tr th {\n",
       "        vertical-align: top;\n",
       "    }\n",
       "\n",
       "    .dataframe thead th {\n",
       "        text-align: right;\n",
       "    }\n",
       "</style>\n",
       "<table border=\"1\" class=\"dataframe\">\n",
       "  <thead>\n",
       "    <tr style=\"text-align: right;\">\n",
       "      <th></th>\n",
       "      <th>Пол</th>\n",
       "      <th>Возраст</th>\n",
       "      <th>Зарплата</th>\n",
       "      <th>Члены семьи</th>\n",
       "      <th>Страховые выплаты</th>\n",
       "    </tr>\n",
       "  </thead>\n",
       "  <tbody>\n",
       "    <tr>\n",
       "      <th>0</th>\n",
       "      <td>1</td>\n",
       "      <td>41.0</td>\n",
       "      <td>49600.0</td>\n",
       "      <td>1</td>\n",
       "      <td>0</td>\n",
       "    </tr>\n",
       "    <tr>\n",
       "      <th>1</th>\n",
       "      <td>0</td>\n",
       "      <td>46.0</td>\n",
       "      <td>38000.0</td>\n",
       "      <td>1</td>\n",
       "      <td>1</td>\n",
       "    </tr>\n",
       "    <tr>\n",
       "      <th>2</th>\n",
       "      <td>0</td>\n",
       "      <td>29.0</td>\n",
       "      <td>21000.0</td>\n",
       "      <td>0</td>\n",
       "      <td>0</td>\n",
       "    </tr>\n",
       "    <tr>\n",
       "      <th>3</th>\n",
       "      <td>0</td>\n",
       "      <td>21.0</td>\n",
       "      <td>41700.0</td>\n",
       "      <td>2</td>\n",
       "      <td>0</td>\n",
       "    </tr>\n",
       "    <tr>\n",
       "      <th>4</th>\n",
       "      <td>1</td>\n",
       "      <td>28.0</td>\n",
       "      <td>26100.0</td>\n",
       "      <td>0</td>\n",
       "      <td>0</td>\n",
       "    </tr>\n",
       "    <tr>\n",
       "      <th>5</th>\n",
       "      <td>1</td>\n",
       "      <td>43.0</td>\n",
       "      <td>41000.0</td>\n",
       "      <td>2</td>\n",
       "      <td>1</td>\n",
       "    </tr>\n",
       "    <tr>\n",
       "      <th>6</th>\n",
       "      <td>1</td>\n",
       "      <td>39.0</td>\n",
       "      <td>39700.0</td>\n",
       "      <td>2</td>\n",
       "      <td>0</td>\n",
       "    </tr>\n",
       "    <tr>\n",
       "      <th>7</th>\n",
       "      <td>1</td>\n",
       "      <td>25.0</td>\n",
       "      <td>38600.0</td>\n",
       "      <td>4</td>\n",
       "      <td>0</td>\n",
       "    </tr>\n",
       "    <tr>\n",
       "      <th>8</th>\n",
       "      <td>1</td>\n",
       "      <td>36.0</td>\n",
       "      <td>49700.0</td>\n",
       "      <td>1</td>\n",
       "      <td>0</td>\n",
       "    </tr>\n",
       "    <tr>\n",
       "      <th>9</th>\n",
       "      <td>1</td>\n",
       "      <td>32.0</td>\n",
       "      <td>51700.0</td>\n",
       "      <td>1</td>\n",
       "      <td>0</td>\n",
       "    </tr>\n",
       "  </tbody>\n",
       "</table>\n",
       "</div>"
      ],
      "text/plain": [
       "   Пол  Возраст  Зарплата  Члены семьи  Страховые выплаты\n",
       "0    1     41.0   49600.0            1                  0\n",
       "1    0     46.0   38000.0            1                  1\n",
       "2    0     29.0   21000.0            0                  0\n",
       "3    0     21.0   41700.0            2                  0\n",
       "4    1     28.0   26100.0            0                  0\n",
       "5    1     43.0   41000.0            2                  1\n",
       "6    1     39.0   39700.0            2                  0\n",
       "7    1     25.0   38600.0            4                  0\n",
       "8    1     36.0   49700.0            1                  0\n",
       "9    1     32.0   51700.0            1                  0"
      ]
     },
     "execution_count": 4,
     "metadata": {},
     "output_type": "execute_result"
    }
   ],
   "source": [
    "df.head(10)"
   ]
  },
  {
   "cell_type": "markdown",
   "metadata": {},
   "source": [
    "Рассматривая первые 10 строчек видно, что имеется датасет из 5 столбцов. Пол закодирован бинарным кодом. Члены семьи и факт выплаты целочисленным значением по принципу label encoding. Возраст и зарплата имеют количественные значения.  "
   ]
  },
  {
   "cell_type": "code",
   "execution_count": 5,
   "metadata": {},
   "outputs": [
    {
     "name": "stdout",
     "output_type": "stream",
     "text": [
      "<class 'pandas.core.frame.DataFrame'>\n",
      "RangeIndex: 5000 entries, 0 to 4999\n",
      "Data columns (total 5 columns):\n",
      " #   Column             Non-Null Count  Dtype  \n",
      "---  ------             --------------  -----  \n",
      " 0   Пол                5000 non-null   int64  \n",
      " 1   Возраст            5000 non-null   float64\n",
      " 2   Зарплата           5000 non-null   float64\n",
      " 3   Члены семьи        5000 non-null   int64  \n",
      " 4   Страховые выплаты  5000 non-null   int64  \n",
      "dtypes: float64(2), int64(3)\n",
      "memory usage: 195.4 KB\n"
     ]
    }
   ],
   "source": [
    "df.info()"
   ]
  },
  {
   "cell_type": "markdown",
   "metadata": {},
   "source": [
    "Анализ сводки показывает отсутствие пропусков, 5000 строк, правильно заданный тип данных. В данной работе требуется провести анализ, где целевой переменной будет выступать количество страховых выплат. Рассмотрим наличие линейной корреляции между признаками, за исключением целевого, т.к. это мешает линейной регрессии. "
   ]
  },
  {
   "cell_type": "code",
   "execution_count": 6,
   "metadata": {},
   "outputs": [
    {
     "name": "stdout",
     "output_type": "stream",
     "text": [
      "interval columns not set, guessing: ['Пол', 'Возраст', 'Зарплата', 'Члены семьи']\n"
     ]
    },
    {
     "data": {
      "image/png": "[encoded data removed]",
      "text/plain": [
       "<Figure size 504x396 with 2 Axes>"
      ]
     },
     "metadata": {
      "needs_background": "light"
     },
     "output_type": "display_data"
    },
    {
     "data": {
      "image/png": "[encoded data removed]",
      "text/plain": [
       "<Figure size 252x288 with 2 Axes>"
      ]
     },
     "metadata": {
      "needs_background": "light"
     },
     "output_type": "display_data"
    },
    {
     "data": {
      "image/png": "[encoded data removed]",
      "text/plain": [
       "<Figure size 504x396 with 2 Axes>"
      ]
     },
     "metadata": {
      "needs_background": "light"
     },
     "output_type": "display_data"
    }
   ],
   "source": [
    "df_cor = df.drop('Страховые выплаты',axis=1)\n",
    "rep = report.correlation_report(df_cor, significance_threshold=3, correlation_threshold=0.5)"
   ]
  },
  {
   "cell_type": "markdown",
   "metadata": {},
   "source": [
    "Линейная корреляция между признаками отсутствует. "
   ]
  },
  {
   "cell_type": "markdown",
   "metadata": {},
   "source": [
    "## Умножение матриц"
   ]
  },
  {
   "cell_type": "markdown",
   "metadata": {},
   "source": [
    "В этом задании вы можете записывать формулы в *Jupyter Notebook.*\n",
    "\n",
    "Чтобы записать формулу внутри текста, окружите её символами доллара \\\\$; если снаружи —  двойными символами \\\\$\\\\$. Эти формулы записываются на языке вёрстки *LaTeX.* \n",
    "\n",
    "Для примера мы записали формулы линейной регрессии. Можете их скопировать и отредактировать, чтобы решить задачу.\n",
    "\n",
    "Работать в *LaTeX* необязательно."
   ]
  },
  {
   "cell_type": "markdown",
   "metadata": {},
   "source": [
    "Обозначения:\n",
    "\n",
    "- $X$ — матрица признаков (нулевой столбец состоит из единиц)\n",
    "\n",
    "- $y$ — вектор целевого признака\n",
    "\n",
    "- $P$ — матрица, на которую умножаются признаки\n",
    "\n",
    "- $w$ — вектор весов линейной регрессии (нулевой элемент равен сдвигу)"
   ]
  },
  {
   "cell_type": "markdown",
   "metadata": {},
   "source": [
    "Предсказания:\n",
    "\n",
    "$$\n",
    "a = Xw\n",
    "$$\n",
    "\n",
    "Задача обучения:\n",
    "\n",
    "$$\n",
    "w = \\arg\\min_w MSE(Xw, y)\n",
    "$$\n",
    "\n",
    "Формула обучения:\n",
    "\n",
    "$$\n",
    "w = (X^T X)^{-1} X^T y\n",
    "$$"
   ]
  },
  {
   "cell_type": "markdown",
   "metadata": {},
   "source": [
    "Задача: рассмотреть вопрос о том, изменится ли качество линейной регрессии при умножении матрицы признаков на обратимую матрицу. \n",
    "**Ответ:** \n",
    "\n",
    "**Обоснование:** Обратимая матрица для нашего случая должна иметь квадратный размер и число столбцов равный числу признаков. Матрица признаков $w$ включая нулевой член равный единице равна $mxn$. Таким образом обратная матрица J должна иметь размер nxn. Рассмотрим формулу регрессии c дополнительной матрицей J:\n",
    "$$\n",
    "w1 = ((X J)^T X J)^{-1} (X J)^T y\n",
    "$$\n",
    "Раскроем скобки согласно свойству $ (AB)^T=B^T A^T $:\n",
    "$$\n",
    "w1 = (J^T X^T X J)^{-1} J^T X^T y\n",
    "$$\n",
    "Произведем преобразование в скобках используя свойства ассоциативности:\n",
    "\n",
    "$$\n",
    "w1 = (J^T (X^T X) J)^{-1} J^T X^T y\n",
    "$$\n",
    "Раскроем скобки используя свойства обратных матриц $(A B)^{-1}=B^{-1} A^{-1} $:\n",
    "\n",
    "$$\n",
    "w1 = J^{-1} (X^T X)^{-1} (J^T)^{-1} J^T X^T y\n",
    "$$\n",
    "Произведение $(J^T)^{-1} J^T$ равно единичной матрице, что для множителей выражения позволяет их сократить:\n",
    "\n",
    "$$\n",
    "w1 = J^{-1} (X^T X)^{-1} X^T y\n",
    "$$\n",
    "Сравнивая с формулой регрессии $w$ можно увидеть, что разница заключается лишь в множителе $J^{-1}$:\n",
    "\n",
    "$$\n",
    "w1 = J^{-1} (X^T X)^{-1} X^T y\n",
    "$$\n",
    "Таким образом получается, что  обе матрицы w1 и w связаны следующим отношением:\n",
    "$$\n",
    "w1=J^{-1} w\n",
    "$$\n",
    "Отсюда следует, что при условии переобучения вектора $X$ в формуле $a=Xw1$ будут получены результаты аналогичные использованию матрицы $w$."
   ]
  },
  {
   "cell_type": "markdown",
   "metadata": {},
   "source": [
    "## Алгоритм преобразования"
   ]
  },
  {
   "cell_type": "markdown",
   "metadata": {},
   "source": [
    "**Алгоритм**\n",
    "\n",
    "Алгоритм шифрования базы основан принципе обратимости матричных умножений. При этом следует отметить разночтение в задании проекта и пунтках проекта. В проекте требуется защитить персональные данные пользователей. Для этого идеально подходит кодирование базы ключом и последующей расшифровкой данных для передачи в функции обучения и предсказания.  Однако, в проекте предлагается обрабатывать зашифрованные данные с последующей расшифровкой, что имееет следующие недостатки:\n",
    " - изменение ключа шифрования приведет к необходимости переобучения матрицы весов(или её преобразованию)\n",
    " - сложности понимания логики работы линейной регрессии\n",
    " - метод подходит только для алгоритма линейной регрессии и не подходит для \"деревянных\" и других алгоритмов.\n",
    "\n",
    "При этом приемущество у такой организации процесса только в том, что шифруется матрица весов. Таким образом мы получаем плюс, который не требуется, ведь тема проекта - защита данных пользователей, а не модели. \n",
    "\n",
    "Если рассматривать задачу с точки зрения \"как хочет яндекс\", то используем следующий алгоритм. Кодирование базы ключом->обучение модели->предсказывание->расшифровка."
   ]
  },
  {
   "cell_type": "markdown",
   "metadata": {},
   "source": [
    "**Обоснование**\n",
    "\n",
    "Обосонованием работы алгоритм является тот фактор, что связь $w1=J^{-1} w$ происходит через матрицу J, которая может выступать ключом. При этом требования к ключу следующие:\n",
    "  - матрица ключа должна быть квадратной с длиной стороны, которая соответствует правилам умножения и линейно независимой\n",
    "  - матрица должна быть обратимой, что проверяется вычислением определителя матрицы J. Определитель не должен быть равен 0.\n",
    "  "
   ]
  },
  {
   "cell_type": "markdown",
   "metadata": {},
   "source": [
    "## Проверка алгоритма"
   ]
  },
  {
   "cell_type": "markdown",
   "metadata": {},
   "source": [
    "### Алгоритм без шифрования"
   ]
  },
  {
   "cell_type": "code",
   "execution_count": 7,
   "metadata": {},
   "outputs": [],
   "source": [
    "features = df.drop('Страховые выплаты', axis=1)\n",
    "target = df['Страховые выплаты']"
   ]
  },
  {
   "cell_type": "code",
   "execution_count": 8,
   "metadata": {},
   "outputs": [
    {
     "name": "stdout",
     "output_type": "stream",
     "text": [
      "Метрика R2 модели без шифрования 0.42494550286668\n"
     ]
    }
   ],
   "source": [
    "class Lin_reg:\n",
    "    def fit(self, train_features, train_target):\n",
    "        X = np.concatenate((np.ones((train_features.shape[0], 1)), train_features), axis=1)\n",
    "        y = train_target\n",
    "        var = np.dot(X.T,X)\n",
    "        var = np.linalg.inv(var)\n",
    "        \n",
    "        w = (var@X.T)@y\n",
    "        self.w = w[1:]\n",
    "        self.w0 = w[0]\n",
    "\n",
    "    def predict(self, test_features):\n",
    "        return test_features.dot(self.w) + self.w0\n",
    "    \n",
    "model = Lin_reg()\n",
    "model.fit(features, target)\n",
    "predictions = model.predict(features)\n",
    "print('Метрика R2 модели без шифрования',r2_score(target, predictions) )"
   ]
  },
  {
   "cell_type": "markdown",
   "metadata": {},
   "source": [
    "### Алгоритм с шифрованием"
   ]
  },
  {
   "cell_type": "code",
   "execution_count": 9,
   "metadata": {},
   "outputs": [],
   "source": [
    "def crypt(size_sq):\n",
    "    key_close = np.random.normal(-0.5, 0.5, (size_sq, size_sq)) # создаем кв. матрицу со случ числами\n",
    "    if np.linalg.det(key_close)==0: \n",
    "        print('Повторите попытку') # проверяем чтобы существовала обратная матрица\n",
    "    key_open = np.linalg.inv(key_close) # ключ расшифрования\n",
    "    \n",
    "    return key_close, key_open\n",
    "\n",
    "class Lin_reg_crypt:\n",
    "    def fit(self, train_features, train_target):\n",
    "        X = np.concatenate((np.ones((train_features.shape[0], 1)), train_features), axis=1)\n",
    "        y = train_target\n",
    "        var = np.dot(X.T,X)\n",
    "        var = np.linalg.inv(var)\n",
    "        \n",
    "        w = (var@X.T)@y\n",
    "        self.w = w[1:]\n",
    "        self.w0 = w[0]\n",
    "\n",
    "    def predict(self, test_features):\n",
    "        return test_features.dot(self.w) + self.w0"
   ]
  },
  {
   "cell_type": "code",
   "execution_count": 10,
   "metadata": {},
   "outputs": [
    {
     "name": "stdout",
     "output_type": "stream",
     "text": [
      "Метрика R2 модели с шифрованием 0.42494550286668\n",
      "======================\n",
      "Разница составляет 8.494410863959523e-08\n"
     ]
    }
   ],
   "source": [
    "features_crypt = features.copy()\n",
    "key_close, key_open = crypt(features_crypt.shape[1])\n",
    "\n",
    "features_crypt = features_crypt@key_close\n",
    "\n",
    "model_crypt = Lin_reg_crypt()\n",
    "model_crypt.fit(features_crypt, target)\n",
    "predictions_crypt = model_crypt.predict(features_crypt)\n",
    "print('Метрика R2 модели с шифрованием', r2_score(target, predictions) )\n",
    "print('======================')\n",
    "print('Разница составляет', abs(predictions_crypt-predictions).mean())"
   ]
  },
  {
   "cell_type": "markdown",
   "metadata": {},
   "source": [
    "Разница в метрике начинается в 7-8 знаке после запятой, что обусловлено погрешностью вычислений. Таким образом подтверждается формула, выведенная выше. "
   ]
  },
  {
   "cell_type": "code",
   "execution_count": 11,
   "metadata": {},
   "outputs": [
    {
     "data": {
      "text/html": [
       "<div>\n",
       "<style scoped>\n",
       "    .dataframe tbody tr th:only-of-type {\n",
       "        vertical-align: middle;\n",
       "    }\n",
       "\n",
       "    .dataframe tbody tr th {\n",
       "        vertical-align: top;\n",
       "    }\n",
       "\n",
       "    .dataframe thead th {\n",
       "        text-align: right;\n",
       "    }\n",
       "</style>\n",
       "<table border=\"1\" class=\"dataframe\">\n",
       "  <thead>\n",
       "    <tr style=\"text-align: right;\">\n",
       "      <th></th>\n",
       "      <th>Пол</th>\n",
       "      <th>Возраст</th>\n",
       "      <th>Зарплата</th>\n",
       "      <th>Члены семьи</th>\n",
       "    </tr>\n",
       "  </thead>\n",
       "  <tbody>\n",
       "    <tr>\n",
       "      <th>0</th>\n",
       "      <td>1</td>\n",
       "      <td>41.0</td>\n",
       "      <td>49600.0</td>\n",
       "      <td>1</td>\n",
       "    </tr>\n",
       "    <tr>\n",
       "      <th>1</th>\n",
       "      <td>0</td>\n",
       "      <td>46.0</td>\n",
       "      <td>38000.0</td>\n",
       "      <td>1</td>\n",
       "    </tr>\n",
       "    <tr>\n",
       "      <th>2</th>\n",
       "      <td>0</td>\n",
       "      <td>29.0</td>\n",
       "      <td>21000.0</td>\n",
       "      <td>0</td>\n",
       "    </tr>\n",
       "    <tr>\n",
       "      <th>3</th>\n",
       "      <td>0</td>\n",
       "      <td>21.0</td>\n",
       "      <td>41700.0</td>\n",
       "      <td>2</td>\n",
       "    </tr>\n",
       "    <tr>\n",
       "      <th>4</th>\n",
       "      <td>1</td>\n",
       "      <td>28.0</td>\n",
       "      <td>26100.0</td>\n",
       "      <td>0</td>\n",
       "    </tr>\n",
       "  </tbody>\n",
       "</table>\n",
       "</div>"
      ],
      "text/plain": [
       "   Пол  Возраст  Зарплата  Члены семьи\n",
       "0    1     41.0   49600.0            1\n",
       "1    0     46.0   38000.0            1\n",
       "2    0     29.0   21000.0            0\n",
       "3    0     21.0   41700.0            2\n",
       "4    1     28.0   26100.0            0"
      ]
     },
     "execution_count": 11,
     "metadata": {},
     "output_type": "execute_result"
    }
   ],
   "source": [
    "df_after = features_crypt @ key_open # расшифровываем \n",
    "\n",
    "df_after = pd.DataFrame(df_after) # создаем датафрейм из матрицы\n",
    "df_after.columns = df.columns[[0,1,2,3]] # переименовываем колонки\n",
    "df_after[['Пол','Члены семьи']] = df_after[['Пол','Члены семьи']].astype('int')\n",
    "df_after.head()"
   ]
  }
 ],
 "metadata": {
  "ExecuteTimeLog": [
   {
    "duration": 486,
    "start_time": "2023-02-06T19:29:44.064Z"
   },
   {
    "duration": 70,
    "start_time": "2023-02-09T17:57:48.226Z"
   },
   {
    "duration": 921,
    "start_time": "2023-02-09T17:58:34.018Z"
   },
   {
    "duration": 25,
    "start_time": "2023-02-09T17:58:51.440Z"
   },
   {
    "duration": 3877,
    "start_time": "2023-02-09T17:59:21.606Z"
   },
   {
    "duration": 3,
    "start_time": "2023-02-09T17:59:46.189Z"
   },
   {
    "duration": 2,
    "start_time": "2023-02-09T18:00:09.693Z"
   },
   {
    "duration": 56,
    "start_time": "2023-02-09T18:00:14.305Z"
   },
   {
    "duration": 2186,
    "start_time": "2023-02-09T18:00:24.711Z"
   },
   {
    "duration": 1289,
    "start_time": "2023-02-09T18:00:26.900Z"
   },
   {
    "duration": 114,
    "start_time": "2023-02-09T18:00:28.190Z"
   },
   {
    "duration": 13,
    "start_time": "2023-02-09T18:00:28.306Z"
   },
   {
    "duration": 10,
    "start_time": "2023-02-09T18:00:28.321Z"
   },
   {
    "duration": 2076,
    "start_time": "2023-02-09T18:00:28.333Z"
   },
   {
    "duration": 3,
    "start_time": "2023-02-09T18:00:30.411Z"
   },
   {
    "duration": 37,
    "start_time": "2023-02-09T18:00:30.415Z"
   },
   {
    "duration": 131,
    "start_time": "2023-02-09T18:00:30.455Z"
   },
   {
    "duration": 82,
    "start_time": "2023-02-09T18:00:30.589Z"
   },
   {
    "duration": 107,
    "start_time": "2023-02-09T18:06:08.116Z"
   },
   {
    "duration": 1183,
    "start_time": "2023-02-09T18:06:45.788Z"
   },
   {
    "duration": 71,
    "start_time": "2023-02-09T18:08:36.598Z"
   },
   {
    "duration": 12,
    "start_time": "2023-02-09T18:16:33.704Z"
   },
   {
    "duration": 5,
    "start_time": "2023-02-09T18:17:43.882Z"
   },
   {
    "duration": 11,
    "start_time": "2023-02-09T18:18:47.917Z"
   },
   {
    "duration": 16,
    "start_time": "2023-02-09T18:19:25.590Z"
   },
   {
    "duration": 16,
    "start_time": "2023-02-09T18:20:21.563Z"
   },
   {
    "duration": 11,
    "start_time": "2023-02-09T18:20:27.278Z"
   },
   {
    "duration": 12,
    "start_time": "2023-02-09T18:20:42.514Z"
   },
   {
    "duration": 3,
    "start_time": "2023-02-09T18:20:48.479Z"
   },
   {
    "duration": 17,
    "start_time": "2023-02-09T18:20:52.807Z"
   },
   {
    "duration": 4,
    "start_time": "2023-02-09T18:21:16.398Z"
   },
   {
    "duration": 14,
    "start_time": "2023-02-09T18:21:24.582Z"
   },
   {
    "duration": 13,
    "start_time": "2023-02-09T18:21:53.482Z"
   },
   {
    "duration": 10,
    "start_time": "2023-02-09T18:22:13.991Z"
   },
   {
    "duration": 15,
    "start_time": "2023-02-09T18:22:17.315Z"
   },
   {
    "duration": 202,
    "start_time": "2023-02-09T18:22:22.308Z"
   },
   {
    "duration": 14,
    "start_time": "2023-02-09T18:22:46.695Z"
   },
   {
    "duration": 19,
    "start_time": "2023-02-09T18:22:58.009Z"
   },
   {
    "duration": 59,
    "start_time": "2023-02-09T18:23:06.844Z"
   },
   {
    "duration": 198,
    "start_time": "2023-02-09T18:23:11.001Z"
   },
   {
    "duration": 13,
    "start_time": "2023-02-09T18:23:18.820Z"
   },
   {
    "duration": 724,
    "start_time": "2023-02-09T18:25:36.890Z"
   },
   {
    "duration": 11,
    "start_time": "2023-02-09T18:25:48.885Z"
   },
   {
    "duration": 17,
    "start_time": "2023-02-09T18:25:57.492Z"
   },
   {
    "duration": 15,
    "start_time": "2023-02-09T18:26:03.586Z"
   },
   {
    "duration": 15,
    "start_time": "2023-02-09T18:26:24.711Z"
   },
   {
    "duration": 16,
    "start_time": "2023-02-09T18:26:30.931Z"
   },
   {
    "duration": 7,
    "start_time": "2023-02-09T18:26:40.801Z"
   },
   {
    "duration": 13,
    "start_time": "2023-02-09T18:26:54.438Z"
   },
   {
    "duration": 8,
    "start_time": "2023-02-09T18:27:11.494Z"
   },
   {
    "duration": 9,
    "start_time": "2023-02-09T18:27:39.793Z"
   },
   {
    "duration": 11,
    "start_time": "2023-02-09T18:28:37.224Z"
   },
   {
    "duration": 11,
    "start_time": "2023-02-09T18:28:46.410Z"
   },
   {
    "duration": 12,
    "start_time": "2023-02-09T18:29:03.690Z"
   },
   {
    "duration": 17,
    "start_time": "2023-02-09T18:29:28.035Z"
   },
   {
    "duration": 10,
    "start_time": "2023-02-09T18:29:44.091Z"
   },
   {
    "duration": 25,
    "start_time": "2023-02-09T18:30:17.936Z"
   },
   {
    "duration": 764,
    "start_time": "2023-02-09T18:32:20.496Z"
   },
   {
    "duration": 8,
    "start_time": "2023-02-09T18:32:43.717Z"
   },
   {
    "duration": 12,
    "start_time": "2023-02-09T18:32:54.484Z"
   },
   {
    "duration": 14,
    "start_time": "2023-02-09T18:33:08.498Z"
   },
   {
    "duration": 13,
    "start_time": "2023-02-09T18:33:15.648Z"
   },
   {
    "duration": 6,
    "start_time": "2023-02-09T18:33:23.796Z"
   },
   {
    "duration": 16,
    "start_time": "2023-02-09T18:33:31.134Z"
   },
   {
    "duration": 52,
    "start_time": "2023-02-09T18:34:23.596Z"
   },
   {
    "duration": 2122,
    "start_time": "2023-02-09T18:34:51.818Z"
   },
   {
    "duration": 1261,
    "start_time": "2023-02-09T18:34:53.943Z"
   },
   {
    "duration": 29,
    "start_time": "2023-02-09T18:34:55.206Z"
   },
   {
    "duration": 13,
    "start_time": "2023-02-09T18:34:55.237Z"
   },
   {
    "duration": 28,
    "start_time": "2023-02-09T18:34:55.252Z"
   },
   {
    "duration": 1235,
    "start_time": "2023-02-09T18:34:55.281Z"
   },
   {
    "duration": 4,
    "start_time": "2023-02-09T18:34:56.517Z"
   },
   {
    "duration": 33,
    "start_time": "2023-02-09T18:34:56.523Z"
   },
   {
    "duration": 94,
    "start_time": "2023-02-09T18:34:56.557Z"
   },
   {
    "duration": 110,
    "start_time": "2023-02-09T18:34:56.654Z"
   },
   {
    "duration": 182,
    "start_time": "2023-02-09T18:34:56.770Z"
   },
   {
    "duration": 75,
    "start_time": "2023-02-10T19:35:59.638Z"
   }
  ],
  "kernelspec": {
   "display_name": "Python 3 (ipykernel)",
   "language": "python",
   "name": "python3"
  },
  "language_info": {
   "codemirror_mode": {
    "name": "ipython",
    "version": 3
   },
   "file_extension": ".py",
   "mimetype": "text/x-python",
   "name": "python",
   "nbconvert_exporter": "python",
   "pygments_lexer": "ipython3",
   "version": "3.11.5"
  },
  "toc": {
   "base_numbering": 1,
   "nav_menu": {},
   "number_sections": true,
   "sideBar": true,
   "skip_h1_title": true,
   "title_cell": "Содержание",
   "title_sidebar": "Contents",
   "toc_cell": true,
   "toc_position": {},
   "toc_section_display": true,
   "toc_window_display": true
  }
 },
 "nbformat": 4,
 "nbformat_minor": 2
}
