{
 "cells": [
  {
   "cell_type": "markdown",
   "metadata": {},
   "source": [
    "# Выбор локации для скважины"
   ]
  },
  {
   "cell_type": "markdown",
   "metadata": {},
   "source": [
    "Допустим, вы работаете в добывающей компании «ГлавРосГосНефть». Нужно решить, где бурить новую скважину.\n",
    "\n",
    "Вам предоставлены пробы нефти в трёх регионах: в каждом 10 000 месторождений, где измерили качество нефти и объём её запасов. Постройте модель машинного обучения, которая поможет определить регион, где добыча принесёт наибольшую прибыль. Проанализируйте возможную прибыль и риски техникой *Bootstrap.*\n",
    "\n",
    "Шаги для выбора локации:\n",
    "\n",
    "- В избранном регионе ищут месторождения, для каждого определяют значения признаков;\n",
    "- Строят модель и оценивают объём запасов;\n",
    "- Выбирают месторождения с самым высокими оценками значений. Количество месторождений зависит от бюджета компании и стоимости разработки одной скважины;\n",
    "- Прибыль равна суммарной прибыли отобранных месторождений."
   ]
  },
  {
   "cell_type": "markdown",
   "metadata": {},
   "source": [
    "## Загрузка и подготовка данных"
   ]
  },
  {
   "cell_type": "code",
   "execution_count": 1,
   "metadata": {},
   "outputs": [],
   "source": [
    "import numpy as np\n",
    "import pandas as pd\n",
    "import scipy.stats as st\n",
    "\n",
    "from numpy.random import RandomState\n",
    "from sklearn.linear_model import LinearRegression\n",
    "from sklearn.metrics import mean_squared_error\n",
    "from sklearn.model_selection import train_test_split\n",
    "from sklearn.preprocessing import StandardScaler"
   ]
  },
  {
   "cell_type": "code",
   "execution_count": 2,
   "metadata": {},
   "outputs": [],
   "source": [
    "#читаем файл с сайта или с компа \n",
    "try:\n",
    "    df0 = pd.read_csv('/datasets/geo_data_0.csv')\n",
    "    df1 = pd.read_csv('/datasets/geo_data_1.csv')\n",
    "    df2 = pd.read_csv('/datasets/geo_data_2.csv')\n",
    "except:\n",
    "    df0 = pd.read_csv('C:/Users/Dmitrii/Documents/Dstudy/Skvagina/geo_data_0.csv')\n",
    "    df1 = pd.read_csv('C:/Users/Dmitrii/Documents/Dstudy/Skvagina/geo_data_1.csv')\n",
    "    df2 = pd.read_csv('C:/Users/Dmitrii/Documents/Dstudy/Skvagina/geo_data_2.csv')"
   ]
  },
  {
   "cell_type": "code",
   "execution_count": 3,
   "metadata": {},
   "outputs": [
    {
     "name": "stdout",
     "output_type": "stream",
     "text": [
      "\n",
      "---------скважина 1 ---------\n",
      "<class 'pandas.core.frame.DataFrame'>\n",
      "RangeIndex: 100000 entries, 0 to 99999\n",
      "Data columns (total 5 columns):\n",
      " #   Column   Non-Null Count   Dtype  \n",
      "---  ------   --------------   -----  \n",
      " 0   id       100000 non-null  object \n",
      " 1   f0       100000 non-null  float64\n",
      " 2   f1       100000 non-null  float64\n",
      " 3   f2       100000 non-null  float64\n",
      " 4   product  100000 non-null  float64\n",
      "dtypes: float64(4), object(1)\n",
      "memory usage: 3.8+ MB\n",
      "\n",
      "---------скважина 2 ---------\n",
      "<class 'pandas.core.frame.DataFrame'>\n",
      "RangeIndex: 100000 entries, 0 to 99999\n",
      "Data columns (total 5 columns):\n",
      " #   Column   Non-Null Count   Dtype  \n",
      "---  ------   --------------   -----  \n",
      " 0   id       100000 non-null  object \n",
      " 1   f0       100000 non-null  float64\n",
      " 2   f1       100000 non-null  float64\n",
      " 3   f2       100000 non-null  float64\n",
      " 4   product  100000 non-null  float64\n",
      "dtypes: float64(4), object(1)\n",
      "memory usage: 3.8+ MB\n",
      "\n",
      "---------скважина 3 ---------\n",
      "<class 'pandas.core.frame.DataFrame'>\n",
      "RangeIndex: 100000 entries, 0 to 99999\n",
      "Data columns (total 5 columns):\n",
      " #   Column   Non-Null Count   Dtype  \n",
      "---  ------   --------------   -----  \n",
      " 0   id       100000 non-null  object \n",
      " 1   f0       100000 non-null  float64\n",
      " 2   f1       100000 non-null  float64\n",
      " 3   f2       100000 non-null  float64\n",
      " 4   product  100000 non-null  float64\n",
      "dtypes: float64(4), object(1)\n",
      "memory usage: 3.8+ MB\n"
     ]
    }
   ],
   "source": [
    "#создание списка фреймов для цикла\n",
    "frms = [df0,df1,df2]\n",
    "for i in range(0,3):\n",
    "    print('\\n---------скважина',i+1,'---------')\n",
    "    frms[i].info()"
   ]
  },
  {
   "cell_type": "markdown",
   "metadata": {},
   "source": [
    "Для анализа предоставлены три файла c данными по скважинам разных регионов. Каждый файл представляет собой 100000 строчек данных без пропусков, что идеально подходит для анализа(данные синтетические, поэтому удивительного ничего нет). "
   ]
  },
  {
   "cell_type": "code",
   "execution_count": 4,
   "metadata": {},
   "outputs": [
    {
     "name": "stdout",
     "output_type": "stream",
     "text": [
      "\n",
      "----------------скважина 1 ---------------\n",
      "      id        f0        f1        f2     product\n",
      "0  txEyH  0.705745 -0.497823  1.221170  105.280062\n",
      "1  2acmU  1.334711 -0.340164  4.365080   73.037750\n",
      "2  409Wp  1.022732  0.151990  1.419926   85.265647\n",
      "\n",
      "----------------скважина 2 ---------------\n",
      "      id         f0        f1        f2     product\n",
      "0  kBEdx -15.001348 -8.276000 -0.005876    3.179103\n",
      "1  62mP7  14.272088 -3.475083  0.999183   26.953261\n",
      "2  vyE1P   6.263187 -5.948386  5.001160  134.766305\n",
      "\n",
      "----------------скважина 3 ---------------\n",
      "      id        f0        f1        f2    product\n",
      "0  fwXo0 -1.146987  0.963328 -0.828965  27.758673\n",
      "1  WJtFt  0.262778  0.269839 -2.530187  56.069697\n",
      "2  ovLUW  0.194587  0.289035 -5.586433  62.871910\n"
     ]
    }
   ],
   "source": [
    "for i in range(0,3):\n",
    "    print('\\n----------------скважина',i+1,'---------------')\n",
    "    print(frms[i].head(3))\n"
   ]
  },
  {
   "cell_type": "markdown",
   "metadata": {},
   "source": [
    "## Обучение и проверка модели\n",
    "\n",
    "Для анализа объединим три датафрейма в один список для удобства обработки в последующем с помощью циклов. Целевой признак для обучения модели - количество запасов нефти в скважине. Столбец с названием скважины не используется для обучения и удален из данных. "
   ]
  },
  {
   "cell_type": "code",
   "execution_count": 5,
   "metadata": {},
   "outputs": [],
   "source": [
    "features = []\n",
    "target = []\n",
    "#Разделение на выборку с признаками и целевую\n",
    "for i in range(3):\n",
    "    features.append(frms[i].drop(['id','product'], axis=1))\n",
    "    target.append(frms[i]['product'])"
   ]
  },
  {
   "cell_type": "code",
   "execution_count": 6,
   "metadata": {},
   "outputs": [
    {
     "name": "stdout",
     "output_type": "stream",
     "text": [
      "RMSE модели линейной регрессии на валидационной выборке регион 1 : 37.5794217150813\n",
      "Средний запас предсказанного сырья в регионе 1 : 92.59256778438008\n",
      "RMSE модели линейной регрессии на валидационной выборке регион 2 : 0.893099286775617\n",
      "Средний запас предсказанного сырья в регионе 2 : 68.7285468954458\n",
      "RMSE модели линейной регрессии на валидационной выборке регион 3 : 40.02970873393434\n",
      "Средний запас предсказанного сырья в регионе 3 : 94.96504596800506\n"
     ]
    }
   ],
   "source": [
    "#Разделение на выборку тренировочную и целевую\n",
    "features_train = []\n",
    "features_valid = []\n",
    "target_train = []\n",
    "target_valid = []\n",
    "for i in range(3):\n",
    "    ft_trn, ft_val, ta_trn,ta_val = train_test_split(\n",
    "        features[i],\n",
    "        target[i], \n",
    "        test_size=0.25, \n",
    "        random_state=12345)\n",
    "    features_train.append(ft_trn)\n",
    "    features_valid.append(ft_val)\n",
    "    target_train.append(ta_trn)\n",
    "    target_valid.append(ta_val)   \n",
    "    \n",
    "#обучение модели и её оценка \n",
    "predictions_valid = []\n",
    "\n",
    "for i in range(3):    \n",
    "    scaler = StandardScaler()\n",
    "    features_train[i] = scaler.fit_transform(features_train[i])\n",
    "    features_valid[i] = scaler.transform(features_valid[i])\n",
    "    \n",
    "    model = LinearRegression()\n",
    "    model.fit(features_train[i], target_train[i])\n",
    "    predictions_valid.append(  pd.Series(model.predict(features_valid[i])))\n",
    "    rmse = (mean_squared_error(target_valid[i],predictions_valid[i]))**(0.5)\n",
    "    mean_product = sum(predictions_valid[i]) / len(predictions_valid[i])\n",
    "    target_valid[i] = target_valid[i].reset_index(drop=True)\n",
    "    \n",
    "    print(\"RMSE модели линейной регрессии на валидационной выборке регион\",i+1,\":\", rmse)\n",
    "    print(\"Средний запас предсказанного сырья в регионе\",i+1,\":\", mean_product)"
   ]
  },
  {
   "cell_type": "markdown",
   "metadata": {},
   "source": [
    "## Вывод\n",
    "Лучшие результаты показала модель во втором регионе. При этом в 1-ом и 3-ем регионе лучшие средние величины запасов нефти. Однако это не значит, что при разработке ограниченного количества скважин лучшим для бурения будут скважины 1-го и 3-го региона.  "
   ]
  },
  {
   "cell_type": "markdown",
   "metadata": {},
   "source": [
    "## Подготовка к расчёту прибыли\n",
    "\n",
    "Запишем в константы бизнес-параметры. Посчитаем минимальный запас в скважине нефти исходя из её стоимости и разведки. "
   ]
  },
  {
   "cell_type": "code",
   "execution_count": 7,
   "metadata": {},
   "outputs": [
    {
     "name": "stdout",
     "output_type": "stream",
     "text": [
      "Минимальный средний объём сырья равен 111.11111111111111 единиц\n"
     ]
    }
   ],
   "source": [
    "RESEARCH_POINT = 200 # Количество точек при разведке\n",
    "BUDGET = 10000000000 # Бюджет на разработку\n",
    "DRILLING_COST = BUDGET/RESEARCH_POINT # Средняя стоимость бурения одной скважины\n",
    "ORDER_COST = 450000 # Прибыль с одной единицы.\n",
    "print('Минимальный средний объём сырья равен', DRILLING_COST / ORDER_COST, 'единиц')"
   ]
  },
  {
   "cell_type": "markdown",
   "metadata": {},
   "source": [
    "Напишем функцию, которая будет вычислять прибыльность. "
   ]
  },
  {
   "cell_type": "code",
   "execution_count": 8,
   "metadata": {},
   "outputs": [],
   "source": [
    "def profit(target, predictions):\n",
    "    pred_sorted = pd.Series(predictions).sort_values(ascending=False)\n",
    "    selected = target[pred_sorted.index][:RESEARCH_POINT]\n",
    "    revenue = ORDER_COST * (selected.sum())\n",
    "    return (revenue - BUDGET)"
   ]
  },
  {
   "cell_type": "markdown",
   "metadata": {},
   "source": [
    "## Вывод\n",
    "Учитывая, что минимальный объем сырья достаточный для разработки равен примерно 111 тыс. единиц,а средний объем запасов равен 69 тыс. единиц, то все три региона не подходят для разработки. Однако если разрабатывать только самые лучшие скважины, то можно получить прибыль."
   ]
  },
  {
   "cell_type": "markdown",
   "metadata": {},
   "source": [
    "## Расчёт прибыли и рисков \n",
    "Напишем функцию, которая работает по методу Bootstrap. На вход она получает целевой признак \"target_valid\" и предсказание модели \"predictions\" А на выходе выводит значения средней прибыли, 95% интервал дохода, вероятность получения убытоков. \n",
    "\n",
    "\n",
    "Выведем для каждого региона эти параметры."
   ]
  },
  {
   "cell_type": "code",
   "execution_count": 9,
   "metadata": {},
   "outputs": [
    {
     "name": "stdout",
     "output_type": "stream",
     "text": [
      "-----Регион 1 ------\n",
      "Средняя прибыль в регионе = 425938526.91 млрд\n",
      "95%-й доверительный интервал находится в промежутке между -102090094.84 млрд и 947976353.36 млрд руб.\n",
      "Риск убытков равен 6.0%\n",
      "-----Регион 2 ------\n",
      "Средняя прибыль в регионе = 518259493.70 млрд\n",
      "95%-й доверительный интервал находится в промежутке между 128123231.43 млрд и 953612982.07 млрд руб.\n",
      "Риск убытков равен 0.3%\n",
      "-----Регион 3 ------\n",
      "Средняя прибыль в регионе = 420194005.34 млрд\n",
      "95%-й доверительный интервал находится в промежутке между -115852609.16 млрд и 989629939.84 млрд руб.\n",
      "Риск убытков равен 6.2%\n"
     ]
    }
   ],
   "source": [
    "state = RandomState(12345)\n",
    "\n",
    "def bootstrap(target_valid, predictions):\n",
    "    values = []\n",
    "    for i in range(1000):\n",
    "        target_subsample = target_valid.reset_index(drop=True).sample(n=500, replace=True, random_state=state)\n",
    "        probs_subsample = pd.Series(predictions)[target_subsample.index]\n",
    "        values.append(profit(target_subsample, probs_subsample))\n",
    "    values = pd.Series(values)\n",
    "    conf_int_low = values.quantile(q=0.025)\n",
    "    conf_int_high = values.quantile(q=0.975)\n",
    "    risk = len(values[values < 0]) / len(values)\n",
    "        \n",
    "    print('Средняя прибыль в регионе = {:.2f} млрд'. format(values.mean()))\n",
    "    print('95%-й доверительный интервал находится в промежутке между {:.2f} млрд и {:.2f} млрд руб.'.format(conf_int_low,conf_int_high))\n",
    "    print('Риск убытков равен {:.1%}'.format(risk))\n",
    "\n",
    "for i in range(0,3):\n",
    "    print('-----Регион',i+1,'------')\n",
    "    bootstrap(target_valid[i], predictions_valid[i])"
   ]
  },
  {
   "cell_type": "markdown",
   "metadata": {},
   "source": [
    "## Вывод\n",
    "Риски убытков во всех трех регионах различны. Наибольший риск для первого и третьего региона. Риск для бурения во втором регионе минимален. \n",
    "\n",
    "Самым перспективым является второй регион, потому что у него наименьший риск вложений. Модель предсказания запасов для этого региона имеет наименьшую погрешность. Однако остальные регионы лишь хуже для разработки."
   ]
  }
 ],
 "metadata": {
  "ExecuteTimeLog": [
   {
    "duration": 936,
    "start_time": "2023-01-13T11:55:49.269Z"
   },
   {
    "duration": 1647,
    "start_time": "2023-01-13T11:55:50.207Z"
   },
   {
    "duration": 39,
    "start_time": "2023-01-13T11:55:51.855Z"
   },
   {
    "duration": 14,
    "start_time": "2023-01-13T11:55:51.897Z"
   },
   {
    "duration": 26,
    "start_time": "2023-01-13T11:55:51.913Z"
   },
   {
    "duration": 545,
    "start_time": "2023-01-13T11:55:51.941Z"
   },
   {
    "duration": 91,
    "start_time": "2023-01-13T11:55:52.488Z"
   },
   {
    "duration": 45,
    "start_time": "2023-01-13T11:55:52.580Z"
   },
   {
    "duration": 4977,
    "start_time": "2023-01-13T11:55:52.626Z"
   },
   {
    "duration": 3,
    "start_time": "2023-01-13T12:34:21.520Z"
   },
   {
    "duration": 3,
    "start_time": "2023-01-13T12:34:26.965Z"
   },
   {
    "duration": 4,
    "start_time": "2023-01-13T12:46:19.079Z"
   },
   {
    "duration": 4214,
    "start_time": "2023-01-13T12:46:26.679Z"
   },
   {
    "duration": 1522,
    "start_time": "2023-01-13T12:47:19.263Z"
   },
   {
    "duration": 4285,
    "start_time": "2023-01-13T12:47:40.849Z"
   },
   {
    "duration": 4333,
    "start_time": "2023-01-13T12:48:42.131Z"
   },
   {
    "duration": 4344,
    "start_time": "2023-01-13T12:49:12.385Z"
   },
   {
    "duration": 878,
    "start_time": "2023-01-13T12:52:06.123Z"
   },
   {
    "duration": 402,
    "start_time": "2023-01-13T12:52:07.003Z"
   },
   {
    "duration": 37,
    "start_time": "2023-01-13T12:52:07.407Z"
   },
   {
    "duration": 13,
    "start_time": "2023-01-13T12:52:07.446Z"
   },
   {
    "duration": 9,
    "start_time": "2023-01-13T12:52:07.478Z"
   },
   {
    "duration": 590,
    "start_time": "2023-01-13T12:52:07.489Z"
   },
   {
    "duration": 92,
    "start_time": "2023-01-13T12:52:08.087Z"
   },
   {
    "duration": 39,
    "start_time": "2023-01-13T12:52:08.181Z"
   },
   {
    "duration": 4355,
    "start_time": "2023-01-13T12:52:08.222Z"
   },
   {
    "duration": 1064,
    "start_time": "2023-01-14T13:23:46.952Z"
   },
   {
    "duration": 713,
    "start_time": "2023-01-14T13:23:48.018Z"
   },
   {
    "duration": 35,
    "start_time": "2023-01-14T13:23:48.732Z"
   },
   {
    "duration": 11,
    "start_time": "2023-01-14T13:23:48.770Z"
   },
   {
    "duration": 8,
    "start_time": "2023-01-14T13:23:48.783Z"
   },
   {
    "duration": 397,
    "start_time": "2023-01-14T13:23:48.792Z"
   },
   {
    "duration": 87,
    "start_time": "2023-01-14T13:23:49.191Z"
   },
   {
    "duration": 102,
    "start_time": "2023-01-14T13:23:49.281Z"
   },
   {
    "duration": 4094,
    "start_time": "2023-01-14T13:23:49.384Z"
   }
  ],
  "kernelspec": {
   "display_name": "Python 3 (ipykernel)",
   "language": "python",
   "name": "python3"
  },
  "language_info": {
   "codemirror_mode": {
    "name": "ipython",
    "version": 3
   },
   "file_extension": ".py",
   "mimetype": "text/x-python",
   "name": "python",
   "nbconvert_exporter": "python",
   "pygments_lexer": "ipython3",
   "version": "3.11.5"
  },
  "toc": {
   "base_numbering": 1,
   "nav_menu": {},
   "number_sections": true,
   "sideBar": true,
   "skip_h1_title": true,
   "title_cell": "Table of Contents",
   "title_sidebar": "Contents",
   "toc_cell": false,
   "toc_position": {
    "height": "calc(100% - 180px)",
    "left": "10px",
    "top": "150px",
    "width": "234.986px"
   },
   "toc_section_display": true,
   "toc_window_display": true
  }
 },
 "nbformat": 4,
 "nbformat_minor": 2
}
