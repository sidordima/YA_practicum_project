{
 "cells": [
  {
   "cell_type": "markdown",
   "metadata": {},
   "source": [
    "# Исследование объявлений о продаже квартир"
   ]
  },
  {
   "cell_type": "markdown",
   "metadata": {},
   "source": [
    "\n",
    "## Введение\n",
    "\n",
    "В вашем распоряжении данные сервиса Яндекс.Недвижимость — архив объявлений о продаже квартир в Санкт-Петербурге и соседних населённых пунктов за несколько лет. Нужно научиться определять рыночную стоимость объектов недвижимости. Ваша задача — установить параметры. Это позволит построить автоматизированную систему: она отследит аномалии и мошенническую деятельность. \n",
    "\n",
    "По каждой квартире на продажу доступны два вида данных. Первые вписаны пользователем, вторые — получены автоматически на основе картографических данных. Например, расстояние до центра, аэропорта, ближайшего парка и водоёма. "
   ]
  },
  {
   "cell_type": "markdown",
   "metadata": {},
   "source": [
    "## Откройте файл с данными и изучите общую информацию"
   ]
  },
  {
   "cell_type": "code",
   "execution_count": 1,
   "metadata": {},
   "outputs": [],
   "source": [
    "import pandas as pd\n",
    "import seaborn as sns"
   ]
  },
  {
   "cell_type": "code",
   "execution_count": 2,
   "metadata": {},
   "outputs": [
    {
     "name": "stdout",
     "output_type": "stream",
     "text": [
      "<class 'pandas.core.frame.DataFrame'>\n",
      "RangeIndex: 23699 entries, 0 to 23698\n",
      "Data columns (total 22 columns):\n",
      " #   Column                Non-Null Count  Dtype  \n",
      "---  ------                --------------  -----  \n",
      " 0   total_images          23699 non-null  int64  \n",
      " 1   last_price            23699 non-null  float64\n",
      " 2   total_area            23699 non-null  float64\n",
      " 3   first_day_exposition  23699 non-null  object \n",
      " 4   rooms                 23699 non-null  int64  \n",
      " 5   ceiling_height        14504 non-null  float64\n",
      " 6   floors_total          23613 non-null  float64\n",
      " 7   living_area           21796 non-null  float64\n",
      " 8   floor                 23699 non-null  int64  \n",
      " 9   is_apartment          2775 non-null   object \n",
      " 10  studio                23699 non-null  bool   \n",
      " 11  open_plan             23699 non-null  bool   \n",
      " 12  kitchen_area          21421 non-null  float64\n",
      " 13  balcony               12180 non-null  float64\n",
      " 14  locality_name         23650 non-null  object \n",
      " 15  airports_nearest      18157 non-null  float64\n",
      " 16  cityCenters_nearest   18180 non-null  float64\n",
      " 17  parks_around3000      18181 non-null  float64\n",
      " 18  parks_nearest         8079 non-null   float64\n",
      " 19  ponds_around3000      18181 non-null  float64\n",
      " 20  ponds_nearest         9110 non-null   float64\n",
      " 21  days_exposition       20518 non-null  float64\n",
      "dtypes: bool(2), float64(14), int64(3), object(3)\n",
      "memory usage: 3.7+ MB\n"
     ]
    },
    {
     "data": {
      "text/html": [
       "<div>\n",
       "<style scoped>\n",
       "    .dataframe tbody tr th:only-of-type {\n",
       "        vertical-align: middle;\n",
       "    }\n",
       "\n",
       "    .dataframe tbody tr th {\n",
       "        vertical-align: top;\n",
       "    }\n",
       "\n",
       "    .dataframe thead th {\n",
       "        text-align: right;\n",
       "    }\n",
       "</style>\n",
       "<table border=\"1\" class=\"dataframe\">\n",
       "  <thead>\n",
       "    <tr style=\"text-align: right;\">\n",
       "      <th></th>\n",
       "      <th>total_images</th>\n",
       "      <th>last_price</th>\n",
       "      <th>total_area</th>\n",
       "      <th>first_day_exposition</th>\n",
       "      <th>rooms</th>\n",
       "      <th>ceiling_height</th>\n",
       "      <th>floors_total</th>\n",
       "      <th>living_area</th>\n",
       "      <th>floor</th>\n",
       "      <th>is_apartment</th>\n",
       "      <th>...</th>\n",
       "      <th>kitchen_area</th>\n",
       "      <th>balcony</th>\n",
       "      <th>locality_name</th>\n",
       "      <th>airports_nearest</th>\n",
       "      <th>cityCenters_nearest</th>\n",
       "      <th>parks_around3000</th>\n",
       "      <th>parks_nearest</th>\n",
       "      <th>ponds_around3000</th>\n",
       "      <th>ponds_nearest</th>\n",
       "      <th>days_exposition</th>\n",
       "    </tr>\n",
       "  </thead>\n",
       "  <tbody>\n",
       "    <tr>\n",
       "      <th>0</th>\n",
       "      <td>20</td>\n",
       "      <td>13000000.0</td>\n",
       "      <td>108.00</td>\n",
       "      <td>2019-03-07T00:00:00</td>\n",
       "      <td>3</td>\n",
       "      <td>2.70</td>\n",
       "      <td>16.0</td>\n",
       "      <td>51.0</td>\n",
       "      <td>8</td>\n",
       "      <td>NaN</td>\n",
       "      <td>...</td>\n",
       "      <td>25.00</td>\n",
       "      <td>NaN</td>\n",
       "      <td>Санкт-Петербург</td>\n",
       "      <td>18863.0</td>\n",
       "      <td>16028.0</td>\n",
       "      <td>1.0</td>\n",
       "      <td>482.0</td>\n",
       "      <td>2.0</td>\n",
       "      <td>755.0</td>\n",
       "      <td>NaN</td>\n",
       "    </tr>\n",
       "    <tr>\n",
       "      <th>1</th>\n",
       "      <td>7</td>\n",
       "      <td>3350000.0</td>\n",
       "      <td>40.40</td>\n",
       "      <td>2018-12-04T00:00:00</td>\n",
       "      <td>1</td>\n",
       "      <td>NaN</td>\n",
       "      <td>11.0</td>\n",
       "      <td>18.6</td>\n",
       "      <td>1</td>\n",
       "      <td>NaN</td>\n",
       "      <td>...</td>\n",
       "      <td>11.00</td>\n",
       "      <td>2.0</td>\n",
       "      <td>посёлок Шушары</td>\n",
       "      <td>12817.0</td>\n",
       "      <td>18603.0</td>\n",
       "      <td>0.0</td>\n",
       "      <td>NaN</td>\n",
       "      <td>0.0</td>\n",
       "      <td>NaN</td>\n",
       "      <td>81.0</td>\n",
       "    </tr>\n",
       "    <tr>\n",
       "      <th>2</th>\n",
       "      <td>10</td>\n",
       "      <td>5196000.0</td>\n",
       "      <td>56.00</td>\n",
       "      <td>2015-08-20T00:00:00</td>\n",
       "      <td>2</td>\n",
       "      <td>NaN</td>\n",
       "      <td>5.0</td>\n",
       "      <td>34.3</td>\n",
       "      <td>4</td>\n",
       "      <td>NaN</td>\n",
       "      <td>...</td>\n",
       "      <td>8.30</td>\n",
       "      <td>0.0</td>\n",
       "      <td>Санкт-Петербург</td>\n",
       "      <td>21741.0</td>\n",
       "      <td>13933.0</td>\n",
       "      <td>1.0</td>\n",
       "      <td>90.0</td>\n",
       "      <td>2.0</td>\n",
       "      <td>574.0</td>\n",
       "      <td>558.0</td>\n",
       "    </tr>\n",
       "    <tr>\n",
       "      <th>3</th>\n",
       "      <td>0</td>\n",
       "      <td>64900000.0</td>\n",
       "      <td>159.00</td>\n",
       "      <td>2015-07-24T00:00:00</td>\n",
       "      <td>3</td>\n",
       "      <td>NaN</td>\n",
       "      <td>14.0</td>\n",
       "      <td>NaN</td>\n",
       "      <td>9</td>\n",
       "      <td>NaN</td>\n",
       "      <td>...</td>\n",
       "      <td>NaN</td>\n",
       "      <td>0.0</td>\n",
       "      <td>Санкт-Петербург</td>\n",
       "      <td>28098.0</td>\n",
       "      <td>6800.0</td>\n",
       "      <td>2.0</td>\n",
       "      <td>84.0</td>\n",
       "      <td>3.0</td>\n",
       "      <td>234.0</td>\n",
       "      <td>424.0</td>\n",
       "    </tr>\n",
       "    <tr>\n",
       "      <th>4</th>\n",
       "      <td>2</td>\n",
       "      <td>10000000.0</td>\n",
       "      <td>100.00</td>\n",
       "      <td>2018-06-19T00:00:00</td>\n",
       "      <td>2</td>\n",
       "      <td>3.03</td>\n",
       "      <td>14.0</td>\n",
       "      <td>32.0</td>\n",
       "      <td>13</td>\n",
       "      <td>NaN</td>\n",
       "      <td>...</td>\n",
       "      <td>41.00</td>\n",
       "      <td>NaN</td>\n",
       "      <td>Санкт-Петербург</td>\n",
       "      <td>31856.0</td>\n",
       "      <td>8098.0</td>\n",
       "      <td>2.0</td>\n",
       "      <td>112.0</td>\n",
       "      <td>1.0</td>\n",
       "      <td>48.0</td>\n",
       "      <td>121.0</td>\n",
       "    </tr>\n",
       "    <tr>\n",
       "      <th>...</th>\n",
       "      <td>...</td>\n",
       "      <td>...</td>\n",
       "      <td>...</td>\n",
       "      <td>...</td>\n",
       "      <td>...</td>\n",
       "      <td>...</td>\n",
       "      <td>...</td>\n",
       "      <td>...</td>\n",
       "      <td>...</td>\n",
       "      <td>...</td>\n",
       "      <td>...</td>\n",
       "      <td>...</td>\n",
       "      <td>...</td>\n",
       "      <td>...</td>\n",
       "      <td>...</td>\n",
       "      <td>...</td>\n",
       "      <td>...</td>\n",
       "      <td>...</td>\n",
       "      <td>...</td>\n",
       "      <td>...</td>\n",
       "      <td>...</td>\n",
       "    </tr>\n",
       "    <tr>\n",
       "      <th>23694</th>\n",
       "      <td>9</td>\n",
       "      <td>9700000.0</td>\n",
       "      <td>133.81</td>\n",
       "      <td>2017-03-21T00:00:00</td>\n",
       "      <td>3</td>\n",
       "      <td>3.70</td>\n",
       "      <td>5.0</td>\n",
       "      <td>73.3</td>\n",
       "      <td>3</td>\n",
       "      <td>NaN</td>\n",
       "      <td>...</td>\n",
       "      <td>13.83</td>\n",
       "      <td>NaN</td>\n",
       "      <td>Санкт-Петербург</td>\n",
       "      <td>24665.0</td>\n",
       "      <td>4232.0</td>\n",
       "      <td>1.0</td>\n",
       "      <td>796.0</td>\n",
       "      <td>3.0</td>\n",
       "      <td>381.0</td>\n",
       "      <td>NaN</td>\n",
       "    </tr>\n",
       "    <tr>\n",
       "      <th>23695</th>\n",
       "      <td>14</td>\n",
       "      <td>3100000.0</td>\n",
       "      <td>59.00</td>\n",
       "      <td>2018-01-15T00:00:00</td>\n",
       "      <td>3</td>\n",
       "      <td>NaN</td>\n",
       "      <td>5.0</td>\n",
       "      <td>38.0</td>\n",
       "      <td>4</td>\n",
       "      <td>NaN</td>\n",
       "      <td>...</td>\n",
       "      <td>8.50</td>\n",
       "      <td>NaN</td>\n",
       "      <td>Тосно</td>\n",
       "      <td>NaN</td>\n",
       "      <td>NaN</td>\n",
       "      <td>NaN</td>\n",
       "      <td>NaN</td>\n",
       "      <td>NaN</td>\n",
       "      <td>NaN</td>\n",
       "      <td>45.0</td>\n",
       "    </tr>\n",
       "    <tr>\n",
       "      <th>23696</th>\n",
       "      <td>18</td>\n",
       "      <td>2500000.0</td>\n",
       "      <td>56.70</td>\n",
       "      <td>2018-02-11T00:00:00</td>\n",
       "      <td>2</td>\n",
       "      <td>NaN</td>\n",
       "      <td>3.0</td>\n",
       "      <td>29.7</td>\n",
       "      <td>1</td>\n",
       "      <td>NaN</td>\n",
       "      <td>...</td>\n",
       "      <td>NaN</td>\n",
       "      <td>NaN</td>\n",
       "      <td>село Рождествено</td>\n",
       "      <td>NaN</td>\n",
       "      <td>NaN</td>\n",
       "      <td>NaN</td>\n",
       "      <td>NaN</td>\n",
       "      <td>NaN</td>\n",
       "      <td>NaN</td>\n",
       "      <td>NaN</td>\n",
       "    </tr>\n",
       "    <tr>\n",
       "      <th>23697</th>\n",
       "      <td>13</td>\n",
       "      <td>11475000.0</td>\n",
       "      <td>76.75</td>\n",
       "      <td>2017-03-28T00:00:00</td>\n",
       "      <td>2</td>\n",
       "      <td>3.00</td>\n",
       "      <td>17.0</td>\n",
       "      <td>NaN</td>\n",
       "      <td>12</td>\n",
       "      <td>NaN</td>\n",
       "      <td>...</td>\n",
       "      <td>23.30</td>\n",
       "      <td>2.0</td>\n",
       "      <td>Санкт-Петербург</td>\n",
       "      <td>39140.0</td>\n",
       "      <td>10364.0</td>\n",
       "      <td>2.0</td>\n",
       "      <td>173.0</td>\n",
       "      <td>3.0</td>\n",
       "      <td>196.0</td>\n",
       "      <td>602.0</td>\n",
       "    </tr>\n",
       "    <tr>\n",
       "      <th>23698</th>\n",
       "      <td>4</td>\n",
       "      <td>1350000.0</td>\n",
       "      <td>32.30</td>\n",
       "      <td>2017-07-21T00:00:00</td>\n",
       "      <td>1</td>\n",
       "      <td>2.50</td>\n",
       "      <td>5.0</td>\n",
       "      <td>12.3</td>\n",
       "      <td>1</td>\n",
       "      <td>NaN</td>\n",
       "      <td>...</td>\n",
       "      <td>9.00</td>\n",
       "      <td>NaN</td>\n",
       "      <td>поселок Новый Учхоз</td>\n",
       "      <td>NaN</td>\n",
       "      <td>NaN</td>\n",
       "      <td>NaN</td>\n",
       "      <td>NaN</td>\n",
       "      <td>NaN</td>\n",
       "      <td>NaN</td>\n",
       "      <td>NaN</td>\n",
       "    </tr>\n",
       "  </tbody>\n",
       "</table>\n",
       "<p>23699 rows × 22 columns</p>\n",
       "</div>"
      ],
      "text/plain": [
       "       total_images  last_price  total_area first_day_exposition  rooms  \\\n",
       "0                20  13000000.0      108.00  2019-03-07T00:00:00      3   \n",
       "1                 7   3350000.0       40.40  2018-12-04T00:00:00      1   \n",
       "2                10   5196000.0       56.00  2015-08-20T00:00:00      2   \n",
       "3                 0  64900000.0      159.00  2015-07-24T00:00:00      3   \n",
       "4                 2  10000000.0      100.00  2018-06-19T00:00:00      2   \n",
       "...             ...         ...         ...                  ...    ...   \n",
       "23694             9   9700000.0      133.81  2017-03-21T00:00:00      3   \n",
       "23695            14   3100000.0       59.00  2018-01-15T00:00:00      3   \n",
       "23696            18   2500000.0       56.70  2018-02-11T00:00:00      2   \n",
       "23697            13  11475000.0       76.75  2017-03-28T00:00:00      2   \n",
       "23698             4   1350000.0       32.30  2017-07-21T00:00:00      1   \n",
       "\n",
       "       ceiling_height  floors_total  living_area  floor is_apartment  ...  \\\n",
       "0                2.70          16.0         51.0      8          NaN  ...   \n",
       "1                 NaN          11.0         18.6      1          NaN  ...   \n",
       "2                 NaN           5.0         34.3      4          NaN  ...   \n",
       "3                 NaN          14.0          NaN      9          NaN  ...   \n",
       "4                3.03          14.0         32.0     13          NaN  ...   \n",
       "...               ...           ...          ...    ...          ...  ...   \n",
       "23694            3.70           5.0         73.3      3          NaN  ...   \n",
       "23695             NaN           5.0         38.0      4          NaN  ...   \n",
       "23696             NaN           3.0         29.7      1          NaN  ...   \n",
       "23697            3.00          17.0          NaN     12          NaN  ...   \n",
       "23698            2.50           5.0         12.3      1          NaN  ...   \n",
       "\n",
       "       kitchen_area  balcony        locality_name  airports_nearest  \\\n",
       "0             25.00      NaN      Санкт-Петербург           18863.0   \n",
       "1             11.00      2.0       посёлок Шушары           12817.0   \n",
       "2              8.30      0.0      Санкт-Петербург           21741.0   \n",
       "3               NaN      0.0      Санкт-Петербург           28098.0   \n",
       "4             41.00      NaN      Санкт-Петербург           31856.0   \n",
       "...             ...      ...                  ...               ...   \n",
       "23694         13.83      NaN      Санкт-Петербург           24665.0   \n",
       "23695          8.50      NaN                Тосно               NaN   \n",
       "23696           NaN      NaN     село Рождествено               NaN   \n",
       "23697         23.30      2.0      Санкт-Петербург           39140.0   \n",
       "23698          9.00      NaN  поселок Новый Учхоз               NaN   \n",
       "\n",
       "      cityCenters_nearest  parks_around3000  parks_nearest  ponds_around3000  \\\n",
       "0                 16028.0               1.0          482.0               2.0   \n",
       "1                 18603.0               0.0            NaN               0.0   \n",
       "2                 13933.0               1.0           90.0               2.0   \n",
       "3                  6800.0               2.0           84.0               3.0   \n",
       "4                  8098.0               2.0          112.0               1.0   \n",
       "...                   ...               ...            ...               ...   \n",
       "23694              4232.0               1.0          796.0               3.0   \n",
       "23695                 NaN               NaN            NaN               NaN   \n",
       "23696                 NaN               NaN            NaN               NaN   \n",
       "23697             10364.0               2.0          173.0               3.0   \n",
       "23698                 NaN               NaN            NaN               NaN   \n",
       "\n",
       "       ponds_nearest  days_exposition  \n",
       "0              755.0              NaN  \n",
       "1                NaN             81.0  \n",
       "2              574.0            558.0  \n",
       "3              234.0            424.0  \n",
       "4               48.0            121.0  \n",
       "...              ...              ...  \n",
       "23694          381.0              NaN  \n",
       "23695            NaN             45.0  \n",
       "23696            NaN              NaN  \n",
       "23697          196.0            602.0  \n",
       "23698            NaN              NaN  \n",
       "\n",
       "[23699 rows x 22 columns]"
      ]
     },
     "execution_count": 2,
     "metadata": {},
     "output_type": "execute_result"
    }
   ],
   "source": [
    "data = pd.read_csv('/datasets/real_estate_data.csv',sep='\t')\n",
    "data.info()\n",
    "len_old = data.shape[0] #длина исходного датафрейма\n",
    "data"
   ]
  },
  {
   "cell_type": "markdown",
   "metadata": {},
   "source": [
    "На основе сводки видно, что ключевых данных для анализа рыночной стоимости (цена,площадь,число комнат) хватает в полном объеме.\n",
    "*****\n",
    "Вывод гистрограммы датафрейма `data` на экран."
   ]
  },
  {
   "cell_type": "code",
   "execution_count": 3,
   "metadata": {},
   "outputs": [
    {
     "data": {
      "image/png": "[encoded data removed]",
      "text/plain": [
       "<Figure size 1080x1440 with 20 Axes>"
      ]
     },
     "metadata": {
      "needs_background": "light"
     },
     "output_type": "display_data"
    }
   ],
   "source": [
    "data.hist(figsize=(15, 20));"
   ]
  },
  {
   "cell_type": "markdown",
   "metadata": {},
   "source": [
    "По многим гистрограммам видно наличие выбросов некоторых значений."
   ]
  },
  {
   "cell_type": "markdown",
   "metadata": {},
   "source": [
    "## Предобработка данных"
   ]
  },
  {
   "cell_type": "markdown",
   "metadata": {},
   "source": [
    "### Изучение пропусков\n",
    "Распределение пропущенных значений по колонкам отражено в пункте 1 при вызове функции info. \n",
    "В столбцах с balcony и is_apartment отсутствующие значения вероятнее всего означают логический ноль. Заполняем эти значения."
   ]
  },
  {
   "cell_type": "code",
   "execution_count": 4,
   "metadata": {},
   "outputs": [],
   "source": [
    "data['balcony'].fillna(value=False, inplace=True)\n",
    "data['is_apartment'].fillna(value=False, inplace=True)\n",
    "#заполняем пропуски количества этажей в доме присваиванием этажа квартиры+1\n",
    "data['floors_total'] = data['floors_total'].where(data['floors_total']==data['floors_total'], data.floor+1)\n",
    "#вычисляем коэффициенты жилой и кухонной площади\n",
    "ratio_liv = data['living_area'].median() / data['total_area'].median() # средний коэф площадь кухни/общей\n",
    "ratio_kit = data['kitchen_area'].median() / data['total_area'].median()\n",
    "#Заполняем пропуски \n",
    "data['living_area'] = data['living_area'].where(data['living_area']==data['living_area'], data.total_area*ratio_liv )\n",
    "data['kitchen_area'] = data['kitchen_area'].where(data['kitchen_area']==data['kitchen_area'], data.total_area*ratio_kit )"
   ]
  },
  {
   "cell_type": "markdown",
   "metadata": {},
   "source": [
    "Т.к. у исходного дата-фрейма два источника информации, то причины появления пропусков следует рассматривать для каждого источника отдельно. \n",
    "Для данных которые вносит пользователь основной причиной пропусков является незнание параметров дома(площади, высоты потолков) или же нестандартная квартира(дом), где площадь кухни не выделена однозначно.\n",
    "Для второго источника характерны программные проблемы в определении растояния, т.к. количество парков и водоемов посчитано в радиусе 3 км., но растояние до ближайшего не вычислено. Из-за отсутствия маски при вводе населенного пункта наблюдаются неточности при вводе данных."
   ]
  },
  {
   "cell_type": "markdown",
   "metadata": {},
   "source": [
    "### Изменение типов данных"
   ]
  },
  {
   "cell_type": "code",
   "execution_count": 5,
   "metadata": {},
   "outputs": [],
   "source": [
    "data['first_day_exposition'] = pd.to_datetime(data['first_day_exposition'], format='%Y-%m-%dT%H:%M:%S')\n",
    "data['floors_total'] = data['floors_total'].astype('int')\n",
    "data['balcony'] = data['balcony'].astype('int')"
   ]
  },
  {
   "cell_type": "markdown",
   "metadata": {},
   "source": [
    "Столбцы first_day_exposition,floors_total,balcony имеют неподходящий тип данных для той информации, которую они содержат."
   ]
  },
  {
   "cell_type": "markdown",
   "metadata": {},
   "source": [
    "### Устраняем неявные дубликаты"
   ]
  },
  {
   "cell_type": "code",
   "execution_count": 6,
   "metadata": {},
   "outputs": [],
   "source": [
    "data['locality_name'] = data['locality_name'].str.lower()\n",
    "data['locality_name'] = data['locality_name'].str.replace('поселок','посёлок')\n",
    "data['locality_name'] = data['locality_name'].str.replace('посёлок городского типа','посёлок')\n",
    "data['locality_name'] = data['locality_name'].str.replace('городской посёлок','посёлок')"
   ]
  },
  {
   "cell_type": "markdown",
   "metadata": {},
   "source": [
    "Устраняем дубликаты путем сведения названий к единообразному списку"
   ]
  },
  {
   "cell_type": "markdown",
   "metadata": {},
   "source": [
    "### Устраняем редкие и неявные значения"
   ]
  },
  {
   "cell_type": "code",
   "execution_count": 7,
   "metadata": {},
   "outputs": [
    {
     "name": "stdout",
     "output_type": "stream",
     "text": [
      "Потеря информации: 1.2 %\n"
     ]
    }
   ],
   "source": [
    "data.loc[(20<=data.ceiling_height)&(data.ceiling_height<45),'ceiling_height'] = data.ceiling_height/10\n",
    "data.loc[(data.ceiling_height<=2)|(data.ceiling_height>=4.5),'ceiling_height'] = data['ceiling_height'].median()\n",
    "data['ceiling_height'] = data['ceiling_height'].fillna((data['ceiling_height'].mean() )) #Заполняем пропуски медианой\n",
    "\n",
    "for_del = list(data.query('(last_price>50000000) | (total_area>200) | (rooms>7)' ).index) #отсеиваем сверхэлитное жилье\n",
    "data.drop(labels=for_del, axis=0, inplace=True) #удалям сверхэлитное жилье\n",
    "\n",
    "print('Потеря информации:', round((len_old-data.shape[0])/data.shape[0]*100,2),'%') #потери информации"
   ]
  },
  {
   "cell_type": "markdown",
   "metadata": {},
   "source": [
    "Обрабатываем значения с пропущенной точкой в первой строке. Во второй строке заполняем выбросы значений медианным значением. Исключены предложения дороже 50млн.руб или площадью более 200кв.м. или с количеством комнат более 7."
   ]
  },
  {
   "cell_type": "markdown",
   "metadata": {},
   "source": [
    "### Посчитайте и добавьте в таблицу новые столбцы"
   ]
  },
  {
   "cell_type": "code",
   "execution_count": 8,
   "metadata": {},
   "outputs": [],
   "source": [
    "data['per_metr'] = round(data['last_price'] / data['total_area']) #цена за метр\n",
    "\n",
    "data['weekday'] = data['first_day_exposition'].dt.weekday #день недели\n",
    "data['month'] = data['first_day_exposition'].dt.month #месяц\n",
    "data['year'] = data['first_day_exposition'].dt.year #год\n",
    "#тип этажа определяется следующими строками:\n",
    "data['type_floor'] = 'другой' \n",
    "data['type_floor'] = data['type_floor'].where(data['floor']!=1,'первый' )\n",
    "data['type_floor'] = data['type_floor'].where(data['floor']!=data['floors_total'],'последний' )\n",
    "#растояние до центра из м в км:\n",
    "data.loc[:,'cityCenters_nearest'] = round(data.cityCenters_nearest/1000)"
   ]
  },
  {
   "cell_type": "markdown",
   "metadata": {},
   "source": [
    "Добавлены новые столбцы - цена за метр, день, месяц и год размещения объявления, тип этажа. Растояние до центра города переведено из метров в километры."
   ]
  },
  {
   "cell_type": "markdown",
   "metadata": {},
   "source": [
    "## Исследовательский анализ данных(гистрограммы)"
   ]
  },
  {
   "cell_type": "markdown",
   "metadata": {},
   "source": [
    "### Гистрограмма общей площади"
   ]
  },
  {
   "cell_type": "code",
   "execution_count": 9,
   "metadata": {
    "scrolled": true
   },
   "outputs": [
    {
     "data": {
      "text/plain": [
       "<AxesSubplot:title={'center':'Общая площадь'}, ylabel='Frequency'>"
      ]
     },
     "execution_count": 9,
     "metadata": {},
     "output_type": "execute_result"
    },
    {
     "data": {
      "image/png": "[encoded data removed]",
      "text/plain": [
       "<Figure size 864x288 with 1 Axes>"
      ]
     },
     "metadata": {
      "needs_background": "light"
     },
     "output_type": "display_data"
    }
   ],
   "source": [
    "data.plot(y='total_area', kind='hist',bins=50,title='Общая площадь',figsize=(12,4))"
   ]
  },
  {
   "cell_type": "markdown",
   "metadata": {},
   "source": [
    "Основная масса предложений имеет площадь до 125кв.м. В диапазоне от 125 и до верхней границы выборки представлено мало предложений квартир"
   ]
  },
  {
   "cell_type": "code",
   "execution_count": 10,
   "metadata": {
    "scrolled": true
   },
   "outputs": [
    {
     "data": {
      "text/plain": [
       "164.7"
      ]
     },
     "execution_count": 10,
     "metadata": {},
     "output_type": "execute_result"
    },
    {
     "data": {
      "image/png": "[encoded data removed]",
      "text/plain": [
       "<Figure size 864x288 with 1 Axes>"
      ]
     },
     "metadata": {
      "needs_background": "light"
     },
     "output_type": "display_data"
    }
   ],
   "source": [
    "data.plot(y='living_area', kind='hist',bins=50,title='Жилая площадь',figsize=(12,4))\n",
    "data['living_area'].max()"
   ]
  },
  {
   "cell_type": "markdown",
   "metadata": {},
   "source": [
    "Основная масса предложений имеет жилую площадь до 60кв.м. В диапазоне от 60 до 170 кв.м. представлено мало предложений."
   ]
  },
  {
   "cell_type": "markdown",
   "metadata": {},
   "source": [
    "### Гистрограмма распределения площади кухни"
   ]
  },
  {
   "cell_type": "code",
   "execution_count": 11,
   "metadata": {},
   "outputs": [
    {
     "data": {
      "text/plain": [
       "75.0"
      ]
     },
     "execution_count": 11,
     "metadata": {},
     "output_type": "execute_result"
    },
    {
     "data": {
      "image/png": "[encoded data removed]",
      "text/plain": [
       "<Figure size 864x288 with 1 Axes>"
      ]
     },
     "metadata": {
      "needs_background": "light"
     },
     "output_type": "display_data"
    }
   ],
   "source": [
    "data.plot(y='kitchen_area', kind='hist',bins=50,title='Площадь кухни',figsize=(12,4))\n",
    "data['kitchen_area'].max()"
   ]
  },
  {
   "cell_type": "markdown",
   "metadata": {},
   "source": [
    "Подавляющее большинство предложений имеет кухню площадью 10-15кв.м. Выделяется квартира с кухней 75кв.м."
   ]
  },
  {
   "cell_type": "markdown",
   "metadata": {},
   "source": [
    "### Гистрограмма распределения цены предложений"
   ]
  },
  {
   "cell_type": "code",
   "execution_count": 12,
   "metadata": {},
   "outputs": [
    {
     "data": {
      "image/png": "[encoded data removed]",
      "text/plain": [
       "<Figure size 864x288 with 1 Axes>"
      ]
     },
     "metadata": {
      "needs_background": "light"
     },
     "output_type": "display_data"
    }
   ],
   "source": [
    "data.plot(y='last_price', kind='hist',bins=150,title='Цена',figsize=(12,4),);"
   ]
  },
  {
   "cell_type": "markdown",
   "metadata": {},
   "source": [
    "Цена распределена неравномерно. Большинство квартир имеет стоимость, приближенную к левой границе. При этом ряд элитных квартир мешают отображению графика. За 50 млн руб. имеется всего 6 предложений жилья. "
   ]
  },
  {
   "cell_type": "markdown",
   "metadata": {},
   "source": [
    "### Гистрограмма распределения количества комнат"
   ]
  },
  {
   "cell_type": "code",
   "execution_count": 13,
   "metadata": {
    "scrolled": true
   },
   "outputs": [
    {
     "data": {
      "text/plain": [
       "7"
      ]
     },
     "execution_count": 13,
     "metadata": {},
     "output_type": "execute_result"
    },
    {
     "data": {
      "image/png": "[encoded data removed]",
      "text/plain": [
       "<Figure size 864x288 with 1 Axes>"
      ]
     },
     "metadata": {
      "needs_background": "light"
     },
     "output_type": "display_data"
    }
   ],
   "source": [
    "data.plot(y='rooms', kind='hist',bins=20,title='всего комнат',figsize=(12,4))\n",
    "data['rooms'].max()"
   ]
  },
  {
   "cell_type": "markdown",
   "metadata": {},
   "source": [
    "Количество предложений одно- и двухкомантных квартир одинаково. Немного меньше предложений трехкомнтаных квартир. Большее число комнат встречается намного реже. Самое большое количество комнат на рынке - 7. Это число мы ограничили в нашем датафрейме. "
   ]
  },
  {
   "cell_type": "markdown",
   "metadata": {},
   "source": [
    "### Гистрограмма распределения высоты потолков"
   ]
  },
  {
   "cell_type": "code",
   "execution_count": 14,
   "metadata": {
    "scrolled": true
   },
   "outputs": [
    {
     "data": {
      "text/plain": [
       "<AxesSubplot:title={'center':'высота потолков'}, ylabel='Frequency'>"
      ]
     },
     "execution_count": 14,
     "metadata": {},
     "output_type": "execute_result"
    },
    {
     "data": {
      "image/png": "[encoded data removed]",
      "text/plain": [
       "<Figure size 864x288 with 1 Axes>"
      ]
     },
     "metadata": {
      "needs_background": "light"
     },
     "output_type": "display_data"
    }
   ],
   "source": [
    "data.plot(y='ceiling_height', kind='hist',bins=30,title='высота потолков',figsize=(12,4))"
   ]
  },
  {
   "cell_type": "markdown",
   "metadata": {},
   "source": [
    "Большиство квартир имеют потолки 2.5-2.8 метра. Второй пик наблюдается у квартир с потолками 3м. Остальные варианты редки.  "
   ]
  },
  {
   "cell_type": "markdown",
   "metadata": {},
   "source": [
    "### Гистрограмма распределения по этажам"
   ]
  },
  {
   "cell_type": "code",
   "execution_count": 15,
   "metadata": {},
   "outputs": [
    {
     "data": {
      "text/plain": [
       "33"
      ]
     },
     "execution_count": 15,
     "metadata": {},
     "output_type": "execute_result"
    },
    {
     "data": {
      "image/png": "[encoded data removed]",
      "text/plain": [
       "<Figure size 864x288 with 1 Axes>"
      ]
     },
     "metadata": {
      "needs_background": "light"
     },
     "output_type": "display_data"
    }
   ],
   "source": [
    "data.plot(y='floor', kind='hist',bins=30,title='этаж',figsize=(12,4))\n",
    "data['floor'].max()"
   ]
  },
  {
   "cell_type": "markdown",
   "metadata": {},
   "source": [
    "Большинство предложений расположены на 1 этаже, вдвое реже квартиры располагаются на 2,3,4 и 5 этажах. Самая высокая квартира расположена на 33 этаже."
   ]
  },
  {
   "cell_type": "markdown",
   "metadata": {},
   "source": [
    "### Гистрограмма распределения типов этажей"
   ]
  },
  {
   "cell_type": "code",
   "execution_count": 16,
   "metadata": {
    "scrolled": false
   },
   "outputs": [
    {
     "data": {
      "text/plain": [
       "<AxesSubplot:title={'center':'Тип расположения'}, ylabel='Frequency'>"
      ]
     },
     "execution_count": 16,
     "metadata": {},
     "output_type": "execute_result"
    },
    {
     "data": {
      "image/png": "[encoded data removed]",
      "text/plain": [
       "<Figure size 432x288 with 1 Axes>"
      ]
     },
     "metadata": {
      "needs_background": "light"
     },
     "output_type": "display_data"
    }
   ],
   "source": [
    "data['type_floor'].value_counts().plot(kind='hist',bins=3,title='Тип расположения')"
   ]
  },
  {
   "cell_type": "markdown",
   "metadata": {},
   "source": [
    "Квартир на первом этаже вдвое больше чем квартир на последнем этаже."
   ]
  },
  {
   "cell_type": "markdown",
   "metadata": {},
   "source": [
    "### Гистрограмма распределения высоты домов"
   ]
  },
  {
   "cell_type": "code",
   "execution_count": 17,
   "metadata": {},
   "outputs": [
    {
     "data": {
      "text/plain": [
       "60"
      ]
     },
     "execution_count": 17,
     "metadata": {},
     "output_type": "execute_result"
    },
    {
     "data": {
      "image/png": "[encoded data removed]",
      "text/plain": [
       "<Figure size 864x288 with 1 Axes>"
      ]
     },
     "metadata": {
      "needs_background": "light"
     },
     "output_type": "display_data"
    }
   ],
   "source": [
    "data.plot(y='floors_total', kind='hist',bins=30,title='всего этажей',figsize=(12,4))\n",
    "data['floors_total'].max()"
   ]
  },
  {
   "cell_type": "markdown",
   "metadata": {},
   "source": [
    "Самое высокое здание, где можно купить квартиру, имеет высоту 60 метров. На гистрограмме видно наличие нескольких пиков, которые отражают в основном год постройки:\n",
    "  * 5 этажей - для домов \"пятиэтажек\";\n",
    "  * 9 этажей - для домов \"девятиэтажек\";\n",
    "  *  16 этажей - для домов поздней брежневской эпохи;\n",
    "  *  25 этажей - для современных новостроек.\n"
   ]
  },
  {
   "cell_type": "markdown",
   "metadata": {},
   "source": [
    "### Гистрограмма распределения количества предложений в зависимости от расстояния"
   ]
  },
  {
   "cell_type": "code",
   "execution_count": 18,
   "metadata": {},
   "outputs": [
    {
     "data": {
      "text/plain": [
       "66.0"
      ]
     },
     "execution_count": 18,
     "metadata": {},
     "output_type": "execute_result"
    },
    {
     "data": {
      "image/png": "[encoded data removed]",
      "text/plain": [
       "<Figure size 864x288 with 1 Axes>"
      ]
     },
     "metadata": {
      "needs_background": "light"
     },
     "output_type": "display_data"
    }
   ],
   "source": [
    "data.plot(y='cityCenters_nearest', kind='hist',bins=30,title='растояние до центра города',figsize=(12,4))\n",
    "data['cityCenters_nearest'].max()"
   ]
  },
  {
   "cell_type": "markdown",
   "metadata": {},
   "source": [
    "Самое большое предложение квартир располагается в диапазоне от 12 до 16 км. до центра, что связано с застройкой окраин города. Дальше 18 км. резко сокращается количество предложений. Самое отдаленное от центра предложение располагается в 66 км."
   ]
  },
  {
   "cell_type": "markdown",
   "metadata": {},
   "source": [
    "### Гистрограмма распределения расстояния до парка"
   ]
  },
  {
   "cell_type": "code",
   "execution_count": 19,
   "metadata": {},
   "outputs": [
    {
     "data": {
      "image/png": "[encoded data removed]",
      "text/plain": [
       "<Figure size 864x288 with 1 Axes>"
      ]
     },
     "metadata": {
      "needs_background": "light"
     },
     "output_type": "display_data"
    }
   ],
   "source": [
    "data.plot(y='parks_nearest', kind='hist',bins=30,title='растояние до парка',figsize=(12,4));"
   ]
  },
  {
   "cell_type": "markdown",
   "metadata": {},
   "source": [
    "На гистрограмме видно, что для большей части предложений парки расположены в шаговой достпупности. "
   ]
  },
  {
   "cell_type": "markdown",
   "metadata": {},
   "source": [
    "### Гистрограмма распределения дня недели размещения объявления"
   ]
  },
  {
   "cell_type": "code",
   "execution_count": 20,
   "metadata": {},
   "outputs": [
    {
     "data": {
      "image/png": "[encoded data removed]",
      "text/plain": [
       "<Figure size 864x288 with 1 Axes>"
      ]
     },
     "metadata": {
      "needs_background": "light"
     },
     "output_type": "display_data"
    }
   ],
   "source": [
    "data.plot(y='weekday', kind='hist',bins=30,title='день размещения',figsize=(12,4));\n"
   ]
  },
  {
   "cell_type": "markdown",
   "metadata": {},
   "source": [
    "В субботу и воскресенье вдвое реже выклаывают объявление, чем в будние дни. "
   ]
  },
  {
   "cell_type": "markdown",
   "metadata": {},
   "source": [
    "### Гистрограмма распределения месяцев размещения объявления"
   ]
  },
  {
   "cell_type": "code",
   "execution_count": 21,
   "metadata": {},
   "outputs": [
    {
     "data": {
      "image/png": "[encoded data removed]",
      "text/plain": [
       "<Figure size 864x288 with 1 Axes>"
      ]
     },
     "metadata": {
      "needs_background": "light"
     },
     "output_type": "display_data"
    }
   ],
   "source": [
    "data.plot(y='month', kind='hist',bins=30,title='месяц размещения',figsize=(12,4));"
   ]
  },
  {
   "cell_type": "markdown",
   "metadata": {},
   "source": [
    "На графике видно, что наименее активно размещают объявления в январе и мае, а чаще всего в феврале, марте, апреле и ноябре. "
   ]
  },
  {
   "cell_type": "markdown",
   "metadata": {},
   "source": [
    "### Гистрограмма скорости продажи объектов"
   ]
  },
  {
   "cell_type": "code",
   "execution_count": 22,
   "metadata": {},
   "outputs": [
    {
     "name": "stdout",
     "output_type": "stream",
     "text": [
      "179.44172987882968\n",
      "95.0\n"
     ]
    },
    {
     "data": {
      "image/png": "[encoded data removed]",
      "text/plain": [
       "<Figure size 864x288 with 1 Axes>"
      ]
     },
     "metadata": {
      "needs_background": "light"
     },
     "output_type": "display_data"
    },
    {
     "data": {
      "image/png": "[encoded data removed]",
      "text/plain": [
       "<Figure size 864x288 with 1 Axes>"
      ]
     },
     "metadata": {
      "needs_background": "light"
     },
     "output_type": "display_data"
    }
   ],
   "source": [
    "print(data['days_exposition'].mean())\n",
    "print(data['days_exposition'].median())\n",
    "data.plot(y='days_exposition', kind='hist',bins=30,title='длительность размещения',figsize=(12,4));\n",
    "data.plot(y='days_exposition', kind='hist',bins=600,title='длительность размещения',figsize=(12,4),xlim=(0,100));"
   ]
  },
  {
   "cell_type": "markdown",
   "metadata": {},
   "source": [
    "Большая часть объявлений снималась с размещения по истечении полугода, при этом в первые месяцы была наибольшая доля продаж. \n",
    "Среднее арифмитическое значение продажи равно 180 дням, а медианное 95 дням. Быстрой продажей можно назвать срок до 200 дней, а все что дольше - долгой. "
   ]
  },
  {
   "cell_type": "markdown",
   "metadata": {},
   "source": [
    "## Исследовательский анализ данных(зависимости)"
   ]
  },
  {
   "cell_type": "markdown",
   "metadata": {},
   "source": [
    "### Отображение зависимости площади от стоимости объекта"
   ]
  },
  {
   "cell_type": "code",
   "execution_count": 23,
   "metadata": {},
   "outputs": [
    {
     "data": {
      "image/png": "[encoded data removed]",
      "text/plain": [
       "<Figure size 432x288 with 1 Axes>"
      ]
     },
     "metadata": {
      "needs_background": "light"
     },
     "output_type": "display_data"
    }
   ],
   "source": [
    "data.plot(x='total_area', y='last_price', kind='scatter',ylim=(0,30000000),xlim=(0,200),alpha=0.4);"
   ]
  },
  {
   "cell_type": "markdown",
   "metadata": {},
   "source": [
    "Прослеживается положительная линейная зависимость между ценой и площадью жилья. "
   ]
  },
  {
   "cell_type": "markdown",
   "metadata": {},
   "source": [
    "### Отображение зависимости жилой площади от стоимости объекта"
   ]
  },
  {
   "cell_type": "code",
   "execution_count": 24,
   "metadata": {
    "scrolled": true
   },
   "outputs": [
    {
     "data": {
      "image/png": "[encoded data removed]",
      "text/plain": [
       "<Figure size 432x288 with 1 Axes>"
      ]
     },
     "metadata": {
      "needs_background": "light"
     },
     "output_type": "display_data"
    }
   ],
   "source": [
    "data.plot(x='living_area', y='last_price', kind='scatter',ylim=(0,30000000),xlim=(0,200),alpha=0.4); "
   ]
  },
  {
   "cell_type": "markdown",
   "metadata": {},
   "source": [
    "Также прослеживается положительная линейная зависимость между ценой и жилой площадью. Тенденция во многом отражает зависимость выше."
   ]
  },
  {
   "cell_type": "markdown",
   "metadata": {},
   "source": [
    "### Отображение зависимости площади кухни от стоимости объекта"
   ]
  },
  {
   "cell_type": "code",
   "execution_count": 25,
   "metadata": {},
   "outputs": [
    {
     "data": {
      "image/png": "[encoded data removed]",
      "text/plain": [
       "<Figure size 432x288 with 1 Axes>"
      ]
     },
     "metadata": {
      "needs_background": "light"
     },
     "output_type": "display_data"
    }
   ],
   "source": [
    "data.plot(x='kitchen_area', y='last_price', kind='scatter',ylim=(0,30000000),xlim=(0,50),alpha=0.4); "
   ]
  },
  {
   "cell_type": "markdown",
   "metadata": {},
   "source": [
    "Аналогично прослеживается положительная линейная зависимость между ценой и площадью кухни. Тенденция во многом отражает зависимость выше. "
   ]
  },
  {
   "cell_type": "markdown",
   "metadata": {},
   "source": [
    "### График зависимости количества комнат от стоимости объекта"
   ]
  },
  {
   "cell_type": "code",
   "execution_count": 26,
   "metadata": {},
   "outputs": [
    {
     "data": {
      "image/png": "[encoded data removed]",
      "text/plain": [
       "<Figure size 864x360 with 1 Axes>"
      ]
     },
     "metadata": {
      "needs_background": "light"
     },
     "output_type": "display_data"
    }
   ],
   "source": [
    "data.pivot_table(index='rooms', values='last_price').plot(grid=True, figsize=(12, 5));"
   ]
  },
  {
   "cell_type": "markdown",
   "metadata": {},
   "source": [
    "Существует близкая к линейной зависимость между ценой и количествов комнат вплоть до значений 7 комнат."
   ]
  },
  {
   "cell_type": "markdown",
   "metadata": {},
   "source": [
    "### Распределение зависимости типа этажа от стоимости объекта"
   ]
  },
  {
   "cell_type": "code",
   "execution_count": 27,
   "metadata": {},
   "outputs": [
    {
     "data": {
      "image/png": "[encoded data removed]",
      "text/plain": [
       "<Figure size 432x288 with 1 Axes>"
      ]
     },
     "metadata": {
      "needs_background": "light"
     },
     "output_type": "display_data"
    }
   ],
   "source": [
    "var_floor = data.pivot_table(index='type_floor', values='last_price').reset_index()\n",
    "sns.barplot(data=var_floor,x='type_floor',y='last_price');"
   ]
  },
  {
   "cell_type": "markdown",
   "metadata": {},
   "source": [
    "Наиболее дешевые предложения на первом этаже, а более дорогие на последнем. "
   ]
  },
  {
   "cell_type": "markdown",
   "metadata": {},
   "source": [
    "### График зависимости стоимости объекта от даты размещения"
   ]
  },
  {
   "cell_type": "code",
   "execution_count": 28,
   "metadata": {},
   "outputs": [
    {
     "data": {
      "image/png": "[encoded data removed]",
      "text/plain": [
       "<Figure size 864x360 with 1 Axes>"
      ]
     },
     "metadata": {
      "needs_background": "light"
     },
     "output_type": "display_data"
    }
   ],
   "source": [
    "data.pivot_table(index='weekday', values='last_price').plot(grid=True, figsize=(12, 5));"
   ]
  },
  {
   "cell_type": "markdown",
   "metadata": {},
   "source": [
    "На графике видно,что самые дешевые предложения выставлялись в СБ и ВС. Самые дорогие в ЧТ."
   ]
  },
  {
   "cell_type": "markdown",
   "metadata": {},
   "source": [
    "### График зависимости стоимости объекта от месяца размещения"
   ]
  },
  {
   "cell_type": "code",
   "execution_count": 29,
   "metadata": {},
   "outputs": [
    {
     "data": {
      "image/png": "[encoded data removed]",
      "text/plain": [
       "<Figure size 864x360 with 1 Axes>"
      ]
     },
     "metadata": {
      "needs_background": "light"
     },
     "output_type": "display_data"
    }
   ],
   "source": [
    "data.pivot_table(index='month', values='last_price').plot(grid=True, figsize=(12, 5));"
   ]
  },
  {
   "cell_type": "markdown",
   "metadata": {},
   "source": [
    "Средняя цена предложения нестабильно в течение года. Пики средней цены приходятся на ноябрь, февраль. В остальные месяцы наблюдаются пики низкой цены. "
   ]
  },
  {
   "cell_type": "markdown",
   "metadata": {},
   "source": [
    "### График зависимости стоимости объекта от года размещения объявления"
   ]
  },
  {
   "cell_type": "code",
   "execution_count": 30,
   "metadata": {},
   "outputs": [
    {
     "data": {
      "image/png": "[encoded data removed]",
      "text/plain": [
       "<Figure size 864x360 with 1 Axes>"
      ]
     },
     "metadata": {
      "needs_background": "light"
     },
     "output_type": "display_data"
    }
   ],
   "source": [
    "data.pivot_table(index='year', values='last_price').plot(grid=True, figsize=(12, 5));"
   ]
  },
  {
   "cell_type": "markdown",
   "metadata": {},
   "source": [
    "С начала наблюдений в 2014 году средняя цена неуклонно снижалась, лишь немного поднявшись в 2019 году. "
   ]
  },
  {
   "cell_type": "code",
   "execution_count": 31,
   "metadata": {},
   "outputs": [
    {
     "name": "stdout",
     "output_type": "stream",
     "text": [
      "              total_area  living_area  kitchen_area     rooms  last_price\n",
      "total_area      1.000000     0.930096      0.604966  0.789554    0.764288\n",
      "living_area     0.930096     1.000000      0.383169  0.863114    0.658519\n",
      "kitchen_area    0.604966     0.383169      1.000000  0.255273    0.605828\n",
      "rooms           0.789554     0.863114      0.255273  1.000000    0.467851\n",
      "last_price      0.764288     0.658519      0.605828  0.467851    1.000000\n"
     ]
    }
   ],
   "source": [
    "matr_data = data[['total_area','living_area','kitchen_area','rooms','last_price']]\n",
    "print(matr_data.corr())"
   ]
  },
  {
   "cell_type": "markdown",
   "metadata": {},
   "source": [
    "### Средняя цена площади в 10 наиболее популярных населенных пунктах"
   ]
  },
  {
   "cell_type": "code",
   "execution_count": 32,
   "metadata": {},
   "outputs": [
    {
     "name": "stdout",
     "output_type": "stream",
     "text": [
      "                    per_metr_x  per_metr_y\n",
      "locality_name                             \n",
      "санкт-петербург  112261.449398       15454\n",
      "\n",
      "                 per_metr_x  per_metr_y\n",
      "locality_name                          \n",
      "выборг         58141.919831         237\n"
     ]
    }
   ],
   "source": [
    "list_friq = data.groupby('locality_name')['per_metr'].count().sort_values(ascending=False) #список 10 самых частых обьявлений\n",
    "list_per_metr = data.groupby('locality_name')['per_metr'].mean() # средняя цена за метр в населенном пункте\n",
    "result = pd.merge(list_per_metr,list_friq, on='locality_name').sort_values('per_metr_y',ascending=False)\n",
    "print(result[0:1])\n",
    "print()\n",
    "print(result[9:10])"
   ]
  },
  {
   "cell_type": "markdown",
   "metadata": {},
   "source": [
    "Самое большое количество объявлений представлено в Санкт-Петербурге - 15721 объявления. Средняя цена квадратного метра - около 115 тыс.руб. за 1 кв.м. Замыкает десятку самых популярных объявлений Выборг, где цена квадратного метра примерно 58 тыс. за кв.м. "
   ]
  },
  {
   "cell_type": "markdown",
   "metadata": {},
   "source": [
    "### Зависимость средней цены за квадратный метр от отдаленности"
   ]
  },
  {
   "cell_type": "code",
   "execution_count": 33,
   "metadata": {},
   "outputs": [
    {
     "data": {
      "image/png": "[encoded data removed]",
      "text/plain": [
       "<Figure size 864x360 with 1 Axes>"
      ]
     },
     "metadata": {
      "needs_background": "light"
     },
     "output_type": "display_data"
    }
   ],
   "source": [
    "st_piter = data\\\n",
    ".query('(locality_name==\"санкт-петербург\") and (cityCenters_nearest>=0)')\\\n",
    ".pivot_table(index='cityCenters_nearest', values='per_metr')\\\n",
    ".plot(figsize=(12, 5))"
   ]
  },
  {
   "cell_type": "markdown",
   "metadata": {},
   "source": [
    "С увеличением отдаления от центра прослеживается нелинейная тенденция к снижению стоимости квадратного метра. Незначительные отклонения от нисходящего тренда наблюдаются в районе 7 км и 27 км от центра. "
   ]
  },
  {
   "cell_type": "markdown",
   "metadata": {},
   "source": [
    "## Общий вывод"
   ]
  },
  {
   "cell_type": "markdown",
   "metadata": {},
   "source": [
    "Для анализа информации был получен датафрейм с информацией о сделках с недвижимостью в г.Санкт-Петербург и его окраинах. При просмотре данных было обнаружено отсутствие значений в ряде столбцов. В рамках подготовки к анализу были приведены работы по заполнению отсутствующих полей расчетными и медианными значениями. Типы данных приведены к соответствию. Из датафрейма исключены предложения с ценой более 50млн.рублей, площадью более 200 кв.м. и количеством комнат более 7. После исключения обьем информации снизился на 1.2%, что не оказывает влияния на общий результат. Для повышения качества данных необходимо внести шаблон с выпадающим списком для ввода населенного пункта, а также настроить корректное вычисление расстояния до парков и водоемов. \n",
    "\n",
    "\n",
    "   Основная масса предложений имеет жилую площадь до 60кв.м. В диапазоне от 60 до 170 кв.м. представлено мало предложений.\n",
    "Количество предложений одно- и двухкомантных квартир одинаково. Немного меньше предложений трехкомнтаных квартир. Большиство квартир имеют потолки 2.5-2.8 метра. Намного реже встречаются квартиры с потолками высотой 3м. Самое большое предложение квартир располагается в диапазоне от 12 до 16 км. от центра, что связано с застройкой окраин города. Дальше 18 км. резко сокращается количество предложений. При рассмотрении цены за 1 кв.м. прослеживается нелинейная тенденция к снижению стоимости квадратного метра с увеличением отдаления от центра. Незначительные аномалии от нисходящего тренда наблюдаются в районе 7 км и 27 км от центра. Стоимость квартиры коррелирует с площадью квартиры, а также с производными общей площади: жилой площадью, площадью кухни. При покупке квартиры в г.Санкт-Петербург следует оринтироваться на медианное значение в 112 тыс.руб. за квадратный метр. Десятку самых распространенных объявлений занимает г.Выборг с ценой 58 тыс. руб. за квадратный метр. Средняя стоимость жилья снижалась с 2014 года, немного поднявшись лишь в 2019 году. \n",
    "\n",
    "При анализе объявлений выявлено, что наименее активно размещают объявления в январе и мае, а чаще всего в феврале, марте, апреле и ноябре. Средняя цена предложения нестабильна в течение года. Пики средней цены приходятся на ноябрь, февраль. В остальные месяцы наблюдаются пики низкой цены. Самые дешевые предложения выставлялись в СБ и ВС. Самые дорогие в ЧТ. Большая часть объявлений снималась с размещения по истечении полугода, при этом в первые месяцы была наибольшая доля продаж. Среднее арифмитическое значение продажи равно 180 дням, а медианное 95 дням. Быстрой продажей можно назвать срок до 200 дней, а все что дольше - долгой. Выявлены пики закрытия обьявлений спустя 40 и 60 дней с момента начала продажи. "
   ]
  }
 ],
 "metadata": {
  "ExecuteTimeLog": [
   {
    "duration": 62,
    "start_time": "2022-10-26T07:13:10.612Z"
   },
   {
    "duration": 39,
    "start_time": "2022-10-26T07:13:17.280Z"
   },
   {
    "duration": 655,
    "start_time": "2022-10-26T07:13:30.670Z"
   },
   {
    "duration": 83,
    "start_time": "2022-10-26T07:13:53.471Z"
   },
   {
    "duration": 933,
    "start_time": "2022-10-26T07:15:25.813Z"
   },
   {
    "duration": 94,
    "start_time": "2022-10-26T07:16:15.743Z"
   },
   {
    "duration": 11,
    "start_time": "2022-10-26T07:46:54.609Z"
   },
   {
    "duration": 8,
    "start_time": "2022-10-26T07:47:05.006Z"
   },
   {
    "duration": 3,
    "start_time": "2022-10-26T07:47:19.213Z"
   },
   {
    "duration": 4,
    "start_time": "2022-10-26T07:47:22.556Z"
   },
   {
    "duration": 6,
    "start_time": "2022-10-26T07:48:26.044Z"
   },
   {
    "duration": 4,
    "start_time": "2022-10-26T07:48:49.452Z"
   },
   {
    "duration": 4,
    "start_time": "2022-10-26T07:48:58.391Z"
   },
   {
    "duration": 3,
    "start_time": "2022-10-26T07:49:46.448Z"
   },
   {
    "duration": 3,
    "start_time": "2022-10-26T07:50:02.464Z"
   },
   {
    "duration": 6,
    "start_time": "2022-10-26T07:50:29.374Z"
   },
   {
    "duration": 5,
    "start_time": "2022-10-26T07:50:42.052Z"
   },
   {
    "duration": 6,
    "start_time": "2022-10-26T07:51:38.944Z"
   },
   {
    "duration": 9,
    "start_time": "2022-10-26T07:52:51.561Z"
   },
   {
    "duration": 7,
    "start_time": "2022-10-26T07:53:01.552Z"
   },
   {
    "duration": 50,
    "start_time": "2022-10-26T07:55:23.548Z"
   },
   {
    "duration": 3,
    "start_time": "2022-10-26T07:55:30.888Z"
   },
   {
    "duration": 459,
    "start_time": "2022-10-26T07:55:40.100Z"
   },
   {
    "duration": 14,
    "start_time": "2022-10-26T07:55:51.075Z"
   },
   {
    "duration": 3,
    "start_time": "2022-10-26T07:56:04.669Z"
   },
   {
    "duration": 399,
    "start_time": "2022-10-26T07:56:08.752Z"
   },
   {
    "duration": 3,
    "start_time": "2022-10-26T07:56:18.252Z"
   },
   {
    "duration": 977,
    "start_time": "2022-10-26T08:05:01.208Z"
   },
   {
    "duration": 6,
    "start_time": "2022-10-26T08:05:13.180Z"
   },
   {
    "duration": 6,
    "start_time": "2022-10-26T08:06:14.744Z"
   },
   {
    "duration": 7,
    "start_time": "2022-10-26T08:06:18.740Z"
   },
   {
    "duration": 4,
    "start_time": "2022-10-26T08:06:51.251Z"
   },
   {
    "duration": 7,
    "start_time": "2022-10-26T08:09:22.859Z"
   },
   {
    "duration": 90,
    "start_time": "2022-10-26T08:10:58.511Z"
   },
   {
    "duration": 429,
    "start_time": "2022-10-26T08:11:21.348Z"
   },
   {
    "duration": 7,
    "start_time": "2022-10-26T08:11:21.778Z"
   },
   {
    "duration": 2063,
    "start_time": "2022-10-26T08:12:47.848Z"
   },
   {
    "duration": 93,
    "start_time": "2022-10-26T08:13:26.903Z"
   },
   {
    "duration": 10,
    "start_time": "2022-10-26T08:26:45.462Z"
   },
   {
    "duration": 11,
    "start_time": "2022-10-26T08:28:15.894Z"
   },
   {
    "duration": 45,
    "start_time": "2022-10-26T08:29:09.587Z"
   },
   {
    "duration": 415,
    "start_time": "2022-10-26T08:29:13.560Z"
   },
   {
    "duration": 5,
    "start_time": "2022-10-26T08:29:22.652Z"
   },
   {
    "duration": 10,
    "start_time": "2022-10-26T08:31:27.972Z"
   },
   {
    "duration": 10,
    "start_time": "2022-10-26T08:31:37.399Z"
   },
   {
    "duration": 9,
    "start_time": "2022-10-26T08:32:05.239Z"
   },
   {
    "duration": 17,
    "start_time": "2022-10-26T08:32:31.947Z"
   },
   {
    "duration": 17,
    "start_time": "2022-10-26T08:32:35.647Z"
   },
   {
    "duration": 22,
    "start_time": "2022-10-26T08:37:26.547Z"
   },
   {
    "duration": 10,
    "start_time": "2022-10-26T08:37:36.446Z"
   },
   {
    "duration": 7,
    "start_time": "2022-10-26T08:37:57.487Z"
   },
   {
    "duration": 7,
    "start_time": "2022-10-26T08:38:02.547Z"
   },
   {
    "duration": 9,
    "start_time": "2022-10-26T08:38:05.951Z"
   },
   {
    "duration": 10,
    "start_time": "2022-10-26T08:38:26.295Z"
   },
   {
    "duration": 10,
    "start_time": "2022-10-26T08:56:02.750Z"
   },
   {
    "duration": 9,
    "start_time": "2022-10-26T08:59:55.808Z"
   },
   {
    "duration": 95,
    "start_time": "2022-10-26T09:01:02.043Z"
   },
   {
    "duration": 97,
    "start_time": "2022-10-26T09:27:05.133Z"
   },
   {
    "duration": 6,
    "start_time": "2022-10-26T09:58:16.891Z"
   },
   {
    "duration": 8,
    "start_time": "2022-10-26T09:58:43.601Z"
   },
   {
    "duration": 8,
    "start_time": "2022-10-26T09:59:15.350Z"
   },
   {
    "duration": 17,
    "start_time": "2022-10-26T09:59:24.242Z"
   },
   {
    "duration": 6,
    "start_time": "2022-10-26T10:00:15.560Z"
   },
   {
    "duration": 13,
    "start_time": "2022-10-26T10:17:33.533Z"
   },
   {
    "duration": 8,
    "start_time": "2022-10-26T12:28:28.155Z"
   },
   {
    "duration": 18,
    "start_time": "2022-10-26T12:29:13.436Z"
   },
   {
    "duration": 16,
    "start_time": "2022-10-26T12:29:43.368Z"
   },
   {
    "duration": 15,
    "start_time": "2022-10-26T12:29:49.175Z"
   },
   {
    "duration": 10,
    "start_time": "2022-10-26T12:29:54.969Z"
   },
   {
    "duration": 106,
    "start_time": "2022-10-26T12:33:01.041Z"
   },
   {
    "duration": 105,
    "start_time": "2022-10-26T12:33:25.483Z"
   },
   {
    "duration": 1720,
    "start_time": "2022-10-26T12:33:25.590Z"
   },
   {
    "duration": 47,
    "start_time": "2022-10-26T12:33:27.312Z"
   },
   {
    "duration": 0,
    "start_time": "2022-10-26T12:33:27.361Z"
   },
   {
    "duration": 0,
    "start_time": "2022-10-26T12:33:27.363Z"
   },
   {
    "duration": 0,
    "start_time": "2022-10-26T12:33:27.366Z"
   },
   {
    "duration": 0,
    "start_time": "2022-10-26T12:33:27.367Z"
   },
   {
    "duration": 16,
    "start_time": "2022-10-26T12:33:40.139Z"
   },
   {
    "duration": 12,
    "start_time": "2022-10-26T12:33:49.633Z"
   },
   {
    "duration": 17,
    "start_time": "2022-10-26T12:35:48.545Z"
   },
   {
    "duration": 99,
    "start_time": "2022-10-26T12:35:52.616Z"
   },
   {
    "duration": 17,
    "start_time": "2022-10-26T12:36:04.488Z"
   },
   {
    "duration": 6,
    "start_time": "2022-10-26T12:41:27.061Z"
   },
   {
    "duration": 10,
    "start_time": "2022-10-26T12:42:05.102Z"
   },
   {
    "duration": 9,
    "start_time": "2022-10-26T12:42:09.585Z"
   },
   {
    "duration": 9,
    "start_time": "2022-10-26T12:42:27.903Z"
   },
   {
    "duration": 6,
    "start_time": "2022-10-26T12:42:38.299Z"
   },
   {
    "duration": 4,
    "start_time": "2022-10-26T12:43:29.670Z"
   },
   {
    "duration": 10,
    "start_time": "2022-10-26T12:43:35.729Z"
   },
   {
    "duration": 10,
    "start_time": "2022-10-26T12:43:57.153Z"
   },
   {
    "duration": 10,
    "start_time": "2022-10-26T12:44:32.957Z"
   },
   {
    "duration": 12,
    "start_time": "2022-10-26T12:44:58.548Z"
   },
   {
    "duration": 6,
    "start_time": "2022-10-26T12:45:10.391Z"
   },
   {
    "duration": 10,
    "start_time": "2022-10-26T12:46:24.681Z"
   },
   {
    "duration": 55,
    "start_time": "2022-10-26T12:46:44.562Z"
   },
   {
    "duration": 6,
    "start_time": "2022-10-26T12:46:47.516Z"
   },
   {
    "duration": 18,
    "start_time": "2022-10-26T12:47:10.051Z"
   },
   {
    "duration": 14,
    "start_time": "2022-10-26T12:47:19.635Z"
   },
   {
    "duration": 19,
    "start_time": "2022-10-26T12:49:23.911Z"
   },
   {
    "duration": 42,
    "start_time": "2022-10-26T12:58:40.480Z"
   },
   {
    "duration": 34,
    "start_time": "2022-10-26T12:58:55.340Z"
   },
   {
    "duration": 29,
    "start_time": "2022-10-26T12:59:11.097Z"
   },
   {
    "duration": 33,
    "start_time": "2022-10-26T13:02:05.330Z"
   },
   {
    "duration": 29,
    "start_time": "2022-10-26T13:02:17.889Z"
   },
   {
    "duration": 19,
    "start_time": "2022-10-26T13:02:37.792Z"
   },
   {
    "duration": 18,
    "start_time": "2022-10-26T13:02:44.829Z"
   },
   {
    "duration": 17,
    "start_time": "2022-10-26T13:03:18.054Z"
   },
   {
    "duration": 31,
    "start_time": "2022-10-26T13:05:02.026Z"
   },
   {
    "duration": 53,
    "start_time": "2022-10-26T13:05:22.717Z"
   },
   {
    "duration": 5,
    "start_time": "2022-10-26T13:05:58.121Z"
   },
   {
    "duration": 403,
    "start_time": "2022-10-26T13:06:05.653Z"
   },
   {
    "duration": 44,
    "start_time": "2022-10-26T13:08:18.380Z"
   },
   {
    "duration": 34,
    "start_time": "2022-10-26T13:09:12.230Z"
   },
   {
    "duration": 28,
    "start_time": "2022-10-26T13:09:19.345Z"
   },
   {
    "duration": 27,
    "start_time": "2022-10-26T13:09:43.104Z"
   },
   {
    "duration": 839,
    "start_time": "2022-10-26T13:09:48.491Z"
   },
   {
    "duration": 42,
    "start_time": "2022-10-26T13:10:04.585Z"
   },
   {
    "duration": 45,
    "start_time": "2022-10-26T13:10:09.220Z"
   },
   {
    "duration": 61,
    "start_time": "2022-10-26T13:12:26.879Z"
   },
   {
    "duration": 38,
    "start_time": "2022-10-26T13:12:31.903Z"
   },
   {
    "duration": 28,
    "start_time": "2022-10-26T13:12:34.826Z"
   },
   {
    "duration": 29,
    "start_time": "2022-10-26T13:13:49.917Z"
   },
   {
    "duration": 30,
    "start_time": "2022-10-26T13:14:56.752Z"
   },
   {
    "duration": 34,
    "start_time": "2022-10-26T13:15:00.550Z"
   },
   {
    "duration": 26,
    "start_time": "2022-10-26T13:15:16.353Z"
   },
   {
    "duration": 51,
    "start_time": "2022-10-26T13:15:46.675Z"
   },
   {
    "duration": 28,
    "start_time": "2022-10-26T13:15:49.667Z"
   },
   {
    "duration": 28,
    "start_time": "2022-10-26T13:15:54.337Z"
   },
   {
    "duration": 36,
    "start_time": "2022-10-26T13:16:33.420Z"
   },
   {
    "duration": 19,
    "start_time": "2022-10-26T13:17:46.556Z"
   },
   {
    "duration": 19,
    "start_time": "2022-10-26T13:18:03.583Z"
   },
   {
    "duration": 17,
    "start_time": "2022-10-26T13:18:08.649Z"
   },
   {
    "duration": 17,
    "start_time": "2022-10-26T13:18:17.966Z"
   },
   {
    "duration": 51,
    "start_time": "2022-10-26T13:18:24.493Z"
   },
   {
    "duration": 42,
    "start_time": "2022-10-26T13:18:28.868Z"
   },
   {
    "duration": 31,
    "start_time": "2022-10-26T13:18:37.542Z"
   },
   {
    "duration": 30,
    "start_time": "2022-10-26T13:18:47.182Z"
   },
   {
    "duration": 30,
    "start_time": "2022-10-26T13:19:20.986Z"
   },
   {
    "duration": 875,
    "start_time": "2022-10-26T14:27:24.132Z"
   },
   {
    "duration": 25,
    "start_time": "2022-10-26T14:27:35.828Z"
   },
   {
    "duration": 31,
    "start_time": "2022-10-26T14:27:47.412Z"
   },
   {
    "duration": 25,
    "start_time": "2022-10-26T14:28:00.254Z"
   },
   {
    "duration": 26,
    "start_time": "2022-10-26T14:28:11.861Z"
   },
   {
    "duration": 26,
    "start_time": "2022-10-26T14:28:19.092Z"
   },
   {
    "duration": 33,
    "start_time": "2022-10-26T14:28:50.759Z"
   },
   {
    "duration": 26,
    "start_time": "2022-10-26T14:29:11.256Z"
   },
   {
    "duration": 27,
    "start_time": "2022-10-26T14:29:14.604Z"
   },
   {
    "duration": 27,
    "start_time": "2022-10-26T14:29:32.392Z"
   },
   {
    "duration": 31,
    "start_time": "2022-10-26T14:29:40.680Z"
   },
   {
    "duration": 31,
    "start_time": "2022-10-26T14:29:49.436Z"
   },
   {
    "duration": 28,
    "start_time": "2022-10-26T14:29:57.527Z"
   },
   {
    "duration": 42,
    "start_time": "2022-10-26T14:30:08.656Z"
   },
   {
    "duration": 24,
    "start_time": "2022-10-26T14:30:12.399Z"
   },
   {
    "duration": 23,
    "start_time": "2022-10-26T14:30:26.730Z"
   },
   {
    "duration": 23,
    "start_time": "2022-10-26T14:30:34.834Z"
   },
   {
    "duration": 35,
    "start_time": "2022-10-26T14:31:04.372Z"
   },
   {
    "duration": 24,
    "start_time": "2022-10-26T14:31:39.977Z"
   },
   {
    "duration": 23,
    "start_time": "2022-10-26T14:32:03.027Z"
   },
   {
    "duration": 23,
    "start_time": "2022-10-26T14:32:07.803Z"
   },
   {
    "duration": 5,
    "start_time": "2022-10-26T14:32:30.688Z"
   },
   {
    "duration": 33,
    "start_time": "2022-10-26T14:32:35.194Z"
   },
   {
    "duration": 24,
    "start_time": "2022-10-26T14:32:39.851Z"
   },
   {
    "duration": 23,
    "start_time": "2022-10-26T14:32:49.286Z"
   },
   {
    "duration": 25,
    "start_time": "2022-10-26T14:34:33.271Z"
   },
   {
    "duration": 34,
    "start_time": "2022-10-26T14:34:44.536Z"
   },
   {
    "duration": 30,
    "start_time": "2022-10-26T14:35:14.413Z"
   },
   {
    "duration": 26,
    "start_time": "2022-10-26T14:40:11.041Z"
   },
   {
    "duration": 10,
    "start_time": "2022-10-26T14:41:58.966Z"
   },
   {
    "duration": 9,
    "start_time": "2022-10-26T14:42:16.526Z"
   },
   {
    "duration": 4,
    "start_time": "2022-10-26T14:45:10.775Z"
   },
   {
    "duration": 7,
    "start_time": "2022-10-26T14:46:02.648Z"
   },
   {
    "duration": 26,
    "start_time": "2022-10-26T14:46:59.740Z"
   },
   {
    "duration": 18,
    "start_time": "2022-10-26T14:47:43.611Z"
   },
   {
    "duration": 23,
    "start_time": "2022-10-26T14:48:37.762Z"
   },
   {
    "duration": 27,
    "start_time": "2022-10-26T14:48:43.173Z"
   },
   {
    "duration": 24,
    "start_time": "2022-10-26T14:49:04.287Z"
   },
   {
    "duration": 27,
    "start_time": "2022-10-26T14:49:08.122Z"
   },
   {
    "duration": 19,
    "start_time": "2022-10-26T14:52:16.447Z"
   },
   {
    "duration": 30,
    "start_time": "2022-10-26T14:52:28.273Z"
   },
   {
    "duration": 21,
    "start_time": "2022-10-26T14:52:48.319Z"
   },
   {
    "duration": 66,
    "start_time": "2022-10-26T14:53:44.540Z"
   },
   {
    "duration": 20,
    "start_time": "2022-10-26T14:53:47.804Z"
   },
   {
    "duration": 24,
    "start_time": "2022-10-26T14:53:57.126Z"
   },
   {
    "duration": 42,
    "start_time": "2022-10-26T14:54:17.234Z"
   },
   {
    "duration": 46,
    "start_time": "2022-10-26T14:54:23.490Z"
   },
   {
    "duration": 58,
    "start_time": "2022-10-26T14:54:28.026Z"
   },
   {
    "duration": 59,
    "start_time": "2022-10-26T14:54:42.107Z"
   },
   {
    "duration": 49,
    "start_time": "2022-10-26T14:55:18.639Z"
   },
   {
    "duration": 40,
    "start_time": "2022-10-26T14:55:41.217Z"
   },
   {
    "duration": 56,
    "start_time": "2022-10-26T14:57:01.389Z"
   },
   {
    "duration": 40,
    "start_time": "2022-10-26T14:57:05.060Z"
   },
   {
    "duration": 106,
    "start_time": "2022-10-26T14:58:51.492Z"
   },
   {
    "duration": 1783,
    "start_time": "2022-10-26T14:58:51.600Z"
   },
   {
    "duration": 49,
    "start_time": "2022-10-26T14:58:53.384Z"
   },
   {
    "duration": 0,
    "start_time": "2022-10-26T14:58:53.435Z"
   },
   {
    "duration": 0,
    "start_time": "2022-10-26T14:58:53.436Z"
   },
   {
    "duration": 0,
    "start_time": "2022-10-26T14:58:53.437Z"
   },
   {
    "duration": 0,
    "start_time": "2022-10-26T14:58:53.438Z"
   },
   {
    "duration": 1781,
    "start_time": "2022-10-26T14:59:06.936Z"
   },
   {
    "duration": 45,
    "start_time": "2022-10-26T14:59:23.744Z"
   },
   {
    "duration": 51,
    "start_time": "2022-10-26T15:00:16.841Z"
   },
   {
    "duration": 41,
    "start_time": "2022-10-26T15:00:51.483Z"
   },
   {
    "duration": 100,
    "start_time": "2022-10-26T15:01:09.370Z"
   },
   {
    "duration": 1660,
    "start_time": "2022-10-26T15:01:09.472Z"
   },
   {
    "duration": 118,
    "start_time": "2022-10-26T15:01:11.134Z"
   },
   {
    "duration": 0,
    "start_time": "2022-10-26T15:01:11.254Z"
   },
   {
    "duration": 0,
    "start_time": "2022-10-26T15:01:11.256Z"
   },
   {
    "duration": 0,
    "start_time": "2022-10-26T15:01:11.257Z"
   },
   {
    "duration": 39,
    "start_time": "2022-10-26T15:01:17.313Z"
   },
   {
    "duration": 51,
    "start_time": "2022-10-26T15:03:21.876Z"
   },
   {
    "duration": 54,
    "start_time": "2022-10-26T15:04:29.340Z"
   },
   {
    "duration": 13,
    "start_time": "2022-10-26T15:04:34.940Z"
   },
   {
    "duration": 11,
    "start_time": "2022-10-26T15:04:38.433Z"
   },
   {
    "duration": 10,
    "start_time": "2022-10-26T15:04:53.839Z"
   },
   {
    "duration": 11,
    "start_time": "2022-10-26T15:05:01.053Z"
   },
   {
    "duration": 93,
    "start_time": "2022-10-26T15:05:22.746Z"
   },
   {
    "duration": 1916,
    "start_time": "2022-10-26T15:05:22.842Z"
   },
   {
    "duration": 45,
    "start_time": "2022-10-26T15:05:24.760Z"
   },
   {
    "duration": 0,
    "start_time": "2022-10-26T15:05:24.806Z"
   },
   {
    "duration": 0,
    "start_time": "2022-10-26T15:05:24.808Z"
   },
   {
    "duration": 0,
    "start_time": "2022-10-26T15:05:24.809Z"
   },
   {
    "duration": 49,
    "start_time": "2022-10-26T15:05:27.852Z"
   },
   {
    "duration": 51,
    "start_time": "2022-10-26T15:05:37.531Z"
   },
   {
    "duration": 44,
    "start_time": "2022-10-26T15:06:44.925Z"
   },
   {
    "duration": 45,
    "start_time": "2022-10-26T15:07:06.826Z"
   },
   {
    "duration": 45,
    "start_time": "2022-10-26T15:09:01.358Z"
   },
   {
    "duration": 452,
    "start_time": "2022-10-26T15:09:28.537Z"
   },
   {
    "duration": 2008,
    "start_time": "2022-10-26T15:09:28.991Z"
   },
   {
    "duration": 53,
    "start_time": "2022-10-26T15:09:31.001Z"
   },
   {
    "duration": 0,
    "start_time": "2022-10-26T15:09:31.056Z"
   },
   {
    "duration": 0,
    "start_time": "2022-10-26T15:09:31.058Z"
   },
   {
    "duration": 0,
    "start_time": "2022-10-26T15:09:31.059Z"
   },
   {
    "duration": 104,
    "start_time": "2022-10-26T15:09:40.626Z"
   },
   {
    "duration": 49,
    "start_time": "2022-10-26T15:10:07.842Z"
   },
   {
    "duration": 64,
    "start_time": "2022-10-26T15:10:45.335Z"
   },
   {
    "duration": 68,
    "start_time": "2022-10-26T16:49:13.993Z"
   },
   {
    "duration": 42,
    "start_time": "2022-10-26T16:49:27.147Z"
   },
   {
    "duration": 7,
    "start_time": "2022-10-26T17:57:03.896Z"
   },
   {
    "duration": 7,
    "start_time": "2022-10-26T17:57:42.295Z"
   },
   {
    "duration": 738,
    "start_time": "2022-10-26T17:57:53.347Z"
   },
   {
    "duration": 2162,
    "start_time": "2022-10-26T17:57:54.087Z"
   },
   {
    "duration": 46,
    "start_time": "2022-10-26T17:57:56.251Z"
   },
   {
    "duration": 0,
    "start_time": "2022-10-26T17:57:56.299Z"
   },
   {
    "duration": 0,
    "start_time": "2022-10-26T17:57:56.301Z"
   },
   {
    "duration": 0,
    "start_time": "2022-10-26T17:57:56.303Z"
   },
   {
    "duration": 129,
    "start_time": "2022-10-26T17:58:12.362Z"
   },
   {
    "duration": 64,
    "start_time": "2022-10-26T17:58:34.049Z"
   },
   {
    "duration": 76,
    "start_time": "2022-10-26T17:59:11.098Z"
   },
   {
    "duration": 76,
    "start_time": "2022-10-26T18:00:10.339Z"
   },
   {
    "duration": 75,
    "start_time": "2022-10-26T18:00:22.018Z"
   },
   {
    "duration": 81,
    "start_time": "2022-10-26T18:00:51.253Z"
   },
   {
    "duration": 73,
    "start_time": "2022-10-26T18:01:09.995Z"
   },
   {
    "duration": 73,
    "start_time": "2022-10-26T18:01:45.996Z"
   },
   {
    "duration": 87,
    "start_time": "2022-10-26T18:02:14.868Z"
   },
   {
    "duration": 78,
    "start_time": "2022-10-26T18:02:20.002Z"
   },
   {
    "duration": 75,
    "start_time": "2022-10-26T18:03:38.199Z"
   },
   {
    "duration": 48,
    "start_time": "2022-10-26T18:03:47.569Z"
   },
   {
    "duration": 54,
    "start_time": "2022-10-27T03:57:47.200Z"
   },
   {
    "duration": 704,
    "start_time": "2022-10-27T03:57:55.655Z"
   },
   {
    "duration": 2331,
    "start_time": "2022-10-27T03:57:56.361Z"
   },
   {
    "duration": 40,
    "start_time": "2022-10-27T03:57:58.693Z"
   },
   {
    "duration": 0,
    "start_time": "2022-10-27T03:57:58.735Z"
   },
   {
    "duration": 0,
    "start_time": "2022-10-27T03:57:58.736Z"
   },
   {
    "duration": 0,
    "start_time": "2022-10-27T03:57:58.737Z"
   },
   {
    "duration": 56,
    "start_time": "2022-10-27T03:58:11.707Z"
   },
   {
    "duration": 83,
    "start_time": "2022-10-27T03:59:52.032Z"
   },
   {
    "duration": 86,
    "start_time": "2022-10-27T04:02:17.132Z"
   },
   {
    "duration": 54,
    "start_time": "2022-10-27T04:02:31.819Z"
   },
   {
    "duration": 54,
    "start_time": "2022-10-27T04:02:35.740Z"
   },
   {
    "duration": 68,
    "start_time": "2022-10-27T04:04:04.601Z"
   },
   {
    "duration": 76,
    "start_time": "2022-10-27T04:04:11.690Z"
   },
   {
    "duration": 113,
    "start_time": "2022-10-27T04:06:42.781Z"
   },
   {
    "duration": 58,
    "start_time": "2022-10-27T04:06:47.734Z"
   },
   {
    "duration": 49,
    "start_time": "2022-10-27T04:07:13.145Z"
   },
   {
    "duration": 74,
    "start_time": "2022-10-27T04:07:33.510Z"
   },
   {
    "duration": 47,
    "start_time": "2022-10-27T04:07:37.448Z"
   },
   {
    "duration": 53,
    "start_time": "2022-10-27T04:07:48.689Z"
   },
   {
    "duration": 52,
    "start_time": "2022-10-27T04:07:56.210Z"
   },
   {
    "duration": 57,
    "start_time": "2022-10-27T04:08:07.367Z"
   },
   {
    "duration": 53,
    "start_time": "2022-10-27T04:08:35.655Z"
   },
   {
    "duration": 74,
    "start_time": "2022-10-27T04:09:07.158Z"
   },
   {
    "duration": 53,
    "start_time": "2022-10-27T04:09:23.147Z"
   },
   {
    "duration": 113,
    "start_time": "2022-10-27T04:09:33.771Z"
   },
   {
    "duration": 2050,
    "start_time": "2022-10-27T04:09:33.886Z"
   },
   {
    "duration": 17,
    "start_time": "2022-10-27T04:09:35.938Z"
   },
   {
    "duration": 13,
    "start_time": "2022-10-27T04:09:35.957Z"
   },
   {
    "duration": 78,
    "start_time": "2022-10-27T04:09:37.244Z"
   },
   {
    "duration": 56,
    "start_time": "2022-10-27T04:09:49.847Z"
   },
   {
    "duration": 58,
    "start_time": "2022-10-27T04:09:56.830Z"
   },
   {
    "duration": 58,
    "start_time": "2022-10-27T04:09:59.913Z"
   },
   {
    "duration": 27,
    "start_time": "2022-10-27T04:10:31.833Z"
   },
   {
    "duration": 50,
    "start_time": "2022-10-27T04:11:02.931Z"
   },
   {
    "duration": 53,
    "start_time": "2022-10-27T04:11:36.645Z"
   },
   {
    "duration": 51,
    "start_time": "2022-10-27T04:12:14.488Z"
   },
   {
    "duration": 76,
    "start_time": "2022-10-27T04:13:07.426Z"
   },
   {
    "duration": 90,
    "start_time": "2022-10-27T04:13:44.482Z"
   },
   {
    "duration": 113,
    "start_time": "2022-10-27T04:13:50.312Z"
   },
   {
    "duration": 1847,
    "start_time": "2022-10-27T04:13:50.428Z"
   },
   {
    "duration": 11,
    "start_time": "2022-10-27T04:13:52.278Z"
   },
   {
    "duration": 16,
    "start_time": "2022-10-27T04:13:52.290Z"
   },
   {
    "duration": 113,
    "start_time": "2022-10-27T04:13:52.307Z"
   },
   {
    "duration": 109,
    "start_time": "2022-10-27T04:14:55.051Z"
   },
   {
    "duration": 99,
    "start_time": "2022-10-27T04:15:20.984Z"
   },
   {
    "duration": 109,
    "start_time": "2022-10-27T04:15:44.334Z"
   },
   {
    "duration": 266,
    "start_time": "2022-10-27T04:16:05.011Z"
   },
   {
    "duration": 243,
    "start_time": "2022-10-27T04:16:11.764Z"
   },
   {
    "duration": 265,
    "start_time": "2022-10-27T04:16:47.602Z"
   },
   {
    "duration": 250,
    "start_time": "2022-10-27T04:16:52.598Z"
   },
   {
    "duration": 247,
    "start_time": "2022-10-27T04:16:56.700Z"
   },
   {
    "duration": 245,
    "start_time": "2022-10-27T04:17:34.597Z"
   },
   {
    "duration": 240,
    "start_time": "2022-10-27T04:18:22.864Z"
   },
   {
    "duration": 283,
    "start_time": "2022-10-27T04:19:00.237Z"
   },
   {
    "duration": 257,
    "start_time": "2022-10-27T04:20:11.876Z"
   },
   {
    "duration": 53,
    "start_time": "2022-10-27T04:23:59.640Z"
   },
   {
    "duration": 52,
    "start_time": "2022-10-27T04:24:08.399Z"
   },
   {
    "duration": 136,
    "start_time": "2022-10-27T04:26:30.792Z"
   },
   {
    "duration": 5,
    "start_time": "2022-10-27T04:26:39.760Z"
   },
   {
    "duration": 5,
    "start_time": "2022-10-27T04:27:14.817Z"
   },
   {
    "duration": 131,
    "start_time": "2022-10-27T04:27:29.574Z"
   },
   {
    "duration": 189,
    "start_time": "2022-10-27T04:27:40.557Z"
   },
   {
    "duration": 9,
    "start_time": "2022-10-27T04:28:35.733Z"
   },
   {
    "duration": 183,
    "start_time": "2022-10-27T04:28:50.636Z"
   },
   {
    "duration": 154,
    "start_time": "2022-10-27T04:28:56.646Z"
   },
   {
    "duration": 166,
    "start_time": "2022-10-27T04:29:08.329Z"
   },
   {
    "duration": 166,
    "start_time": "2022-10-27T04:29:21.108Z"
   },
   {
    "duration": 199,
    "start_time": "2022-10-27T04:30:07.321Z"
   },
   {
    "duration": 154,
    "start_time": "2022-10-27T04:30:37.639Z"
   },
   {
    "duration": 305,
    "start_time": "2022-10-27T04:31:14.711Z"
   },
   {
    "duration": 184,
    "start_time": "2022-10-27T04:31:34.756Z"
   },
   {
    "duration": 159,
    "start_time": "2022-10-27T04:32:05.513Z"
   },
   {
    "duration": 193,
    "start_time": "2022-10-27T04:33:31.312Z"
   },
   {
    "duration": 232,
    "start_time": "2022-10-27T04:33:45.484Z"
   },
   {
    "duration": 222,
    "start_time": "2022-10-27T04:34:04.657Z"
   },
   {
    "duration": 243,
    "start_time": "2022-10-27T04:34:26.176Z"
   },
   {
    "duration": 229,
    "start_time": "2022-10-27T04:34:48.286Z"
   },
   {
    "duration": 185,
    "start_time": "2022-10-27T04:35:37.859Z"
   },
   {
    "duration": 216,
    "start_time": "2022-10-27T04:36:50.230Z"
   },
   {
    "duration": 212,
    "start_time": "2022-10-27T04:38:43.859Z"
   },
   {
    "duration": 49,
    "start_time": "2022-10-27T04:42:35.884Z"
   },
   {
    "duration": 438,
    "start_time": "2022-10-27T04:45:38.320Z"
   },
   {
    "duration": 193,
    "start_time": "2022-10-27T04:47:03.975Z"
   },
   {
    "duration": 200,
    "start_time": "2022-10-27T04:47:18.624Z"
   },
   {
    "duration": 120,
    "start_time": "2022-10-27T04:47:23.210Z"
   },
   {
    "duration": 1795,
    "start_time": "2022-10-27T04:47:23.331Z"
   },
   {
    "duration": 18,
    "start_time": "2022-10-27T04:47:25.128Z"
   },
   {
    "duration": 12,
    "start_time": "2022-10-27T04:47:25.147Z"
   },
   {
    "duration": 49,
    "start_time": "2022-10-27T04:47:25.160Z"
   },
   {
    "duration": 191,
    "start_time": "2022-10-27T04:47:25.654Z"
   },
   {
    "duration": 203,
    "start_time": "2022-10-27T04:47:54.606Z"
   },
   {
    "duration": 186,
    "start_time": "2022-10-27T04:50:47.712Z"
   },
   {
    "duration": 108,
    "start_time": "2022-10-27T04:50:54.904Z"
   },
   {
    "duration": 1809,
    "start_time": "2022-10-27T04:50:55.014Z"
   },
   {
    "duration": 17,
    "start_time": "2022-10-27T04:50:56.824Z"
   },
   {
    "duration": 10,
    "start_time": "2022-10-27T04:50:56.843Z"
   },
   {
    "duration": 48,
    "start_time": "2022-10-27T04:50:56.855Z"
   },
   {
    "duration": 421,
    "start_time": "2022-10-27T04:51:19.845Z"
   },
   {
    "duration": 14,
    "start_time": "2022-10-27T04:51:48.988Z"
   },
   {
    "duration": 13,
    "start_time": "2022-10-27T04:52:37.386Z"
   },
   {
    "duration": 42,
    "start_time": "2022-10-27T04:54:50.370Z"
   },
   {
    "duration": 201,
    "start_time": "2022-10-27T04:54:54.581Z"
   },
   {
    "duration": 170,
    "start_time": "2022-10-27T04:55:35.442Z"
   },
   {
    "duration": 200,
    "start_time": "2022-10-27T04:55:47.701Z"
   },
   {
    "duration": 186,
    "start_time": "2022-10-27T04:57:01.040Z"
   },
   {
    "duration": 159,
    "start_time": "2022-10-27T05:02:42.800Z"
   },
   {
    "duration": 111,
    "start_time": "2022-10-27T05:02:54.137Z"
   },
   {
    "duration": 1845,
    "start_time": "2022-10-27T05:02:54.250Z"
   },
   {
    "duration": 13,
    "start_time": "2022-10-27T05:02:56.097Z"
   },
   {
    "duration": 29,
    "start_time": "2022-10-27T05:02:56.112Z"
   },
   {
    "duration": 47,
    "start_time": "2022-10-27T05:02:56.142Z"
   },
   {
    "duration": 203,
    "start_time": "2022-10-27T05:02:58.418Z"
   },
   {
    "duration": 172,
    "start_time": "2022-10-27T05:03:08.003Z"
   },
   {
    "duration": 210,
    "start_time": "2022-10-27T05:12:37.452Z"
   },
   {
    "duration": 221,
    "start_time": "2022-10-27T05:12:45.537Z"
   },
   {
    "duration": 444,
    "start_time": "2022-10-27T05:13:11.125Z"
   },
   {
    "duration": 210,
    "start_time": "2022-10-27T05:15:38.472Z"
   },
   {
    "duration": 188,
    "start_time": "2022-10-27T05:15:46.336Z"
   },
   {
    "duration": 207,
    "start_time": "2022-10-27T05:16:38.059Z"
   },
   {
    "duration": 204,
    "start_time": "2022-10-27T05:23:55.103Z"
   },
   {
    "duration": 51,
    "start_time": "2022-10-27T05:24:06.786Z"
   },
   {
    "duration": 218,
    "start_time": "2022-10-27T05:24:10.474Z"
   },
   {
    "duration": 15,
    "start_time": "2022-10-27T05:25:57.439Z"
   },
   {
    "duration": 221,
    "start_time": "2022-10-27T05:26:16.947Z"
   },
   {
    "duration": 199,
    "start_time": "2022-10-27T05:27:44.454Z"
   },
   {
    "duration": 317,
    "start_time": "2022-10-27T05:27:58.069Z"
   },
   {
    "duration": 297,
    "start_time": "2022-10-27T05:28:21.997Z"
   },
   {
    "duration": 7,
    "start_time": "2022-10-27T05:32:45.389Z"
   },
   {
    "duration": 921,
    "start_time": "2022-10-27T06:07:10.081Z"
   },
   {
    "duration": 5,
    "start_time": "2022-10-27T06:07:31.537Z"
   },
   {
    "duration": 10,
    "start_time": "2022-10-27T06:17:06.627Z"
   },
   {
    "duration": 366,
    "start_time": "2022-10-27T06:17:56.099Z"
   },
   {
    "duration": 703,
    "start_time": "2022-10-27T06:18:12.689Z"
   },
   {
    "duration": 749,
    "start_time": "2022-10-27T06:18:24.626Z"
   },
   {
    "duration": 761,
    "start_time": "2022-10-27T06:18:44.152Z"
   },
   {
    "duration": 132,
    "start_time": "2022-10-27T06:18:47.377Z"
   },
   {
    "duration": 2032,
    "start_time": "2022-10-27T06:18:47.511Z"
   },
   {
    "duration": 13,
    "start_time": "2022-10-27T06:18:49.544Z"
   },
   {
    "duration": 28,
    "start_time": "2022-10-27T06:18:49.558Z"
   },
   {
    "duration": 72,
    "start_time": "2022-10-27T06:18:49.588Z"
   },
   {
    "duration": 7,
    "start_time": "2022-10-27T06:18:49.662Z"
   },
   {
    "duration": 0,
    "start_time": "2022-10-27T06:18:50.344Z"
   },
   {
    "duration": 746,
    "start_time": "2022-10-27T06:18:53.320Z"
   },
   {
    "duration": 9,
    "start_time": "2022-10-27T06:19:06.031Z"
   },
   {
    "duration": 9,
    "start_time": "2022-10-27T06:19:27.833Z"
   },
   {
    "duration": 8,
    "start_time": "2022-10-27T06:19:43.172Z"
   },
   {
    "duration": 44,
    "start_time": "2022-10-27T10:10:25.723Z"
   },
   {
    "duration": 583,
    "start_time": "2022-10-27T10:10:34.213Z"
   },
   {
    "duration": 2233,
    "start_time": "2022-10-27T10:10:34.798Z"
   },
   {
    "duration": 12,
    "start_time": "2022-10-27T10:10:37.033Z"
   },
   {
    "duration": 24,
    "start_time": "2022-10-27T10:10:37.046Z"
   },
   {
    "duration": 52,
    "start_time": "2022-10-27T10:10:37.071Z"
   },
   {
    "duration": 8,
    "start_time": "2022-10-27T10:10:37.124Z"
   },
   {
    "duration": 13,
    "start_time": "2022-10-27T10:10:40.729Z"
   },
   {
    "duration": 13,
    "start_time": "2022-10-27T10:11:02.312Z"
   },
   {
    "duration": 11,
    "start_time": "2022-10-27T10:11:07.999Z"
   },
   {
    "duration": 13,
    "start_time": "2022-10-27T10:11:30.222Z"
   },
   {
    "duration": 13,
    "start_time": "2022-10-27T10:11:36.255Z"
   },
   {
    "duration": 90,
    "start_time": "2022-10-27T10:16:15.778Z"
   },
   {
    "duration": 1204,
    "start_time": "2022-10-27T10:16:21.131Z"
   },
   {
    "duration": 1128,
    "start_time": "2022-10-27T10:16:30.132Z"
   },
   {
    "duration": 14,
    "start_time": "2022-10-27T10:16:41.501Z"
   },
   {
    "duration": 73,
    "start_time": "2022-10-27T10:21:22.858Z"
   },
   {
    "duration": 16,
    "start_time": "2022-10-27T10:42:27.463Z"
   },
   {
    "duration": 1148,
    "start_time": "2022-10-27T10:43:05.270Z"
   },
   {
    "duration": 17,
    "start_time": "2022-10-27T10:43:41.437Z"
   },
   {
    "duration": 18,
    "start_time": "2022-10-27T10:43:56.649Z"
   },
   {
    "duration": 105,
    "start_time": "2022-10-27T10:44:22.331Z"
   },
   {
    "duration": 1758,
    "start_time": "2022-10-27T10:44:22.438Z"
   },
   {
    "duration": 16,
    "start_time": "2022-10-27T10:44:24.197Z"
   },
   {
    "duration": 11,
    "start_time": "2022-10-27T10:44:24.214Z"
   },
   {
    "duration": 52,
    "start_time": "2022-10-27T10:44:24.226Z"
   },
   {
    "duration": 29,
    "start_time": "2022-10-27T10:44:24.279Z"
   },
   {
    "duration": 19,
    "start_time": "2022-10-27T10:44:24.309Z"
   },
   {
    "duration": 19,
    "start_time": "2022-10-27T10:44:27.952Z"
   },
   {
    "duration": 20,
    "start_time": "2022-10-27T10:45:14.725Z"
   },
   {
    "duration": 20,
    "start_time": "2022-10-27T10:45:26.919Z"
   },
   {
    "duration": 18,
    "start_time": "2022-10-27T10:57:01.333Z"
   },
   {
    "duration": 19,
    "start_time": "2022-10-27T10:57:13.070Z"
   },
   {
    "duration": 22,
    "start_time": "2022-10-27T10:57:22.241Z"
   },
   {
    "duration": 107,
    "start_time": "2022-10-27T10:57:28.259Z"
   },
   {
    "duration": 1803,
    "start_time": "2022-10-27T10:57:28.368Z"
   },
   {
    "duration": 11,
    "start_time": "2022-10-27T10:57:30.172Z"
   },
   {
    "duration": 25,
    "start_time": "2022-10-27T10:57:30.185Z"
   },
   {
    "duration": 48,
    "start_time": "2022-10-27T10:57:30.212Z"
   },
   {
    "duration": 8,
    "start_time": "2022-10-27T10:57:30.261Z"
   },
   {
    "duration": 20,
    "start_time": "2022-10-27T10:57:30.441Z"
   },
   {
    "duration": 19,
    "start_time": "2022-10-27T10:57:43.587Z"
   },
   {
    "duration": 22,
    "start_time": "2022-10-27T10:58:53.685Z"
   },
   {
    "duration": 18,
    "start_time": "2022-10-27T10:59:24.871Z"
   },
   {
    "duration": 10,
    "start_time": "2022-10-27T11:09:29.002Z"
   },
   {
    "duration": 8,
    "start_time": "2022-10-27T12:01:31.862Z"
   },
   {
    "duration": 11,
    "start_time": "2022-10-27T12:01:40.865Z"
   },
   {
    "duration": 10,
    "start_time": "2022-10-27T12:01:46.686Z"
   },
   {
    "duration": 7,
    "start_time": "2022-10-27T12:02:42.562Z"
   },
   {
    "duration": 11,
    "start_time": "2022-10-27T12:03:14.984Z"
   },
   {
    "duration": 16,
    "start_time": "2022-10-27T12:03:30.972Z"
   },
   {
    "duration": 18,
    "start_time": "2022-10-27T12:03:40.073Z"
   },
   {
    "duration": 26,
    "start_time": "2022-10-27T12:05:17.868Z"
   },
   {
    "duration": 1790,
    "start_time": "2022-10-27T12:11:00.096Z"
   },
   {
    "duration": 1534,
    "start_time": "2022-10-27T12:11:24.648Z"
   },
   {
    "duration": 1888,
    "start_time": "2022-10-27T12:12:36.566Z"
   },
   {
    "duration": 117,
    "start_time": "2022-10-27T13:29:39.445Z"
   },
   {
    "duration": 22,
    "start_time": "2022-10-27T13:30:01.522Z"
   },
   {
    "duration": 18,
    "start_time": "2022-10-27T13:30:50.947Z"
   },
   {
    "duration": 70,
    "start_time": "2022-10-27T13:31:12.936Z"
   },
   {
    "duration": 79,
    "start_time": "2022-10-27T13:31:28.244Z"
   },
   {
    "duration": 73,
    "start_time": "2022-10-27T13:31:36.814Z"
   },
   {
    "duration": 178,
    "start_time": "2022-10-27T13:31:43.627Z"
   },
   {
    "duration": 163,
    "start_time": "2022-10-27T13:32:10.478Z"
   },
   {
    "duration": 186,
    "start_time": "2022-10-27T13:34:13.765Z"
   },
   {
    "duration": 188,
    "start_time": "2022-10-27T13:34:31.987Z"
   },
   {
    "duration": 222,
    "start_time": "2022-10-27T13:36:17.787Z"
   },
   {
    "duration": 193,
    "start_time": "2022-10-27T13:36:33.000Z"
   },
   {
    "duration": 205,
    "start_time": "2022-10-27T13:37:08.951Z"
   },
   {
    "duration": 203,
    "start_time": "2022-10-27T13:37:14.063Z"
   },
   {
    "duration": 214,
    "start_time": "2022-10-27T13:39:01.515Z"
   },
   {
    "duration": 190,
    "start_time": "2022-10-27T13:40:04.961Z"
   },
   {
    "duration": 410,
    "start_time": "2022-10-27T13:40:40.231Z"
   },
   {
    "duration": 211,
    "start_time": "2022-10-27T13:42:13.066Z"
   },
   {
    "duration": 211,
    "start_time": "2022-10-27T13:43:52.462Z"
   },
   {
    "duration": 226,
    "start_time": "2022-10-27T13:43:57.450Z"
   },
   {
    "duration": 204,
    "start_time": "2022-10-27T13:59:55.860Z"
   },
   {
    "duration": 221,
    "start_time": "2022-10-27T14:06:33.630Z"
   },
   {
    "duration": 215,
    "start_time": "2022-10-27T14:07:10.203Z"
   },
   {
    "duration": 274,
    "start_time": "2022-10-27T14:10:06.709Z"
   },
   {
    "duration": 296,
    "start_time": "2022-10-27T14:10:19.014Z"
   },
   {
    "duration": 429,
    "start_time": "2022-10-27T14:12:00.959Z"
   },
   {
    "duration": 312,
    "start_time": "2022-10-27T14:12:18.212Z"
   },
   {
    "duration": 193,
    "start_time": "2022-10-27T14:12:45.577Z"
   },
   {
    "duration": 372,
    "start_time": "2022-10-27T14:12:59.639Z"
   },
   {
    "duration": 343,
    "start_time": "2022-10-27T14:16:50.910Z"
   },
   {
    "duration": 1206,
    "start_time": "2022-10-27T14:17:20.492Z"
   },
   {
    "duration": 1207,
    "start_time": "2022-10-27T14:17:33.331Z"
   },
   {
    "duration": 169,
    "start_time": "2022-10-27T14:18:13.151Z"
   },
   {
    "duration": 331,
    "start_time": "2022-10-27T14:18:38.488Z"
   },
   {
    "duration": 201,
    "start_time": "2022-10-27T14:18:50.475Z"
   },
   {
    "duration": 210,
    "start_time": "2022-10-27T14:20:13.025Z"
   },
   {
    "duration": 186,
    "start_time": "2022-10-27T14:20:20.221Z"
   },
   {
    "duration": 162,
    "start_time": "2022-10-27T14:26:25.251Z"
   },
   {
    "duration": 164,
    "start_time": "2022-10-27T14:26:54.519Z"
   },
   {
    "duration": 164,
    "start_time": "2022-10-27T14:33:26.337Z"
   },
   {
    "duration": 1123,
    "start_time": "2022-10-27T14:33:48.846Z"
   },
   {
    "duration": 191,
    "start_time": "2022-10-27T14:34:03.105Z"
   },
   {
    "duration": 348,
    "start_time": "2022-10-27T14:34:09.864Z"
   },
   {
    "duration": 175,
    "start_time": "2022-10-27T14:39:29.879Z"
   },
   {
    "duration": 15,
    "start_time": "2022-10-27T14:42:48.489Z"
   },
   {
    "duration": 89,
    "start_time": "2022-10-27T14:47:07.062Z"
   },
   {
    "duration": 21,
    "start_time": "2022-10-27T14:47:12.896Z"
   },
   {
    "duration": 169,
    "start_time": "2022-10-27T14:47:18.216Z"
   },
   {
    "duration": 194,
    "start_time": "2022-10-27T14:47:27.407Z"
   },
   {
    "duration": 164,
    "start_time": "2022-10-27T14:47:52.561Z"
   },
   {
    "duration": 153,
    "start_time": "2022-10-27T14:49:15.812Z"
   },
   {
    "duration": 139,
    "start_time": "2022-10-27T14:49:31.903Z"
   },
   {
    "duration": 2784,
    "start_time": "2022-10-27T14:56:13.177Z"
   },
   {
    "duration": 177,
    "start_time": "2022-10-27T14:56:54.060Z"
   },
   {
    "duration": 8,
    "start_time": "2022-10-27T15:29:49.613Z"
   },
   {
    "duration": 101,
    "start_time": "2022-10-27T15:30:03.821Z"
   },
   {
    "duration": 1817,
    "start_time": "2022-10-27T15:30:03.924Z"
   },
   {
    "duration": 12,
    "start_time": "2022-10-27T15:30:05.743Z"
   },
   {
    "duration": 11,
    "start_time": "2022-10-27T15:30:05.757Z"
   },
   {
    "duration": 66,
    "start_time": "2022-10-27T15:30:05.769Z"
   },
   {
    "duration": 8,
    "start_time": "2022-10-27T15:30:05.837Z"
   },
   {
    "duration": 19,
    "start_time": "2022-10-27T15:30:05.847Z"
   },
   {
    "duration": 221,
    "start_time": "2022-10-27T15:30:05.867Z"
   },
   {
    "duration": 237,
    "start_time": "2022-10-27T15:30:06.091Z"
   },
   {
    "duration": 201,
    "start_time": "2022-10-27T15:30:06.330Z"
   },
   {
    "duration": 334,
    "start_time": "2022-10-27T15:30:06.533Z"
   },
   {
    "duration": 177,
    "start_time": "2022-10-27T15:30:06.868Z"
   },
   {
    "duration": 169,
    "start_time": "2022-10-27T15:30:07.046Z"
   },
   {
    "duration": 241,
    "start_time": "2022-10-27T15:30:07.217Z"
   },
   {
    "duration": 152,
    "start_time": "2022-10-27T15:30:07.460Z"
   },
   {
    "duration": 186,
    "start_time": "2022-10-27T15:30:07.614Z"
   },
   {
    "duration": 8,
    "start_time": "2022-10-27T15:30:10.194Z"
   },
   {
    "duration": 8,
    "start_time": "2022-10-27T15:30:12.049Z"
   },
   {
    "duration": 110,
    "start_time": "2022-10-27T15:30:14.773Z"
   },
   {
    "duration": 1915,
    "start_time": "2022-10-27T15:30:14.885Z"
   },
   {
    "duration": 11,
    "start_time": "2022-10-27T15:30:16.802Z"
   },
   {
    "duration": 13,
    "start_time": "2022-10-27T15:30:16.814Z"
   },
   {
    "duration": 45,
    "start_time": "2022-10-27T15:30:16.829Z"
   },
   {
    "duration": 7,
    "start_time": "2022-10-27T15:30:16.875Z"
   },
   {
    "duration": 37,
    "start_time": "2022-10-27T15:30:16.883Z"
   },
   {
    "duration": 196,
    "start_time": "2022-10-27T15:30:16.922Z"
   },
   {
    "duration": 210,
    "start_time": "2022-10-27T15:30:17.119Z"
   },
   {
    "duration": 267,
    "start_time": "2022-10-27T15:30:17.331Z"
   },
   {
    "duration": 345,
    "start_time": "2022-10-27T15:30:17.604Z"
   },
   {
    "duration": 201,
    "start_time": "2022-10-27T15:30:17.951Z"
   },
   {
    "duration": 180,
    "start_time": "2022-10-27T15:30:18.155Z"
   },
   {
    "duration": 188,
    "start_time": "2022-10-27T15:30:18.338Z"
   },
   {
    "duration": 208,
    "start_time": "2022-10-27T15:30:18.528Z"
   },
   {
    "duration": 206,
    "start_time": "2022-10-27T15:30:18.738Z"
   },
   {
    "duration": 8,
    "start_time": "2022-10-27T15:30:18.946Z"
   },
   {
    "duration": 9,
    "start_time": "2022-10-27T15:30:27.980Z"
   },
   {
    "duration": 187,
    "start_time": "2022-10-27T15:30:57.546Z"
   },
   {
    "duration": 8,
    "start_time": "2022-10-27T15:54:02.627Z"
   },
   {
    "duration": 172,
    "start_time": "2022-10-27T15:54:06.925Z"
   },
   {
    "duration": 172,
    "start_time": "2022-10-27T15:55:45.668Z"
   },
   {
    "duration": 83,
    "start_time": "2022-10-27T15:56:57.416Z"
   },
   {
    "duration": 163,
    "start_time": "2022-10-27T15:59:13.832Z"
   },
   {
    "duration": 70,
    "start_time": "2022-10-27T16:02:09.352Z"
   },
   {
    "duration": 177,
    "start_time": "2022-10-27T16:05:26.147Z"
   },
   {
    "duration": 164,
    "start_time": "2022-10-27T16:05:34.596Z"
   },
   {
    "duration": 7,
    "start_time": "2022-10-27T16:09:13.042Z"
   },
   {
    "duration": 192,
    "start_time": "2022-10-27T16:09:18.710Z"
   },
   {
    "duration": 179,
    "start_time": "2022-10-27T16:10:59.644Z"
   },
   {
    "duration": 443,
    "start_time": "2022-10-27T16:11:08.645Z"
   },
   {
    "duration": 213,
    "start_time": "2022-10-27T16:11:11.512Z"
   },
   {
    "duration": 184,
    "start_time": "2022-10-27T16:11:16.181Z"
   },
   {
    "duration": 181,
    "start_time": "2022-10-27T16:11:24.842Z"
   },
   {
    "duration": 211,
    "start_time": "2022-10-27T16:11:41.085Z"
   },
   {
    "duration": 201,
    "start_time": "2022-10-27T16:12:00.287Z"
   },
   {
    "duration": 180,
    "start_time": "2022-10-27T16:12:11.161Z"
   },
   {
    "duration": 23544,
    "start_time": "2022-10-27T16:25:04.717Z"
   },
   {
    "duration": 1122,
    "start_time": "2022-10-27T16:26:36.828Z"
   },
   {
    "duration": 1083,
    "start_time": "2022-10-27T16:26:42.379Z"
   },
   {
    "duration": 11,
    "start_time": "2022-10-27T16:27:04.560Z"
   },
   {
    "duration": 7,
    "start_time": "2022-10-27T16:37:43.366Z"
   },
   {
    "duration": 170,
    "start_time": "2022-10-27T16:37:48.772Z"
   },
   {
    "duration": 145,
    "start_time": "2022-10-27T16:38:28.763Z"
   },
   {
    "duration": 161,
    "start_time": "2022-10-27T16:38:36.306Z"
   },
   {
    "duration": 151,
    "start_time": "2022-10-27T16:38:45.777Z"
   },
   {
    "duration": 174,
    "start_time": "2022-10-27T16:39:14.712Z"
   },
   {
    "duration": 187,
    "start_time": "2022-10-27T16:39:52.696Z"
   },
   {
    "duration": 728,
    "start_time": "2022-10-27T16:39:59.619Z"
   },
   {
    "duration": 217,
    "start_time": "2022-10-27T16:41:26.891Z"
   },
   {
    "duration": 217,
    "start_time": "2022-10-27T16:41:39.807Z"
   },
   {
    "duration": 254,
    "start_time": "2022-10-27T16:41:56.541Z"
   },
   {
    "duration": 257,
    "start_time": "2022-10-27T16:42:04.013Z"
   },
   {
    "duration": 185,
    "start_time": "2022-10-27T16:42:18.455Z"
   },
   {
    "duration": 1228,
    "start_time": "2022-10-27T17:35:14.576Z"
   },
   {
    "duration": 177,
    "start_time": "2022-10-27T17:35:21.275Z"
   },
   {
    "duration": 178,
    "start_time": "2022-10-27T17:35:27.620Z"
   },
   {
    "duration": 179,
    "start_time": "2022-10-27T17:39:32.951Z"
   },
   {
    "duration": 175,
    "start_time": "2022-10-27T17:42:50.572Z"
   },
   {
    "duration": 196,
    "start_time": "2022-10-27T17:43:03.080Z"
   },
   {
    "duration": 183,
    "start_time": "2022-10-27T17:43:15.196Z"
   },
   {
    "duration": 157,
    "start_time": "2022-10-27T17:46:41.910Z"
   },
   {
    "duration": 152,
    "start_time": "2022-10-27T17:47:52.988Z"
   },
   {
    "duration": 144,
    "start_time": "2022-10-27T17:48:01.344Z"
   },
   {
    "duration": 153,
    "start_time": "2022-10-27T17:48:11.105Z"
   },
   {
    "duration": 129,
    "start_time": "2022-10-27T17:51:13.068Z"
   },
   {
    "duration": 129,
    "start_time": "2022-10-27T17:51:23.047Z"
   },
   {
    "duration": 138,
    "start_time": "2022-10-27T17:51:26.050Z"
   },
   {
    "duration": 50,
    "start_time": "2022-10-28T06:43:15.739Z"
   },
   {
    "duration": 8,
    "start_time": "2022-10-28T06:43:48.204Z"
   },
   {
    "duration": 581,
    "start_time": "2022-10-28T06:43:53.915Z"
   },
   {
    "duration": 2474,
    "start_time": "2022-10-28T06:43:54.497Z"
   },
   {
    "duration": 19,
    "start_time": "2022-10-28T06:43:56.974Z"
   },
   {
    "duration": 19,
    "start_time": "2022-10-28T06:43:56.996Z"
   },
   {
    "duration": 58,
    "start_time": "2022-10-28T06:43:57.017Z"
   },
   {
    "duration": 9,
    "start_time": "2022-10-28T06:43:57.077Z"
   },
   {
    "duration": 19,
    "start_time": "2022-10-28T06:43:57.089Z"
   },
   {
    "duration": 279,
    "start_time": "2022-10-28T06:43:57.109Z"
   },
   {
    "duration": 256,
    "start_time": "2022-10-28T06:43:57.390Z"
   },
   {
    "duration": 226,
    "start_time": "2022-10-28T06:43:57.648Z"
   },
   {
    "duration": 460,
    "start_time": "2022-10-28T06:43:57.876Z"
   },
   {
    "duration": 212,
    "start_time": "2022-10-28T06:43:58.338Z"
   },
   {
    "duration": 196,
    "start_time": "2022-10-28T06:43:58.552Z"
   },
   {
    "duration": 213,
    "start_time": "2022-10-28T06:43:58.750Z"
   },
   {
    "duration": 153,
    "start_time": "2022-10-28T06:43:58.965Z"
   },
   {
    "duration": 203,
    "start_time": "2022-10-28T06:43:59.123Z"
   },
   {
    "duration": 258,
    "start_time": "2022-10-28T06:43:59.328Z"
   },
   {
    "duration": 236,
    "start_time": "2022-10-28T06:43:59.588Z"
   },
   {
    "duration": 201,
    "start_time": "2022-10-28T06:43:59.826Z"
   },
   {
    "duration": 222,
    "start_time": "2022-10-28T06:44:00.029Z"
   },
   {
    "duration": 363,
    "start_time": "2022-10-28T06:44:00.253Z"
   },
   {
    "duration": 237,
    "start_time": "2022-10-28T06:44:00.618Z"
   },
   {
    "duration": 214,
    "start_time": "2022-10-28T06:44:00.857Z"
   },
   {
    "duration": 226,
    "start_time": "2022-10-28T06:44:01.073Z"
   },
   {
    "duration": 199,
    "start_time": "2022-10-28T06:44:01.301Z"
   },
   {
    "duration": 173,
    "start_time": "2022-10-28T06:44:01.502Z"
   },
   {
    "duration": 254,
    "start_time": "2022-10-28T06:44:01.677Z"
   },
   {
    "duration": 164,
    "start_time": "2022-10-28T06:52:48.080Z"
   },
   {
    "duration": 194,
    "start_time": "2022-10-28T07:00:52.703Z"
   },
   {
    "duration": 64,
    "start_time": "2022-10-28T15:14:57.175Z"
   },
   {
    "duration": 726,
    "start_time": "2022-10-28T15:15:03.082Z"
   },
   {
    "duration": 2465,
    "start_time": "2022-10-28T15:15:03.811Z"
   },
   {
    "duration": 15,
    "start_time": "2022-10-28T15:15:06.277Z"
   },
   {
    "duration": 16,
    "start_time": "2022-10-28T15:15:06.295Z"
   },
   {
    "duration": 54,
    "start_time": "2022-10-28T15:15:06.313Z"
   },
   {
    "duration": 11,
    "start_time": "2022-10-28T15:15:06.369Z"
   },
   {
    "duration": 22,
    "start_time": "2022-10-28T15:15:06.381Z"
   },
   {
    "duration": 261,
    "start_time": "2022-10-28T15:15:06.405Z"
   },
   {
    "duration": 248,
    "start_time": "2022-10-28T15:15:06.668Z"
   },
   {
    "duration": 260,
    "start_time": "2022-10-28T15:15:06.920Z"
   },
   {
    "duration": 527,
    "start_time": "2022-10-28T15:15:07.183Z"
   },
   {
    "duration": 208,
    "start_time": "2022-10-28T15:15:07.712Z"
   },
   {
    "duration": 191,
    "start_time": "2022-10-28T15:15:07.921Z"
   },
   {
    "duration": 207,
    "start_time": "2022-10-28T15:15:08.115Z"
   },
   {
    "duration": 171,
    "start_time": "2022-10-28T15:15:08.324Z"
   },
   {
    "duration": 224,
    "start_time": "2022-10-28T15:15:08.497Z"
   },
   {
    "duration": 232,
    "start_time": "2022-10-28T15:15:08.723Z"
   },
   {
    "duration": 217,
    "start_time": "2022-10-28T15:15:08.957Z"
   },
   {
    "duration": 204,
    "start_time": "2022-10-28T15:15:09.176Z"
   },
   {
    "duration": 209,
    "start_time": "2022-10-28T15:15:09.381Z"
   },
   {
    "duration": 324,
    "start_time": "2022-10-28T15:15:09.591Z"
   },
   {
    "duration": 213,
    "start_time": "2022-10-28T15:15:09.917Z"
   },
   {
    "duration": 210,
    "start_time": "2022-10-28T15:15:10.132Z"
   },
   {
    "duration": 213,
    "start_time": "2022-10-28T15:15:10.344Z"
   },
   {
    "duration": 193,
    "start_time": "2022-10-28T15:15:10.559Z"
   },
   {
    "duration": 164,
    "start_time": "2022-10-28T15:15:10.754Z"
   },
   {
    "duration": 195,
    "start_time": "2022-10-28T15:15:10.920Z"
   },
   {
    "duration": 202,
    "start_time": "2022-10-28T15:15:11.118Z"
   },
   {
    "duration": 184,
    "start_time": "2022-10-28T15:15:11.322Z"
   },
   {
    "duration": 3,
    "start_time": "2022-10-28T15:15:11.508Z"
   },
   {
    "duration": 43,
    "start_time": "2022-10-28T15:15:38.549Z"
   },
   {
    "duration": 5,
    "start_time": "2022-10-28T15:16:51.119Z"
   },
   {
    "duration": 4,
    "start_time": "2022-10-28T15:17:17.120Z"
   },
   {
    "duration": 4,
    "start_time": "2022-10-28T15:17:26.781Z"
   },
   {
    "duration": 9,
    "start_time": "2022-10-28T15:17:31.811Z"
   },
   {
    "duration": 3,
    "start_time": "2022-10-28T15:19:15.807Z"
   },
   {
    "duration": 46,
    "start_time": "2022-10-28T15:19:22.439Z"
   },
   {
    "duration": 15,
    "start_time": "2022-10-28T15:19:34.849Z"
   },
   {
    "duration": 17,
    "start_time": "2022-10-28T15:20:02.702Z"
   },
   {
    "duration": 18,
    "start_time": "2022-10-28T15:20:11.480Z"
   },
   {
    "duration": 15,
    "start_time": "2022-10-28T15:20:17.014Z"
   },
   {
    "duration": 17,
    "start_time": "2022-10-28T15:20:43.241Z"
   },
   {
    "duration": 15,
    "start_time": "2022-10-28T15:25:18.880Z"
   },
   {
    "duration": 15,
    "start_time": "2022-10-28T15:25:39.277Z"
   },
   {
    "duration": 12,
    "start_time": "2022-10-28T15:29:54.335Z"
   },
   {
    "duration": 484,
    "start_time": "2022-10-28T15:31:34.088Z"
   },
   {
    "duration": 368,
    "start_time": "2022-10-28T15:31:49.668Z"
   },
   {
    "duration": 18,
    "start_time": "2022-10-28T15:32:05.390Z"
   },
   {
    "duration": 18,
    "start_time": "2022-10-28T15:33:22.498Z"
   },
   {
    "duration": 15,
    "start_time": "2022-10-28T15:39:40.610Z"
   },
   {
    "duration": 15,
    "start_time": "2022-10-28T15:39:50.962Z"
   },
   {
    "duration": 1025,
    "start_time": "2022-10-28T15:40:07.405Z"
   },
   {
    "duration": 754,
    "start_time": "2022-10-28T15:40:20.663Z"
   },
   {
    "duration": 838,
    "start_time": "2022-10-28T15:40:35.944Z"
   },
   {
    "duration": 9,
    "start_time": "2022-10-28T15:40:51.494Z"
   },
   {
    "duration": 23,
    "start_time": "2022-10-28T15:40:56.521Z"
   },
   {
    "duration": 17,
    "start_time": "2022-10-28T15:43:46.382Z"
   },
   {
    "duration": 12,
    "start_time": "2022-10-28T15:45:30.786Z"
   },
   {
    "duration": 11,
    "start_time": "2022-10-28T15:45:38.148Z"
   },
   {
    "duration": 13,
    "start_time": "2022-10-28T15:45:47.421Z"
   },
   {
    "duration": 18,
    "start_time": "2022-10-28T15:46:03.538Z"
   },
   {
    "duration": 24,
    "start_time": "2022-10-28T15:47:01.641Z"
   },
   {
    "duration": 8,
    "start_time": "2022-10-28T15:47:21.272Z"
   },
   {
    "duration": 8,
    "start_time": "2022-10-28T15:47:25.873Z"
   },
   {
    "duration": 12,
    "start_time": "2022-10-28T15:47:38.718Z"
   },
   {
    "duration": 9,
    "start_time": "2022-10-28T15:47:43.364Z"
   },
   {
    "duration": 11,
    "start_time": "2022-10-28T15:48:01.286Z"
   },
   {
    "duration": 50,
    "start_time": "2022-10-28T15:49:26.318Z"
   },
   {
    "duration": 33,
    "start_time": "2022-10-28T15:49:33.787Z"
   },
   {
    "duration": 22,
    "start_time": "2022-10-28T15:49:59.293Z"
   },
   {
    "duration": 24,
    "start_time": "2022-10-28T15:50:13.240Z"
   },
   {
    "duration": 18,
    "start_time": "2022-10-28T15:50:33.906Z"
   },
   {
    "duration": 22,
    "start_time": "2022-10-28T15:50:41.215Z"
   },
   {
    "duration": 17,
    "start_time": "2022-10-28T15:50:53.520Z"
   },
   {
    "duration": 20,
    "start_time": "2022-10-28T15:51:21.156Z"
   },
   {
    "duration": 20,
    "start_time": "2022-10-28T15:52:05.321Z"
   },
   {
    "duration": 21,
    "start_time": "2022-10-28T15:52:13.056Z"
   },
   {
    "duration": 21,
    "start_time": "2022-10-28T17:23:34.882Z"
   },
   {
    "duration": 19,
    "start_time": "2022-10-28T17:23:59.369Z"
   },
   {
    "duration": 19,
    "start_time": "2022-10-28T17:26:21.403Z"
   },
   {
    "duration": 4,
    "start_time": "2022-10-28T17:28:46.885Z"
   },
   {
    "duration": 19,
    "start_time": "2022-10-28T17:28:53.603Z"
   },
   {
    "duration": 18,
    "start_time": "2022-10-28T17:51:20.954Z"
   },
   {
    "duration": 17,
    "start_time": "2022-10-28T17:54:46.893Z"
   },
   {
    "duration": 17,
    "start_time": "2022-10-28T17:54:55.065Z"
   },
   {
    "duration": 8,
    "start_time": "2022-10-28T17:55:21.783Z"
   },
   {
    "duration": 10,
    "start_time": "2022-10-28T17:55:35.906Z"
   },
   {
    "duration": 16,
    "start_time": "2022-10-28T17:57:18.798Z"
   },
   {
    "duration": 8,
    "start_time": "2022-10-28T17:57:39.777Z"
   },
   {
    "duration": 8,
    "start_time": "2022-10-28T17:57:53.733Z"
   },
   {
    "duration": 9,
    "start_time": "2022-10-28T17:58:08.707Z"
   },
   {
    "duration": 13,
    "start_time": "2022-10-28T17:58:26.183Z"
   },
   {
    "duration": 9,
    "start_time": "2022-10-28T17:58:34.488Z"
   },
   {
    "duration": 16,
    "start_time": "2022-10-28T18:01:41.125Z"
   },
   {
    "duration": 14,
    "start_time": "2022-10-28T18:01:45.492Z"
   },
   {
    "duration": 13,
    "start_time": "2022-10-28T18:01:58.568Z"
   },
   {
    "duration": 17,
    "start_time": "2022-10-28T18:05:10.523Z"
   },
   {
    "duration": 19,
    "start_time": "2022-10-28T18:05:26.911Z"
   },
   {
    "duration": 17,
    "start_time": "2022-10-28T18:07:38.943Z"
   },
   {
    "duration": 16,
    "start_time": "2022-10-28T18:08:02.206Z"
   },
   {
    "duration": 15,
    "start_time": "2022-10-28T18:08:32.818Z"
   },
   {
    "duration": 17,
    "start_time": "2022-10-28T18:08:39.122Z"
   },
   {
    "duration": 23,
    "start_time": "2022-10-28T18:09:08.375Z"
   },
   {
    "duration": 18,
    "start_time": "2022-10-28T18:09:24.201Z"
   },
   {
    "duration": 17,
    "start_time": "2022-10-28T18:09:39.795Z"
   },
   {
    "duration": 48,
    "start_time": "2022-10-29T04:06:47.908Z"
   },
   {
    "duration": 7,
    "start_time": "2022-10-29T04:07:03.616Z"
   },
   {
    "duration": 908,
    "start_time": "2022-10-29T04:07:08.274Z"
   },
   {
    "duration": 2408,
    "start_time": "2022-10-29T04:07:09.184Z"
   },
   {
    "duration": 19,
    "start_time": "2022-10-29T04:07:11.595Z"
   },
   {
    "duration": 18,
    "start_time": "2022-10-29T04:07:11.617Z"
   },
   {
    "duration": 94,
    "start_time": "2022-10-29T04:07:11.638Z"
   },
   {
    "duration": 12,
    "start_time": "2022-10-29T04:07:11.734Z"
   },
   {
    "duration": 40,
    "start_time": "2022-10-29T04:07:11.748Z"
   },
   {
    "duration": 250,
    "start_time": "2022-10-29T04:07:11.790Z"
   },
   {
    "duration": 250,
    "start_time": "2022-10-29T04:07:12.042Z"
   },
   {
    "duration": 239,
    "start_time": "2022-10-29T04:07:12.296Z"
   },
   {
    "duration": 441,
    "start_time": "2022-10-29T04:07:12.537Z"
   },
   {
    "duration": 192,
    "start_time": "2022-10-29T04:07:12.980Z"
   },
   {
    "duration": 211,
    "start_time": "2022-10-29T04:07:13.176Z"
   },
   {
    "duration": 190,
    "start_time": "2022-10-29T04:07:13.389Z"
   },
   {
    "duration": 156,
    "start_time": "2022-10-29T04:07:13.580Z"
   },
   {
    "duration": 211,
    "start_time": "2022-10-29T04:07:13.737Z"
   },
   {
    "duration": 203,
    "start_time": "2022-10-29T04:07:13.950Z"
   },
   {
    "duration": 210,
    "start_time": "2022-10-29T04:07:14.155Z"
   },
   {
    "duration": 203,
    "start_time": "2022-10-29T04:07:14.366Z"
   },
   {
    "duration": 201,
    "start_time": "2022-10-29T04:07:14.572Z"
   },
   {
    "duration": 308,
    "start_time": "2022-10-29T04:07:14.777Z"
   },
   {
    "duration": 249,
    "start_time": "2022-10-29T04:07:15.086Z"
   },
   {
    "duration": 212,
    "start_time": "2022-10-29T04:07:15.337Z"
   },
   {
    "duration": 205,
    "start_time": "2022-10-29T04:07:15.551Z"
   },
   {
    "duration": 172,
    "start_time": "2022-10-29T04:07:15.758Z"
   },
   {
    "duration": 155,
    "start_time": "2022-10-29T04:07:15.931Z"
   },
   {
    "duration": 180,
    "start_time": "2022-10-29T04:07:16.088Z"
   },
   {
    "duration": 193,
    "start_time": "2022-10-29T04:07:16.276Z"
   },
   {
    "duration": 191,
    "start_time": "2022-10-29T04:07:16.470Z"
   },
   {
    "duration": 726,
    "start_time": "2022-10-29T04:07:16.662Z"
   },
   {
    "duration": 692,
    "start_time": "2022-10-29T04:07:47.174Z"
   },
   {
    "duration": 690,
    "start_time": "2022-10-29T04:07:58.927Z"
   },
   {
    "duration": 327,
    "start_time": "2022-10-29T04:08:09.638Z"
   },
   {
    "duration": 713,
    "start_time": "2022-10-29T04:08:14.305Z"
   },
   {
    "duration": 656,
    "start_time": "2022-10-29T04:08:25.393Z"
   },
   {
    "duration": 25,
    "start_time": "2022-10-29T04:08:32.517Z"
   },
   {
    "duration": 829,
    "start_time": "2022-10-29T04:08:40.038Z"
   },
   {
    "duration": 767,
    "start_time": "2022-10-29T04:08:49.293Z"
   },
   {
    "duration": 733,
    "start_time": "2022-10-29T04:08:53.657Z"
   },
   {
    "duration": 48,
    "start_time": "2022-10-29T04:09:07.486Z"
   },
   {
    "duration": 19,
    "start_time": "2022-10-29T04:09:12.366Z"
   },
   {
    "duration": 22,
    "start_time": "2022-10-29T04:09:20.301Z"
   },
   {
    "duration": 25,
    "start_time": "2022-10-29T04:09:34.881Z"
   },
   {
    "duration": 8,
    "start_time": "2022-10-29T04:18:24.937Z"
   },
   {
    "duration": 24,
    "start_time": "2022-10-29T04:22:54.377Z"
   },
   {
    "duration": 17,
    "start_time": "2022-10-29T04:23:08.640Z"
   },
   {
    "duration": 34,
    "start_time": "2022-10-29T04:23:20.678Z"
   },
   {
    "duration": 23,
    "start_time": "2022-10-29T04:27:29.585Z"
   },
   {
    "duration": 129,
    "start_time": "2022-10-29T04:29:18.910Z"
   },
   {
    "duration": 122,
    "start_time": "2022-10-29T04:29:25.725Z"
   },
   {
    "duration": 140,
    "start_time": "2022-10-29T04:30:01.384Z"
   },
   {
    "duration": 142,
    "start_time": "2022-10-29T04:30:30.034Z"
   },
   {
    "duration": 136,
    "start_time": "2022-10-29T04:34:48.817Z"
   },
   {
    "duration": 136,
    "start_time": "2022-10-29T04:37:32.192Z"
   },
   {
    "duration": 23,
    "start_time": "2022-10-29T04:37:43.347Z"
   },
   {
    "duration": 219,
    "start_time": "2022-10-29T04:37:52.801Z"
   },
   {
    "duration": 280,
    "start_time": "2022-10-29T04:37:55.576Z"
   },
   {
    "duration": 169,
    "start_time": "2022-10-29T04:38:51.903Z"
   },
   {
    "duration": 137,
    "start_time": "2022-10-29T04:40:00.424Z"
   },
   {
    "duration": 138,
    "start_time": "2022-10-29T04:40:08.840Z"
   },
   {
    "duration": 131,
    "start_time": "2022-10-29T04:40:13.662Z"
   },
   {
    "duration": 149,
    "start_time": "2022-10-29T04:40:15.982Z"
   },
   {
    "duration": 164,
    "start_time": "2022-10-29T04:40:18.790Z"
   },
   {
    "duration": 224,
    "start_time": "2022-10-29T04:40:45.177Z"
   },
   {
    "duration": 158,
    "start_time": "2022-10-29T04:41:10.762Z"
   },
   {
    "duration": 177,
    "start_time": "2022-10-29T04:41:19.378Z"
   },
   {
    "duration": 148,
    "start_time": "2022-10-29T04:42:20.690Z"
   },
   {
    "duration": 74,
    "start_time": "2022-10-29T04:42:47.490Z"
   },
   {
    "duration": 72,
    "start_time": "2022-10-29T04:43:09.172Z"
   },
   {
    "duration": 175,
    "start_time": "2022-10-29T04:43:54.012Z"
   },
   {
    "duration": 811,
    "start_time": "2022-10-29T04:46:30.885Z"
   },
   {
    "duration": 16,
    "start_time": "2022-10-29T04:46:52.106Z"
   },
   {
    "duration": 838,
    "start_time": "2022-10-29T04:47:09.937Z"
   },
   {
    "duration": 181,
    "start_time": "2022-10-29T04:47:15.873Z"
   },
   {
    "duration": 200,
    "start_time": "2022-10-29T04:49:26.818Z"
   },
   {
    "duration": 190,
    "start_time": "2022-10-29T04:49:51.660Z"
   },
   {
    "duration": 192,
    "start_time": "2022-10-29T04:51:14.021Z"
   },
   {
    "duration": 41,
    "start_time": "2022-10-29T04:52:09.207Z"
   },
   {
    "duration": 206,
    "start_time": "2022-10-29T04:52:13.631Z"
   },
   {
    "duration": 296,
    "start_time": "2022-10-29T04:52:48.592Z"
   },
   {
    "duration": 58,
    "start_time": "2022-10-29T04:53:10.331Z"
   },
   {
    "duration": 218,
    "start_time": "2022-10-29T04:53:13.317Z"
   },
   {
    "duration": 139,
    "start_time": "2022-10-29T04:53:31.922Z"
   },
   {
    "duration": 139,
    "start_time": "2022-10-29T04:54:02.393Z"
   },
   {
    "duration": 215,
    "start_time": "2022-10-29T04:54:13.722Z"
   },
   {
    "duration": 169,
    "start_time": "2022-10-29T04:56:29.844Z"
   },
   {
    "duration": 158,
    "start_time": "2022-10-29T04:56:37.157Z"
   },
   {
    "duration": 147,
    "start_time": "2022-10-29T04:56:45.892Z"
   },
   {
    "duration": 458,
    "start_time": "2022-10-29T05:01:53.222Z"
   },
   {
    "duration": 2186,
    "start_time": "2022-10-29T05:01:53.682Z"
   },
   {
    "duration": 14,
    "start_time": "2022-10-29T05:01:55.871Z"
   },
   {
    "duration": 34,
    "start_time": "2022-10-29T05:01:55.887Z"
   },
   {
    "duration": 55,
    "start_time": "2022-10-29T05:01:55.924Z"
   },
   {
    "duration": 11,
    "start_time": "2022-10-29T05:01:55.982Z"
   },
   {
    "duration": 26,
    "start_time": "2022-10-29T05:01:55.995Z"
   },
   {
    "duration": 283,
    "start_time": "2022-10-29T05:01:56.023Z"
   },
   {
    "duration": 282,
    "start_time": "2022-10-29T05:01:56.308Z"
   },
   {
    "duration": 241,
    "start_time": "2022-10-29T05:01:56.593Z"
   },
   {
    "duration": 449,
    "start_time": "2022-10-29T05:01:56.836Z"
   },
   {
    "duration": 298,
    "start_time": "2022-10-29T05:01:57.287Z"
   },
   {
    "duration": 203,
    "start_time": "2022-10-29T05:01:57.587Z"
   },
   {
    "duration": 210,
    "start_time": "2022-10-29T05:01:57.794Z"
   },
   {
    "duration": 149,
    "start_time": "2022-10-29T05:01:58.006Z"
   },
   {
    "duration": 200,
    "start_time": "2022-10-29T05:01:58.158Z"
   },
   {
    "duration": 209,
    "start_time": "2022-10-29T05:01:58.360Z"
   },
   {
    "duration": 211,
    "start_time": "2022-10-29T05:01:58.571Z"
   },
   {
    "duration": 193,
    "start_time": "2022-10-29T05:01:58.783Z"
   },
   {
    "duration": 197,
    "start_time": "2022-10-29T05:01:58.978Z"
   },
   {
    "duration": 216,
    "start_time": "2022-10-29T05:01:59.177Z"
   },
   {
    "duration": 214,
    "start_time": "2022-10-29T05:01:59.395Z"
   },
   {
    "duration": 302,
    "start_time": "2022-10-29T05:01:59.611Z"
   },
   {
    "duration": 207,
    "start_time": "2022-10-29T05:01:59.915Z"
   },
   {
    "duration": 179,
    "start_time": "2022-10-29T05:02:00.124Z"
   },
   {
    "duration": 162,
    "start_time": "2022-10-29T05:02:00.305Z"
   },
   {
    "duration": 182,
    "start_time": "2022-10-29T05:02:00.468Z"
   },
   {
    "duration": 213,
    "start_time": "2022-10-29T05:02:00.652Z"
   },
   {
    "duration": 172,
    "start_time": "2022-10-29T05:02:00.867Z"
   },
   {
    "duration": 22,
    "start_time": "2022-10-29T05:02:01.041Z"
   },
   {
    "duration": 113,
    "start_time": "2022-10-29T05:02:01.064Z"
   },
   {
    "duration": 175,
    "start_time": "2022-10-29T05:02:13.453Z"
   },
   {
    "duration": 12,
    "start_time": "2022-10-29T05:02:49.249Z"
   },
   {
    "duration": 167,
    "start_time": "2022-10-29T05:02:54.375Z"
   },
   {
    "duration": 181,
    "start_time": "2022-10-29T05:03:10.268Z"
   },
   {
    "duration": 177,
    "start_time": "2022-10-29T05:04:52.585Z"
   },
   {
    "duration": 164,
    "start_time": "2022-10-29T05:08:32.235Z"
   },
   {
    "duration": 21,
    "start_time": "2022-10-29T05:08:45.440Z"
   },
   {
    "duration": 70,
    "start_time": "2022-10-29T05:10:25.170Z"
   },
   {
    "duration": 41,
    "start_time": "2022-10-29T05:10:45.921Z"
   },
   {
    "duration": 66,
    "start_time": "2022-10-29T05:10:52.291Z"
   },
   {
    "duration": 48,
    "start_time": "2022-10-29T05:10:56.373Z"
   },
   {
    "duration": 40,
    "start_time": "2022-10-29T05:11:02.362Z"
   },
   {
    "duration": 39,
    "start_time": "2022-10-29T05:11:07.146Z"
   },
   {
    "duration": 201,
    "start_time": "2022-10-29T05:11:10.685Z"
   },
   {
    "duration": 47,
    "start_time": "2022-10-29T05:11:42.701Z"
   },
   {
    "duration": 44,
    "start_time": "2022-10-29T05:11:49.819Z"
   },
   {
    "duration": 23,
    "start_time": "2022-10-29T05:12:01.577Z"
   },
   {
    "duration": 24,
    "start_time": "2022-10-29T05:13:04.600Z"
   },
   {
    "duration": 151,
    "start_time": "2022-10-29T05:13:11.320Z"
   },
   {
    "duration": 29,
    "start_time": "2022-10-29T05:13:45.141Z"
   },
   {
    "duration": 130,
    "start_time": "2022-10-29T05:13:49.638Z"
   },
   {
    "duration": 784,
    "start_time": "2022-10-29T05:14:05.256Z"
   },
   {
    "duration": 169,
    "start_time": "2022-10-29T05:14:17.489Z"
   },
   {
    "duration": 290,
    "start_time": "2022-10-29T05:14:36.877Z"
   },
   {
    "duration": 172,
    "start_time": "2022-10-29T05:14:55.934Z"
   },
   {
    "duration": 157,
    "start_time": "2022-10-29T05:15:11.322Z"
   },
   {
    "duration": 51,
    "start_time": "2022-10-29T05:15:24.083Z"
   },
   {
    "duration": 51,
    "start_time": "2022-10-29T05:15:30.110Z"
   },
   {
    "duration": 50,
    "start_time": "2022-10-29T05:15:38.207Z"
   },
   {
    "duration": 39,
    "start_time": "2022-10-29T05:15:41.974Z"
   },
   {
    "duration": 37,
    "start_time": "2022-10-29T05:16:04.902Z"
   },
   {
    "duration": 46,
    "start_time": "2022-10-29T05:16:09.412Z"
   },
   {
    "duration": 49,
    "start_time": "2022-10-29T05:16:20.566Z"
   },
   {
    "duration": 166,
    "start_time": "2022-10-29T05:16:29.538Z"
   },
   {
    "duration": 45,
    "start_time": "2022-10-29T05:17:29.860Z"
   },
   {
    "duration": 164,
    "start_time": "2022-10-29T05:17:52.378Z"
   },
   {
    "duration": 175,
    "start_time": "2022-10-29T05:18:01.308Z"
   },
   {
    "duration": 45,
    "start_time": "2022-10-29T05:18:08.427Z"
   },
   {
    "duration": 151,
    "start_time": "2022-10-29T05:18:14.628Z"
   },
   {
    "duration": 154,
    "start_time": "2022-10-29T05:27:57.189Z"
   },
   {
    "duration": 171,
    "start_time": "2022-10-29T05:28:09.542Z"
   },
   {
    "duration": 18,
    "start_time": "2022-10-29T05:28:52.915Z"
   },
   {
    "duration": 101,
    "start_time": "2022-10-29T05:48:41.684Z"
   },
   {
    "duration": 42,
    "start_time": "2022-10-29T05:56:54.586Z"
   },
   {
    "duration": 48,
    "start_time": "2022-10-29T06:04:06.101Z"
   },
   {
    "duration": 53,
    "start_time": "2022-10-29T06:07:54.872Z"
   },
   {
    "duration": 60,
    "start_time": "2022-10-29T06:16:50.247Z"
   },
   {
    "duration": 44,
    "start_time": "2022-10-29T06:17:50.546Z"
   },
   {
    "duration": 46,
    "start_time": "2022-10-29T06:19:39.579Z"
   },
   {
    "duration": 47,
    "start_time": "2022-10-29T06:21:19.819Z"
   },
   {
    "duration": 37,
    "start_time": "2022-10-29T06:21:43.440Z"
   },
   {
    "duration": 47,
    "start_time": "2022-10-29T06:25:04.515Z"
   },
   {
    "duration": 55,
    "start_time": "2022-10-29T06:26:13.873Z"
   },
   {
    "duration": 43,
    "start_time": "2022-10-29T06:27:23.604Z"
   },
   {
    "duration": 193,
    "start_time": "2022-10-29T06:28:49.885Z"
   },
   {
    "duration": 53,
    "start_time": "2022-10-29T06:33:03.598Z"
   },
   {
    "duration": 48,
    "start_time": "2022-10-29T06:33:31.096Z"
   },
   {
    "duration": 49,
    "start_time": "2022-10-29T06:33:48.131Z"
   },
   {
    "duration": 49,
    "start_time": "2022-10-29T06:35:11.602Z"
   },
   {
    "duration": 52,
    "start_time": "2022-10-29T06:35:50.701Z"
   },
   {
    "duration": 46,
    "start_time": "2022-10-29T06:37:48.353Z"
   },
   {
    "duration": 41,
    "start_time": "2022-10-29T06:38:46.994Z"
   },
   {
    "duration": 484,
    "start_time": "2022-10-29T06:40:40.217Z"
   },
   {
    "duration": 2168,
    "start_time": "2022-10-29T06:40:40.704Z"
   },
   {
    "duration": 16,
    "start_time": "2022-10-29T06:40:42.875Z"
   },
   {
    "duration": 16,
    "start_time": "2022-10-29T06:40:42.894Z"
   },
   {
    "duration": 48,
    "start_time": "2022-10-29T06:40:42.912Z"
   },
   {
    "duration": 20,
    "start_time": "2022-10-29T06:40:42.962Z"
   },
   {
    "duration": 19,
    "start_time": "2022-10-29T06:40:42.983Z"
   },
   {
    "duration": 234,
    "start_time": "2022-10-29T06:40:43.004Z"
   },
   {
    "duration": 257,
    "start_time": "2022-10-29T06:40:43.239Z"
   },
   {
    "duration": 226,
    "start_time": "2022-10-29T06:40:43.500Z"
   },
   {
    "duration": 356,
    "start_time": "2022-10-29T06:40:43.727Z"
   },
   {
    "duration": 275,
    "start_time": "2022-10-29T06:40:44.085Z"
   },
   {
    "duration": 180,
    "start_time": "2022-10-29T06:40:44.362Z"
   },
   {
    "duration": 188,
    "start_time": "2022-10-29T06:40:44.544Z"
   },
   {
    "duration": 150,
    "start_time": "2022-10-29T06:40:44.734Z"
   },
   {
    "duration": 200,
    "start_time": "2022-10-29T06:40:44.885Z"
   },
   {
    "duration": 244,
    "start_time": "2022-10-29T06:40:45.087Z"
   },
   {
    "duration": 206,
    "start_time": "2022-10-29T06:40:45.333Z"
   },
   {
    "duration": 187,
    "start_time": "2022-10-29T06:40:45.540Z"
   },
   {
    "duration": 206,
    "start_time": "2022-10-29T06:40:45.728Z"
   },
   {
    "duration": 47,
    "start_time": "2022-10-29T06:40:45.936Z"
   },
   {
    "duration": 0,
    "start_time": "2022-10-29T06:40:45.985Z"
   },
   {
    "duration": 0,
    "start_time": "2022-10-29T06:40:45.986Z"
   },
   {
    "duration": 0,
    "start_time": "2022-10-29T06:40:45.987Z"
   },
   {
    "duration": 0,
    "start_time": "2022-10-29T06:40:45.989Z"
   },
   {
    "duration": 0,
    "start_time": "2022-10-29T06:40:45.990Z"
   },
   {
    "duration": 0,
    "start_time": "2022-10-29T06:40:45.991Z"
   },
   {
    "duration": 0,
    "start_time": "2022-10-29T06:40:45.992Z"
   },
   {
    "duration": 0,
    "start_time": "2022-10-29T06:40:45.992Z"
   },
   {
    "duration": 0,
    "start_time": "2022-10-29T06:40:45.993Z"
   },
   {
    "duration": 0,
    "start_time": "2022-10-29T06:40:45.994Z"
   },
   {
    "duration": 0,
    "start_time": "2022-10-29T06:40:45.995Z"
   },
   {
    "duration": 46,
    "start_time": "2022-10-29T06:47:57.704Z"
   },
   {
    "duration": 42,
    "start_time": "2022-10-29T06:49:35.611Z"
   },
   {
    "duration": 520,
    "start_time": "2022-10-29T06:50:05.279Z"
   },
   {
    "duration": 2171,
    "start_time": "2022-10-29T06:50:05.801Z"
   },
   {
    "duration": 12,
    "start_time": "2022-10-29T06:50:07.974Z"
   },
   {
    "duration": 22,
    "start_time": "2022-10-29T06:50:07.988Z"
   },
   {
    "duration": 50,
    "start_time": "2022-10-29T06:50:08.012Z"
   },
   {
    "duration": 8,
    "start_time": "2022-10-29T06:50:08.064Z"
   },
   {
    "duration": 20,
    "start_time": "2022-10-29T06:50:08.076Z"
   },
   {
    "duration": 219,
    "start_time": "2022-10-29T06:50:08.098Z"
   },
   {
    "duration": 233,
    "start_time": "2022-10-29T06:50:08.318Z"
   },
   {
    "duration": 247,
    "start_time": "2022-10-29T06:50:08.554Z"
   },
   {
    "duration": 369,
    "start_time": "2022-10-29T06:50:08.802Z"
   },
   {
    "duration": 275,
    "start_time": "2022-10-29T06:50:09.172Z"
   },
   {
    "duration": 197,
    "start_time": "2022-10-29T06:50:09.449Z"
   },
   {
    "duration": 188,
    "start_time": "2022-10-29T06:50:09.647Z"
   },
   {
    "duration": 155,
    "start_time": "2022-10-29T06:50:09.837Z"
   },
   {
    "duration": 211,
    "start_time": "2022-10-29T06:50:09.994Z"
   },
   {
    "duration": 218,
    "start_time": "2022-10-29T06:50:10.206Z"
   },
   {
    "duration": 234,
    "start_time": "2022-10-29T06:50:10.426Z"
   },
   {
    "duration": 206,
    "start_time": "2022-10-29T06:50:10.662Z"
   },
   {
    "duration": 214,
    "start_time": "2022-10-29T06:50:10.870Z"
   },
   {
    "duration": 218,
    "start_time": "2022-10-29T06:50:11.086Z"
   },
   {
    "duration": 213,
    "start_time": "2022-10-29T06:50:11.306Z"
   },
   {
    "duration": 297,
    "start_time": "2022-10-29T06:50:11.521Z"
   },
   {
    "duration": 196,
    "start_time": "2022-10-29T06:50:11.820Z"
   },
   {
    "duration": 167,
    "start_time": "2022-10-29T06:50:12.017Z"
   },
   {
    "duration": 154,
    "start_time": "2022-10-29T06:50:12.186Z"
   },
   {
    "duration": 169,
    "start_time": "2022-10-29T06:50:12.341Z"
   },
   {
    "duration": 175,
    "start_time": "2022-10-29T06:50:12.513Z"
   },
   {
    "duration": 159,
    "start_time": "2022-10-29T06:50:12.689Z"
   },
   {
    "duration": 27,
    "start_time": "2022-10-29T06:50:12.850Z"
   },
   {
    "duration": 173,
    "start_time": "2022-10-29T06:50:12.879Z"
   },
   {
    "duration": 498,
    "start_time": "2022-10-29T06:55:30.917Z"
   },
   {
    "duration": 2154,
    "start_time": "2022-10-29T06:55:31.418Z"
   },
   {
    "duration": 13,
    "start_time": "2022-10-29T06:55:33.574Z"
   },
   {
    "duration": 13,
    "start_time": "2022-10-29T06:55:33.589Z"
   },
   {
    "duration": 47,
    "start_time": "2022-10-29T06:55:33.603Z"
   },
   {
    "duration": 25,
    "start_time": "2022-10-29T06:55:33.652Z"
   },
   {
    "duration": 19,
    "start_time": "2022-10-29T06:55:33.679Z"
   },
   {
    "duration": 229,
    "start_time": "2022-10-29T06:55:33.699Z"
   },
   {
    "duration": 238,
    "start_time": "2022-10-29T06:55:33.929Z"
   },
   {
    "duration": 255,
    "start_time": "2022-10-29T06:55:34.169Z"
   },
   {
    "duration": 391,
    "start_time": "2022-10-29T06:55:34.426Z"
   },
   {
    "duration": 270,
    "start_time": "2022-10-29T06:55:34.819Z"
   },
   {
    "duration": 248,
    "start_time": "2022-10-29T06:55:35.091Z"
   },
   {
    "duration": 206,
    "start_time": "2022-10-29T06:55:35.341Z"
   },
   {
    "duration": 153,
    "start_time": "2022-10-29T06:55:35.548Z"
   },
   {
    "duration": 211,
    "start_time": "2022-10-29T06:55:35.703Z"
   },
   {
    "duration": 229,
    "start_time": "2022-10-29T06:55:35.916Z"
   },
   {
    "duration": 214,
    "start_time": "2022-10-29T06:55:36.148Z"
   },
   {
    "duration": 213,
    "start_time": "2022-10-29T06:55:36.364Z"
   },
   {
    "duration": 205,
    "start_time": "2022-10-29T06:55:36.578Z"
   },
   {
    "duration": 244,
    "start_time": "2022-10-29T06:55:36.785Z"
   },
   {
    "duration": 230,
    "start_time": "2022-10-29T06:55:37.031Z"
   },
   {
    "duration": 308,
    "start_time": "2022-10-29T06:55:37.262Z"
   },
   {
    "duration": 201,
    "start_time": "2022-10-29T06:55:37.576Z"
   },
   {
    "duration": 192,
    "start_time": "2022-10-29T06:55:37.779Z"
   },
   {
    "duration": 161,
    "start_time": "2022-10-29T06:55:37.973Z"
   },
   {
    "duration": 186,
    "start_time": "2022-10-29T06:55:38.136Z"
   },
   {
    "duration": 178,
    "start_time": "2022-10-29T06:55:38.325Z"
   },
   {
    "duration": 202,
    "start_time": "2022-10-29T06:55:38.505Z"
   },
   {
    "duration": 22,
    "start_time": "2022-10-29T06:55:38.709Z"
   },
   {
    "duration": 207,
    "start_time": "2022-10-29T06:55:38.733Z"
   },
   {
    "duration": 507,
    "start_time": "2022-10-29T07:27:30.475Z"
   },
   {
    "duration": 2062,
    "start_time": "2022-10-29T07:27:30.984Z"
   },
   {
    "duration": 13,
    "start_time": "2022-10-29T07:27:33.047Z"
   },
   {
    "duration": 21,
    "start_time": "2022-10-29T07:27:33.061Z"
   },
   {
    "duration": 58,
    "start_time": "2022-10-29T07:27:33.084Z"
   },
   {
    "duration": 7,
    "start_time": "2022-10-29T07:27:33.144Z"
   },
   {
    "duration": 15,
    "start_time": "2022-10-29T07:27:33.153Z"
   },
   {
    "duration": 225,
    "start_time": "2022-10-29T07:27:33.169Z"
   },
   {
    "duration": 220,
    "start_time": "2022-10-29T07:27:33.395Z"
   },
   {
    "duration": 217,
    "start_time": "2022-10-29T07:27:33.618Z"
   },
   {
    "duration": 352,
    "start_time": "2022-10-29T07:27:33.836Z"
   },
   {
    "duration": 272,
    "start_time": "2022-10-29T07:27:34.190Z"
   },
   {
    "duration": 202,
    "start_time": "2022-10-29T07:27:34.463Z"
   },
   {
    "duration": 187,
    "start_time": "2022-10-29T07:27:34.666Z"
   },
   {
    "duration": 147,
    "start_time": "2022-10-29T07:27:34.855Z"
   },
   {
    "duration": 192,
    "start_time": "2022-10-29T07:27:35.009Z"
   },
   {
    "duration": 201,
    "start_time": "2022-10-29T07:27:35.202Z"
   },
   {
    "duration": 196,
    "start_time": "2022-10-29T07:27:35.408Z"
   },
   {
    "duration": 180,
    "start_time": "2022-10-29T07:27:35.608Z"
   },
   {
    "duration": 179,
    "start_time": "2022-10-29T07:27:35.789Z"
   },
   {
    "duration": 198,
    "start_time": "2022-10-29T07:27:35.970Z"
   },
   {
    "duration": 221,
    "start_time": "2022-10-29T07:27:36.170Z"
   },
   {
    "duration": 269,
    "start_time": "2022-10-29T07:27:36.392Z"
   },
   {
    "duration": 191,
    "start_time": "2022-10-29T07:27:36.663Z"
   },
   {
    "duration": 161,
    "start_time": "2022-10-29T07:27:36.856Z"
   },
   {
    "duration": 151,
    "start_time": "2022-10-29T07:27:37.019Z"
   },
   {
    "duration": 174,
    "start_time": "2022-10-29T07:27:37.172Z"
   },
   {
    "duration": 176,
    "start_time": "2022-10-29T07:27:37.349Z"
   },
   {
    "duration": 167,
    "start_time": "2022-10-29T07:27:37.527Z"
   },
   {
    "duration": 28,
    "start_time": "2022-10-29T07:27:37.696Z"
   },
   {
    "duration": 184,
    "start_time": "2022-10-29T07:27:37.725Z"
   },
   {
    "duration": 7,
    "start_time": "2022-10-29T07:29:03.979Z"
   },
   {
    "duration": 14,
    "start_time": "2022-10-29T07:29:40.079Z"
   },
   {
    "duration": 7,
    "start_time": "2022-10-29T07:30:18.241Z"
   },
   {
    "duration": 35,
    "start_time": "2022-10-29T07:30:24.134Z"
   },
   {
    "duration": 7,
    "start_time": "2022-10-29T07:30:35.210Z"
   },
   {
    "duration": 139,
    "start_time": "2022-10-29T07:33:33.404Z"
   },
   {
    "duration": 153,
    "start_time": "2022-10-29T07:33:51.287Z"
   },
   {
    "duration": 52,
    "start_time": "2022-10-29T10:43:12.748Z"
   },
   {
    "duration": 444,
    "start_time": "2022-10-29T10:43:50.881Z"
   },
   {
    "duration": 353,
    "start_time": "2022-10-29T10:44:03.476Z"
   },
   {
    "duration": 41,
    "start_time": "2022-10-29T10:49:12.785Z"
   },
   {
    "duration": 2285,
    "start_time": "2022-10-29T10:55:17.456Z"
   },
   {
    "duration": 28,
    "start_time": "2022-10-29T11:16:50.202Z"
   },
   {
    "duration": 22,
    "start_time": "2022-10-29T11:19:39.693Z"
   },
   {
    "duration": 92,
    "start_time": "2022-10-29T11:19:49.159Z"
   },
   {
    "duration": 20,
    "start_time": "2022-10-29T11:26:12.558Z"
   },
   {
    "duration": 17,
    "start_time": "2022-10-29T11:26:21.952Z"
   },
   {
    "duration": 18,
    "start_time": "2022-10-29T11:26:35.703Z"
   },
   {
    "duration": 18,
    "start_time": "2022-10-29T11:26:48.185Z"
   },
   {
    "duration": 429,
    "start_time": "2022-10-29T11:26:57.598Z"
   },
   {
    "duration": 140,
    "start_time": "2022-10-29T11:26:58.028Z"
   },
   {
    "duration": 2119,
    "start_time": "2022-10-29T11:26:58.170Z"
   },
   {
    "duration": 14,
    "start_time": "2022-10-29T11:27:00.292Z"
   },
   {
    "duration": 43,
    "start_time": "2022-10-29T11:27:00.308Z"
   },
   {
    "duration": 71,
    "start_time": "2022-10-29T11:27:00.353Z"
   },
   {
    "duration": 27,
    "start_time": "2022-10-29T11:27:00.426Z"
   },
   {
    "duration": 29,
    "start_time": "2022-10-29T11:27:00.454Z"
   },
   {
    "duration": 211,
    "start_time": "2022-10-29T11:27:00.485Z"
   },
   {
    "duration": 226,
    "start_time": "2022-10-29T11:27:00.699Z"
   },
   {
    "duration": 218,
    "start_time": "2022-10-29T11:27:00.926Z"
   },
   {
    "duration": 427,
    "start_time": "2022-10-29T11:27:01.146Z"
   },
   {
    "duration": 197,
    "start_time": "2022-10-29T11:27:01.574Z"
   },
   {
    "duration": 177,
    "start_time": "2022-10-29T11:27:01.773Z"
   },
   {
    "duration": 190,
    "start_time": "2022-10-29T11:27:01.952Z"
   },
   {
    "duration": 157,
    "start_time": "2022-10-29T11:27:02.144Z"
   },
   {
    "duration": 219,
    "start_time": "2022-10-29T11:27:02.303Z"
   },
   {
    "duration": 260,
    "start_time": "2022-10-29T11:27:02.524Z"
   },
   {
    "duration": 214,
    "start_time": "2022-10-29T11:27:02.786Z"
   },
   {
    "duration": 183,
    "start_time": "2022-10-29T11:27:03.001Z"
   },
   {
    "duration": 186,
    "start_time": "2022-10-29T11:27:03.185Z"
   },
   {
    "duration": 274,
    "start_time": "2022-10-29T11:27:03.373Z"
   },
   {
    "duration": 209,
    "start_time": "2022-10-29T11:27:03.648Z"
   },
   {
    "duration": 221,
    "start_time": "2022-10-29T11:27:03.859Z"
   },
   {
    "duration": 199,
    "start_time": "2022-10-29T11:27:04.083Z"
   },
   {
    "duration": 168,
    "start_time": "2022-10-29T11:27:04.284Z"
   },
   {
    "duration": 151,
    "start_time": "2022-10-29T11:27:04.454Z"
   },
   {
    "duration": 177,
    "start_time": "2022-10-29T11:27:04.611Z"
   },
   {
    "duration": 173,
    "start_time": "2022-10-29T11:27:04.790Z"
   },
   {
    "duration": 167,
    "start_time": "2022-10-29T11:27:04.965Z"
   },
   {
    "duration": 19,
    "start_time": "2022-10-29T11:27:05.134Z"
   },
   {
    "duration": 181,
    "start_time": "2022-10-29T11:27:05.155Z"
   },
   {
    "duration": 7,
    "start_time": "2022-10-29T11:28:30.745Z"
   },
   {
    "duration": 54,
    "start_time": "2022-10-29T11:29:04.497Z"
   },
   {
    "duration": 49,
    "start_time": "2022-10-29T11:29:10.878Z"
   },
   {
    "duration": 8,
    "start_time": "2022-10-29T11:29:20.611Z"
   },
   {
    "duration": 9,
    "start_time": "2022-10-29T11:32:18.303Z"
   },
   {
    "duration": 84,
    "start_time": "2022-10-29T11:32:23.415Z"
   },
   {
    "duration": 10,
    "start_time": "2022-10-29T11:32:30.050Z"
   },
   {
    "duration": 2301,
    "start_time": "2022-10-29T11:51:25.261Z"
   },
   {
    "duration": 2285,
    "start_time": "2022-10-29T11:56:19.023Z"
   },
   {
    "duration": 2414,
    "start_time": "2022-10-29T11:56:57.267Z"
   },
   {
    "duration": 2251,
    "start_time": "2022-10-29T11:59:50.107Z"
   },
   {
    "duration": 2346,
    "start_time": "2022-10-29T12:05:01.770Z"
   },
   {
    "duration": 2350,
    "start_time": "2022-10-29T12:05:41.400Z"
   },
   {
    "duration": 4,
    "start_time": "2022-10-29T12:07:57.162Z"
   },
   {
    "duration": 2323,
    "start_time": "2022-10-29T12:08:02.771Z"
   },
   {
    "duration": 4,
    "start_time": "2022-10-29T12:08:25.903Z"
   },
   {
    "duration": 54,
    "start_time": "2022-10-29T12:08:46.010Z"
   },
   {
    "duration": 39,
    "start_time": "2022-10-29T12:08:50.144Z"
   },
   {
    "duration": 48,
    "start_time": "2022-10-29T12:09:01.612Z"
   },
   {
    "duration": 2262,
    "start_time": "2022-10-29T12:09:06.797Z"
   },
   {
    "duration": 2574,
    "start_time": "2022-10-29T12:10:02.503Z"
   },
   {
    "duration": 2240,
    "start_time": "2022-10-29T12:10:44.131Z"
   },
   {
    "duration": 2268,
    "start_time": "2022-10-29T12:11:23.791Z"
   },
   {
    "duration": 2240,
    "start_time": "2022-10-29T12:18:58.173Z"
   },
   {
    "duration": 2252,
    "start_time": "2022-10-29T12:19:18.779Z"
   },
   {
    "duration": 2310,
    "start_time": "2022-10-29T12:19:58.797Z"
   },
   {
    "duration": 2507,
    "start_time": "2022-10-29T12:20:32.225Z"
   },
   {
    "duration": 25,
    "start_time": "2022-10-29T12:20:56.428Z"
   },
   {
    "duration": 26,
    "start_time": "2022-10-29T12:21:16.064Z"
   },
   {
    "duration": 22,
    "start_time": "2022-10-29T12:21:23.965Z"
   },
   {
    "duration": 15,
    "start_time": "2022-10-29T12:21:29.631Z"
   },
   {
    "duration": 17,
    "start_time": "2022-10-29T12:21:43.591Z"
   },
   {
    "duration": 5,
    "start_time": "2022-10-29T12:22:18.779Z"
   },
   {
    "duration": 115,
    "start_time": "2022-10-29T12:22:22.046Z"
   },
   {
    "duration": 24,
    "start_time": "2022-10-29T12:22:27.077Z"
   },
   {
    "duration": 22,
    "start_time": "2022-10-29T12:22:46.473Z"
   },
   {
    "duration": 399,
    "start_time": "2022-10-29T12:22:53.634Z"
   },
   {
    "duration": 183,
    "start_time": "2022-10-29T12:22:54.034Z"
   },
   {
    "duration": 0,
    "start_time": "2022-10-29T12:22:54.220Z"
   },
   {
    "duration": 0,
    "start_time": "2022-10-29T12:22:54.221Z"
   },
   {
    "duration": 0,
    "start_time": "2022-10-29T12:22:54.222Z"
   },
   {
    "duration": 0,
    "start_time": "2022-10-29T12:22:54.224Z"
   },
   {
    "duration": 0,
    "start_time": "2022-10-29T12:22:54.225Z"
   },
   {
    "duration": 0,
    "start_time": "2022-10-29T12:22:54.227Z"
   },
   {
    "duration": 0,
    "start_time": "2022-10-29T12:22:54.228Z"
   },
   {
    "duration": 0,
    "start_time": "2022-10-29T12:22:54.229Z"
   },
   {
    "duration": 0,
    "start_time": "2022-10-29T12:22:54.230Z"
   },
   {
    "duration": 0,
    "start_time": "2022-10-29T12:22:54.231Z"
   },
   {
    "duration": 0,
    "start_time": "2022-10-29T12:22:54.232Z"
   },
   {
    "duration": 0,
    "start_time": "2022-10-29T12:22:54.233Z"
   },
   {
    "duration": 0,
    "start_time": "2022-10-29T12:22:54.234Z"
   },
   {
    "duration": 0,
    "start_time": "2022-10-29T12:22:54.235Z"
   },
   {
    "duration": 0,
    "start_time": "2022-10-29T12:22:54.236Z"
   },
   {
    "duration": 0,
    "start_time": "2022-10-29T12:22:54.237Z"
   },
   {
    "duration": 0,
    "start_time": "2022-10-29T12:22:54.238Z"
   },
   {
    "duration": 0,
    "start_time": "2022-10-29T12:22:54.239Z"
   },
   {
    "duration": 0,
    "start_time": "2022-10-29T12:22:54.239Z"
   },
   {
    "duration": 0,
    "start_time": "2022-10-29T12:22:54.241Z"
   },
   {
    "duration": 0,
    "start_time": "2022-10-29T12:22:54.242Z"
   },
   {
    "duration": 1,
    "start_time": "2022-10-29T12:22:54.242Z"
   },
   {
    "duration": 0,
    "start_time": "2022-10-29T12:22:54.244Z"
   },
   {
    "duration": 0,
    "start_time": "2022-10-29T12:22:54.245Z"
   },
   {
    "duration": 0,
    "start_time": "2022-10-29T12:22:54.246Z"
   },
   {
    "duration": 0,
    "start_time": "2022-10-29T12:22:54.247Z"
   },
   {
    "duration": 0,
    "start_time": "2022-10-29T12:22:54.248Z"
   },
   {
    "duration": 0,
    "start_time": "2022-10-29T12:22:54.249Z"
   },
   {
    "duration": 0,
    "start_time": "2022-10-29T12:22:54.250Z"
   },
   {
    "duration": 0,
    "start_time": "2022-10-29T12:22:54.251Z"
   },
   {
    "duration": 29,
    "start_time": "2022-10-29T12:23:14.316Z"
   },
   {
    "duration": 52,
    "start_time": "2022-10-29T12:23:55.039Z"
   },
   {
    "duration": 36,
    "start_time": "2022-10-29T12:24:07.272Z"
   },
   {
    "duration": 33,
    "start_time": "2022-10-29T12:25:06.389Z"
   },
   {
    "duration": 17,
    "start_time": "2022-10-29T12:26:14.851Z"
   },
   {
    "duration": 18,
    "start_time": "2022-10-29T12:26:25.237Z"
   },
   {
    "duration": 15,
    "start_time": "2022-10-29T12:26:43.232Z"
   },
   {
    "duration": 15,
    "start_time": "2022-10-29T12:26:52.451Z"
   },
   {
    "duration": 392,
    "start_time": "2022-10-29T12:27:01.129Z"
   },
   {
    "duration": 172,
    "start_time": "2022-10-29T12:27:01.522Z"
   },
   {
    "duration": 0,
    "start_time": "2022-10-29T12:27:01.696Z"
   },
   {
    "duration": 0,
    "start_time": "2022-10-29T12:27:01.697Z"
   },
   {
    "duration": 0,
    "start_time": "2022-10-29T12:27:01.699Z"
   },
   {
    "duration": 0,
    "start_time": "2022-10-29T12:27:01.699Z"
   },
   {
    "duration": 0,
    "start_time": "2022-10-29T12:27:01.701Z"
   },
   {
    "duration": 0,
    "start_time": "2022-10-29T12:27:01.702Z"
   },
   {
    "duration": 0,
    "start_time": "2022-10-29T12:27:01.703Z"
   },
   {
    "duration": 0,
    "start_time": "2022-10-29T12:27:01.709Z"
   },
   {
    "duration": 0,
    "start_time": "2022-10-29T12:27:01.710Z"
   },
   {
    "duration": 0,
    "start_time": "2022-10-29T12:27:01.711Z"
   },
   {
    "duration": 0,
    "start_time": "2022-10-29T12:27:01.712Z"
   },
   {
    "duration": 0,
    "start_time": "2022-10-29T12:27:01.713Z"
   },
   {
    "duration": 0,
    "start_time": "2022-10-29T12:27:01.714Z"
   },
   {
    "duration": 0,
    "start_time": "2022-10-29T12:27:01.715Z"
   },
   {
    "duration": 0,
    "start_time": "2022-10-29T12:27:01.716Z"
   },
   {
    "duration": 0,
    "start_time": "2022-10-29T12:27:01.717Z"
   },
   {
    "duration": 0,
    "start_time": "2022-10-29T12:27:01.718Z"
   },
   {
    "duration": 0,
    "start_time": "2022-10-29T12:27:01.719Z"
   },
   {
    "duration": 0,
    "start_time": "2022-10-29T12:27:01.719Z"
   },
   {
    "duration": 0,
    "start_time": "2022-10-29T12:27:01.721Z"
   },
   {
    "duration": 0,
    "start_time": "2022-10-29T12:27:01.722Z"
   },
   {
    "duration": 0,
    "start_time": "2022-10-29T12:27:01.723Z"
   },
   {
    "duration": 0,
    "start_time": "2022-10-29T12:27:01.724Z"
   },
   {
    "duration": 0,
    "start_time": "2022-10-29T12:27:01.725Z"
   },
   {
    "duration": 1,
    "start_time": "2022-10-29T12:27:01.725Z"
   },
   {
    "duration": 0,
    "start_time": "2022-10-29T12:27:01.726Z"
   },
   {
    "duration": 0,
    "start_time": "2022-10-29T12:27:01.728Z"
   },
   {
    "duration": 0,
    "start_time": "2022-10-29T12:27:01.729Z"
   },
   {
    "duration": 0,
    "start_time": "2022-10-29T12:27:01.729Z"
   },
   {
    "duration": 0,
    "start_time": "2022-10-29T12:27:01.730Z"
   },
   {
    "duration": 20,
    "start_time": "2022-10-29T12:27:14.807Z"
   },
   {
    "duration": 19,
    "start_time": "2022-10-29T12:27:39.508Z"
   },
   {
    "duration": 2055,
    "start_time": "2022-10-29T12:27:42.870Z"
   },
   {
    "duration": 43,
    "start_time": "2022-10-29T12:29:49.400Z"
   },
   {
    "duration": 1786,
    "start_time": "2022-10-29T12:29:58.320Z"
   },
   {
    "duration": 1783,
    "start_time": "2022-10-29T12:30:16.502Z"
   },
   {
    "duration": 1690,
    "start_time": "2022-10-29T12:30:38.112Z"
   },
   {
    "duration": 1806,
    "start_time": "2022-10-29T12:31:29.005Z"
   },
   {
    "duration": 1775,
    "start_time": "2022-10-29T12:32:07.166Z"
   },
   {
    "duration": 398,
    "start_time": "2022-10-29T12:32:50.030Z"
   },
   {
    "duration": 184,
    "start_time": "2022-10-29T12:32:50.430Z"
   },
   {
    "duration": 0,
    "start_time": "2022-10-29T12:32:50.617Z"
   },
   {
    "duration": 0,
    "start_time": "2022-10-29T12:32:50.618Z"
   },
   {
    "duration": 0,
    "start_time": "2022-10-29T12:32:50.619Z"
   },
   {
    "duration": 0,
    "start_time": "2022-10-29T12:32:50.620Z"
   },
   {
    "duration": 0,
    "start_time": "2022-10-29T12:32:50.620Z"
   },
   {
    "duration": 0,
    "start_time": "2022-10-29T12:32:50.621Z"
   },
   {
    "duration": 0,
    "start_time": "2022-10-29T12:32:50.622Z"
   },
   {
    "duration": 0,
    "start_time": "2022-10-29T12:32:50.623Z"
   },
   {
    "duration": 0,
    "start_time": "2022-10-29T12:32:50.624Z"
   },
   {
    "duration": 0,
    "start_time": "2022-10-29T12:32:50.625Z"
   },
   {
    "duration": 0,
    "start_time": "2022-10-29T12:32:50.625Z"
   },
   {
    "duration": 0,
    "start_time": "2022-10-29T12:32:50.626Z"
   },
   {
    "duration": 0,
    "start_time": "2022-10-29T12:32:50.627Z"
   },
   {
    "duration": 0,
    "start_time": "2022-10-29T12:32:50.628Z"
   },
   {
    "duration": 0,
    "start_time": "2022-10-29T12:32:50.629Z"
   },
   {
    "duration": 0,
    "start_time": "2022-10-29T12:32:50.630Z"
   },
   {
    "duration": 0,
    "start_time": "2022-10-29T12:32:50.631Z"
   },
   {
    "duration": 0,
    "start_time": "2022-10-29T12:32:50.633Z"
   },
   {
    "duration": 0,
    "start_time": "2022-10-29T12:32:50.634Z"
   },
   {
    "duration": 0,
    "start_time": "2022-10-29T12:32:50.635Z"
   },
   {
    "duration": 0,
    "start_time": "2022-10-29T12:32:50.635Z"
   },
   {
    "duration": 0,
    "start_time": "2022-10-29T12:32:50.637Z"
   },
   {
    "duration": 0,
    "start_time": "2022-10-29T12:32:50.639Z"
   },
   {
    "duration": 0,
    "start_time": "2022-10-29T12:32:50.640Z"
   },
   {
    "duration": 0,
    "start_time": "2022-10-29T12:32:50.642Z"
   },
   {
    "duration": 1,
    "start_time": "2022-10-29T12:32:50.643Z"
   },
   {
    "duration": 0,
    "start_time": "2022-10-29T12:32:50.645Z"
   },
   {
    "duration": 0,
    "start_time": "2022-10-29T12:32:50.647Z"
   },
   {
    "duration": 0,
    "start_time": "2022-10-29T12:32:50.648Z"
   },
   {
    "duration": 1,
    "start_time": "2022-10-29T12:32:50.649Z"
   },
   {
    "duration": 2024,
    "start_time": "2022-10-29T12:33:18.793Z"
   },
   {
    "duration": 1739,
    "start_time": "2022-10-29T12:34:20.253Z"
   },
   {
    "duration": 1719,
    "start_time": "2022-10-29T12:35:20.151Z"
   },
   {
    "duration": 413,
    "start_time": "2022-10-30T11:25:59.323Z"
   },
   {
    "duration": 347,
    "start_time": "2022-10-30T11:25:59.738Z"
   },
   {
    "duration": 2647,
    "start_time": "2022-10-30T11:26:00.086Z"
   },
   {
    "duration": 14,
    "start_time": "2022-10-30T11:26:02.736Z"
   },
   {
    "duration": 35,
    "start_time": "2022-10-30T11:26:02.752Z"
   },
   {
    "duration": 63,
    "start_time": "2022-10-30T11:26:02.789Z"
   },
   {
    "duration": 2308,
    "start_time": "2022-10-30T11:26:02.854Z"
   },
   {
    "duration": 23,
    "start_time": "2022-10-30T11:26:05.164Z"
   },
   {
    "duration": 251,
    "start_time": "2022-10-30T11:26:05.189Z"
   },
   {
    "duration": 376,
    "start_time": "2022-10-30T11:26:05.445Z"
   },
   {
    "duration": 258,
    "start_time": "2022-10-30T11:26:05.823Z"
   },
   {
    "duration": 514,
    "start_time": "2022-10-30T11:26:06.083Z"
   },
   {
    "duration": 261,
    "start_time": "2022-10-30T11:26:06.600Z"
   },
   {
    "duration": 239,
    "start_time": "2022-10-30T11:26:06.863Z"
   },
   {
    "duration": 202,
    "start_time": "2022-10-30T11:26:07.104Z"
   },
   {
    "duration": 236,
    "start_time": "2022-10-30T11:26:07.308Z"
   },
   {
    "duration": 251,
    "start_time": "2022-10-30T11:26:07.546Z"
   },
   {
    "duration": 269,
    "start_time": "2022-10-30T11:26:07.800Z"
   },
   {
    "duration": 231,
    "start_time": "2022-10-30T11:26:08.071Z"
   },
   {
    "duration": 214,
    "start_time": "2022-10-30T11:26:08.304Z"
   },
   {
    "duration": 310,
    "start_time": "2022-10-30T11:26:08.521Z"
   },
   {
    "duration": 277,
    "start_time": "2022-10-30T11:26:08.833Z"
   },
   {
    "duration": 229,
    "start_time": "2022-10-30T11:26:09.112Z"
   },
   {
    "duration": 228,
    "start_time": "2022-10-30T11:26:09.343Z"
   },
   {
    "duration": 213,
    "start_time": "2022-10-30T11:26:09.573Z"
   },
   {
    "duration": 190,
    "start_time": "2022-10-30T11:26:09.787Z"
   },
   {
    "duration": 253,
    "start_time": "2022-10-30T11:26:09.978Z"
   },
   {
    "duration": 200,
    "start_time": "2022-10-30T11:26:10.236Z"
   },
   {
    "duration": 204,
    "start_time": "2022-10-30T11:26:10.438Z"
   },
   {
    "duration": 183,
    "start_time": "2022-10-30T11:26:10.645Z"
   },
   {
    "duration": 35,
    "start_time": "2022-10-30T11:26:10.830Z"
   },
   {
    "duration": 197,
    "start_time": "2022-10-30T11:26:10.867Z"
   },
   {
    "duration": 2525,
    "start_time": "2022-10-30T11:28:46.040Z"
   },
   {
    "duration": 2760,
    "start_time": "2022-10-30T11:29:04.673Z"
   },
   {
    "duration": 46,
    "start_time": "2022-10-30T11:29:50.838Z"
   },
   {
    "duration": 117,
    "start_time": "2022-10-30T11:30:01.934Z"
   },
   {
    "duration": 2570,
    "start_time": "2022-10-30T11:30:12.090Z"
   },
   {
    "duration": 247,
    "start_time": "2022-10-30T11:30:26.003Z"
   },
   {
    "duration": 2714,
    "start_time": "2022-10-30T11:30:30.665Z"
   },
   {
    "duration": 7,
    "start_time": "2022-10-30T11:30:55.357Z"
   },
   {
    "duration": 2684,
    "start_time": "2022-10-30T11:30:58.473Z"
   },
   {
    "duration": 173,
    "start_time": "2022-10-30T11:32:02.309Z"
   },
   {
    "duration": 23,
    "start_time": "2022-10-30T11:32:15.256Z"
   },
   {
    "duration": 25,
    "start_time": "2022-10-30T11:32:37.637Z"
   },
   {
    "duration": 25,
    "start_time": "2022-10-30T11:32:43.985Z"
   },
   {
    "duration": 428,
    "start_time": "2022-10-30T11:32:49.323Z"
   },
   {
    "duration": 137,
    "start_time": "2022-10-30T11:32:49.754Z"
   },
   {
    "duration": 2727,
    "start_time": "2022-10-30T11:32:49.893Z"
   },
   {
    "duration": 22,
    "start_time": "2022-10-30T11:32:52.622Z"
   },
   {
    "duration": 16,
    "start_time": "2022-10-30T11:32:52.646Z"
   },
   {
    "duration": 72,
    "start_time": "2022-10-30T11:32:52.664Z"
   },
   {
    "duration": 42,
    "start_time": "2022-10-30T11:32:52.738Z"
   },
   {
    "duration": 29,
    "start_time": "2022-10-30T11:32:52.782Z"
   },
   {
    "duration": 297,
    "start_time": "2022-10-30T11:32:52.814Z"
   },
   {
    "duration": 303,
    "start_time": "2022-10-30T11:32:53.115Z"
   },
   {
    "duration": 329,
    "start_time": "2022-10-30T11:32:53.420Z"
   },
   {
    "duration": 575,
    "start_time": "2022-10-30T11:32:53.751Z"
   },
   {
    "duration": 249,
    "start_time": "2022-10-30T11:32:54.329Z"
   },
   {
    "duration": 274,
    "start_time": "2022-10-30T11:32:54.580Z"
   },
   {
    "duration": 225,
    "start_time": "2022-10-30T11:32:54.857Z"
   },
   {
    "duration": 194,
    "start_time": "2022-10-30T11:32:55.085Z"
   },
   {
    "duration": 283,
    "start_time": "2022-10-30T11:32:55.281Z"
   },
   {
    "duration": 268,
    "start_time": "2022-10-30T11:32:55.567Z"
   },
   {
    "duration": 239,
    "start_time": "2022-10-30T11:32:55.837Z"
   },
   {
    "duration": 236,
    "start_time": "2022-10-30T11:32:56.078Z"
   },
   {
    "duration": 355,
    "start_time": "2022-10-30T11:32:56.317Z"
   },
   {
    "duration": 256,
    "start_time": "2022-10-30T11:32:56.674Z"
   },
   {
    "duration": 248,
    "start_time": "2022-10-30T11:32:56.932Z"
   },
   {
    "duration": 233,
    "start_time": "2022-10-30T11:32:57.183Z"
   },
   {
    "duration": 217,
    "start_time": "2022-10-30T11:32:57.418Z"
   },
   {
    "duration": 175,
    "start_time": "2022-10-30T11:32:57.637Z"
   },
   {
    "duration": 194,
    "start_time": "2022-10-30T11:32:57.813Z"
   },
   {
    "duration": 192,
    "start_time": "2022-10-30T11:32:58.011Z"
   },
   {
    "duration": 194,
    "start_time": "2022-10-30T11:32:58.205Z"
   },
   {
    "duration": 208,
    "start_time": "2022-10-30T11:32:58.405Z"
   },
   {
    "duration": 45,
    "start_time": "2022-10-30T11:32:58.616Z"
   },
   {
    "duration": 229,
    "start_time": "2022-10-30T11:32:58.663Z"
   },
   {
    "duration": 56,
    "start_time": "2022-10-30T11:46:51.819Z"
   },
   {
    "duration": 30,
    "start_time": "2022-10-30T11:46:56.469Z"
   },
   {
    "duration": 29,
    "start_time": "2022-10-30T11:47:16.078Z"
   },
   {
    "duration": 56,
    "start_time": "2022-10-30T12:04:14.751Z"
   },
   {
    "duration": 50,
    "start_time": "2022-10-30T12:05:38.141Z"
   },
   {
    "duration": 48,
    "start_time": "2022-10-30T12:06:31.801Z"
   },
   {
    "duration": 81,
    "start_time": "2022-10-30T12:19:21.136Z"
   },
   {
    "duration": 449,
    "start_time": "2022-10-30T12:20:13.464Z"
   },
   {
    "duration": 385,
    "start_time": "2022-10-30T12:21:10.160Z"
   },
   {
    "duration": 399,
    "start_time": "2022-10-30T12:21:18.386Z"
   },
   {
    "duration": 23,
    "start_time": "2022-10-30T12:25:07.712Z"
   },
   {
    "duration": 26,
    "start_time": "2022-10-30T12:26:46.894Z"
   },
   {
    "duration": 14,
    "start_time": "2022-10-30T12:26:57.462Z"
   },
   {
    "duration": 34,
    "start_time": "2022-10-30T12:27:42.435Z"
   },
   {
    "duration": 521,
    "start_time": "2022-10-30T12:30:37.060Z"
   },
   {
    "duration": 393,
    "start_time": "2022-10-30T12:35:12.255Z"
   },
   {
    "duration": 371,
    "start_time": "2022-10-30T12:35:34.128Z"
   },
   {
    "duration": 414,
    "start_time": "2022-10-30T12:35:38.004Z"
   },
   {
    "duration": 531,
    "start_time": "2022-10-30T12:35:44.425Z"
   },
   {
    "duration": 65,
    "start_time": "2022-10-30T12:36:39.271Z"
   },
   {
    "duration": 47,
    "start_time": "2022-10-30T12:37:27.879Z"
   },
   {
    "duration": 51,
    "start_time": "2022-10-30T12:46:52.146Z"
   },
   {
    "duration": 452,
    "start_time": "2022-10-30T12:46:58.876Z"
   },
   {
    "duration": 1260,
    "start_time": "2022-10-30T12:47:24.550Z"
   },
   {
    "duration": 1296,
    "start_time": "2022-10-30T12:48:05.659Z"
   },
   {
    "duration": 48,
    "start_time": "2022-10-30T13:14:03.862Z"
   },
   {
    "duration": 206,
    "start_time": "2022-10-30T13:22:53.049Z"
   },
   {
    "duration": 64,
    "start_time": "2022-10-30T13:23:40.104Z"
   },
   {
    "duration": 27,
    "start_time": "2022-10-30T13:26:18.215Z"
   },
   {
    "duration": 52,
    "start_time": "2022-10-30T13:30:49.826Z"
   },
   {
    "duration": 29,
    "start_time": "2022-10-30T13:30:51.993Z"
   },
   {
    "duration": 1195,
    "start_time": "2022-10-30T13:31:03.960Z"
   },
   {
    "duration": 137,
    "start_time": "2022-10-30T13:31:05.157Z"
   },
   {
    "duration": 2017,
    "start_time": "2022-10-30T13:31:05.296Z"
   },
   {
    "duration": 13,
    "start_time": "2022-10-30T13:31:07.315Z"
   },
   {
    "duration": 12,
    "start_time": "2022-10-30T13:31:07.330Z"
   },
   {
    "duration": 58,
    "start_time": "2022-10-30T13:31:07.344Z"
   },
   {
    "duration": 129,
    "start_time": "2022-10-30T13:31:07.404Z"
   },
   {
    "duration": 29,
    "start_time": "2022-10-30T13:31:07.535Z"
   },
   {
    "duration": 234,
    "start_time": "2022-10-30T13:31:07.566Z"
   },
   {
    "duration": 252,
    "start_time": "2022-10-30T13:31:07.804Z"
   },
   {
    "duration": 254,
    "start_time": "2022-10-30T13:31:08.058Z"
   },
   {
    "duration": 397,
    "start_time": "2022-10-30T13:31:08.314Z"
   },
   {
    "duration": 204,
    "start_time": "2022-10-30T13:31:08.713Z"
   },
   {
    "duration": 188,
    "start_time": "2022-10-30T13:31:08.919Z"
   },
   {
    "duration": 312,
    "start_time": "2022-10-30T13:31:09.109Z"
   },
   {
    "duration": 152,
    "start_time": "2022-10-30T13:31:09.423Z"
   },
   {
    "duration": 238,
    "start_time": "2022-10-30T13:31:09.576Z"
   },
   {
    "duration": 241,
    "start_time": "2022-10-30T13:31:09.816Z"
   },
   {
    "duration": 221,
    "start_time": "2022-10-30T13:31:10.059Z"
   },
   {
    "duration": 222,
    "start_time": "2022-10-30T13:31:10.283Z"
   },
   {
    "duration": 214,
    "start_time": "2022-10-30T13:31:10.507Z"
   },
   {
    "duration": 1578,
    "start_time": "2022-10-30T13:31:10.723Z"
   },
   {
    "duration": 218,
    "start_time": "2022-10-30T13:31:12.303Z"
   },
   {
    "duration": 212,
    "start_time": "2022-10-30T13:31:12.522Z"
   },
   {
    "duration": 231,
    "start_time": "2022-10-30T13:31:12.736Z"
   },
   {
    "duration": 196,
    "start_time": "2022-10-30T13:31:12.970Z"
   },
   {
    "duration": 120,
    "start_time": "2022-10-30T13:31:13.168Z"
   },
   {
    "duration": 0,
    "start_time": "2022-10-30T13:31:13.289Z"
   },
   {
    "duration": 0,
    "start_time": "2022-10-30T13:31:13.290Z"
   },
   {
    "duration": 0,
    "start_time": "2022-10-30T13:31:13.292Z"
   },
   {
    "duration": 0,
    "start_time": "2022-10-30T13:31:13.293Z"
   },
   {
    "duration": 0,
    "start_time": "2022-10-30T13:31:13.294Z"
   },
   {
    "duration": 18,
    "start_time": "2022-10-30T13:32:12.103Z"
   },
   {
    "duration": 4,
    "start_time": "2022-10-30T13:51:39.204Z"
   },
   {
    "duration": 15,
    "start_time": "2022-10-30T13:51:44.476Z"
   },
   {
    "duration": 65,
    "start_time": "2022-10-30T13:53:44.551Z"
   },
   {
    "duration": 24,
    "start_time": "2022-10-30T13:53:48.097Z"
   },
   {
    "duration": 199,
    "start_time": "2022-10-30T13:55:36.543Z"
   },
   {
    "duration": 204,
    "start_time": "2022-10-30T13:56:02.285Z"
   },
   {
    "duration": 234,
    "start_time": "2022-10-30T13:56:07.958Z"
   },
   {
    "duration": 14,
    "start_time": "2022-10-30T13:56:40.552Z"
   },
   {
    "duration": 212,
    "start_time": "2022-10-30T13:57:36.948Z"
   },
   {
    "duration": 244,
    "start_time": "2022-10-30T13:57:47.552Z"
   },
   {
    "duration": 189,
    "start_time": "2022-10-30T13:57:50.941Z"
   },
   {
    "duration": 14,
    "start_time": "2022-10-30T13:59:19.786Z"
   },
   {
    "duration": 17,
    "start_time": "2022-10-30T13:59:31.520Z"
   },
   {
    "duration": 22,
    "start_time": "2022-10-30T14:01:41.740Z"
   },
   {
    "duration": 24,
    "start_time": "2022-10-30T14:02:04.419Z"
   },
   {
    "duration": 25,
    "start_time": "2022-10-30T14:02:07.740Z"
   },
   {
    "duration": 31,
    "start_time": "2022-10-30T14:02:16.685Z"
   },
   {
    "duration": 22,
    "start_time": "2022-10-30T14:02:22.757Z"
   },
   {
    "duration": 823,
    "start_time": "2022-10-30T14:02:42.743Z"
   },
   {
    "duration": 764,
    "start_time": "2022-10-30T14:03:12.625Z"
   },
   {
    "duration": 25,
    "start_time": "2022-10-30T14:05:31.832Z"
   },
   {
    "duration": 21,
    "start_time": "2022-10-30T14:05:52.023Z"
   },
   {
    "duration": 15,
    "start_time": "2022-10-30T14:06:02.635Z"
   },
   {
    "duration": 14,
    "start_time": "2022-10-30T14:06:17.382Z"
   },
   {
    "duration": 158,
    "start_time": "2022-10-30T14:06:28.420Z"
   },
   {
    "duration": 139,
    "start_time": "2022-10-30T14:06:40.743Z"
   },
   {
    "duration": 273,
    "start_time": "2022-10-30T14:06:59.090Z"
   },
   {
    "duration": 149,
    "start_time": "2022-10-30T14:07:28.356Z"
   },
   {
    "duration": 57,
    "start_time": "2022-10-30T14:08:40.477Z"
   },
   {
    "duration": 88,
    "start_time": "2022-10-30T14:09:26.581Z"
   },
   {
    "duration": 19,
    "start_time": "2022-10-30T14:50:46.088Z"
   },
   {
    "duration": 13,
    "start_time": "2022-10-30T14:50:50.485Z"
   },
   {
    "duration": 4,
    "start_time": "2022-10-30T14:51:02.849Z"
   },
   {
    "duration": 5,
    "start_time": "2022-10-30T14:51:11.215Z"
   },
   {
    "duration": 14,
    "start_time": "2022-10-30T14:51:48.871Z"
   },
   {
    "duration": 1095,
    "start_time": "2022-10-30T14:52:15.911Z"
   },
   {
    "duration": 5,
    "start_time": "2022-10-30T14:56:57.375Z"
   },
   {
    "duration": 16,
    "start_time": "2022-10-30T14:57:04.567Z"
   },
   {
    "duration": 7,
    "start_time": "2022-10-30T14:59:40.548Z"
   },
   {
    "duration": 1065,
    "start_time": "2022-10-30T15:00:09.385Z"
   },
   {
    "duration": 1121,
    "start_time": "2022-10-30T15:00:34.198Z"
   },
   {
    "duration": 804,
    "start_time": "2022-10-30T15:14:48.778Z"
   },
   {
    "duration": 738,
    "start_time": "2022-10-30T15:14:54.769Z"
   },
   {
    "duration": 610,
    "start_time": "2022-10-30T15:15:11.540Z"
   },
   {
    "duration": 389,
    "start_time": "2022-10-30T15:15:27.794Z"
   },
   {
    "duration": 378,
    "start_time": "2022-10-30T15:16:44.061Z"
   },
   {
    "duration": 4,
    "start_time": "2022-10-30T15:17:22.533Z"
   },
   {
    "duration": 10,
    "start_time": "2022-10-30T15:18:11.401Z"
   },
   {
    "duration": 10,
    "start_time": "2022-10-30T15:18:42.781Z"
   },
   {
    "duration": 13,
    "start_time": "2022-10-30T15:19:46.925Z"
   },
   {
    "duration": 12,
    "start_time": "2022-10-30T15:19:53.988Z"
   },
   {
    "duration": 40,
    "start_time": "2022-10-30T15:21:06.256Z"
   },
   {
    "duration": 1163,
    "start_time": "2022-10-30T15:24:47.369Z"
   },
   {
    "duration": 135,
    "start_time": "2022-10-30T15:24:48.535Z"
   },
   {
    "duration": 1917,
    "start_time": "2022-10-30T15:24:48.672Z"
   },
   {
    "duration": 14,
    "start_time": "2022-10-30T15:24:50.591Z"
   },
   {
    "duration": 16,
    "start_time": "2022-10-30T15:24:50.607Z"
   },
   {
    "duration": 54,
    "start_time": "2022-10-30T15:24:50.624Z"
   },
   {
    "duration": 137,
    "start_time": "2022-10-30T15:24:50.681Z"
   },
   {
    "duration": 37,
    "start_time": "2022-10-30T15:24:50.820Z"
   },
   {
    "duration": 242,
    "start_time": "2022-10-30T15:24:50.859Z"
   },
   {
    "duration": 273,
    "start_time": "2022-10-30T15:24:51.105Z"
   },
   {
    "duration": 331,
    "start_time": "2022-10-30T15:24:51.380Z"
   },
   {
    "duration": 420,
    "start_time": "2022-10-30T15:24:51.713Z"
   },
   {
    "duration": 201,
    "start_time": "2022-10-30T15:24:52.135Z"
   },
   {
    "duration": 207,
    "start_time": "2022-10-30T15:24:52.338Z"
   },
   {
    "duration": 340,
    "start_time": "2022-10-30T15:24:52.547Z"
   },
   {
    "duration": 172,
    "start_time": "2022-10-30T15:24:52.889Z"
   },
   {
    "duration": 206,
    "start_time": "2022-10-30T15:24:53.063Z"
   },
   {
    "duration": 222,
    "start_time": "2022-10-30T15:24:53.271Z"
   },
   {
    "duration": 219,
    "start_time": "2022-10-30T15:24:53.496Z"
   },
   {
    "duration": 212,
    "start_time": "2022-10-30T15:24:53.717Z"
   },
   {
    "duration": 210,
    "start_time": "2022-10-30T15:24:53.930Z"
   },
   {
    "duration": 1394,
    "start_time": "2022-10-30T15:24:54.142Z"
   },
   {
    "duration": 224,
    "start_time": "2022-10-30T15:24:55.539Z"
   },
   {
    "duration": 211,
    "start_time": "2022-10-30T15:24:55.764Z"
   },
   {
    "duration": 206,
    "start_time": "2022-10-30T15:24:55.978Z"
   },
   {
    "duration": 184,
    "start_time": "2022-10-30T15:24:56.186Z"
   },
   {
    "duration": 127,
    "start_time": "2022-10-30T15:24:56.372Z"
   },
   {
    "duration": 180,
    "start_time": "2022-10-30T15:24:56.502Z"
   },
   {
    "duration": 289,
    "start_time": "2022-10-30T15:24:56.684Z"
   },
   {
    "duration": 156,
    "start_time": "2022-10-30T15:24:56.974Z"
   },
   {
    "duration": 9,
    "start_time": "2022-10-30T15:24:57.132Z"
   },
   {
    "duration": 18,
    "start_time": "2022-10-30T15:24:57.153Z"
   },
   {
    "duration": 168,
    "start_time": "2022-10-30T15:24:57.172Z"
   },
   {
    "duration": 160,
    "start_time": "2022-10-30T15:28:21.710Z"
   },
   {
    "duration": 148,
    "start_time": "2022-10-30T15:28:37.685Z"
   },
   {
    "duration": 129,
    "start_time": "2022-10-30T15:49:39.782Z"
   },
   {
    "duration": 11,
    "start_time": "2022-10-30T15:50:46.232Z"
   },
   {
    "duration": 26,
    "start_time": "2022-10-30T15:51:05.499Z"
   },
   {
    "duration": 25,
    "start_time": "2022-10-30T15:59:55.635Z"
   },
   {
    "duration": 25,
    "start_time": "2022-10-30T16:00:07.966Z"
   },
   {
    "duration": 26,
    "start_time": "2022-10-30T16:00:27.812Z"
   },
   {
    "duration": 34,
    "start_time": "2022-10-30T16:01:13.630Z"
   },
   {
    "duration": 29,
    "start_time": "2022-10-30T16:06:35.444Z"
   },
   {
    "duration": 41,
    "start_time": "2022-10-30T16:08:17.942Z"
   },
   {
    "duration": 19,
    "start_time": "2022-10-30T16:12:15.765Z"
   },
   {
    "duration": 1158,
    "start_time": "2022-10-30T16:15:26.916Z"
   },
   {
    "duration": 151,
    "start_time": "2022-10-30T16:15:28.076Z"
   },
   {
    "duration": 1985,
    "start_time": "2022-10-30T16:15:28.228Z"
   },
   {
    "duration": 127,
    "start_time": "2022-10-30T16:15:30.214Z"
   },
   {
    "duration": 24,
    "start_time": "2022-10-30T16:15:30.343Z"
   },
   {
    "duration": 72,
    "start_time": "2022-10-30T16:15:30.369Z"
   },
   {
    "duration": 20,
    "start_time": "2022-10-30T16:15:30.443Z"
   },
   {
    "duration": 32,
    "start_time": "2022-10-30T16:15:30.464Z"
   },
   {
    "duration": 241,
    "start_time": "2022-10-30T16:15:30.497Z"
   },
   {
    "duration": 253,
    "start_time": "2022-10-30T16:15:30.740Z"
   },
   {
    "duration": 239,
    "start_time": "2022-10-30T16:15:30.995Z"
   },
   {
    "duration": 476,
    "start_time": "2022-10-30T16:15:31.235Z"
   },
   {
    "duration": 210,
    "start_time": "2022-10-30T16:15:31.714Z"
   },
   {
    "duration": 199,
    "start_time": "2022-10-30T16:15:31.927Z"
   },
   {
    "duration": 212,
    "start_time": "2022-10-30T16:15:32.127Z"
   },
   {
    "duration": 268,
    "start_time": "2022-10-30T16:15:32.341Z"
   },
   {
    "duration": 220,
    "start_time": "2022-10-30T16:15:32.611Z"
   },
   {
    "duration": 229,
    "start_time": "2022-10-30T16:15:32.833Z"
   },
   {
    "duration": 212,
    "start_time": "2022-10-30T16:15:33.064Z"
   },
   {
    "duration": 216,
    "start_time": "2022-10-30T16:15:33.278Z"
   },
   {
    "duration": 205,
    "start_time": "2022-10-30T16:15:33.496Z"
   },
   {
    "duration": 1460,
    "start_time": "2022-10-30T16:15:33.702Z"
   },
   {
    "duration": 236,
    "start_time": "2022-10-30T16:15:35.164Z"
   },
   {
    "duration": 238,
    "start_time": "2022-10-30T16:15:35.402Z"
   },
   {
    "duration": 214,
    "start_time": "2022-10-30T16:15:35.641Z"
   },
   {
    "duration": 188,
    "start_time": "2022-10-30T16:15:35.856Z"
   },
   {
    "duration": 128,
    "start_time": "2022-10-30T16:15:36.046Z"
   },
   {
    "duration": 180,
    "start_time": "2022-10-30T16:15:36.176Z"
   },
   {
    "duration": 172,
    "start_time": "2022-10-30T16:15:36.358Z"
   },
   {
    "duration": 297,
    "start_time": "2022-10-30T16:15:36.532Z"
   },
   {
    "duration": 11,
    "start_time": "2022-10-30T16:15:36.830Z"
   },
   {
    "duration": 28,
    "start_time": "2022-10-30T16:15:36.842Z"
   },
   {
    "duration": 169,
    "start_time": "2022-10-30T16:15:36.872Z"
   },
   {
    "duration": 54,
    "start_time": "2022-10-30T16:18:28.165Z"
   },
   {
    "duration": 21,
    "start_time": "2022-10-30T16:18:39.265Z"
   },
   {
    "duration": 19,
    "start_time": "2022-10-30T16:18:58.213Z"
   },
   {
    "duration": 40,
    "start_time": "2022-10-30T16:21:07.041Z"
   },
   {
    "duration": 415,
    "start_time": "2022-10-30T16:21:48.189Z"
   },
   {
    "duration": 260,
    "start_time": "2022-10-30T16:24:31.531Z"
   },
   {
    "duration": 191,
    "start_time": "2022-10-30T16:24:35.977Z"
   },
   {
    "duration": 1404,
    "start_time": "2022-10-30T16:25:05.102Z"
   },
   {
    "duration": 198,
    "start_time": "2022-10-30T16:25:20.860Z"
   },
   {
    "duration": 211,
    "start_time": "2022-10-30T16:25:26.952Z"
   },
   {
    "duration": 189,
    "start_time": "2022-10-30T16:25:31.960Z"
   },
   {
    "duration": 177,
    "start_time": "2022-10-30T16:25:48.223Z"
   },
   {
    "duration": 124,
    "start_time": "2022-10-30T16:26:05.456Z"
   },
   {
    "duration": 170,
    "start_time": "2022-10-30T16:26:54.922Z"
   },
   {
    "duration": 333,
    "start_time": "2022-10-30T16:27:56.508Z"
   },
   {
    "duration": 161,
    "start_time": "2022-10-30T16:28:52.196Z"
   },
   {
    "duration": 20,
    "start_time": "2022-10-30T18:13:40.237Z"
   },
   {
    "duration": 26,
    "start_time": "2022-10-30T18:13:50.972Z"
   },
   {
    "duration": 262,
    "start_time": "2022-10-30T18:16:14.338Z"
   },
   {
    "duration": 47,
    "start_time": "2022-10-30T18:36:01.715Z"
   },
   {
    "duration": 1160,
    "start_time": "2022-10-31T06:15:48.042Z"
   },
   {
    "duration": 156,
    "start_time": "2022-10-31T06:15:49.204Z"
   },
   {
    "duration": 1968,
    "start_time": "2022-10-31T06:15:49.361Z"
   },
   {
    "duration": 108,
    "start_time": "2022-10-31T06:15:51.339Z"
   },
   {
    "duration": 24,
    "start_time": "2022-10-31T06:15:51.449Z"
   },
   {
    "duration": 60,
    "start_time": "2022-10-31T06:15:51.475Z"
   },
   {
    "duration": 18,
    "start_time": "2022-10-31T06:15:51.537Z"
   },
   {
    "duration": 39,
    "start_time": "2022-10-31T06:15:51.557Z"
   },
   {
    "duration": 212,
    "start_time": "2022-10-31T06:15:51.597Z"
   },
   {
    "duration": 250,
    "start_time": "2022-10-31T06:15:51.812Z"
   },
   {
    "duration": 235,
    "start_time": "2022-10-31T06:15:52.064Z"
   },
   {
    "duration": 398,
    "start_time": "2022-10-31T06:15:52.301Z"
   },
   {
    "duration": 202,
    "start_time": "2022-10-31T06:15:52.701Z"
   },
   {
    "duration": 190,
    "start_time": "2022-10-31T06:15:52.905Z"
   },
   {
    "duration": 197,
    "start_time": "2022-10-31T06:15:53.097Z"
   },
   {
    "duration": 244,
    "start_time": "2022-10-31T06:15:53.296Z"
   },
   {
    "duration": 204,
    "start_time": "2022-10-31T06:15:53.541Z"
   },
   {
    "duration": 210,
    "start_time": "2022-10-31T06:15:53.747Z"
   },
   {
    "duration": 230,
    "start_time": "2022-10-31T06:15:53.958Z"
   },
   {
    "duration": 235,
    "start_time": "2022-10-31T06:15:54.190Z"
   },
   {
    "duration": 222,
    "start_time": "2022-10-31T06:15:54.428Z"
   },
   {
    "duration": 1359,
    "start_time": "2022-10-31T06:15:54.652Z"
   },
   {
    "duration": 206,
    "start_time": "2022-10-31T06:15:56.013Z"
   },
   {
    "duration": 206,
    "start_time": "2022-10-31T06:15:56.221Z"
   },
   {
    "duration": 203,
    "start_time": "2022-10-31T06:15:56.429Z"
   },
   {
    "duration": 180,
    "start_time": "2022-10-31T06:15:56.638Z"
   },
   {
    "duration": 127,
    "start_time": "2022-10-31T06:15:56.819Z"
   },
   {
    "duration": 211,
    "start_time": "2022-10-31T06:15:56.949Z"
   },
   {
    "duration": 202,
    "start_time": "2022-10-31T06:15:57.163Z"
   },
   {
    "duration": 318,
    "start_time": "2022-10-31T06:15:57.368Z"
   },
   {
    "duration": 10,
    "start_time": "2022-10-31T06:15:57.688Z"
   },
   {
    "duration": 19,
    "start_time": "2022-10-31T06:15:57.700Z"
   },
   {
    "duration": 167,
    "start_time": "2022-10-31T06:15:57.739Z"
   },
   {
    "duration": 15,
    "start_time": "2022-10-31T06:17:13.282Z"
   },
   {
    "duration": 83,
    "start_time": "2022-10-31T06:17:16.337Z"
   }
  ],
  "kernelspec": {
   "display_name": "Python 3 (ipykernel)",
   "language": "python",
   "name": "python3"
  },
  "language_info": {
   "codemirror_mode": {
    "name": "ipython",
    "version": 3
   },
   "file_extension": ".py",
   "mimetype": "text/x-python",
   "name": "python",
   "nbconvert_exporter": "python",
   "pygments_lexer": "ipython3",
   "version": "3.11.5"
  },
  "toc": {
   "base_numbering": 1,
   "nav_menu": {},
   "number_sections": true,
   "sideBar": true,
   "skip_h1_title": true,
   "title_cell": "Table of Contents",
   "title_sidebar": "Contents",
   "toc_cell": false,
   "toc_position": {
    "height": "calc(100% - 180px)",
    "left": "10px",
    "top": "150px",
    "width": "288.991px"
   },
   "toc_section_display": true,
   "toc_window_display": true
  }
 },
 "nbformat": 4,
 "nbformat_minor": 2
}
