{
 "cells": [
  {
   "cell_type": "markdown",
   "metadata": {},
   "source": [
    "# Определение стоимости автомобилей"
   ]
  },
  {
   "cell_type": "markdown",
   "metadata": {},
   "source": [
    "Сервис по продаже автомобилей с пробегом «Не бит, не крашен» разрабатывает приложение для привлечения новых клиентов. В нём можно быстро узнать рыночную стоимость своего автомобиля. В вашем распоряжении исторические данные: технические характеристики, комплектации и цены автомобилей. Вам нужно построить модель для определения стоимости. \n",
    "\n",
    "Заказчику важны:\n",
    "\n",
    "- качество предсказания;\n",
    "- скорость предсказания;\n",
    "- время обучения."
   ]
  },
  {
   "cell_type": "markdown",
   "metadata": {},
   "source": [
    "## Подготовка данных"
   ]
  },
  {
   "cell_type": "markdown",
   "metadata": {},
   "source": [
    "### Подключение библиотек и чтение файла"
   ]
  },
  {
   "cell_type": "code",
   "execution_count": 1,
   "metadata": {},
   "outputs": [],
   "source": [
    "#подключение библиотек\n",
    "import catboost as cb\n",
    "import matplotlib.pyplot as plt\n",
    "import numpy as np\n",
    "import lightgbm as lgb\n",
    "import pandas as pd\n",
    "import time \n",
    "\n",
    "from sklearn.ensemble import RandomForestRegressor\n",
    "from sklearn.model_selection import GridSearchCV\n",
    "from sklearn.model_selection import train_test_split\n",
    "from sklearn.preprocessing import OrdinalEncoder\n",
    "from sklearn.metrics import mean_squared_error\n"
   ]
  },
  {
   "cell_type": "code",
   "execution_count": 2,
   "metadata": {},
   "outputs": [],
   "source": [
    "#читаем файл с сайта или с компа \n",
    "try:\n",
    "    df = pd.read_csv('/datasets/autos.csv')\n",
    "\n",
    "except:\n",
    "    df = pd.read_csv('/home/dmitrii/Документы/ucheba/autos.csv')"
   ]
  },
  {
   "cell_type": "code",
   "execution_count": 3,
   "metadata": {},
   "outputs": [
    {
     "data": {
      "text/html": [
       "<div>\n",
       "<style scoped>\n",
       "    .dataframe tbody tr th:only-of-type {\n",
       "        vertical-align: middle;\n",
       "    }\n",
       "\n",
       "    .dataframe tbody tr th {\n",
       "        vertical-align: top;\n",
       "    }\n",
       "\n",
       "    .dataframe thead th {\n",
       "        text-align: right;\n",
       "    }\n",
       "</style>\n",
       "<table border=\"1\" class=\"dataframe\">\n",
       "  <thead>\n",
       "    <tr style=\"text-align: right;\">\n",
       "      <th></th>\n",
       "      <th>DateCrawled</th>\n",
       "      <th>Price</th>\n",
       "      <th>VehicleType</th>\n",
       "      <th>RegistrationYear</th>\n",
       "      <th>Gearbox</th>\n",
       "      <th>Power</th>\n",
       "      <th>Model</th>\n",
       "      <th>Kilometer</th>\n",
       "      <th>RegistrationMonth</th>\n",
       "      <th>FuelType</th>\n",
       "      <th>Brand</th>\n",
       "      <th>Repaired</th>\n",
       "      <th>DateCreated</th>\n",
       "      <th>NumberOfPictures</th>\n",
       "      <th>PostalCode</th>\n",
       "      <th>LastSeen</th>\n",
       "    </tr>\n",
       "  </thead>\n",
       "  <tbody>\n",
       "    <tr>\n",
       "      <th>0</th>\n",
       "      <td>2016-03-24 11:52:17</td>\n",
       "      <td>480</td>\n",
       "      <td>NaN</td>\n",
       "      <td>1993</td>\n",
       "      <td>manual</td>\n",
       "      <td>0</td>\n",
       "      <td>golf</td>\n",
       "      <td>150000</td>\n",
       "      <td>0</td>\n",
       "      <td>petrol</td>\n",
       "      <td>volkswagen</td>\n",
       "      <td>NaN</td>\n",
       "      <td>2016-03-24 00:00:00</td>\n",
       "      <td>0</td>\n",
       "      <td>70435</td>\n",
       "      <td>2016-04-07 03:16:57</td>\n",
       "    </tr>\n",
       "    <tr>\n",
       "      <th>1</th>\n",
       "      <td>2016-03-24 10:58:45</td>\n",
       "      <td>18300</td>\n",
       "      <td>coupe</td>\n",
       "      <td>2011</td>\n",
       "      <td>manual</td>\n",
       "      <td>190</td>\n",
       "      <td>NaN</td>\n",
       "      <td>125000</td>\n",
       "      <td>5</td>\n",
       "      <td>gasoline</td>\n",
       "      <td>audi</td>\n",
       "      <td>yes</td>\n",
       "      <td>2016-03-24 00:00:00</td>\n",
       "      <td>0</td>\n",
       "      <td>66954</td>\n",
       "      <td>2016-04-07 01:46:50</td>\n",
       "    </tr>\n",
       "    <tr>\n",
       "      <th>2</th>\n",
       "      <td>2016-03-14 12:52:21</td>\n",
       "      <td>9800</td>\n",
       "      <td>suv</td>\n",
       "      <td>2004</td>\n",
       "      <td>auto</td>\n",
       "      <td>163</td>\n",
       "      <td>grand</td>\n",
       "      <td>125000</td>\n",
       "      <td>8</td>\n",
       "      <td>gasoline</td>\n",
       "      <td>jeep</td>\n",
       "      <td>NaN</td>\n",
       "      <td>2016-03-14 00:00:00</td>\n",
       "      <td>0</td>\n",
       "      <td>90480</td>\n",
       "      <td>2016-04-05 12:47:46</td>\n",
       "    </tr>\n",
       "    <tr>\n",
       "      <th>3</th>\n",
       "      <td>2016-03-17 16:54:04</td>\n",
       "      <td>1500</td>\n",
       "      <td>small</td>\n",
       "      <td>2001</td>\n",
       "      <td>manual</td>\n",
       "      <td>75</td>\n",
       "      <td>golf</td>\n",
       "      <td>150000</td>\n",
       "      <td>6</td>\n",
       "      <td>petrol</td>\n",
       "      <td>volkswagen</td>\n",
       "      <td>no</td>\n",
       "      <td>2016-03-17 00:00:00</td>\n",
       "      <td>0</td>\n",
       "      <td>91074</td>\n",
       "      <td>2016-03-17 17:40:17</td>\n",
       "    </tr>\n",
       "    <tr>\n",
       "      <th>4</th>\n",
       "      <td>2016-03-31 17:25:20</td>\n",
       "      <td>3600</td>\n",
       "      <td>small</td>\n",
       "      <td>2008</td>\n",
       "      <td>manual</td>\n",
       "      <td>69</td>\n",
       "      <td>fabia</td>\n",
       "      <td>90000</td>\n",
       "      <td>7</td>\n",
       "      <td>gasoline</td>\n",
       "      <td>skoda</td>\n",
       "      <td>no</td>\n",
       "      <td>2016-03-31 00:00:00</td>\n",
       "      <td>0</td>\n",
       "      <td>60437</td>\n",
       "      <td>2016-04-06 10:17:21</td>\n",
       "    </tr>\n",
       "  </tbody>\n",
       "</table>\n",
       "</div>"
      ],
      "text/plain": [
       "           DateCrawled  Price VehicleType  RegistrationYear Gearbox  Power  \\\n",
       "0  2016-03-24 11:52:17    480         NaN              1993  manual      0   \n",
       "1  2016-03-24 10:58:45  18300       coupe              2011  manual    190   \n",
       "2  2016-03-14 12:52:21   9800         suv              2004    auto    163   \n",
       "3  2016-03-17 16:54:04   1500       small              2001  manual     75   \n",
       "4  2016-03-31 17:25:20   3600       small              2008  manual     69   \n",
       "\n",
       "   Model  Kilometer  RegistrationMonth  FuelType       Brand Repaired  \\\n",
       "0   golf     150000                  0    petrol  volkswagen      NaN   \n",
       "1    NaN     125000                  5  gasoline        audi      yes   \n",
       "2  grand     125000                  8  gasoline        jeep      NaN   \n",
       "3   golf     150000                  6    petrol  volkswagen       no   \n",
       "4  fabia      90000                  7  gasoline       skoda       no   \n",
       "\n",
       "           DateCreated  NumberOfPictures  PostalCode             LastSeen  \n",
       "0  2016-03-24 00:00:00                 0       70435  2016-04-07 03:16:57  \n",
       "1  2016-03-24 00:00:00                 0       66954  2016-04-07 01:46:50  \n",
       "2  2016-03-14 00:00:00                 0       90480  2016-04-05 12:47:46  \n",
       "3  2016-03-17 00:00:00                 0       91074  2016-03-17 17:40:17  \n",
       "4  2016-03-31 00:00:00                 0       60437  2016-04-06 10:17:21  "
      ]
     },
     "execution_count": 3,
     "metadata": {},
     "output_type": "execute_result"
    }
   ],
   "source": [
    "df.head(5)"
   ]
  },
  {
   "cell_type": "code",
   "execution_count": 4,
   "metadata": {},
   "outputs": [
    {
     "data": {
      "text/plain": [
       "DateCrawled              0\n",
       "Price                    0\n",
       "VehicleType          37490\n",
       "RegistrationYear         0\n",
       "Gearbox              19833\n",
       "Power                    0\n",
       "Model                19705\n",
       "Kilometer                0\n",
       "RegistrationMonth        0\n",
       "FuelType             32895\n",
       "Brand                    0\n",
       "Repaired             71154\n",
       "DateCreated              0\n",
       "NumberOfPictures         0\n",
       "PostalCode               0\n",
       "LastSeen                 0\n",
       "dtype: int64"
      ]
     },
     "execution_count": 4,
     "metadata": {},
     "output_type": "execute_result"
    }
   ],
   "source": [
    "df.isnull().sum()"
   ]
  },
  {
   "cell_type": "markdown",
   "metadata": {},
   "source": [
    "### Анализ пропусков, выбросов, избыточной информации."
   ]
  },
  {
   "cell_type": "markdown",
   "metadata": {},
   "source": [
    "Рассмотрим распределение количественных величин у колонок с целью выявления аномалий и выбросов. Гистограмма показывает, что колонки с ценой, датой регистрации и мощностью требуют очистки. Недостатком датасета для обучения является отсутствие пробегов выше 150 тыс.км., что накладывает ограничение на модель предсказания, которое будет отмечено в заключении. "
   ]
  },
  {
   "cell_type": "code",
   "execution_count": 5,
   "metadata": {},
   "outputs": [
    {
     "data": {
      "image/png": "[encoded data removed]",
      "text/plain": [
       "<Figure size 504x504 with 4 Axes>"
      ]
     },
     "metadata": {
      "needs_background": "light"
     },
     "output_type": "display_data"
    }
   ],
   "source": [
    "old_size = df.shape[0]\n",
    "list_hist = ['Price','RegistrationYear','Power','Kilometer','FuelType']\n",
    "df[list_hist].hist(bins=50,figsize = (7,7));"
   ]
  },
  {
   "cell_type": "markdown",
   "metadata": {},
   "source": [
    "Ограничим нижнюю ценю автомобиля 200 у.е."
   ]
  },
  {
   "cell_type": "code",
   "execution_count": 6,
   "metadata": {},
   "outputs": [
    {
     "data": {
      "image/png": "[encoded data removed]",
      "text/plain": [
       "<Figure size 432x288 with 1 Axes>"
      ]
     },
     "metadata": {
      "needs_background": "light"
     },
     "output_type": "display_data"
    }
   ],
   "source": [
    "df = df[df['Price']>=200]\n",
    "df['Price'].hist(bins=50);"
   ]
  },
  {
   "cell_type": "markdown",
   "metadata": {},
   "source": [
    "Введем ограничение о том, что дата регистрации машины должна быть не старше 1990 года, т.к. цена на более старые машины зависит от фактического состояния, а не от характеристик машины."
   ]
  },
  {
   "cell_type": "code",
   "execution_count": 7,
   "metadata": {},
   "outputs": [
    {
     "data": {
      "image/png": "[encoded data removed]",
      "text/plain": [
       "<Figure size 432x288 with 1 Axes>"
      ]
     },
     "metadata": {
      "needs_background": "light"
     },
     "output_type": "display_data"
    }
   ],
   "source": [
    "df = df[(df['RegistrationYear']>=1990)&(df['RegistrationYear']<2023)]\n",
    "df['RegistrationYear'].hist(bins=50);"
   ]
  },
  {
   "cell_type": "markdown",
   "metadata": {},
   "source": [
    "Мощность машины нулевой быть не может и установить ее представляет сложную задачу, поэтому удалим из датасета машины с мощностью менее 30л.с.,а так же с мощностью выше 99 перцентля."
   ]
  },
  {
   "cell_type": "code",
   "execution_count": 8,
   "metadata": {},
   "outputs": [
    {
     "data": {
      "image/png": "[encoded data removed]",
      "text/plain": [
       "<Figure size 432x288 with 1 Axes>"
      ]
     },
     "metadata": {
      "needs_background": "light"
     },
     "output_type": "display_data"
    }
   ],
   "source": [
    "df = df[(df['Power']>=30)&(df['Power']<df['Power'].quantile(0.99))]\n",
    "df['Power'].hist(bins=50);"
   ]
  },
  {
   "cell_type": "markdown",
   "metadata": {},
   "source": [
    "Модель машины является объективно важной величиной. Заполнить пропуски в этой колонки без внесения искажения трудная задача, поэтому избавимся от пропусков удалением таких строк. "
   ]
  },
  {
   "cell_type": "code",
   "execution_count": 9,
   "metadata": {},
   "outputs": [],
   "source": [
    "df = df.dropna(subset=['Model'])"
   ]
  },
  {
   "cell_type": "markdown",
   "metadata": {},
   "source": [
    "Факт ремонта отсутствует у большого количества строк. Рассмотрим эту проблему под тем углом, что отсутствие информации это тоже информация. Пометим такие машины \"0\", подразумевая машины с неизвестной историей. "
   ]
  },
  {
   "cell_type": "code",
   "execution_count": 10,
   "metadata": {},
   "outputs": [],
   "source": [
    "df['Repaired'] = df['Repaired'].fillna('0')"
   ]
  },
  {
   "cell_type": "markdown",
   "metadata": {},
   "source": [
    "Анализируя оставшиеся пропуски видим, что большое количество пропусков имеется в колонке типа машины. По модели машины(например Qashqai) мы можем восстановить без потери данных тип транспортного средства(SUV). Обратное при этом невозможно. Ввиду того, что тип транспортного средства является обобщением разных моделей, то уместно удалить эту колонку.   \n",
    "Т.к. данные мы готовим для обучения, то не все колонки подходят для обучения. Рассмотрим подробнее.\n",
    "1. DateCrawled, DateCreated, LastSeen, RegistrationMonth - даты не должны играть роль, т.к. алгоритм должен найти зависимость между ценой и характеристиками машины, а не датой выставления. \n",
    "2. NumberOfPictures - добавление или удаление картинок не должно влиять на цену машины с точки зрения работы алгоритма ввиду комичной ситуации, когда добавление/удаление фото меняет цену машины. Для эксперта-человека это уже важная информация, но не для алгоритма. \n",
    "3. PostalCode - локационный параметр, который будет оказывать дискриминационное влияние. В случае необходимости учета данного параметра желательно обобщить в более крупные регионы. В данной работе лучше его удалить."
   ]
  },
  {
   "cell_type": "code",
   "execution_count": 11,
   "metadata": {},
   "outputs": [],
   "source": [
    "df.drop(['DateCrawled','VehicleType','RegistrationMonth','DateCreated','NumberOfPictures','PostalCode','LastSeen'],axis=1,inplace=True)"
   ]
  },
  {
   "cell_type": "markdown",
   "metadata": {},
   "source": [
    "Пропуски о типе топлива можно заполнить, используя теорию о том, что тип топлива у одной и той модели машины с одной и такой же мощностью будут одинаковы. Для этого сгруппируем по модели и мощности и сведем это в справочный датафрейм. "
   ]
  },
  {
   "cell_type": "code",
   "execution_count": 12,
   "metadata": {},
   "outputs": [],
   "source": [
    "#группируем по модели и мощности двигателя в \"справочный\" датафрейм\n",
    "df_info = df.groupby(by=['Model','Power']).mean()"
   ]
  },
  {
   "cell_type": "code",
   "execution_count": 13,
   "metadata": {},
   "outputs": [],
   "source": [
    "#добавляем колонку с типом топлива(к сожалению сразу сделать это в groupby не получается)\n",
    "for i in range(len(df_info)):\n",
    "    df_info.loc[df_info.index[i],'FuelType'] = df.loc[ (df['Model']==df_info.index[i][0])&(df['Power']==df_info.index[i][1]) ,'FuelType'].iloc[0]"
   ]
  },
  {
   "cell_type": "code",
   "execution_count": 14,
   "metadata": {},
   "outputs": [],
   "source": [
    "#заполняем пропуски из справочного датафрейма, который создали выше\n",
    "for i in df.index[ df['FuelType'].isnull() ].tolist():\n",
    "    df.loc[i,'FuelType'] = df_info.loc[(df.loc[i,'Model'],df.loc[i,'Power']),'FuelType']"
   ]
  },
  {
   "cell_type": "code",
   "execution_count": 15,
   "metadata": {},
   "outputs": [
    {
     "data": {
      "text/plain": [
       "Price                  0\n",
       "RegistrationYear       0\n",
       "Gearbox             4825\n",
       "Power                  0\n",
       "Model                  0\n",
       "Kilometer              0\n",
       "FuelType            2264\n",
       "Brand                  0\n",
       "Repaired               0\n",
       "dtype: int64"
      ]
     },
     "execution_count": 15,
     "metadata": {},
     "output_type": "execute_result"
    }
   ],
   "source": [
    "df.isna().sum()"
   ]
  },
  {
   "cell_type": "markdown",
   "metadata": {},
   "source": [
    "Оставшиеся пропуски в строках уже труднее заполнить без внесения искажения. Удалим эти строки."
   ]
  },
  {
   "cell_type": "code",
   "execution_count": 16,
   "metadata": {},
   "outputs": [],
   "source": [
    "df = df.dropna()"
   ]
  },
  {
   "cell_type": "markdown",
   "metadata": {},
   "source": [
    "Оцениваем потери датафрейма. При этом следует отметить, что в данной работе не производится анализ данных, а происходит обучение модели. Важно не количество строк, а то насколько правильно они отражают зависимости. "
   ]
  },
  {
   "cell_type": "code",
   "execution_count": 17,
   "metadata": {},
   "outputs": [
    {
     "name": "stdout",
     "output_type": "stream",
     "text": [
      "Потеря датафрейма после очистки 22.434524464611748 %\n"
     ]
    }
   ],
   "source": [
    "loss = abs(df.shape[0] - old_size)/old_size\n",
    "print('Потеря датафрейма после очистки',loss*100,'%')"
   ]
  },
  {
   "cell_type": "markdown",
   "metadata": {},
   "source": [
    "### Разделение выборки \n",
    "Ввиду того, что обучение будем производить методом кросс-валидации разделим датасет на две части - тренировочную и тестовую."
   ]
  },
  {
   "cell_type": "code",
   "execution_count": 18,
   "metadata": {},
   "outputs": [],
   "source": [
    "#Разделение на целевую и множество признаков\n",
    "target = df['Price']\n",
    "features = df.drop('Price', axis=1)\n",
    "#Разделение на обучающую и тестовую\n",
    "features_train, features_test, target_train,target_test = train_test_split(\n",
    "    features, \n",
    "    target, \n",
    "    test_size=0.8, \n",
    "    random_state=12345)"
   ]
  },
  {
   "cell_type": "markdown",
   "metadata": {},
   "source": [
    "## Обучение моделей"
   ]
  },
  {
   "cell_type": "markdown",
   "metadata": {},
   "source": [
    "### Catboost"
   ]
  },
  {
   "cell_type": "markdown",
   "metadata": {},
   "source": [
    "Библиотека catboost позволяет строить модели с категориальными признаками без использования отдельного метода кодирования. Воспользуемся данным приемуществом. "
   ]
  },
  {
   "cell_type": "code",
   "execution_count": 19,
   "metadata": {},
   "outputs": [],
   "source": [
    "#инициализируем \n",
    "cat_boost = cb.CatBoostRegressor(iterations=70,random_state=12345)\n",
    "#список категориальных переменных\n",
    "categorical_indicies = ['Gearbox','Model','FuelType','Brand','Repaired']\n",
    "#список гиперпараметров для перебора\n",
    "grid = {'learning_rate': [0.02, 0.04],\n",
    "        'depth': [3,6]}\n",
    "grid_cb = GridSearchCV(cat_boost, grid,cv=5, scoring='neg_root_mean_squared_error')\n",
    "\n",
    "grid_cb.fit(features_train,\n",
    "         target_train,\n",
    "         plot=False,\n",
    "         verbose=False,\n",
    "         cat_features=categorical_indicies);"
   ]
  },
  {
   "cell_type": "markdown",
   "metadata": {},
   "source": [
    "Для оценки скорости обучения сохраним данные в датафремейме с временем обучения и предсказания модели с лучшими гиперпараметрами. "
   ]
  },
  {
   "cell_type": "code",
   "execution_count": 20,
   "metadata": {},
   "outputs": [],
   "source": [
    "df_result = pd.DataFrame(data={'Eval':['CatBoost'],\n",
    "                               'Time_fit':[ grid_cb.cv_results_['mean_fit_time'][grid_cb.best_index_] ] ,\n",
    "                               'Time_pred':[ grid_cb.cv_results_['mean_score_time'][grid_cb.best_index_] ] ,\n",
    "                               'RMSE':[ abs( grid_cb.cv_results_['mean_test_score'][grid_cb.best_index_]) ] } )"
   ]
  },
  {
   "cell_type": "markdown",
   "metadata": {},
   "source": [
    "### Подготовка данных для lightGBM\n",
    "Библиотека lightGBM может работать с категориальными переменными, но только если они закодированы в целочисленном формате. Подготовим данные с помощью метода OrdinalEncoder."
   ]
  },
  {
   "cell_type": "code",
   "execution_count": 21,
   "metadata": {},
   "outputs": [],
   "source": [
    "#создаем копии датафреймов\n",
    "int_features_train = features_train.copy()\n",
    "int_features_test = features_test.copy()"
   ]
  },
  {
   "cell_type": "code",
   "execution_count": 22,
   "metadata": {},
   "outputs": [],
   "source": [
    "list_enc = ['Gearbox','Model','FuelType','Brand','Repaired'] #список категориальных переменных\n",
    "enc = OrdinalEncoder(handle_unknown='use_encoded_value', unknown_value=np.nan ) #ошибки кодируем np.nan\n",
    "enc.fit(int_features_train[list_enc]) #обучение кодировщика\n",
    "int_features_train[list_enc] = enc.transform(int_features_train[list_enc]) # кодирование тренировочной\n",
    "int_features_test[list_enc] = enc.transform(int_features_test[list_enc]) # кодирование тестовой \n",
    "#удаляем строки с моделями машин или какие-то другие параметры, которые кодировщик не смог закодировать, т.к. они новые\n",
    "#для этого составляем список индексов с такими строками и удаляем их\n",
    "i_null = int_features_test.index[int_features_test.isnull().any(axis=1)].to_list()\n",
    "#удаляем строки с неизвестными кодировщику параметрами\n",
    "int_features_test.drop(index =i_null, inplace=True)\n",
    "int_target_test = target_test.drop(index =i_null)\n",
    "\n",
    "#создаем в специальном формате структуру данных для lightGBM\n",
    "train_data = lgb.Dataset(int_features_train, label=target_train, categorical_feature=list_enc)"
   ]
  },
  {
   "cell_type": "markdown",
   "metadata": {},
   "source": [
    "### Обучение lightGBM"
   ]
  },
  {
   "cell_type": "markdown",
   "metadata": {},
   "source": [
    "Проверим скорость работы алгоритма lightGBM."
   ]
  },
  {
   "cell_type": "code",
   "execution_count": 23,
   "metadata": {},
   "outputs": [],
   "source": [
    "gbm = lgb.LGBMRegressor(random_state=12345) #инициализируем регрессор\n",
    "\n",
    "grid = {'num_leaves': [2,10,31],'learning_rate': [0.02, 0.06]} #задаем параметры\n",
    "grid_gbm = GridSearchCV(estimator=gbm, param_grid = grid ,scoring='neg_root_mean_squared_error')\n",
    "\n",
    "grid_gbm.fit(train_data.data, train_data.label); #ищем лучше параметры"
   ]
  },
  {
   "cell_type": "markdown",
   "metadata": {},
   "source": [
    "Добавим результаты работы в датафрейм df_result"
   ]
  },
  {
   "cell_type": "code",
   "execution_count": 24,
   "metadata": {},
   "outputs": [],
   "source": [
    "df_result.loc[len(df_result)] = ['LightGBM',\n",
    "                                grid_gbm.cv_results_['mean_fit_time'][grid_gbm.best_index_]  ,\n",
    "                                grid_gbm.cv_results_['mean_score_time'][grid_gbm.best_index_] ,\n",
    "                                abs( grid_gbm.cv_results_['mean_test_score'][grid_gbm.best_index_])] "
   ]
  },
  {
   "cell_type": "markdown",
   "metadata": {},
   "source": [
    "### Случайный лес"
   ]
  },
  {
   "cell_type": "markdown",
   "metadata": {},
   "source": [
    "Для сравнения попробуем простую модель без бустинга - случайный лес. "
   ]
  },
  {
   "cell_type": "code",
   "execution_count": 25,
   "metadata": {},
   "outputs": [],
   "source": [
    "#инициализация\n",
    "rfr = RandomForestRegressor(n_jobs=-1, random_state=12345)\n",
    "grid = {\"n_estimators\":[5,15,30], \"max_depth\" : [30,80]}\n",
    "grid_rfr = GridSearchCV(estimator=rfr, param_grid = grid ,scoring='neg_root_mean_squared_error')\n",
    "#выбор лучших параметров\n",
    "grid_rfr.fit(int_features_train, target_train); "
   ]
  },
  {
   "cell_type": "code",
   "execution_count": 26,
   "metadata": {},
   "outputs": [],
   "source": [
    "df_result.loc[len(df_result)] = ['RandForReg',\n",
    "                                grid_rfr.cv_results_['mean_fit_time'][grid_rfr.best_index_]  ,\n",
    "                                grid_rfr.cv_results_['mean_score_time'][grid_rfr.best_index_] ,\n",
    "                                abs( grid_rfr.cv_results_['mean_test_score'][grid_rfr.best_index_])] "
   ]
  },
  {
   "cell_type": "markdown",
   "metadata": {},
   "source": [
    "## Анализ моделей"
   ]
  },
  {
   "cell_type": "markdown",
   "metadata": {},
   "source": [
    "В данной работе рассмотрены модели CatBoost, lightGBM и случайный лес. Попытка сравнивать эти модели по времени и точности весьма осторожна, т.к. нет гарантии того, что выбраны лучшие параметры, т.к. анализу подвергались лишь несколько гиперпараметров. Ниже видны результаты, где побеждает модель, созданная с помощью lightGBM. Она быстрее всего обучилась, а результаты метрики RMSE оказались самыми лучшими.  "
   ]
  },
  {
   "cell_type": "code",
   "execution_count": 27,
   "metadata": {
    "scrolled": true
   },
   "outputs": [
    {
     "data": {
      "text/html": [
       "<div>\n",
       "<style scoped>\n",
       "    .dataframe tbody tr th:only-of-type {\n",
       "        vertical-align: middle;\n",
       "    }\n",
       "\n",
       "    .dataframe tbody tr th {\n",
       "        vertical-align: top;\n",
       "    }\n",
       "\n",
       "    .dataframe thead th {\n",
       "        text-align: right;\n",
       "    }\n",
       "</style>\n",
       "<table border=\"1\" class=\"dataframe\">\n",
       "  <thead>\n",
       "    <tr style=\"text-align: right;\">\n",
       "      <th></th>\n",
       "      <th>Eval</th>\n",
       "      <th>Time_fit</th>\n",
       "      <th>Time_pred</th>\n",
       "      <th>RMSE</th>\n",
       "    </tr>\n",
       "  </thead>\n",
       "  <tbody>\n",
       "    <tr>\n",
       "      <th>0</th>\n",
       "      <td>CatBoost</td>\n",
       "      <td>1.69</td>\n",
       "      <td>0.01</td>\n",
       "      <td>1966.67</td>\n",
       "    </tr>\n",
       "    <tr>\n",
       "      <th>1</th>\n",
       "      <td>LightGBM</td>\n",
       "      <td>2.40</td>\n",
       "      <td>0.12</td>\n",
       "      <td>1726.45</td>\n",
       "    </tr>\n",
       "    <tr>\n",
       "      <th>2</th>\n",
       "      <td>RandForReg</td>\n",
       "      <td>2.62</td>\n",
       "      <td>0.11</td>\n",
       "      <td>1720.07</td>\n",
       "    </tr>\n",
       "  </tbody>\n",
       "</table>\n",
       "</div>"
      ],
      "text/plain": [
       "         Eval  Time_fit  Time_pred     RMSE\n",
       "0    CatBoost      1.69       0.01  1966.67\n",
       "1    LightGBM      2.40       0.12  1726.45\n",
       "2  RandForReg      2.62       0.11  1720.07"
      ]
     },
     "execution_count": 27,
     "metadata": {},
     "output_type": "execute_result"
    }
   ],
   "source": [
    "df_result[['Time_fit','Time_pred','RMSE']] = df_result[['Time_fit','Time_pred','RMSE']].apply('round',args={2})\n",
    "df_result"
   ]
  },
  {
   "cell_type": "code",
   "execution_count": 28,
   "metadata": {},
   "outputs": [
    {
     "name": "stdout",
     "output_type": "stream",
     "text": [
      "RMSE случайного леса на тестовой выборке 1698\n",
      "Время обучения 3.323 с.\n",
      "Время предсказания 1.724 с.\n"
     ]
    }
   ],
   "source": [
    "#засекаем время на тренировку лучшей модели\n",
    "start = time.time()\n",
    "best_rfr = RandomForestRegressor(n_jobs=-1, random_state=12345)\n",
    "best_rfr.set_params(**grid_rfr.best_params_ )\n",
    "best_rfr.fit(int_features_train, target_train)\n",
    "t_fit_rfr = time.time() - start\n",
    "\n",
    "start = time.time()\n",
    "predict = best_rfr.predict(int_features_test)\n",
    "t_pred_rfr = time.time() - start\n",
    "\n",
    "rmse_rfr = mean_squared_error(int_target_test, predict , squared=False)\n",
    "print('RMSE случайного леса на тестовой выборке', round(rmse_rfr) )\n",
    "print('Время обучения',round(t_fit_rfr,3),'с.')\n",
    "print('Время предсказания',round(t_pred_rfr,3),'с.')"
   ]
  },
  {
   "cell_type": "markdown",
   "metadata": {},
   "source": [
    "# Вывод\n",
    "Построена модель предсказания цены машины на основе ее характеристик. При этом в алгоритм заложены следующие ограничения:\n",
    " - Пробег машины не более 150 тыс.км.\n",
    " - Дата регистрации машины не старше 1900 года\n",
    " - Минимальная стоимость машины не менее 200 у.е. \n",
    " - Мощность не ниже 30 л.с. и не выше 300 л.с.\n",
    " - Машина ранее была в датасете и известна своими параметрами. \n",
    "В ходе обучения лучшие результаты показала модель RandomForestRegressor, которая обеспечила лучшую метрику RMSE. Почти такие же результаты показала модель lightGBM, при этом скорость выполнения у нее выше. "
   ]
  }
 ],
 "metadata": {
  "ExecuteTimeLog": [
   {
    "duration": 7280,
    "start_time": "2023-02-28T08:28:49.571Z"
   },
   {
    "duration": 1167,
    "start_time": "2023-02-28T08:28:56.854Z"
   },
   {
    "duration": 18,
    "start_time": "2023-02-28T08:28:58.023Z"
   },
   {
    "duration": 113,
    "start_time": "2023-02-28T08:28:58.043Z"
   },
   {
    "duration": 705,
    "start_time": "2023-02-28T08:28:58.158Z"
   },
   {
    "duration": 333,
    "start_time": "2023-02-28T08:28:58.864Z"
   },
   {
    "duration": 265,
    "start_time": "2023-02-28T08:28:59.199Z"
   },
   {
    "duration": 240,
    "start_time": "2023-02-28T08:28:59.466Z"
   },
   {
    "duration": 129,
    "start_time": "2023-02-28T08:28:59.708Z"
   },
   {
    "duration": 16,
    "start_time": "2023-02-28T08:28:59.839Z"
   },
   {
    "duration": 13,
    "start_time": "2023-02-28T08:29:59.257Z"
   },
   {
    "duration": 3,
    "start_time": "2023-02-28T08:30:07.130Z"
   },
   {
    "duration": 879,
    "start_time": "2023-02-28T08:30:07.135Z"
   },
   {
    "duration": 14,
    "start_time": "2023-02-28T08:30:08.015Z"
   },
   {
    "duration": 121,
    "start_time": "2023-02-28T08:30:08.030Z"
   },
   {
    "duration": 685,
    "start_time": "2023-02-28T08:30:08.154Z"
   },
   {
    "duration": 237,
    "start_time": "2023-02-28T08:30:08.841Z"
   },
   {
    "duration": 80,
    "start_time": "2023-02-28T08:30:11.635Z"
   },
   {
    "duration": 244,
    "start_time": "2023-02-28T08:30:17.192Z"
   },
   {
    "duration": 71,
    "start_time": "2023-02-28T08:30:19.273Z"
   },
   {
    "duration": 315,
    "start_time": "2023-02-28T08:30:33.952Z"
   },
   {
    "duration": 67,
    "start_time": "2023-02-28T08:30:39.140Z"
   },
   {
    "duration": 17,
    "start_time": "2023-02-28T08:31:04.461Z"
   },
   {
    "duration": 38,
    "start_time": "2023-02-28T08:31:05.074Z"
   },
   {
    "duration": 72594,
    "start_time": "2023-02-28T08:31:05.245Z"
   },
   {
    "duration": 1032,
    "start_time": "2023-02-28T08:32:17.841Z"
   },
   {
    "duration": 0,
    "start_time": "2023-02-28T08:32:18.875Z"
   },
   {
    "duration": 2943,
    "start_time": "2023-02-28T08:32:34.750Z"
   },
   {
    "duration": 827,
    "start_time": "2023-02-28T08:32:37.695Z"
   },
   {
    "duration": 17,
    "start_time": "2023-02-28T08:32:38.524Z"
   },
   {
    "duration": 113,
    "start_time": "2023-02-28T08:32:38.543Z"
   },
   {
    "duration": 702,
    "start_time": "2023-02-28T08:32:38.658Z"
   },
   {
    "duration": 335,
    "start_time": "2023-02-28T08:32:39.361Z"
   },
   {
    "duration": 241,
    "start_time": "2023-02-28T08:32:39.697Z"
   },
   {
    "duration": 247,
    "start_time": "2023-02-28T08:32:39.939Z"
   },
   {
    "duration": 125,
    "start_time": "2023-02-28T08:32:40.188Z"
   },
   {
    "duration": 16,
    "start_time": "2023-02-28T08:32:40.316Z"
   },
   {
    "duration": 32,
    "start_time": "2023-02-28T08:32:40.334Z"
   },
   {
    "duration": 11142,
    "start_time": "2023-02-28T08:32:40.368Z"
   },
   {
    "duration": 0,
    "start_time": "2023-02-28T08:32:51.512Z"
   },
   {
    "duration": 0,
    "start_time": "2023-02-28T08:32:51.513Z"
   },
   {
    "duration": 2985,
    "start_time": "2023-02-28T08:32:58.183Z"
   },
   {
    "duration": 823,
    "start_time": "2023-02-28T08:33:01.170Z"
   },
   {
    "duration": 23,
    "start_time": "2023-02-28T08:33:01.995Z"
   },
   {
    "duration": 128,
    "start_time": "2023-02-28T08:33:02.020Z"
   },
   {
    "duration": 707,
    "start_time": "2023-02-28T08:33:02.150Z"
   },
   {
    "duration": 373,
    "start_time": "2023-02-28T08:33:02.859Z"
   },
   {
    "duration": 288,
    "start_time": "2023-02-28T08:33:03.234Z"
   },
   {
    "duration": 236,
    "start_time": "2023-02-28T08:33:03.524Z"
   },
   {
    "duration": 122,
    "start_time": "2023-02-28T08:33:03.762Z"
   },
   {
    "duration": 27,
    "start_time": "2023-02-28T08:33:03.886Z"
   },
   {
    "duration": 35,
    "start_time": "2023-02-28T08:33:03.915Z"
   },
   {
    "duration": 61540,
    "start_time": "2023-02-28T08:33:03.951Z"
   },
   {
    "duration": 13017,
    "start_time": "2023-02-28T08:34:05.493Z"
   },
   {
    "duration": 42,
    "start_time": "2023-02-28T08:36:39.465Z"
   },
   {
    "duration": 34,
    "start_time": "2023-02-28T08:36:42.651Z"
   },
   {
    "duration": 52,
    "start_time": "2023-03-17T18:13:25.300Z"
   },
   {
    "duration": 1653,
    "start_time": "2024-02-17T16:47:28.294Z"
   },
   {
    "duration": 1222,
    "start_time": "2024-02-17T16:47:29.949Z"
   },
   {
    "duration": 19,
    "start_time": "2024-02-17T16:47:31.174Z"
   },
   {
    "duration": 174,
    "start_time": "2024-02-17T16:47:31.195Z"
   },
   {
    "duration": 816,
    "start_time": "2024-02-17T16:47:31.372Z"
   },
   {
    "duration": 275,
    "start_time": "2024-02-17T16:47:32.190Z"
   },
   {
    "duration": 250,
    "start_time": "2024-02-17T16:47:32.466Z"
   },
   {
    "duration": 249,
    "start_time": "2024-02-17T16:47:32.718Z"
   },
   {
    "duration": 131,
    "start_time": "2024-02-17T16:47:32.969Z"
   },
   {
    "duration": 0,
    "start_time": "2024-02-17T16:47:33.103Z"
   },
   {
    "duration": 0,
    "start_time": "2024-02-17T16:47:33.104Z"
   },
   {
    "duration": 0,
    "start_time": "2024-02-17T16:47:33.105Z"
   },
   {
    "duration": 0,
    "start_time": "2024-02-17T16:47:33.106Z"
   },
   {
    "duration": 0,
    "start_time": "2024-02-17T16:47:33.108Z"
   },
   {
    "duration": 0,
    "start_time": "2024-02-17T16:47:33.109Z"
   },
   {
    "duration": 0,
    "start_time": "2024-02-17T16:47:33.110Z"
   },
   {
    "duration": 0,
    "start_time": "2024-02-17T16:47:33.111Z"
   },
   {
    "duration": 0,
    "start_time": "2024-02-17T16:47:33.113Z"
   },
   {
    "duration": 0,
    "start_time": "2024-02-17T16:47:33.113Z"
   },
   {
    "duration": 0,
    "start_time": "2024-02-17T16:47:33.115Z"
   },
   {
    "duration": 1,
    "start_time": "2024-02-17T16:47:33.115Z"
   },
   {
    "duration": 0,
    "start_time": "2024-02-17T16:47:33.117Z"
   },
   {
    "duration": 0,
    "start_time": "2024-02-17T16:47:33.118Z"
   },
   {
    "duration": 0,
    "start_time": "2024-02-17T16:47:33.119Z"
   },
   {
    "duration": 0,
    "start_time": "2024-02-17T16:47:33.121Z"
   },
   {
    "duration": 0,
    "start_time": "2024-02-17T16:47:33.122Z"
   },
   {
    "duration": 0,
    "start_time": "2024-02-17T16:47:33.159Z"
   },
   {
    "duration": 0,
    "start_time": "2024-02-17T16:47:33.161Z"
   },
   {
    "duration": 60,
    "start_time": "2024-02-17T17:11:19.820Z"
   },
   {
    "duration": 1508,
    "start_time": "2024-02-17T17:11:28.970Z"
   },
   {
    "duration": 978,
    "start_time": "2024-02-17T17:11:30.480Z"
   },
   {
    "duration": 17,
    "start_time": "2024-02-17T17:11:31.460Z"
   },
   {
    "duration": 167,
    "start_time": "2024-02-17T17:11:31.480Z"
   },
   {
    "duration": 767,
    "start_time": "2024-02-17T17:11:31.648Z"
   },
   {
    "duration": 351,
    "start_time": "2024-02-17T17:11:32.417Z"
   },
   {
    "duration": 247,
    "start_time": "2024-02-17T17:11:32.770Z"
   },
   {
    "duration": 250,
    "start_time": "2024-02-17T17:11:33.019Z"
   },
   {
    "duration": 67,
    "start_time": "2024-02-17T17:11:33.270Z"
   },
   {
    "duration": 32,
    "start_time": "2024-02-17T17:11:33.340Z"
   },
   {
    "duration": 20,
    "start_time": "2024-02-17T17:11:33.375Z"
   },
   {
    "duration": 62,
    "start_time": "2024-02-17T17:11:33.397Z"
   },
   {
    "duration": 142853,
    "start_time": "2024-02-17T17:11:33.461Z"
   },
   {
    "duration": 44565,
    "start_time": "2024-02-17T17:13:56.316Z"
   },
   {
    "duration": 82,
    "start_time": "2024-02-17T17:14:40.882Z"
   },
   {
    "duration": 100,
    "start_time": "2024-02-17T17:14:40.965Z"
   },
   {
    "duration": 5,
    "start_time": "2024-02-17T17:14:41.069Z"
   },
   {
    "duration": 65,
    "start_time": "2024-02-17T17:14:41.075Z"
   },
   {
    "duration": 33526,
    "start_time": "2024-02-17T17:14:41.141Z"
   },
   {
    "duration": 6,
    "start_time": "2024-02-17T17:15:14.668Z"
   },
   {
    "duration": 10,
    "start_time": "2024-02-17T17:15:14.675Z"
   },
   {
    "duration": 825,
    "start_time": "2024-02-17T17:15:14.687Z"
   },
   {
    "duration": 135746,
    "start_time": "2024-02-17T17:15:15.513Z"
   },
   {
    "duration": 8,
    "start_time": "2024-02-17T17:17:31.260Z"
   },
   {
    "duration": 48499,
    "start_time": "2024-02-17T17:17:31.270Z"
   },
   {
    "duration": 7,
    "start_time": "2024-02-17T17:18:19.771Z"
   },
   {
    "duration": 14,
    "start_time": "2024-02-17T17:18:19.780Z"
   },
   {
    "duration": 5058,
    "start_time": "2024-02-17T17:18:19.798Z"
   }
  ],
  "kernelspec": {
   "display_name": "Python 3 (ipykernel)",
   "language": "python",
   "name": "python3"
  },
  "language_info": {
   "codemirror_mode": {
    "name": "ipython",
    "version": 3
   },
   "file_extension": ".py",
   "mimetype": "text/x-python",
   "name": "python",
   "nbconvert_exporter": "python",
   "pygments_lexer": "ipython3",
   "version": "3.11.5"
  },
  "toc": {
   "base_numbering": 1,
   "nav_menu": {},
   "number_sections": true,
   "sideBar": true,
   "skip_h1_title": true,
   "title_cell": "Table of Contents",
   "title_sidebar": "Contents",
   "toc_cell": false,
   "toc_position": {},
   "toc_section_display": true,
   "toc_window_display": false
  }
 },
 "nbformat": 4,
 "nbformat_minor": 2
}
